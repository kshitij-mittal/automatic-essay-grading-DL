{
 "cells": [
  {
   "cell_type": "markdown",
   "id": "44359cb2-e602-4a42-9cef-916b43177136",
   "metadata": {},
   "source": [
    "# **Deep Learning NB4: BiDirectional GRUs**\n",
    "\n",
    "#### Final model compared from the notebook\n",
    "* MODEL 1\n",
    "\n",
    "#### Overview\n",
    "* GRU for text regression\n",
    "* Split this data set into two sets - one for training our DL model, and one for evaluation  \n",
    "* Use Keras to create GRU with multiple layers. We will train this model on both CPU environments  \n",
    "* Evaluate model performance by comparing training and validation scores\n"
   ]
  },
  {
   "cell_type": "markdown",
   "id": "6d516851-779c-4d03-81b9-e5323382c635",
   "metadata": {
    "jp-MarkdownHeadingCollapsed": true,
    "tags": []
   },
   "source": [
    "---\n",
    "## Importing Libraries"
   ]
  },
  {
   "cell_type": "code",
   "execution_count": 1,
   "id": "7dfa75c7-fefa-4918-a8f5-42f1796ee7eb",
   "metadata": {},
   "outputs": [
    {
     "name": "stdout",
     "output_type": "stream",
     "text": [
      "16\n"
     ]
    }
   ],
   "source": [
    "import numpy as np\n",
    "import pandas as pd\n",
    "import os, re, time\n",
    "import matplotlib.pyplot as plt\n",
    "\n",
    "from sklearn.model_selection import train_test_split\n",
    "from sklearn import preprocessing\n",
    "\n",
    "import warnings\n",
    "warnings.filterwarnings(\"ignore\", category=FutureWarning)\n",
    "warnings.filterwarnings(\"ignore\", category=DeprecationWarning)\n",
    "\n",
    "from multiprocessing import cpu_count\n",
    "print(cpu_count())"
   ]
  },
  {
   "cell_type": "code",
   "execution_count": 2,
   "id": "f216e61a-b8fc-43ed-941f-cee9694ec17d",
   "metadata": {},
   "outputs": [
    {
     "name": "stdout",
     "output_type": "stream",
     "text": [
      "Available CPUs: 16\n",
      "INFO: Pandarallel will run on 15 workers.\n",
      "INFO: Pandarallel will use standard multiprocessing data transfer (pipe) to transfer data between the main process and workers.\n"
     ]
    }
   ],
   "source": [
    "# %pip install pandarallel\n",
    "import multiprocessing\n",
    "\n",
    "num_processors = multiprocessing.cpu_count()\n",
    "print(f'Available CPUs: {num_processors}')\n",
    "\n",
    "import pandarallel\n",
    "from pandarallel import pandarallel\n",
    "pandarallel.initialize(nb_workers=num_processors-1, use_memory_fs=False)"
   ]
  },
  {
   "cell_type": "code",
   "execution_count": 3,
   "id": "6889b4cb-423f-4e61-a0c4-454ec02e27e7",
   "metadata": {
    "tags": []
   },
   "outputs": [
    {
     "name": "stderr",
     "output_type": "stream",
     "text": [
      "2023-05-24 15:18:16.396676: I tensorflow/core/platform/cpu_feature_guard.cc:193] This TensorFlow binary is optimized with oneAPI Deep Neural Network Library (oneDNN) to use the following CPU instructions in performance-critical operations:  AVX2 FMA\n",
      "To enable them in other operations, rebuild TensorFlow with the appropriate compiler flags.\n",
      "2023-05-24 15:18:19.869212: W tensorflow/compiler/xla/stream_executor/platform/default/dso_loader.cc:64] Could not load dynamic library 'libnvinfer.so.7'; dlerror: libnvinfer.so.7: cannot open shared object file: No such file or directory; LD_LIBRARY_PATH: /usr/local/cuda/lib64:/usr/local/nccl2/lib:/usr/local/cuda/extras/CUPTI/lib64\n",
      "2023-05-24 15:18:19.869357: W tensorflow/compiler/xla/stream_executor/platform/default/dso_loader.cc:64] Could not load dynamic library 'libnvinfer_plugin.so.7'; dlerror: libnvinfer_plugin.so.7: cannot open shared object file: No such file or directory; LD_LIBRARY_PATH: /usr/local/cuda/lib64:/usr/local/nccl2/lib:/usr/local/cuda/extras/CUPTI/lib64\n",
      "2023-05-24 15:18:19.869370: W tensorflow/compiler/tf2tensorrt/utils/py_utils.cc:38] TF-TRT Warning: Cannot dlopen some TensorRT libraries. If you would like to use Nvidia GPU with TensorRT, please make sure the missing libraries mentioned above are installed properly.\n"
     ]
    }
   ],
   "source": [
    "import tensorflow as tf\n",
    "from tensorflow import keras\n",
    "\n",
    "from tensorflow.keras.layers.experimental.preprocessing import TextVectorization\n",
    "from tensorflow.keras.layers import Embedding\n",
    "from tensorflow.keras import layers\n",
    "from keras.callbacks import EarlyStopping, ModelCheckpoint\n",
    "from keras.layers import Dense, Input, LSTM, Embedding, Dropout, Activation, GRU, Convolution1D, Flatten, LeakyReLU\n",
    "from keras.layers import Bidirectional, GlobalMaxPool1D, GlobalAveragePooling1D, MaxPooling1D, GlobalMaxPooling1D\n",
    "from keras.layers import SpatialDropout1D, MaxPooling1D, Bidirectional, GRU, concatenate, BatchNormalization\n",
    "from tensorflow.keras.models import Model, Sequential"
   ]
  },
  {
   "cell_type": "code",
   "execution_count": 4,
   "id": "ec2b5338-42e4-4a0f-9333-2ddbc1f6860e",
   "metadata": {},
   "outputs": [
    {
     "name": "stderr",
     "output_type": "stream",
     "text": [
      "2023-05-24 15:18:22.303319: W tensorflow/compiler/xla/stream_executor/platform/default/dso_loader.cc:64] Could not load dynamic library 'libcuda.so.1'; dlerror: libcuda.so.1: cannot open shared object file: No such file or directory; LD_LIBRARY_PATH: /usr/local/cuda/lib64:/usr/local/nccl2/lib:/usr/local/cuda/extras/CUPTI/lib64\n",
      "2023-05-24 15:18:22.303368: W tensorflow/compiler/xla/stream_executor/cuda/cuda_driver.cc:265] failed call to cuInit: UNKNOWN ERROR (303)\n",
      "2023-05-24 15:18:22.303401: I tensorflow/compiler/xla/stream_executor/cuda/cuda_diagnostics.cc:156] kernel driver does not appear to be running on this host (ml-essay-grading): /proc/driver/nvidia/version does not exist\n"
     ]
    },
    {
     "data": {
      "text/plain": [
       "[PhysicalDevice(name='/physical_device:CPU:0', device_type='CPU')]"
      ]
     },
     "execution_count": 4,
     "metadata": {},
     "output_type": "execute_result"
    }
   ],
   "source": [
    "tf.config.list_physical_devices()"
   ]
  },
  {
   "cell_type": "markdown",
   "id": "b5aa0eb4-e0e3-43e4-89d8-eade80bd4948",
   "metadata": {
    "jp-MarkdownHeadingCollapsed": true,
    "tags": []
   },
   "source": [
    "-----\n",
    "## Importing Data"
   ]
  },
  {
   "cell_type": "code",
   "execution_count": 5,
   "id": "ced311ec-b0f9-4d70-87a9-cc38a8193cea",
   "metadata": {
    "tags": []
   },
   "outputs": [],
   "source": [
    "df_proc=pd.read_csv('../00_gcp_data/preprocessed-essay.csv')\n",
    "# df_proc.head()"
   ]
  },
  {
   "cell_type": "code",
   "execution_count": 6,
   "id": "a1e5f217-5e7f-47aa-87e2-2a092c1e55f4",
   "metadata": {},
   "outputs": [
    {
     "data": {
      "text/html": [
       "<div>\n",
       "<style scoped>\n",
       "    .dataframe tbody tr th:only-of-type {\n",
       "        vertical-align: middle;\n",
       "    }\n",
       "\n",
       "    .dataframe tbody tr th {\n",
       "        vertical-align: top;\n",
       "    }\n",
       "\n",
       "    .dataframe thead th {\n",
       "        text-align: right;\n",
       "    }\n",
       "</style>\n",
       "<table border=\"1\" class=\"dataframe\">\n",
       "  <thead>\n",
       "    <tr style=\"text-align: right;\">\n",
       "      <th></th>\n",
       "      <th>corrected_text</th>\n",
       "      <th>lemmatized_text</th>\n",
       "    </tr>\n",
       "  </thead>\n",
       "  <tbody>\n",
       "    <tr>\n",
       "      <th>936</th>\n",
       "      <td>successful people keep study new careers leaning new tasks order became even wealthier get bored job daily ralph emerson states never grow try something new already know meaning people expand knowledge already know never accomplish became successful life however willing expand horizons break comfort zone grow achieve higher goals trying something new already mastered help people grow lead people live real experiences provide opportunities break comfort zone star people learn opportunities opportunities provide people open learn new things grow instance working maritime salad place two years first year learned work stations really good year realized time expand knowledge also ask raise became valid trainer store stations teach new workers assist task correct way paying better shows would open learn trainer store would paying well today capable try something new offer better opportunities order grow rather getting stuck place without trying achieve higher goals moreover desire try different things make people live many wonderful experiences people never expand horizons never experiences adventures life offer instance last summer went campus university get information careers interested meet wonderful students schools learned computer science teachers provided information requirements get university different classes take order get degree computer sciences also practice several methods create graphs draw computers since visited place got convince study computer science future experience never forget realized skills study career major would never notice could study computer science coming learning new things lead live learn experiences help people grow future seen better try something new people explore experiences never forget learn new things became even successful lives people right never stop learning get new skills prepared whatever want accomplish change routine whole world willing keep learning despite mastered something already professionals wealthier society</td>\n",
       "      <td>successful people keep study new career lean new task order become even wealthier get bore job daily ralph emerson state never grow try something new already know meaning people expand knowledge already know never accomplish become successful life however willing expand horizon break comfort zone grow achieve high goal try something new already master help people grow lead people live real experience provide opportunity break comfort zone star people learn opportunity opportunity provide people open learn new thing grow instance work maritime salad place two year first year learn work station really good year realize time expand knowledge also ask raise become valid trainer store station teach new worker assist task correct way pay well show would open learn trainer store would pay well today capable try something new offer well opportunity order grow rather get stuck place without try achieve high goal moreover desire try different thing make people live many wonderful experience people never expand horizon never experience adventure life offer instance last summer go campus university get information career interested meet wonderful student school learn computer science teacher provide information requirement get university different class take order get degree computer science also practice several method create graph draw computer since visit place get convince study computer science future experience never forget realize skill study career major would never notice could study computer science come learn new thing lead live learn experience help people grow future see well try something new people explore experience never forget learn new thing become even successful life people right never stop learn get new skill prepared whatever want accomplish change routine whole world willing keep learn despite master something already professional wealthier society</td>\n",
       "    </tr>\n",
       "    <tr>\n",
       "      <th>162</th>\n",
       "      <td>students benefited attend classes home online video conferencing concentrate much studies take studies lightly students could benefited attend classes coming school attentive class able clear doubts students benefited attend classes home online video conferencing concentrate much studies lead bad grades test quizzes often might become lazy start copying work attend school less chances students work sincerely home able get proper education home less communication students teachers less communication able get open others group work students share ideas regarding studies might start taking breaks often routine students studying home able concentrate much working home due lot distractions like movies videos games text ting etc get better education might able sussed life education chances getting bright future proper education get going school attend school correct mistakes learn stay home know correct wrong much learn read better learning reading takes around world teachers also watch every student carefully student something wrong teachers help make sure correct way parents also keep eye student parents also guide conclude saying better every student get education school instead getting home</td>\n",
       "      <td>student benefit attend class home online video conferencing concentrate much study take study lightly student could benefit attend class come school attentive class able clear doubt student benefit attend class home online video conferencing concentrate much study lead bad grade test quiz often might become lazy start copying work attend school less chance student work sincerely home able get proper education home less communication student teacher less communication able get open others group work student share idea regard study might start take break often routine student study home able concentrate much work home due lot distraction like movie video game text ting etc get well education might able sussed life education chance get bright future proper education get go school attend school correct mistake learn stay home know correct wrong much learn read well learn reading take around world teacher also watch every student carefully student something wrong teacher help make sure correct way parent also keep eye student parent also guide conclude say well every student get education school instead get home</td>\n",
       "    </tr>\n",
       "  </tbody>\n",
       "</table>\n",
       "</div>"
      ],
      "text/plain": [
       "                                                                                                                                                                                                                                                                                                                                                                                                                                                                                                                                                                                                                                                                                                                                                                                                                                                                                                                                                                                                                                                                                                                                                                                                                                                                                                                                                                                                                                                                                                                                                                                                                                                                                                                                                                                                                                                                                                                                                                                                                                                                    corrected_text  \\\n",
       "936  successful people keep study new careers leaning new tasks order became even wealthier get bored job daily ralph emerson states never grow try something new already know meaning people expand knowledge already know never accomplish became successful life however willing expand horizons break comfort zone grow achieve higher goals trying something new already mastered help people grow lead people live real experiences provide opportunities break comfort zone star people learn opportunities opportunities provide people open learn new things grow instance working maritime salad place two years first year learned work stations really good year realized time expand knowledge also ask raise became valid trainer store stations teach new workers assist task correct way paying better shows would open learn trainer store would paying well today capable try something new offer better opportunities order grow rather getting stuck place without trying achieve higher goals moreover desire try different things make people live many wonderful experiences people never expand horizons never experiences adventures life offer instance last summer went campus university get information careers interested meet wonderful students schools learned computer science teachers provided information requirements get university different classes take order get degree computer sciences also practice several methods create graphs draw computers since visited place got convince study computer science future experience never forget realized skills study career major would never notice could study computer science coming learning new things lead live learn experiences help people grow future seen better try something new people explore experiences never forget learn new things became even successful lives people right never stop learning get new skills prepared whatever want accomplish change routine whole world willing keep learning despite mastered something already professionals wealthier society   \n",
       "162                                                                                                                                                                                                                                                                                                                                                                                                                                                                                                                                                                                                                                                                                                                                                                                                                        students benefited attend classes home online video conferencing concentrate much studies take studies lightly students could benefited attend classes coming school attentive class able clear doubts students benefited attend classes home online video conferencing concentrate much studies lead bad grades test quizzes often might become lazy start copying work attend school less chances students work sincerely home able get proper education home less communication students teachers less communication able get open others group work students share ideas regarding studies might start taking breaks often routine students studying home able concentrate much working home due lot distractions like movies videos games text ting etc get better education might able sussed life education chances getting bright future proper education get going school attend school correct mistakes learn stay home know correct wrong much learn read better learning reading takes around world teachers also watch every student carefully student something wrong teachers help make sure correct way parents also keep eye student parents also guide conclude saying better every student get education school instead getting home   \n",
       "\n",
       "                                                                                                                                                                                                                                                                                                                                                                                                                                                                                                                                                                                                                                                                                                                                                                                                                                                                                                                                                                                                                                                                                                                                                                                                                                                                                                                                                                                                                                                                                                                                                                                                                                                                                                                                                                                                                                                                                                                                                          lemmatized_text  \n",
       "936  successful people keep study new career lean new task order become even wealthier get bore job daily ralph emerson state never grow try something new already know meaning people expand knowledge already know never accomplish become successful life however willing expand horizon break comfort zone grow achieve high goal try something new already master help people grow lead people live real experience provide opportunity break comfort zone star people learn opportunity opportunity provide people open learn new thing grow instance work maritime salad place two year first year learn work station really good year realize time expand knowledge also ask raise become valid trainer store station teach new worker assist task correct way pay well show would open learn trainer store would pay well today capable try something new offer well opportunity order grow rather get stuck place without try achieve high goal moreover desire try different thing make people live many wonderful experience people never expand horizon never experience adventure life offer instance last summer go campus university get information career interested meet wonderful student school learn computer science teacher provide information requirement get university different class take order get degree computer science also practice several method create graph draw computer since visit place get convince study computer science future experience never forget realize skill study career major would never notice could study computer science come learn new thing lead live learn experience help people grow future see well try something new people explore experience never forget learn new thing become even successful life people right never stop learn get new skill prepared whatever want accomplish change routine whole world willing keep learn despite master something already professional wealthier society  \n",
       "162                                                                                                                                                                                                                                                                                                                                                                                                                                                                                                                                                                                                                                                                                                                                                                                                  student benefit attend class home online video conferencing concentrate much study take study lightly student could benefit attend class come school attentive class able clear doubt student benefit attend class home online video conferencing concentrate much study lead bad grade test quiz often might become lazy start copying work attend school less chance student work sincerely home able get proper education home less communication student teacher less communication able get open others group work student share idea regard study might start take break often routine student study home able concentrate much work home due lot distraction like movie video game text ting etc get well education might able sussed life education chance get bright future proper education get go school attend school correct mistake learn stay home know correct wrong much learn read well learn reading take around world teacher also watch every student carefully student something wrong teacher help make sure correct way parent also keep eye student parent also guide conclude say well every student get education school instead get home  "
      ]
     },
     "execution_count": 6,
     "metadata": {},
     "output_type": "execute_result"
    }
   ],
   "source": [
    "pd.options.display.max_colwidth=None\n",
    "df_proc[['corrected_text','lemmatized_text']].sample(2)"
   ]
  },
  {
   "cell_type": "markdown",
   "id": "9927c551-cf33-43da-95a4-1c4fa2734384",
   "metadata": {},
   "source": [
    "### Setting variables"
   ]
  },
  {
   "cell_type": "code",
   "execution_count": 7,
   "id": "65f98005-e41b-4f33-8836-10cbbd4b8def",
   "metadata": {},
   "outputs": [],
   "source": [
    "## Setting text and target variables\n",
    "\n",
    "textVar=df_proc['lemmatized_text']\n",
    "targetVar=df_proc[[\"cohesion\", \"syntax\", \"vocabulary\", \"phraseology\", \"grammar\", \"conventions\"]]"
   ]
  },
  {
   "cell_type": "markdown",
   "id": "e489532b-9485-4bdc-a4c9-06464e2542be",
   "metadata": {
    "jp-MarkdownHeadingCollapsed": true,
    "tags": []
   },
   "source": [
    "----\n",
    "## Model Parameters"
   ]
  },
  {
   "cell_type": "code",
   "execution_count": 8,
   "id": "50314ab5-52af-4ed2-82ef-026d3bf77af7",
   "metadata": {},
   "outputs": [],
   "source": [
    "# make our experiments repeatable\n",
    "np.random.seed(0)\n",
    "\n",
    "# Model Hyperparameters\n",
    "embedding_dim = 100\n",
    "\n",
    "# Here we specify the number of units of our GRU layer\n",
    "gru_dims = 64\n",
    "\n",
    "# Training parameters. Here we specify the training of the net will use N examples for each backprop iteration\n",
    "batch_size = 64\n",
    "\n",
    "# We will go thru the entire data set N times\n",
    "num_epochs = 30\n",
    "\n",
    "# Prepossessing parameters\n",
    "# We will input the first 1000 words of every essay (and pad out with nulls if a essay review is <1000 words\n",
    "# We will also build our model using the most frequent 7000 words in our essay 'dictionary'\n",
    "sequence_length = 1000\n",
    "max_features = 7000\n",
    "\n",
    "#Specify the number of classes to predict\n",
    "num_classes = 6"
   ]
  },
  {
   "cell_type": "code",
   "execution_count": null,
   "id": "e7682694-babb-410b-91a1-d7fcaf51e2d7",
   "metadata": {},
   "outputs": [],
   "source": [
    "## Adding a custom loss function\n",
    "def mcrmse(y_true, y_pred):\n",
    "    colwise_mse = tf.reduce_mean(tf.square(y_true - y_pred), axis=0)\n",
    "    return tf.reduce_mean(tf.sqrt(colwise_mse), axis=0)"
   ]
  },
  {
   "cell_type": "markdown",
   "id": "0d201fb8-2fca-492d-a4e9-adb91f17d588",
   "metadata": {
    "jp-MarkdownHeadingCollapsed": true,
    "tags": []
   },
   "source": [
    "----\n",
    "## Text Preprocessing"
   ]
  },
  {
   "cell_type": "markdown",
   "id": "e609b00c-a784-4b3c-8d0e-cfb19a0a500c",
   "metadata": {},
   "source": [
    "### Tokenize the data and pad sequences"
   ]
  },
  {
   "cell_type": "code",
   "execution_count": 9,
   "id": "57988c09-a1e5-44b2-8f17-fd7fbbaa4034",
   "metadata": {},
   "outputs": [],
   "source": [
    "X = textVar.values\n",
    "Y = targetVar\n",
    "\n",
    "train_samples, test_samples, train_targets, test_targets = train_test_split(X,Y, test_size = 0.20, random_state = 1010)"
   ]
  },
  {
   "cell_type": "code",
   "execution_count": 10,
   "id": "94521fc8-cfc3-4c8a-ba4f-66240ecb343a",
   "metadata": {},
   "outputs": [
    {
     "name": "stdout",
     "output_type": "stream",
     "text": [
      "(3128,) (3128, 6)\n",
      "(783,) (783, 6)\n"
     ]
    }
   ],
   "source": [
    "# Check how many columns we have, make sure we have our sequence length set correctly\n",
    "\n",
    "print(train_samples.shape,train_targets.shape)\n",
    "print(test_samples.shape,test_targets.shape)"
   ]
  },
  {
   "cell_type": "code",
   "execution_count": 11,
   "id": "6158e390-3ddb-419a-9057-c20d27591fd9",
   "metadata": {},
   "outputs": [
    {
     "name": "stderr",
     "output_type": "stream",
     "text": [
      "2023-05-24 15:18:22.722142: I tensorflow/core/platform/cpu_feature_guard.cc:193] This TensorFlow binary is optimized with oneAPI Deep Neural Network Library (oneDNN) to use the following CPU instructions in performance-critical operations:  AVX2 FMA\n",
      "To enable them in other operations, rebuild TensorFlow with the appropriate compiler flags.\n"
     ]
    }
   ],
   "source": [
    "# A TextVectorization layer is created with the specified parameters\n",
    "vectorizer = TextVectorization(max_tokens=max_features, output_sequence_length=sequence_length, ngrams=None, pad_to_max_tokens=True)\n",
    "\n",
    "# The train_samples tensor is converted into a TensorFlow Dataset \n",
    "text_ds = tf.data.Dataset.from_tensor_slices(train_samples).batch(128)\n",
    "\n",
    "# The TextVectorization layer is adapted to the dataset text_ds. \n",
    "# This process analyzes the text data in text_ds and builds the vocabulary of the vectorizer based on the observed tokens.\n",
    "vectorizer.adapt(text_ds)"
   ]
  },
  {
   "cell_type": "code",
   "execution_count": 12,
   "id": "7fae732a-675d-4fa9-8d49-c9e471496111",
   "metadata": {},
   "outputs": [
    {
     "data": {
      "text/plain": [
       "['',\n",
       " '[UNK]',\n",
       " 'student',\n",
       " 'people',\n",
       " 'school',\n",
       " 'work',\n",
       " 'get',\n",
       " 'make',\n",
       " 'time',\n",
       " 'want',\n",
       " 'good',\n",
       " 'help',\n",
       " 'like',\n",
       " 'life',\n",
       " 'thing',\n",
       " 'would',\n",
       " 'think',\n",
       " 'class',\n",
       " 'one',\n",
       " 'well']"
      ]
     },
     "execution_count": 12,
     "metadata": {},
     "output_type": "execute_result"
    }
   ],
   "source": [
    "vectorizer.get_vocabulary()[:20]"
   ]
  },
  {
   "cell_type": "code",
   "execution_count": 13,
   "id": "69f489c5-e37e-468c-b0f8-d21182fd7052",
   "metadata": {},
   "outputs": [
    {
     "data": {
      "text/plain": [
       "<keras.layers.preprocessing.text_vectorization.TextVectorization at 0x7fa5784d6950>"
      ]
     },
     "execution_count": 13,
     "metadata": {},
     "output_type": "execute_result"
    }
   ],
   "source": [
    "vectorizer"
   ]
  },
  {
   "cell_type": "markdown",
   "id": "82896718-46e4-4ae4-a2e8-6dc045d91104",
   "metadata": {},
   "source": [
    "### Convert our list of strings data to Numpy arrays of integer indices"
   ]
  },
  {
   "cell_type": "code",
   "execution_count": 14,
   "id": "c4d6ab5d-cfbb-4efd-8274-4b5f3a7fa37b",
   "metadata": {},
   "outputs": [],
   "source": [
    "X_train = vectorizer(np.array([[s] for s in train_samples])).numpy()\n",
    "X_test = vectorizer(np.array([[s] for s in test_samples])).numpy()\n",
    "\n",
    "Y_train = np.array(train_targets)\n",
    "Y_test = np.array(test_targets)"
   ]
  },
  {
   "cell_type": "code",
   "execution_count": 15,
   "id": "7fcd3096-8926-4bfb-9bb5-64807e3e51bd",
   "metadata": {},
   "outputs": [
    {
     "data": {
      "text/plain": [
       "(3128, 1000)"
      ]
     },
     "execution_count": 15,
     "metadata": {},
     "output_type": "execute_result"
    }
   ],
   "source": [
    "X_train.shape"
   ]
  },
  {
   "cell_type": "code",
   "execution_count": 16,
   "id": "ee5648db-e4cb-4e2c-81ea-8884634b00f0",
   "metadata": {
    "tags": []
   },
   "outputs": [
    {
     "data": {
      "text/plain": [
       "(3128, 6)"
      ]
     },
     "execution_count": 16,
     "metadata": {},
     "output_type": "execute_result"
    }
   ],
   "source": [
    "Y_train.shape"
   ]
  },
  {
   "cell_type": "markdown",
   "id": "c15ec39c-793c-4dd4-8d21-442200e1cfa4",
   "metadata": {},
   "source": [
    "### Load a pretrained vector space model - GLOVE"
   ]
  },
  {
   "cell_type": "code",
   "execution_count": 17,
   "id": "a5c12778-b09b-4f6c-9a90-164ba8ec786b",
   "metadata": {},
   "outputs": [
    {
     "name": "stdout",
     "output_type": "stream",
     "text": [
      "Found 400000 word vectors.\n"
     ]
    }
   ],
   "source": [
    "embeddings_index = {}\n",
    "\n",
    "glove_dir = '../00_gcp_data/'\n",
    "f = open(os.path.join(glove_dir, 'glove.6B.100d.txt'), encoding=\"utf8\")\n",
    "\n",
    "for line in f:\n",
    "    values = line.split()\n",
    "    word = values[0]\n",
    "    coefs = np.asarray(values[1:], dtype='float32')\n",
    "    embeddings_index[word] = coefs\n",
    "f.close()\n",
    "\n",
    "print('Found %s word vectors.' % len(embeddings_index))"
   ]
  },
  {
   "cell_type": "code",
   "execution_count": 18,
   "id": "ae6e2570-651e-4659-83bc-02c23ccaf091",
   "metadata": {},
   "outputs": [
    {
     "name": "stdout",
     "output_type": "stream",
     "text": [
      "Converted 6638 words (362 misses)\n"
     ]
    }
   ],
   "source": [
    "voc = vectorizer.get_vocabulary()\n",
    "word_index = dict(zip(voc, range(len(voc))))\n",
    "\n",
    "num_tokens = len(voc) + 2\n",
    "hits = 0\n",
    "misses = 0\n",
    "\n",
    "# Prepare embedding matrix\n",
    "embedding_matrix = np.zeros((num_tokens, embedding_dim))\n",
    "for word, i in word_index.items():\n",
    "    embedding_vector = embeddings_index.get(word)\n",
    "    if embedding_vector is not None:\n",
    "        # Words not found in embedding index will be all-zeros.\n",
    "        # This includes the representation for \"padding\" and \"OOV\"\n",
    "        embedding_matrix[i] = embedding_vector\n",
    "        hits += 1\n",
    "    else:\n",
    "        misses += 1\n",
    "print(\"Converted %d words (%d misses)\" % (hits, misses))"
   ]
  },
  {
   "cell_type": "code",
   "execution_count": 19,
   "id": "16fa03f9-8e35-4c30-b41b-592423df76ba",
   "metadata": {
    "tags": []
   },
   "outputs": [
    {
     "data": {
      "text/plain": [
       "array([[ 0.        ,  0.        ,  0.        , ...,  0.        ,\n",
       "         0.        ,  0.        ],\n",
       "       [ 0.        ,  0.        ,  0.        , ...,  0.        ,\n",
       "         0.        ,  0.        ],\n",
       "       [ 0.79618001,  0.56779999, -0.96452999, ..., -0.28637001,\n",
       "         0.54822999, -0.33597001],\n",
       "       ...,\n",
       "       [-0.01211   ,  0.001921  , -0.26157999, ...,  0.039627  ,\n",
       "        -0.12142   , -0.44775   ],\n",
       "       [ 0.        ,  0.        ,  0.        , ...,  0.        ,\n",
       "         0.        ,  0.        ],\n",
       "       [ 0.        ,  0.        ,  0.        , ...,  0.        ,\n",
       "         0.        ,  0.        ]])"
      ]
     },
     "execution_count": 19,
     "metadata": {},
     "output_type": "execute_result"
    }
   ],
   "source": [
    "embedding_matrix"
   ]
  },
  {
   "cell_type": "markdown",
   "id": "19ee5095-566a-4882-ba2f-7d9abd2aa53f",
   "metadata": {},
   "source": [
    "### Load the pre-trained word embeddings matrix into an Embedding layer\n",
    "We will keep embeddings static with **trainable=False**"
   ]
  },
  {
   "cell_type": "code",
   "execution_count": 20,
   "id": "2f1ece9f-edcb-4d51-b2cb-29ae5eaff43e",
   "metadata": {},
   "outputs": [],
   "source": [
    "embedding_layer = Embedding(\n",
    "    num_tokens,\n",
    "    embedding_dim,\n",
    "    embeddings_initializer=keras.initializers.Constant(embedding_matrix),\n",
    "    trainable=False,\n",
    ")"
   ]
  },
  {
   "cell_type": "code",
   "execution_count": 21,
   "id": "0d2dbec2-8319-42c0-9163-3fe9efd68b33",
   "metadata": {},
   "outputs": [],
   "source": []
  },
  {
   "cell_type": "markdown",
   "id": "325f424a-7638-4bd8-8596-bfc65f0a0344",
   "metadata": {
    "jp-MarkdownHeadingCollapsed": true,
    "tags": []
   },
   "source": [
    "----\n",
    "## MODEL 1: Bi-GRU Model with Pooling"
   ]
  },
  {
   "cell_type": "markdown",
   "id": "388749e7-72a5-4a03-a48e-15ba8d08cbca",
   "metadata": {},
   "source": [
    "Bidirectional GRUs / LSTMs train two instead of one GRUs / LSTMs on the input sequence. The first on the input sequence as-is and the second on a reversed copy of the input sequence. This provides additional context to the network and result in faster and fuller learning of the sentense / language model.\n",
    "\n",
    "The goal is to predict one value per timestep given the full sequence provided as input. This requires that the GRUs / LSTMs hidden layer returns a sequence of values (one per timestep) rather than a single value for the whole input sequence (return_sequences=True)"
   ]
  },
  {
   "cell_type": "code",
   "execution_count": 22,
   "id": "d1a70410-3c69-43f3-8983-3706dd7b0090",
   "metadata": {},
   "outputs": [
    {
     "name": "stdout",
     "output_type": "stream",
     "text": [
      "Model: \"model\"\n",
      "__________________________________________________________________________________________________\n",
      " Layer (type)                   Output Shape         Param #     Connected to                     \n",
      "==================================================================================================\n",
      " input_1 (InputLayer)           [(None, 1000)]       0           []                               \n",
      "                                                                                                  \n",
      " embedding_1 (Embedding)        (None, 1000, 100)    700200      ['input_1[0][0]']                \n",
      "                                                                                                  \n",
      " spatial_dropout1d (SpatialDrop  (None, 1000, 100)   0           ['embedding_1[0][0]']            \n",
      " out1D)                                                                                           \n",
      "                                                                                                  \n",
      " bidirectional (Bidirectional)  (None, 1000, 128)    63744       ['spatial_dropout1d[0][0]']      \n",
      "                                                                                                  \n",
      " global_average_pooling1d (Glob  (None, 128)         0           ['bidirectional[0][0]']          \n",
      " alAveragePooling1D)                                                                              \n",
      "                                                                                                  \n",
      " global_max_pooling1d (GlobalMa  (None, 128)         0           ['bidirectional[0][0]']          \n",
      " xPooling1D)                                                                                      \n",
      "                                                                                                  \n",
      " concatenate (Concatenate)      (None, 256)          0           ['global_average_pooling1d[0][0]'\n",
      "                                                                 , 'global_max_pooling1d[0][0]']  \n",
      "                                                                                                  \n",
      " dense (Dense)                  (None, 128)          32896       ['concatenate[0][0]']            \n",
      "                                                                                                  \n",
      " batch_normalization (BatchNorm  (None, 128)         512         ['dense[0][0]']                  \n",
      " alization)                                                                                       \n",
      "                                                                                                  \n",
      " dense_1 (Dense)                (None, 64)           8256        ['batch_normalization[0][0]']    \n",
      "                                                                                                  \n",
      " batch_normalization_1 (BatchNo  (None, 64)          256         ['dense_1[0][0]']                \n",
      " rmalization)                                                                                     \n",
      "                                                                                                  \n",
      " dense_2 (Dense)                (None, 32)           2080        ['batch_normalization_1[0][0]']  \n",
      "                                                                                                  \n",
      " batch_normalization_2 (BatchNo  (None, 32)          128         ['dense_2[0][0]']                \n",
      " rmalization)                                                                                     \n",
      "                                                                                                  \n",
      " dense_3 (Dense)                (None, 16)           528         ['batch_normalization_2[0][0]']  \n",
      "                                                                                                  \n",
      " batch_normalization_3 (BatchNo  (None, 16)          64          ['dense_3[0][0]']                \n",
      " rmalization)                                                                                     \n",
      "                                                                                                  \n",
      " dense_4 (Dense)                (None, 6)            102         ['batch_normalization_3[0][0]']  \n",
      "                                                                                                  \n",
      "==================================================================================================\n",
      "Total params: 808,766\n",
      "Trainable params: 808,286\n",
      "Non-trainable params: 480\n",
      "__________________________________________________________________________________________________\n",
      "None\n"
     ]
    }
   ],
   "source": [
    "inputs = Input(shape=(sequence_length, ))\n",
    "\n",
    "x = Embedding(num_tokens, embedding_dim, weights=[embedding_matrix])(inputs)\n",
    "x = SpatialDropout1D(0.2)(x)\n",
    "x = Bidirectional(GRU(gru_dims, return_sequences=True))(x)\n",
    "flatten_1 = Flatten()(x)\n",
    "\n",
    "# Create a concatenation of GlobalAveragePooling1D and GlobalMaxPooling1D layers\n",
    "avg_pool = GlobalAveragePooling1D()(x)\n",
    "max_pool = GlobalMaxPooling1D()(x)\n",
    "concatenated = concatenate([avg_pool, max_pool])\n",
    "x = Dense(128, activation = 'relu')(concatenated)\n",
    "x = BatchNormalization()(x)\n",
    "x = Dense(64, activation = 'relu')(x)\n",
    "x = BatchNormalization()(x)\n",
    "x = Dense(32, activation = 'relu')(x)\n",
    "x = BatchNormalization()(x)\n",
    "x = Dense(16, activation = 'relu')(x)\n",
    "x = BatchNormalization()(x)\n",
    "outputs = Dense(6, activation = 'linear')(x)\n",
    "\n",
    "model_gru_1 = Model(inputs=inputs, outputs=outputs)\n",
    "model_gru_1.compile(loss = mcrmse, optimizer='adam', metrics = mcrmse)\n",
    "\n",
    "print(model_gru_1.summary())"
   ]
  },
  {
   "cell_type": "code",
   "execution_count": 35,
   "id": "fd9f8e51-6760-4cf8-b6a4-e549a49fa1d5",
   "metadata": {},
   "outputs": [],
   "source": [
    "from IPython.display import SVG\n",
    "from keras.utils.vis_utils import model_to_dot\n",
    "svg_image=SVG(model_to_dot(model_gru_1, show_shapes=True, dpi=80).create(prog='dot', format='svg'))\n",
    "svg_image\n",
    "\n",
    "with open(\"bigru_1.svg\", \"w\") as f:\n",
    "    f.write(svg_image.data)"
   ]
  },
  {
   "cell_type": "markdown",
   "id": "835e610c-69de-4f43-ab9c-d518fdf6f938",
   "metadata": {},
   "source": [
    "### Training the model"
   ]
  },
  {
   "cell_type": "code",
   "execution_count": 23,
   "id": "8a48dee5-7363-4451-a686-70e204e91575",
   "metadata": {
    "tags": []
   },
   "outputs": [
    {
     "name": "stdout",
     "output_type": "stream",
     "text": [
      "Epoch 1/40\n",
      "40/40 [==============================] - ETA: 0s - loss: 3.2321 - mcrmse: 3.2279\n",
      "Epoch 1: val_mcrmse improved from inf to 2.99132, saving model to /home/jupyter/automatic-essay-grading-DL/05_Model_files'/gru_glove_weights_best_rerun\n"
     ]
    },
    {
     "name": "stderr",
     "output_type": "stream",
     "text": [
      "WARNING:absl:Found untraced functions such as _update_step_xla, gru_cell_1_layer_call_fn, gru_cell_1_layer_call_and_return_conditional_losses, gru_cell_2_layer_call_fn, gru_cell_2_layer_call_and_return_conditional_losses while saving (showing 5 of 5). These functions will not be directly callable after loading.\n"
     ]
    },
    {
     "name": "stdout",
     "output_type": "stream",
     "text": [
      "INFO:tensorflow:Assets written to: /home/jupyter/automatic-essay-grading-DL/05_Model_files'/gru_glove_weights_best_rerun/assets\n"
     ]
    },
    {
     "name": "stderr",
     "output_type": "stream",
     "text": [
      "INFO:tensorflow:Assets written to: /home/jupyter/automatic-essay-grading-DL/05_Model_files'/gru_glove_weights_best_rerun/assets\n"
     ]
    },
    {
     "name": "stdout",
     "output_type": "stream",
     "text": [
      "40/40 [==============================] - 45s 969ms/step - loss: 3.2321 - mcrmse: 3.2279 - val_loss: 2.9911 - val_mcrmse: 2.9913 - lr: 0.0010\n",
      "Epoch 2/40\n",
      "40/40 [==============================] - ETA: 0s - loss: 3.0446 - mcrmse: 3.0469\n",
      "Epoch 2: val_mcrmse improved from 2.99132 to 2.94916, saving model to /home/jupyter/automatic-essay-grading-DL/05_Model_files'/gru_glove_weights_best_rerun\n"
     ]
    },
    {
     "name": "stderr",
     "output_type": "stream",
     "text": [
      "WARNING:absl:Found untraced functions such as _update_step_xla, gru_cell_1_layer_call_fn, gru_cell_1_layer_call_and_return_conditional_losses, gru_cell_2_layer_call_fn, gru_cell_2_layer_call_and_return_conditional_losses while saving (showing 5 of 5). These functions will not be directly callable after loading.\n"
     ]
    },
    {
     "name": "stdout",
     "output_type": "stream",
     "text": [
      "INFO:tensorflow:Assets written to: /home/jupyter/automatic-essay-grading-DL/05_Model_files'/gru_glove_weights_best_rerun/assets\n"
     ]
    },
    {
     "name": "stderr",
     "output_type": "stream",
     "text": [
      "INFO:tensorflow:Assets written to: /home/jupyter/automatic-essay-grading-DL/05_Model_files'/gru_glove_weights_best_rerun/assets\n"
     ]
    },
    {
     "name": "stdout",
     "output_type": "stream",
     "text": [
      "40/40 [==============================] - 37s 944ms/step - loss: 3.0446 - mcrmse: 3.0469 - val_loss: 2.9490 - val_mcrmse: 2.9492 - lr: 0.0010\n",
      "Epoch 3/40\n",
      "40/40 [==============================] - ETA: 0s - loss: 2.8498 - mcrmse: 2.8448\n",
      "Epoch 3: val_mcrmse improved from 2.94916 to 2.77063, saving model to /home/jupyter/automatic-essay-grading-DL/05_Model_files'/gru_glove_weights_best_rerun\n"
     ]
    },
    {
     "name": "stderr",
     "output_type": "stream",
     "text": [
      "WARNING:absl:Found untraced functions such as _update_step_xla, gru_cell_1_layer_call_fn, gru_cell_1_layer_call_and_return_conditional_losses, gru_cell_2_layer_call_fn, gru_cell_2_layer_call_and_return_conditional_losses while saving (showing 5 of 5). These functions will not be directly callable after loading.\n"
     ]
    },
    {
     "name": "stdout",
     "output_type": "stream",
     "text": [
      "INFO:tensorflow:Assets written to: /home/jupyter/automatic-essay-grading-DL/05_Model_files'/gru_glove_weights_best_rerun/assets\n"
     ]
    },
    {
     "name": "stderr",
     "output_type": "stream",
     "text": [
      "INFO:tensorflow:Assets written to: /home/jupyter/automatic-essay-grading-DL/05_Model_files'/gru_glove_weights_best_rerun/assets\n"
     ]
    },
    {
     "name": "stdout",
     "output_type": "stream",
     "text": [
      "40/40 [==============================] - 37s 944ms/step - loss: 2.8498 - mcrmse: 2.8448 - val_loss: 2.7703 - val_mcrmse: 2.7706 - lr: 0.0010\n",
      "Epoch 4/40\n",
      "40/40 [==============================] - ETA: 0s - loss: 2.5555 - mcrmse: 2.5482\n",
      "Epoch 4: val_mcrmse improved from 2.77063 to 2.38328, saving model to /home/jupyter/automatic-essay-grading-DL/05_Model_files'/gru_glove_weights_best_rerun\n"
     ]
    },
    {
     "name": "stderr",
     "output_type": "stream",
     "text": [
      "WARNING:absl:Found untraced functions such as _update_step_xla, gru_cell_1_layer_call_fn, gru_cell_1_layer_call_and_return_conditional_losses, gru_cell_2_layer_call_fn, gru_cell_2_layer_call_and_return_conditional_losses while saving (showing 5 of 5). These functions will not be directly callable after loading.\n"
     ]
    },
    {
     "name": "stdout",
     "output_type": "stream",
     "text": [
      "INFO:tensorflow:Assets written to: /home/jupyter/automatic-essay-grading-DL/05_Model_files'/gru_glove_weights_best_rerun/assets\n"
     ]
    },
    {
     "name": "stderr",
     "output_type": "stream",
     "text": [
      "INFO:tensorflow:Assets written to: /home/jupyter/automatic-essay-grading-DL/05_Model_files'/gru_glove_weights_best_rerun/assets\n"
     ]
    },
    {
     "name": "stdout",
     "output_type": "stream",
     "text": [
      "40/40 [==============================] - 39s 985ms/step - loss: 2.5555 - mcrmse: 2.5482 - val_loss: 2.3827 - val_mcrmse: 2.3833 - lr: 0.0010\n",
      "Epoch 5/40\n",
      "40/40 [==============================] - ETA: 0s - loss: 2.1281 - mcrmse: 2.1208\n",
      "Epoch 5: val_mcrmse improved from 2.38328 to 2.01852, saving model to /home/jupyter/automatic-essay-grading-DL/05_Model_files'/gru_glove_weights_best_rerun\n"
     ]
    },
    {
     "name": "stderr",
     "output_type": "stream",
     "text": [
      "WARNING:absl:Found untraced functions such as _update_step_xla, gru_cell_1_layer_call_fn, gru_cell_1_layer_call_and_return_conditional_losses, gru_cell_2_layer_call_fn, gru_cell_2_layer_call_and_return_conditional_losses while saving (showing 5 of 5). These functions will not be directly callable after loading.\n"
     ]
    },
    {
     "name": "stdout",
     "output_type": "stream",
     "text": [
      "INFO:tensorflow:Assets written to: /home/jupyter/automatic-essay-grading-DL/05_Model_files'/gru_glove_weights_best_rerun/assets\n"
     ]
    },
    {
     "name": "stderr",
     "output_type": "stream",
     "text": [
      "INFO:tensorflow:Assets written to: /home/jupyter/automatic-essay-grading-DL/05_Model_files'/gru_glove_weights_best_rerun/assets\n"
     ]
    },
    {
     "name": "stdout",
     "output_type": "stream",
     "text": [
      "40/40 [==============================] - 38s 965ms/step - loss: 2.1281 - mcrmse: 2.1208 - val_loss: 2.0184 - val_mcrmse: 2.0185 - lr: 0.0010\n",
      "Epoch 6/40\n",
      "40/40 [==============================] - ETA: 0s - loss: 1.5803 - mcrmse: 1.5722\n",
      "Epoch 6: val_mcrmse improved from 2.01852 to 1.58208, saving model to /home/jupyter/automatic-essay-grading-DL/05_Model_files'/gru_glove_weights_best_rerun\n"
     ]
    },
    {
     "name": "stderr",
     "output_type": "stream",
     "text": [
      "WARNING:absl:Found untraced functions such as _update_step_xla, gru_cell_1_layer_call_fn, gru_cell_1_layer_call_and_return_conditional_losses, gru_cell_2_layer_call_fn, gru_cell_2_layer_call_and_return_conditional_losses while saving (showing 5 of 5). These functions will not be directly callable after loading.\n"
     ]
    },
    {
     "name": "stdout",
     "output_type": "stream",
     "text": [
      "INFO:tensorflow:Assets written to: /home/jupyter/automatic-essay-grading-DL/05_Model_files'/gru_glove_weights_best_rerun/assets\n"
     ]
    },
    {
     "name": "stderr",
     "output_type": "stream",
     "text": [
      "INFO:tensorflow:Assets written to: /home/jupyter/automatic-essay-grading-DL/05_Model_files'/gru_glove_weights_best_rerun/assets\n"
     ]
    },
    {
     "name": "stdout",
     "output_type": "stream",
     "text": [
      "40/40 [==============================] - 37s 923ms/step - loss: 1.5803 - mcrmse: 1.5722 - val_loss: 1.5818 - val_mcrmse: 1.5821 - lr: 0.0010\n",
      "Epoch 7/40\n",
      "40/40 [==============================] - ETA: 0s - loss: 1.0112 - mcrmse: 1.0078\n",
      "Epoch 7: val_mcrmse improved from 1.58208 to 0.97781, saving model to /home/jupyter/automatic-essay-grading-DL/05_Model_files'/gru_glove_weights_best_rerun\n"
     ]
    },
    {
     "name": "stderr",
     "output_type": "stream",
     "text": [
      "WARNING:absl:Found untraced functions such as _update_step_xla, gru_cell_1_layer_call_fn, gru_cell_1_layer_call_and_return_conditional_losses, gru_cell_2_layer_call_fn, gru_cell_2_layer_call_and_return_conditional_losses while saving (showing 5 of 5). These functions will not be directly callable after loading.\n"
     ]
    },
    {
     "name": "stdout",
     "output_type": "stream",
     "text": [
      "INFO:tensorflow:Assets written to: /home/jupyter/automatic-essay-grading-DL/05_Model_files'/gru_glove_weights_best_rerun/assets\n"
     ]
    },
    {
     "name": "stderr",
     "output_type": "stream",
     "text": [
      "INFO:tensorflow:Assets written to: /home/jupyter/automatic-essay-grading-DL/05_Model_files'/gru_glove_weights_best_rerun/assets\n"
     ]
    },
    {
     "name": "stdout",
     "output_type": "stream",
     "text": [
      "40/40 [==============================] - 37s 932ms/step - loss: 1.0112 - mcrmse: 1.0078 - val_loss: 0.9774 - val_mcrmse: 0.9778 - lr: 0.0010\n",
      "Epoch 8/40\n",
      "40/40 [==============================] - ETA: 0s - loss: 0.6799 - mcrmse: 0.6770\n",
      "Epoch 8: val_mcrmse improved from 0.97781 to 0.70069, saving model to /home/jupyter/automatic-essay-grading-DL/05_Model_files'/gru_glove_weights_best_rerun\n"
     ]
    },
    {
     "name": "stderr",
     "output_type": "stream",
     "text": [
      "WARNING:absl:Found untraced functions such as _update_step_xla, gru_cell_1_layer_call_fn, gru_cell_1_layer_call_and_return_conditional_losses, gru_cell_2_layer_call_fn, gru_cell_2_layer_call_and_return_conditional_losses while saving (showing 5 of 5). These functions will not be directly callable after loading.\n"
     ]
    },
    {
     "name": "stdout",
     "output_type": "stream",
     "text": [
      "INFO:tensorflow:Assets written to: /home/jupyter/automatic-essay-grading-DL/05_Model_files'/gru_glove_weights_best_rerun/assets\n"
     ]
    },
    {
     "name": "stderr",
     "output_type": "stream",
     "text": [
      "INFO:tensorflow:Assets written to: /home/jupyter/automatic-essay-grading-DL/05_Model_files'/gru_glove_weights_best_rerun/assets\n"
     ]
    },
    {
     "name": "stdout",
     "output_type": "stream",
     "text": [
      "40/40 [==============================] - 36s 918ms/step - loss: 0.6799 - mcrmse: 0.6770 - val_loss: 0.7013 - val_mcrmse: 0.7007 - lr: 0.0010\n",
      "Epoch 9/40\n",
      "40/40 [==============================] - ETA: 0s - loss: 0.6055 - mcrmse: 0.6094\n",
      "Epoch 9: val_mcrmse improved from 0.70069 to 0.63949, saving model to /home/jupyter/automatic-essay-grading-DL/05_Model_files'/gru_glove_weights_best_rerun\n"
     ]
    },
    {
     "name": "stderr",
     "output_type": "stream",
     "text": [
      "WARNING:absl:Found untraced functions such as _update_step_xla, gru_cell_1_layer_call_fn, gru_cell_1_layer_call_and_return_conditional_losses, gru_cell_2_layer_call_fn, gru_cell_2_layer_call_and_return_conditional_losses while saving (showing 5 of 5). These functions will not be directly callable after loading.\n"
     ]
    },
    {
     "name": "stdout",
     "output_type": "stream",
     "text": [
      "INFO:tensorflow:Assets written to: /home/jupyter/automatic-essay-grading-DL/05_Model_files'/gru_glove_weights_best_rerun/assets\n"
     ]
    },
    {
     "name": "stderr",
     "output_type": "stream",
     "text": [
      "INFO:tensorflow:Assets written to: /home/jupyter/automatic-essay-grading-DL/05_Model_files'/gru_glove_weights_best_rerun/assets\n"
     ]
    },
    {
     "name": "stdout",
     "output_type": "stream",
     "text": [
      "40/40 [==============================] - 36s 918ms/step - loss: 0.6055 - mcrmse: 0.6094 - val_loss: 0.6400 - val_mcrmse: 0.6395 - lr: 0.0010\n",
      "Epoch 10/40\n",
      "40/40 [==============================] - ETA: 0s - loss: 0.5769 - mcrmse: 0.5795\n",
      "Epoch 10: val_mcrmse improved from 0.63949 to 0.61483, saving model to /home/jupyter/automatic-essay-grading-DL/05_Model_files'/gru_glove_weights_best_rerun\n"
     ]
    },
    {
     "name": "stderr",
     "output_type": "stream",
     "text": [
      "WARNING:absl:Found untraced functions such as _update_step_xla, gru_cell_1_layer_call_fn, gru_cell_1_layer_call_and_return_conditional_losses, gru_cell_2_layer_call_fn, gru_cell_2_layer_call_and_return_conditional_losses while saving (showing 5 of 5). These functions will not be directly callable after loading.\n"
     ]
    },
    {
     "name": "stdout",
     "output_type": "stream",
     "text": [
      "INFO:tensorflow:Assets written to: /home/jupyter/automatic-essay-grading-DL/05_Model_files'/gru_glove_weights_best_rerun/assets\n"
     ]
    },
    {
     "name": "stderr",
     "output_type": "stream",
     "text": [
      "INFO:tensorflow:Assets written to: /home/jupyter/automatic-essay-grading-DL/05_Model_files'/gru_glove_weights_best_rerun/assets\n"
     ]
    },
    {
     "name": "stdout",
     "output_type": "stream",
     "text": [
      "40/40 [==============================] - 36s 920ms/step - loss: 0.5769 - mcrmse: 0.5795 - val_loss: 0.6157 - val_mcrmse: 0.6148 - lr: 0.0010\n",
      "Epoch 11/40\n",
      "40/40 [==============================] - ETA: 0s - loss: 0.5628 - mcrmse: 0.5655\n",
      "Epoch 11: val_mcrmse did not improve from 0.61483\n",
      "40/40 [==============================] - 28s 700ms/step - loss: 0.5628 - mcrmse: 0.5655 - val_loss: 0.6209 - val_mcrmse: 0.6203 - lr: 0.0010\n",
      "Epoch 12/40\n",
      "40/40 [==============================] - ETA: 0s - loss: 0.5535 - mcrmse: 0.5611\n",
      "Epoch 12: ReduceLROnPlateau reducing learning rate to 0.0002500000118743628.\n",
      "\n",
      "Epoch 12: val_mcrmse did not improve from 0.61483\n",
      "40/40 [==============================] - 25s 620ms/step - loss: 0.5535 - mcrmse: 0.5611 - val_loss: 0.6350 - val_mcrmse: 0.6346 - lr: 0.0010\n",
      "Epoch 13/40\n",
      "40/40 [==============================] - ETA: 0s - loss: 0.5333 - mcrmse: 0.5333\n",
      "Epoch 13: val_mcrmse did not improve from 0.61483\n",
      "40/40 [==============================] - 25s 618ms/step - loss: 0.5333 - mcrmse: 0.5333 - val_loss: 0.6154 - val_mcrmse: 0.6149 - lr: 2.5000e-04\n",
      "Epoch 14/40\n",
      "40/40 [==============================] - ETA: 0s - loss: 0.5181 - mcrmse: 0.5159\n",
      "Epoch 14: val_mcrmse improved from 0.61483 to 0.59553, saving model to /home/jupyter/automatic-essay-grading-DL/05_Model_files'/gru_glove_weights_best_rerun\n"
     ]
    },
    {
     "name": "stderr",
     "output_type": "stream",
     "text": [
      "WARNING:absl:Found untraced functions such as _update_step_xla, gru_cell_1_layer_call_fn, gru_cell_1_layer_call_and_return_conditional_losses, gru_cell_2_layer_call_fn, gru_cell_2_layer_call_and_return_conditional_losses while saving (showing 5 of 5). These functions will not be directly callable after loading.\n"
     ]
    },
    {
     "name": "stdout",
     "output_type": "stream",
     "text": [
      "INFO:tensorflow:Assets written to: /home/jupyter/automatic-essay-grading-DL/05_Model_files'/gru_glove_weights_best_rerun/assets\n"
     ]
    },
    {
     "name": "stderr",
     "output_type": "stream",
     "text": [
      "INFO:tensorflow:Assets written to: /home/jupyter/automatic-essay-grading-DL/05_Model_files'/gru_glove_weights_best_rerun/assets\n"
     ]
    },
    {
     "name": "stdout",
     "output_type": "stream",
     "text": [
      "40/40 [==============================] - 37s 943ms/step - loss: 0.5181 - mcrmse: 0.5159 - val_loss: 0.5959 - val_mcrmse: 0.5955 - lr: 2.5000e-04\n",
      "Epoch 15/40\n",
      "40/40 [==============================] - ETA: 0s - loss: 0.5140 - mcrmse: 0.5206\n",
      "Epoch 15: val_mcrmse improved from 0.59553 to 0.59334, saving model to /home/jupyter/automatic-essay-grading-DL/05_Model_files'/gru_glove_weights_best_rerun\n"
     ]
    },
    {
     "name": "stderr",
     "output_type": "stream",
     "text": [
      "WARNING:absl:Found untraced functions such as _update_step_xla, gru_cell_1_layer_call_fn, gru_cell_1_layer_call_and_return_conditional_losses, gru_cell_2_layer_call_fn, gru_cell_2_layer_call_and_return_conditional_losses while saving (showing 5 of 5). These functions will not be directly callable after loading.\n"
     ]
    },
    {
     "name": "stdout",
     "output_type": "stream",
     "text": [
      "INFO:tensorflow:Assets written to: /home/jupyter/automatic-essay-grading-DL/05_Model_files'/gru_glove_weights_best_rerun/assets\n"
     ]
    },
    {
     "name": "stderr",
     "output_type": "stream",
     "text": [
      "INFO:tensorflow:Assets written to: /home/jupyter/automatic-essay-grading-DL/05_Model_files'/gru_glove_weights_best_rerun/assets\n"
     ]
    },
    {
     "name": "stdout",
     "output_type": "stream",
     "text": [
      "40/40 [==============================] - 37s 943ms/step - loss: 0.5140 - mcrmse: 0.5206 - val_loss: 0.5936 - val_mcrmse: 0.5933 - lr: 2.5000e-04\n",
      "Epoch 16/40\n",
      "40/40 [==============================] - ETA: 0s - loss: 0.5131 - mcrmse: 0.5141\n",
      "Epoch 16: val_mcrmse did not improve from 0.59334\n",
      "40/40 [==============================] - 25s 618ms/step - loss: 0.5131 - mcrmse: 0.5141 - val_loss: 0.5980 - val_mcrmse: 0.5978 - lr: 2.5000e-04\n",
      "Epoch 17/40\n",
      "40/40 [==============================] - ETA: 0s - loss: 0.5120 - mcrmse: 0.5214\n",
      "Epoch 17: val_mcrmse improved from 0.59334 to 0.59209, saving model to /home/jupyter/automatic-essay-grading-DL/05_Model_files'/gru_glove_weights_best_rerun\n"
     ]
    },
    {
     "name": "stderr",
     "output_type": "stream",
     "text": [
      "WARNING:absl:Found untraced functions such as _update_step_xla, gru_cell_1_layer_call_fn, gru_cell_1_layer_call_and_return_conditional_losses, gru_cell_2_layer_call_fn, gru_cell_2_layer_call_and_return_conditional_losses while saving (showing 5 of 5). These functions will not be directly callable after loading.\n"
     ]
    },
    {
     "name": "stdout",
     "output_type": "stream",
     "text": [
      "INFO:tensorflow:Assets written to: /home/jupyter/automatic-essay-grading-DL/05_Model_files'/gru_glove_weights_best_rerun/assets\n"
     ]
    },
    {
     "name": "stderr",
     "output_type": "stream",
     "text": [
      "INFO:tensorflow:Assets written to: /home/jupyter/automatic-essay-grading-DL/05_Model_files'/gru_glove_weights_best_rerun/assets\n"
     ]
    },
    {
     "name": "stdout",
     "output_type": "stream",
     "text": [
      "40/40 [==============================] - 37s 933ms/step - loss: 0.5120 - mcrmse: 0.5214 - val_loss: 0.5925 - val_mcrmse: 0.5921 - lr: 2.5000e-04\n",
      "Epoch 18/40\n",
      "40/40 [==============================] - ETA: 0s - loss: 0.5091 - mcrmse: 0.5122\n",
      "Epoch 18: val_mcrmse improved from 0.59209 to 0.58336, saving model to /home/jupyter/automatic-essay-grading-DL/05_Model_files'/gru_glove_weights_best_rerun\n"
     ]
    },
    {
     "name": "stderr",
     "output_type": "stream",
     "text": [
      "WARNING:absl:Found untraced functions such as _update_step_xla, gru_cell_1_layer_call_fn, gru_cell_1_layer_call_and_return_conditional_losses, gru_cell_2_layer_call_fn, gru_cell_2_layer_call_and_return_conditional_losses while saving (showing 5 of 5). These functions will not be directly callable after loading.\n"
     ]
    },
    {
     "name": "stdout",
     "output_type": "stream",
     "text": [
      "INFO:tensorflow:Assets written to: /home/jupyter/automatic-essay-grading-DL/05_Model_files'/gru_glove_weights_best_rerun/assets\n"
     ]
    },
    {
     "name": "stderr",
     "output_type": "stream",
     "text": [
      "INFO:tensorflow:Assets written to: /home/jupyter/automatic-essay-grading-DL/05_Model_files'/gru_glove_weights_best_rerun/assets\n"
     ]
    },
    {
     "name": "stdout",
     "output_type": "stream",
     "text": [
      "40/40 [==============================] - 37s 924ms/step - loss: 0.5091 - mcrmse: 0.5122 - val_loss: 0.5839 - val_mcrmse: 0.5834 - lr: 2.5000e-04\n",
      "Epoch 19/40\n",
      "40/40 [==============================] - ETA: 0s - loss: 0.5063 - mcrmse: 0.5094\n",
      "Epoch 19: val_mcrmse did not improve from 0.58336\n",
      "40/40 [==============================] - 24s 611ms/step - loss: 0.5063 - mcrmse: 0.5094 - val_loss: 0.5960 - val_mcrmse: 0.5954 - lr: 2.5000e-04\n",
      "Epoch 20/40\n",
      "40/40 [==============================] - ETA: 0s - loss: 0.4965 - mcrmse: 0.4996\n",
      "Epoch 20: ReduceLROnPlateau reducing learning rate to 6.25000029685907e-05.\n",
      "\n",
      "Epoch 20: val_mcrmse did not improve from 0.58336\n",
      "40/40 [==============================] - 24s 610ms/step - loss: 0.4965 - mcrmse: 0.4996 - val_loss: 0.5986 - val_mcrmse: 0.5981 - lr: 2.5000e-04\n",
      "Epoch 21/40\n",
      "40/40 [==============================] - ETA: 0s - loss: 0.4983 - mcrmse: 0.5007\n",
      "Epoch 21: val_mcrmse did not improve from 0.58336\n",
      "40/40 [==============================] - 24s 610ms/step - loss: 0.4983 - mcrmse: 0.5007 - val_loss: 0.5909 - val_mcrmse: 0.5902 - lr: 6.2500e-05\n",
      "Epoch 22/40\n",
      "40/40 [==============================] - ETA: 0s - loss: 0.4983 - mcrmse: 0.5007\n",
      "Epoch 22: ReduceLROnPlateau reducing learning rate to 1.5625000742147677e-05.\n",
      "\n",
      "Epoch 22: val_mcrmse did not improve from 0.58336\n",
      "40/40 [==============================] - 24s 611ms/step - loss: 0.4983 - mcrmse: 0.5007 - val_loss: 0.5885 - val_mcrmse: 0.5879 - lr: 6.2500e-05\n",
      "Epoch 23/40\n",
      "40/40 [==============================] - ETA: 0s - loss: 0.4996 - mcrmse: 0.4988\n",
      "Epoch 23: val_mcrmse did not improve from 0.58336\n",
      "40/40 [==============================] - 24s 606ms/step - loss: 0.4996 - mcrmse: 0.4988 - val_loss: 0.5871 - val_mcrmse: 0.5865 - lr: 1.5625e-05\n",
      "Epoch 24/40\n",
      "40/40 [==============================] - ETA: 0s - loss: 0.4960 - mcrmse: 0.4975\n",
      "Epoch 24: ReduceLROnPlateau reducing learning rate to 3.906250185536919e-06.\n",
      "\n",
      "Epoch 24: val_mcrmse did not improve from 0.58336\n",
      "40/40 [==============================] - 24s 608ms/step - loss: 0.4960 - mcrmse: 0.4975 - val_loss: 0.5863 - val_mcrmse: 0.5858 - lr: 1.5625e-05\n",
      "Epoch 25/40\n",
      "40/40 [==============================] - ETA: 0s - loss: 0.4983 - mcrmse: 0.4992\n",
      "Epoch 25: val_mcrmse did not improve from 0.58336\n",
      "40/40 [==============================] - 24s 609ms/step - loss: 0.4983 - mcrmse: 0.4992 - val_loss: 0.5859 - val_mcrmse: 0.5854 - lr: 3.9063e-06\n",
      "Epoch 26/40\n",
      "40/40 [==============================] - ETA: 0s - loss: 0.4910 - mcrmse: 0.4903\n",
      "Epoch 26: ReduceLROnPlateau reducing learning rate to 9.765625463842298e-07.\n",
      "\n",
      "Epoch 26: val_mcrmse did not improve from 0.58336\n",
      "40/40 [==============================] - 24s 610ms/step - loss: 0.4910 - mcrmse: 0.4903 - val_loss: 0.5851 - val_mcrmse: 0.5847 - lr: 3.9063e-06\n",
      "Epoch 27/40\n",
      "40/40 [==============================] - ETA: 0s - loss: 0.5007 - mcrmse: 0.5061\n",
      "Epoch 27: val_mcrmse did not improve from 0.58336\n",
      "40/40 [==============================] - 25s 614ms/step - loss: 0.5007 - mcrmse: 0.5061 - val_loss: 0.5845 - val_mcrmse: 0.5840 - lr: 9.7656e-07\n",
      "Epoch 28/40\n",
      "40/40 [==============================] - ETA: 0s - loss: 0.4918 - mcrmse: 0.4945\n",
      "Epoch 28: ReduceLROnPlateau reducing learning rate to 2.4414063659605745e-07.\n",
      "\n",
      "Epoch 28: val_mcrmse did not improve from 0.58336\n",
      "40/40 [==============================] - 24s 612ms/step - loss: 0.4918 - mcrmse: 0.4945 - val_loss: 0.5840 - val_mcrmse: 0.5835 - lr: 9.7656e-07\n",
      "Epoch 29/40\n",
      "40/40 [==============================] - ETA: 0s - loss: 0.4907 - mcrmse: 0.4971\n",
      "Epoch 29: val_mcrmse did not improve from 0.58336\n",
      "40/40 [==============================] - 26s 649ms/step - loss: 0.4907 - mcrmse: 0.4971 - val_loss: 0.5839 - val_mcrmse: 0.5835 - lr: 2.4414e-07\n",
      "Epoch 30/40\n",
      "40/40 [==============================] - ETA: 0s - loss: 0.4884 - mcrmse: 0.4886\n",
      "Epoch 30: ReduceLROnPlateau reducing learning rate to 6.103515914901436e-08.\n",
      "\n",
      "Epoch 30: val_mcrmse did not improve from 0.58336\n",
      "40/40 [==============================] - 25s 615ms/step - loss: 0.4884 - mcrmse: 0.4886 - val_loss: 0.5841 - val_mcrmse: 0.5838 - lr: 2.4414e-07\n",
      "Epoch 31/40\n",
      "40/40 [==============================] - ETA: 0s - loss: 0.4949 - mcrmse: 0.4987\n",
      "Epoch 31: val_mcrmse did not improve from 0.58336\n",
      "40/40 [==============================] - 25s 614ms/step - loss: 0.4949 - mcrmse: 0.4987 - val_loss: 0.5847 - val_mcrmse: 0.5843 - lr: 6.1035e-08\n",
      "Epoch 32/40\n",
      "40/40 [==============================] - ETA: 0s - loss: 0.4948 - mcrmse: 0.4990\n",
      "Epoch 32: ReduceLROnPlateau reducing learning rate to 1.525878978725359e-08.\n",
      "\n",
      "Epoch 32: val_mcrmse did not improve from 0.58336\n",
      "40/40 [==============================] - 25s 619ms/step - loss: 0.4948 - mcrmse: 0.4990 - val_loss: 0.5847 - val_mcrmse: 0.5843 - lr: 6.1035e-08\n",
      "Epoch 33/40\n",
      "40/40 [==============================] - ETA: 0s - loss: 0.4932 - mcrmse: 0.4930\n",
      "Epoch 33: val_mcrmse did not improve from 0.58336\n",
      "40/40 [==============================] - 24s 613ms/step - loss: 0.4932 - mcrmse: 0.4930 - val_loss: 0.5843 - val_mcrmse: 0.5839 - lr: 1.5259e-08\n",
      "Epoch 34/40\n",
      "40/40 [==============================] - ETA: 0s - loss: 0.4903 - mcrmse: 0.4961\n",
      "Epoch 34: ReduceLROnPlateau reducing learning rate to 3.814697446813398e-09.\n",
      "\n",
      "Epoch 34: val_mcrmse did not improve from 0.58336\n",
      "40/40 [==============================] - 25s 619ms/step - loss: 0.4903 - mcrmse: 0.4961 - val_loss: 0.5841 - val_mcrmse: 0.5837 - lr: 1.5259e-08\n",
      "Epoch 35/40\n",
      "40/40 [==============================] - ETA: 0s - loss: 0.4909 - mcrmse: 0.4976\n",
      "Epoch 35: val_mcrmse improved from 0.58336 to 0.58335, saving model to /home/jupyter/automatic-essay-grading-DL/05_Model_files'/gru_glove_weights_best_rerun\n"
     ]
    },
    {
     "name": "stderr",
     "output_type": "stream",
     "text": [
      "WARNING:absl:Found untraced functions such as _update_step_xla, gru_cell_1_layer_call_fn, gru_cell_1_layer_call_and_return_conditional_losses, gru_cell_2_layer_call_fn, gru_cell_2_layer_call_and_return_conditional_losses while saving (showing 5 of 5). These functions will not be directly callable after loading.\n"
     ]
    },
    {
     "name": "stdout",
     "output_type": "stream",
     "text": [
      "INFO:tensorflow:Assets written to: /home/jupyter/automatic-essay-grading-DL/05_Model_files'/gru_glove_weights_best_rerun/assets\n"
     ]
    },
    {
     "name": "stderr",
     "output_type": "stream",
     "text": [
      "INFO:tensorflow:Assets written to: /home/jupyter/automatic-essay-grading-DL/05_Model_files'/gru_glove_weights_best_rerun/assets\n"
     ]
    },
    {
     "name": "stdout",
     "output_type": "stream",
     "text": [
      "40/40 [==============================] - 37s 930ms/step - loss: 0.4909 - mcrmse: 0.4976 - val_loss: 0.5837 - val_mcrmse: 0.5833 - lr: 3.8147e-09\n",
      "Epoch 36/40\n",
      "40/40 [==============================] - ETA: 0s - loss: 0.4981 - mcrmse: 0.4997\n",
      "Epoch 36: val_mcrmse improved from 0.58335 to 0.58273, saving model to /home/jupyter/automatic-essay-grading-DL/05_Model_files'/gru_glove_weights_best_rerun\n"
     ]
    },
    {
     "name": "stderr",
     "output_type": "stream",
     "text": [
      "WARNING:absl:Found untraced functions such as _update_step_xla, gru_cell_1_layer_call_fn, gru_cell_1_layer_call_and_return_conditional_losses, gru_cell_2_layer_call_fn, gru_cell_2_layer_call_and_return_conditional_losses while saving (showing 5 of 5). These functions will not be directly callable after loading.\n"
     ]
    },
    {
     "name": "stdout",
     "output_type": "stream",
     "text": [
      "INFO:tensorflow:Assets written to: /home/jupyter/automatic-essay-grading-DL/05_Model_files'/gru_glove_weights_best_rerun/assets\n"
     ]
    },
    {
     "name": "stderr",
     "output_type": "stream",
     "text": [
      "INFO:tensorflow:Assets written to: /home/jupyter/automatic-essay-grading-DL/05_Model_files'/gru_glove_weights_best_rerun/assets\n"
     ]
    },
    {
     "name": "stdout",
     "output_type": "stream",
     "text": [
      "40/40 [==============================] - 36s 919ms/step - loss: 0.4981 - mcrmse: 0.4997 - val_loss: 0.5831 - val_mcrmse: 0.5827 - lr: 3.8147e-09\n",
      "Epoch 37/40\n",
      "40/40 [==============================] - ETA: 0s - loss: 0.4908 - mcrmse: 0.4916\n",
      "Epoch 37: val_mcrmse did not improve from 0.58273\n",
      "40/40 [==============================] - 24s 610ms/step - loss: 0.4908 - mcrmse: 0.4916 - val_loss: 0.5834 - val_mcrmse: 0.5830 - lr: 3.8147e-09\n",
      "Epoch 38/40\n",
      "40/40 [==============================] - ETA: 0s - loss: 0.4979 - mcrmse: 0.4971\n",
      "Epoch 38: ReduceLROnPlateau reducing learning rate to 9.536743617033494e-10.\n",
      "\n",
      "Epoch 38: val_mcrmse did not improve from 0.58273\n",
      "40/40 [==============================] - 25s 615ms/step - loss: 0.4979 - mcrmse: 0.4971 - val_loss: 0.5836 - val_mcrmse: 0.5832 - lr: 3.8147e-09\n",
      "Epoch 39/40\n",
      "40/40 [==============================] - ETA: 0s - loss: 0.4948 - mcrmse: 0.4968\n",
      "Epoch 39: val_mcrmse did not improve from 0.58273\n",
      "40/40 [==============================] - 24s 611ms/step - loss: 0.4948 - mcrmse: 0.4968 - val_loss: 0.5837 - val_mcrmse: 0.5833 - lr: 9.5367e-10\n",
      "Epoch 40/40\n",
      "40/40 [==============================] - ETA: 0s - loss: 0.4958 - mcrmse: 0.5027\n",
      "Epoch 40: ReduceLROnPlateau reducing learning rate to 2.3841859042583735e-10.\n",
      "\n",
      "Epoch 40: val_mcrmse did not improve from 0.58273\n",
      "40/40 [==============================] - 25s 618ms/step - loss: 0.4958 - mcrmse: 0.5027 - val_loss: 0.5834 - val_mcrmse: 0.5830 - lr: 9.5367e-10\n",
      "GRU Glove model train time = 1193 seconds\n"
     ]
    }
   ],
   "source": [
    "from tensorflow.keras.callbacks import *\n",
    "import os\n",
    "reduce_lr = ReduceLROnPlateau(monitor = 'val_mcrmse', factor = 0.25, patience = 2, verbose = 1)\n",
    "earlystop = EarlyStopping(monitor = 'val_mcrmse',  mode=\"min\", min_delta = 0, patience = 25,verbose = 1)\n",
    "\n",
    "filepath=\"/home/jupyter/automatic-essay-grading-DL/05_Model_files'/gru_glove_weights_best_rerun\"\n",
    "checkpoint = ModelCheckpoint(filepath, monitor='val_mcrmse',\n",
    "                             verbose=1, save_best_only=True, save_weights_only=False, overwrite=True, mode='min')\n",
    "\n",
    "#only save model if it reduces MSE\n",
    "callbacks = [reduce_lr,earlystop,checkpoint]\n",
    "\n",
    "t1 = time.time()\n",
    "model_gru_1_history_rerun = model_gru_1.fit(X_train, Y_train,\n",
    "                    batch_size=batch_size, \n",
    "                    epochs=40,\n",
    "                    validation_split=0.2,\n",
    "                    callbacks = callbacks,\n",
    "                    verbose=1)\n",
    "t2 = time.time()\n",
    "print(\"GRU Glove model train time = %d seconds\" %(t2-t1))"
   ]
  },
  {
   "cell_type": "code",
   "execution_count": 24,
   "id": "3e701f51-a35e-4d54-ba64-73391c27c077",
   "metadata": {},
   "outputs": [
    {
     "data": {
      "text/plain": [
       "dict_keys(['loss', 'mcrmse', 'val_loss', 'val_mcrmse', 'lr'])"
      ]
     },
     "execution_count": 24,
     "metadata": {},
     "output_type": "execute_result"
    }
   ],
   "source": [
    "model_gru_1_history_rerun.history.keys()"
   ]
  },
  {
   "cell_type": "code",
   "execution_count": 70,
   "id": "3a4d9a66-26b8-4a6f-85a8-9fe279d03e71",
   "metadata": {},
   "outputs": [],
   "source": [
    "import matplotlib.ticker as ticker\n",
    "def plot_train_rmse(history):\n",
    "    \"\"\"\n",
    "    Plot the keras epoch results thru training\n",
    "    \"\"\"\n",
    "    h = history.history\n",
    "    epochs = range(1, len(h['mcrmse']) + 1)\n",
    "    \n",
    "    fig, ax1 = plt.subplots(figsize=(13, 8))\n",
    "\n",
    "    # ax1.subplots(1,1,figsize=(13,8))\n",
    "    ax1.plot(epochs, h['mcrmse'], 'r', label='Training RMSE')\n",
    "    ax1.plot(epochs, h['val_mcrmse'], 'g', label='Validation RMSE')\n",
    "    ax1.set_ylabel('RMSEs')\n",
    "    ax1.set_xlabel('Epochs')\n",
    "\n",
    "    \n",
    "    ax2 = ax1.twinx()\n",
    "    ax2.plot(epochs, h['lr'], 'o', label='Learning Rate')\n",
    "    ax2.set_ylabel('Learning Rate')\n",
    "\n",
    "    # Set the y-axis formatter for ax2 to exponential notation\n",
    "    ax2.yaxis.set_major_formatter(ticker.ScalarFormatter(useMathText=True))\n",
    "    ax2.yaxis.offsetText.set_visible(True)\n",
    "\n",
    "    fig.suptitle('Training and Validation RMSE, along with Learning Rates')\n",
    "    ax1.set_title('BiDirectional GRUs')\n",
    "\n",
    "    ax1.legend(loc='lower left')\n",
    "    ax2.legend(loc='upper right', bbox_to_anchor=(2, 2))\n",
    "    plt.legend()\n",
    "    plt.show()"
   ]
  },
  {
   "cell_type": "code",
   "execution_count": 71,
   "id": "3a2ba763-8bf4-448c-ac33-c276ed01129a",
   "metadata": {},
   "outputs": [
    {
     "data": {
      "image/png": "[encoded data removed]",
      "text/plain": [
       "<Figure size 1300x800 with 2 Axes>"
      ]
     },
     "metadata": {},
     "output_type": "display_data"
    }
   ],
   "source": [
    "plot_train_rmse(model_gru_1_history_rerun)"
   ]
  },
  {
   "cell_type": "code",
   "execution_count": 160,
   "id": "0772a2ff-0cf7-427e-86e4-f3e6ecdcb662",
   "metadata": {},
   "outputs": [
    {
     "name": "stdout",
     "output_type": "stream",
     "text": [
      "25/25 [==============================] - 4s 179ms/step - loss: 0.5978 - mcrmse: 0.5958\n"
     ]
    },
    {
     "data": {
      "text/plain": [
       "[0.5978489518165588, 0.5958216190338135]"
      ]
     },
     "execution_count": 160,
     "metadata": {},
     "output_type": "execute_result"
    }
   ],
   "source": [
    "model_gru_1.evaluate(X_test, Y_test)"
   ]
  },
  {
   "cell_type": "markdown",
   "id": "556cdf29-cfca-4ba8-bd24-3fd5e7785650",
   "metadata": {
    "jp-MarkdownHeadingCollapsed": true,
    "tags": []
   },
   "source": [
    "----\n",
    "## MODEL 2: Removing Pooling"
   ]
  },
  {
   "cell_type": "code",
   "execution_count": 23,
   "id": "3d4904c9-7434-421c-9747-0b5ac8d75222",
   "metadata": {},
   "outputs": [
    {
     "name": "stdout",
     "output_type": "stream",
     "text": [
      "Model: \"model_2\"\n",
      "_________________________________________________________________\n",
      " Layer (type)                Output Shape              Param #   \n",
      "=================================================================\n",
      " input_3 (InputLayer)        [(None, 1000)]            0         \n",
      "                                                                 \n",
      " embedding_2 (Embedding)     (None, 1000, 100)         700200    \n",
      "                                                                 \n",
      " spatial_dropout1d_2 (Spatia  (None, 1000, 100)        0         \n",
      " lDropout1D)                                                     \n",
      "                                                                 \n",
      " bidirectional_2 (Bidirectio  (None, 1000, 128)        63744     \n",
      " nal)                                                            \n",
      "                                                                 \n",
      " flatten_2 (Flatten)         (None, 128000)            0         \n",
      "                                                                 \n",
      " dense_10 (Dense)            (None, 128)               16384128  \n",
      "                                                                 \n",
      " dense_11 (Dense)            (None, 64)                8256      \n",
      "                                                                 \n",
      " batch_normalization_8 (Batc  (None, 64)               256       \n",
      " hNormalization)                                                 \n",
      "                                                                 \n",
      " dense_12 (Dense)            (None, 32)                2080      \n",
      "                                                                 \n",
      " batch_normalization_9 (Batc  (None, 32)               128       \n",
      " hNormalization)                                                 \n",
      "                                                                 \n",
      " dense_13 (Dense)            (None, 16)                528       \n",
      "                                                                 \n",
      " batch_normalization_10 (Bat  (None, 16)               64        \n",
      " chNormalization)                                                \n",
      "                                                                 \n",
      " dense_14 (Dense)            (None, 6)                 102       \n",
      "                                                                 \n",
      "=================================================================\n",
      "Total params: 17,159,486\n",
      "Trainable params: 17,159,262\n",
      "Non-trainable params: 224\n",
      "_________________________________________________________________\n",
      "None\n"
     ]
    }
   ],
   "source": [
    "inputs = Input(shape=(sequence_length, ))\n",
    "\n",
    "x = Embedding(num_tokens, embedding_dim, weights=[embedding_matrix])(inputs)\n",
    "x = SpatialDropout1D(0.2)(x)\n",
    "x = Bidirectional(GRU(gru_dims, return_sequences=True))(x)\n",
    "x = Flatten()(x)\n",
    "\n",
    "x = Dense(128, activation = 'relu')(x)\n",
    "x = Dense(64, activation = 'relu')(x)\n",
    "x = BatchNormalization()(x)\n",
    "x = Dense(32, activation = 'relu')(x)\n",
    "x = BatchNormalization()(x)\n",
    "x = Dense(16, activation = 'relu')(x)\n",
    "x = BatchNormalization()(x)\n",
    "outputs = Dense(6, activation = 'linear')(x)\n",
    "\n",
    "model_gru_2 = Model(inputs=inputs, outputs=outputs)\n",
    "model_gru_2.compile(loss = mcrmse, optimizer='adam', metrics = mcrmse)\n",
    "\n",
    "print(model_gru_2.summary())"
   ]
  },
  {
   "cell_type": "code",
   "execution_count": 25,
   "id": "a193af5c-55d2-4442-872b-93ddc55adb55",
   "metadata": {},
   "outputs": [
    {
     "name": "stdout",
     "output_type": "stream",
     "text": [
      "Epoch 1/30\n",
      "40/40 [==============================] - ETA: 0s - loss: 3.1797 - mcrmse: 3.1688WARNING:tensorflow:Can save best model only with val_mean_squared_error available, skipping.\n",
      "40/40 [==============================] - 37s 803ms/step - loss: 3.1797 - mcrmse: 3.1688 - val_loss: 2.6814 - val_mcrmse: 2.6801 - lr: 0.0010\n",
      "Epoch 2/30\n",
      "40/40 [==============================] - ETA: 0s - loss: 3.0113 - mcrmse: 3.0039WARNING:tensorflow:Can save best model only with val_mean_squared_error available, skipping.\n",
      "40/40 [==============================] - 35s 871ms/step - loss: 3.0113 - mcrmse: 3.0039 - val_loss: 2.6151 - val_mcrmse: 2.6159 - lr: 0.0010\n",
      "Epoch 3/30\n",
      "40/40 [==============================] - ETA: 0s - loss: 2.8218 - mcrmse: 2.8182WARNING:tensorflow:Can save best model only with val_mean_squared_error available, skipping.\n",
      "40/40 [==============================] - 30s 736ms/step - loss: 2.8218 - mcrmse: 2.8182 - val_loss: 2.6055 - val_mcrmse: 2.6067 - lr: 0.0010\n",
      "Epoch 4/30\n",
      "40/40 [==============================] - ETA: 0s - loss: 2.5200 - mcrmse: 2.5178WARNING:tensorflow:Can save best model only with val_mean_squared_error available, skipping.\n",
      "40/40 [==============================] - 31s 784ms/step - loss: 2.5200 - mcrmse: 2.5178 - val_loss: 2.2531 - val_mcrmse: 2.2544 - lr: 0.0010\n",
      "Epoch 5/30\n",
      "40/40 [==============================] - ETA: 0s - loss: 2.0877 - mcrmse: 2.0801WARNING:tensorflow:Can save best model only with val_mean_squared_error available, skipping.\n",
      "40/40 [==============================] - 34s 863ms/step - loss: 2.0877 - mcrmse: 2.0801 - val_loss: 1.9845 - val_mcrmse: 1.9852 - lr: 0.0010\n",
      "Epoch 6/30\n",
      "40/40 [==============================] - ETA: 0s - loss: 1.5480 - mcrmse: 1.5393WARNING:tensorflow:Can save best model only with val_mean_squared_error available, skipping.\n",
      "40/40 [==============================] - 33s 836ms/step - loss: 1.5480 - mcrmse: 1.5393 - val_loss: 1.1477 - val_mcrmse: 1.1487 - lr: 0.0010\n",
      "Epoch 7/30\n",
      "40/40 [==============================] - ETA: 0s - loss: 1.0254 - mcrmse: 1.0210WARNING:tensorflow:Can save best model only with val_mean_squared_error available, skipping.\n",
      "40/40 [==============================] - 36s 899ms/step - loss: 1.0254 - mcrmse: 1.0210 - val_loss: 4.4644 - val_mcrmse: 4.4733 - lr: 0.0010\n",
      "Epoch 8/30\n",
      "40/40 [==============================] - ETA: 0s - loss: 0.7019 - mcrmse: 0.6990\n",
      "Epoch 8: ReduceLROnPlateau reducing learning rate to 0.0002500000118743628.\n",
      "WARNING:tensorflow:Can save best model only with val_mean_squared_error available, skipping.\n",
      "40/40 [==============================] - 29s 721ms/step - loss: 0.7019 - mcrmse: 0.6990 - val_loss: 1.9382 - val_mcrmse: 1.9379 - lr: 0.0010\n",
      "Epoch 9/30\n",
      "40/40 [==============================] - ETA: 0s - loss: 0.5727 - mcrmse: 0.5722WARNING:tensorflow:Can save best model only with val_mean_squared_error available, skipping.\n",
      "40/40 [==============================] - 31s 780ms/step - loss: 0.5727 - mcrmse: 0.5722 - val_loss: 1.3286 - val_mcrmse: 1.3287 - lr: 2.5000e-04\n",
      "Epoch 10/30\n",
      "40/40 [==============================] - ETA: 0s - loss: 0.5328 - mcrmse: 0.5330WARNING:tensorflow:Can save best model only with val_mean_squared_error available, skipping.\n",
      "40/40 [==============================] - 34s 845ms/step - loss: 0.5328 - mcrmse: 0.5330 - val_loss: 0.8817 - val_mcrmse: 0.8815 - lr: 2.5000e-04\n",
      "Epoch 11/30\n",
      "40/40 [==============================] - ETA: 0s - loss: 0.5020 - mcrmse: 0.5040WARNING:tensorflow:Can save best model only with val_mean_squared_error available, skipping.\n",
      "40/40 [==============================] - 33s 837ms/step - loss: 0.5020 - mcrmse: 0.5040 - val_loss: 0.7324 - val_mcrmse: 0.7322 - lr: 2.5000e-04\n",
      "Epoch 12/30\n",
      "40/40 [==============================] - ETA: 0s - loss: 0.4850 - mcrmse: 0.4891WARNING:tensorflow:Can save best model only with val_mean_squared_error available, skipping.\n",
      "40/40 [==============================] - 34s 858ms/step - loss: 0.4850 - mcrmse: 0.4891 - val_loss: 0.6706 - val_mcrmse: 0.6705 - lr: 2.5000e-04\n",
      "Epoch 13/30\n",
      "40/40 [==============================] - ETA: 0s - loss: 0.4698 - mcrmse: 0.4732WARNING:tensorflow:Can save best model only with val_mean_squared_error available, skipping.\n",
      "40/40 [==============================] - 30s 738ms/step - loss: 0.4698 - mcrmse: 0.4732 - val_loss: 0.6747 - val_mcrmse: 0.6739 - lr: 2.5000e-04\n",
      "Epoch 14/30\n",
      "40/40 [==============================] - ETA: 0s - loss: 0.4613 - mcrmse: 0.4685WARNING:tensorflow:Can save best model only with val_mean_squared_error available, skipping.\n",
      "40/40 [==============================] - 30s 761ms/step - loss: 0.4613 - mcrmse: 0.4685 - val_loss: 0.6640 - val_mcrmse: 0.6641 - lr: 2.5000e-04\n",
      "Epoch 15/30\n",
      "40/40 [==============================] - ETA: 0s - loss: 0.4435 - mcrmse: 0.4444WARNING:tensorflow:Can save best model only with val_mean_squared_error available, skipping.\n",
      "40/40 [==============================] - 35s 865ms/step - loss: 0.4435 - mcrmse: 0.4444 - val_loss: 0.6376 - val_mcrmse: 0.6366 - lr: 2.5000e-04\n",
      "Epoch 16/30\n",
      "40/40 [==============================] - ETA: 0s - loss: 0.4324 - mcrmse: 0.4328WARNING:tensorflow:Can save best model only with val_mean_squared_error available, skipping.\n",
      "40/40 [==============================] - 29s 724ms/step - loss: 0.4324 - mcrmse: 0.4328 - val_loss: 0.6404 - val_mcrmse: 0.6395 - lr: 2.5000e-04\n",
      "Epoch 17/30\n",
      "40/40 [==============================] - ETA: 0s - loss: 0.4172 - mcrmse: 0.4220\n",
      "Epoch 17: ReduceLROnPlateau reducing learning rate to 6.25000029685907e-05.\n",
      "WARNING:tensorflow:Can save best model only with val_mean_squared_error available, skipping.\n",
      "40/40 [==============================] - 31s 780ms/step - loss: 0.4172 - mcrmse: 0.4220 - val_loss: 0.6988 - val_mcrmse: 0.6969 - lr: 2.5000e-04\n",
      "Epoch 18/30\n",
      "40/40 [==============================] - ETA: 0s - loss: 0.4118 - mcrmse: 0.4312WARNING:tensorflow:Can save best model only with val_mean_squared_error available, skipping.\n",
      "40/40 [==============================] - 34s 862ms/step - loss: 0.4118 - mcrmse: 0.4312 - val_loss: 0.6410 - val_mcrmse: 0.6407 - lr: 6.2500e-05\n",
      "Epoch 19/30\n",
      "40/40 [==============================] - ETA: 0s - loss: 0.4093 - mcrmse: 0.4221WARNING:tensorflow:Can save best model only with val_mean_squared_error available, skipping.\n",
      "40/40 [==============================] - 34s 841ms/step - loss: 0.4093 - mcrmse: 0.4221 - val_loss: 0.6349 - val_mcrmse: 0.6345 - lr: 6.2500e-05\n",
      "Epoch 20/30\n",
      "40/40 [==============================] - ETA: 0s - loss: 0.4003 - mcrmse: 0.4045WARNING:tensorflow:Can save best model only with val_mean_squared_error available, skipping.\n",
      "40/40 [==============================] - 35s 873ms/step - loss: 0.4003 - mcrmse: 0.4045 - val_loss: 0.6295 - val_mcrmse: 0.6291 - lr: 6.2500e-05\n",
      "Epoch 21/30\n",
      "40/40 [==============================] - ETA: 0s - loss: 0.4002 - mcrmse: 0.4023WARNING:tensorflow:Can save best model only with val_mean_squared_error available, skipping.\n",
      "40/40 [==============================] - 29s 716ms/step - loss: 0.4002 - mcrmse: 0.4023 - val_loss: 0.6240 - val_mcrmse: 0.6235 - lr: 6.2500e-05\n",
      "Epoch 22/30\n",
      "40/40 [==============================] - ETA: 0s - loss: 0.3977 - mcrmse: 0.4074WARNING:tensorflow:Can save best model only with val_mean_squared_error available, skipping.\n",
      "40/40 [==============================] - 31s 782ms/step - loss: 0.3977 - mcrmse: 0.4074 - val_loss: 0.6268 - val_mcrmse: 0.6257 - lr: 6.2500e-05\n",
      "Epoch 23/30\n",
      "40/40 [==============================] - ETA: 0s - loss: 0.3979 - mcrmse: 0.4028\n",
      "Epoch 23: ReduceLROnPlateau reducing learning rate to 1.5625000742147677e-05.\n",
      "WARNING:tensorflow:Can save best model only with val_mean_squared_error available, skipping.\n",
      "40/40 [==============================] - 34s 839ms/step - loss: 0.3979 - mcrmse: 0.4028 - val_loss: 0.6730 - val_mcrmse: 0.6715 - lr: 6.2500e-05\n",
      "Epoch 24/30\n",
      "40/40 [==============================] - ETA: 0s - loss: 0.3977 - mcrmse: 0.4040WARNING:tensorflow:Can save best model only with val_mean_squared_error available, skipping.\n",
      "40/40 [==============================] - 34s 853ms/step - loss: 0.3977 - mcrmse: 0.4040 - val_loss: 0.6320 - val_mcrmse: 0.6310 - lr: 1.5625e-05\n",
      "Epoch 25/30\n",
      "40/40 [==============================] - ETA: 0s - loss: 0.3930 - mcrmse: 0.3959WARNING:tensorflow:Can save best model only with val_mean_squared_error available, skipping.\n",
      "40/40 [==============================] - 38s 942ms/step - loss: 0.3930 - mcrmse: 0.3959 - val_loss: 0.6241 - val_mcrmse: 0.6232 - lr: 1.5625e-05\n",
      "Epoch 26/30\n",
      "40/40 [==============================] - ETA: 0s - loss: 0.3943 - mcrmse: 0.3946WARNING:tensorflow:Can save best model only with val_mean_squared_error available, skipping.\n",
      "40/40 [==============================] - 40s 1s/step - loss: 0.3943 - mcrmse: 0.3946 - val_loss: 0.6221 - val_mcrmse: 0.6214 - lr: 1.5625e-05\n",
      "Epoch 27/30\n",
      "40/40 [==============================] - ETA: 0s - loss: 0.3923 - mcrmse: 0.3966WARNING:tensorflow:Can save best model only with val_mean_squared_error available, skipping.\n",
      "40/40 [==============================] - 42s 1s/step - loss: 0.3923 - mcrmse: 0.3966 - val_loss: 0.6201 - val_mcrmse: 0.6194 - lr: 1.5625e-05\n",
      "Epoch 28/30\n",
      "40/40 [==============================] - ETA: 0s - loss: 0.3891 - mcrmse: 0.3879WARNING:tensorflow:Can save best model only with val_mean_squared_error available, skipping.\n",
      "40/40 [==============================] - 36s 896ms/step - loss: 0.3891 - mcrmse: 0.3879 - val_loss: 0.6214 - val_mcrmse: 0.6207 - lr: 1.5625e-05\n",
      "Epoch 29/30\n",
      "40/40 [==============================] - ETA: 0s - loss: 0.3872 - mcrmse: 0.3858WARNING:tensorflow:Can save best model only with val_mean_squared_error available, skipping.\n",
      "40/40 [==============================] - 39s 971ms/step - loss: 0.3872 - mcrmse: 0.3858 - val_loss: 0.6183 - val_mcrmse: 0.6176 - lr: 1.5625e-05\n",
      "Epoch 30/30\n",
      "40/40 [==============================] - ETA: 0s - loss: 0.3890 - mcrmse: 0.3894WARNING:tensorflow:Can save best model only with val_mean_squared_error available, skipping.\n",
      "40/40 [==============================] - 42s 1s/step - loss: 0.3890 - mcrmse: 0.3894 - val_loss: 0.6187 - val_mcrmse: 0.6179 - lr: 1.5625e-05\n",
      "GRU Glove model train time = 1019 seconds\n"
     ]
    }
   ],
   "source": [
    "from tensorflow.keras.callbacks import *\n",
    "import os\n",
    "reduce_lr = ReduceLROnPlateau(monitor = 'val_mcrmse', factor = 0.25, patience = 2, verbose = 1)\n",
    "earlystop = EarlyStopping(monitor = 'val_mcrmse',  mode=\"min\", min_delta = 0, patience = 25,verbose = 1)\n",
    "\n",
    "filepath=\"/home/jupyter/automatic-essay-grading-DL/05_Model_files'/gru_glove_weights_best_2\"\n",
    "checkpoint = ModelCheckpoint(filepath, monitor='val_mean_squared_error',\n",
    "                             verbose=1, save_best_only=True, save_weights_only=False, overwrite=True, mode='min')\n",
    "\n",
    "#only save model if it reduces MSE\n",
    "callbacks = [reduce_lr,earlystop,checkpoint]\n",
    "\n",
    "t1 = time.time()\n",
    "model_gru_2_history = model_gru_2.fit(X_train, Y_train,\n",
    "                    batch_size=batch_size, \n",
    "                    epochs=num_epochs,\n",
    "                    validation_split=0.2,\n",
    "                    callbacks = callbacks,\n",
    "                    verbose=1)\n",
    "t2 = time.time()\n",
    "print(\"GRU Glove model train time = %d seconds\" %(t2-t1))"
   ]
  },
  {
   "cell_type": "code",
   "execution_count": 28,
   "id": "96e03865-5210-4d37-b527-47a758843f6f",
   "metadata": {},
   "outputs": [
    {
     "data": {
      "image/png": "[encoded data removed]",
      "text/plain": [
       "<Figure size 1300x800 with 1 Axes>"
      ]
     },
     "metadata": {},
     "output_type": "display_data"
    }
   ],
   "source": [
    "plot_train_rmse(model_gru_2_history)"
   ]
  },
  {
   "cell_type": "code",
   "execution_count": 29,
   "id": "ae500f9f-099a-409e-89cb-f1e3b8c747fb",
   "metadata": {},
   "outputs": [
    {
     "name": "stdout",
     "output_type": "stream",
     "text": [
      "25/25 [==============================] - 5s 203ms/step - loss: 0.6299 - mcrmse: 0.6277\n"
     ]
    },
    {
     "data": {
      "text/plain": [
       "[0.6299134492874146, 0.627717912197113]"
      ]
     },
     "execution_count": 29,
     "metadata": {},
     "output_type": "execute_result"
    }
   ],
   "source": [
    "model_gru_2.evaluate(X_test, Y_test)"
   ]
  },
  {
   "cell_type": "code",
   "execution_count": 30,
   "id": "f4008d73-e9c2-4d68-abb4-d65255197a06",
   "metadata": {},
   "outputs": [],
   "source": [
    "model_gru_2.save('model_gru_2.h5')"
   ]
  },
  {
   "cell_type": "code",
   "execution_count": 32,
   "id": "e06fe836-e20b-47d6-9709-85fada67c96e",
   "metadata": {},
   "outputs": [],
   "source": [
    "def save_epochs(history):\n",
    "    h = history.history\n",
    "    df = pd.DataFrame({'Epochs':list(range(1, len(h['mcrmse']) + 1)), 'RMSE':list(h['mcrmse'])})\n",
    "    return df"
   ]
  },
  {
   "cell_type": "code",
   "execution_count": 33,
   "id": "fde84c43-fd95-4cc4-9959-112aa8740dca",
   "metadata": {},
   "outputs": [],
   "source": [
    "model_gru_2_epochs_df=save_epochs(model_gru_2_history)\n",
    "model_gru_2_epochs_df.to_csv('model_gru_2_epochs_df.csv', index=False)"
   ]
  }
 ],
 "metadata": {
  "environment": {
   "kernel": "python3",
   "name": "tf2-gpu.2-11.m108",
   "type": "gcloud",
   "uri": "gcr.io/deeplearning-platform-release/tf2-gpu.2-11:m108"
  },
  "kernelspec": {
   "display_name": "Python 3 (ipykernel)",
   "language": "python",
   "name": "python3"
  },
  "language_info": {
   "codemirror_mode": {
    "name": "ipython",
    "version": 3
   },
   "file_extension": ".py",
   "mimetype": "text/x-python",
   "name": "python",
   "nbconvert_exporter": "python",
   "pygments_lexer": "ipython3",
   "version": "3.10.10"
  }
 },
 "nbformat": 4,
 "nbformat_minor": 5
}
