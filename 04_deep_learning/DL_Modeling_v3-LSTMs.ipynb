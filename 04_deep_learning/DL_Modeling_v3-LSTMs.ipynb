{
 "cells": [
  {
   "cell_type": "markdown",
   "id": "44359cb2-e602-4a42-9cef-916b43177136",
   "metadata": {},
   "source": [
    "# **Deep Learning NB3: LSTMs (Along with CNNs)**\n",
    "\n",
    "#### Final Model to be prioritized\n",
    "MODEL 3 in the notebook\n",
    "\n",
    "-------------\n",
    "#### Overview\n",
    "* LSTMs for text regression\n",
    "* Split this data set into two sets - one for training our DL model, and one for evaluation  \n",
    "* Use Keras to create an LSTM with multiple layers. We will train this model on CPU environments \n",
    "* Evaluate model performance by comparing training and validation scores"
   ]
  },
  {
   "cell_type": "markdown",
   "id": "a5fffa40-893f-4b28-a114-dedcb4f1b131",
   "metadata": {
    "jp-MarkdownHeadingCollapsed": true,
    "tags": []
   },
   "source": [
    "---\n",
    "## Importing Libraries"
   ]
  },
  {
   "cell_type": "code",
   "execution_count": 9,
   "id": "7dfa75c7-fefa-4918-a8f5-42f1796ee7eb",
   "metadata": {},
   "outputs": [
    {
     "name": "stdout",
     "output_type": "stream",
     "text": [
      "16\n"
     ]
    }
   ],
   "source": [
    "import numpy as np\n",
    "import pandas as pd\n",
    "import os, re, time\n",
    "import matplotlib.pyplot as plt\n",
    "\n",
    "from sklearn.model_selection import train_test_split\n",
    "from sklearn import preprocessing\n",
    "\n",
    "import warnings\n",
    "warnings.filterwarnings(\"ignore\", category=FutureWarning)\n",
    "warnings.filterwarnings(\"ignore\", category=DeprecationWarning)\n",
    "\n",
    "from multiprocessing import cpu_count\n",
    "print(cpu_count())"
   ]
  },
  {
   "cell_type": "code",
   "execution_count": 10,
   "id": "f216e61a-b8fc-43ed-941f-cee9694ec17d",
   "metadata": {},
   "outputs": [
    {
     "name": "stdout",
     "output_type": "stream",
     "text": [
      "Requirement already satisfied: pandarallel in /opt/conda/lib/python3.10/site-packages (1.6.5)\n",
      "Requirement already satisfied: dill>=0.3.1 in /opt/conda/lib/python3.10/site-packages (from pandarallel) (0.3.1.1)\n",
      "Requirement already satisfied: pandas>=1 in /opt/conda/lib/python3.10/site-packages (from pandarallel) (1.5.3)\n",
      "Requirement already satisfied: psutil in /opt/conda/lib/python3.10/site-packages (from pandarallel) (5.9.3)\n",
      "Requirement already satisfied: python-dateutil>=2.8.1 in /opt/conda/lib/python3.10/site-packages (from pandas>=1->pandarallel) (2.8.2)\n",
      "Requirement already satisfied: pytz>=2020.1 in /opt/conda/lib/python3.10/site-packages (from pandas>=1->pandarallel) (2023.3)\n",
      "Requirement already satisfied: numpy>=1.21.0 in /opt/conda/lib/python3.10/site-packages (from pandas>=1->pandarallel) (1.23.5)\n",
      "Requirement already satisfied: six>=1.5 in /opt/conda/lib/python3.10/site-packages (from python-dateutil>=2.8.1->pandas>=1->pandarallel) (1.16.0)\n",
      "Note: you may need to restart the kernel to use updated packages.\n",
      "Available CPUs: 16\n",
      "INFO: Pandarallel will run on 15 workers.\n",
      "INFO: Pandarallel will use standard multiprocessing data transfer (pipe) to transfer data between the main process and workers.\n"
     ]
    }
   ],
   "source": [
    "%pip install pandarallel\n",
    "import multiprocessing\n",
    "\n",
    "num_processors = multiprocessing.cpu_count()\n",
    "print(f'Available CPUs: {num_processors}')\n",
    "\n",
    "import pandarallel\n",
    "from pandarallel import pandarallel\n",
    "pandarallel.initialize(nb_workers=num_processors-1, use_memory_fs=False)"
   ]
  },
  {
   "cell_type": "code",
   "execution_count": 11,
   "id": "6889b4cb-423f-4e61-a0c4-454ec02e27e7",
   "metadata": {
    "tags": []
   },
   "outputs": [],
   "source": [
    "import tensorflow as tf\n",
    "from tensorflow import keras\n",
    "\n",
    "\n",
    "from tensorflow.keras.wrappers.scikit_learn import KerasClassifier\n",
    "from tensorflow.keras.preprocessing.text import Tokenizer, text_to_word_sequence\n",
    "from tensorflow.keras.preprocessing import sequence\n",
    "from tensorflow.keras.layers import Dense, Input, LSTM, Embedding, Dropout, Activation, GRU, Convolution1D, Flatten, LeakyReLU\n",
    "from tensorflow.keras.layers import Bidirectional, GlobalMaxPool1D, GlobalAveragePooling1D, MaxPooling1D, GlobalMaxPooling1D\n",
    "from tensorflow.keras.layers import Concatenate, BatchNormalization, Attention\n",
    "\n",
    "from tensorflow.keras.models import Model, Sequential\n",
    "from tensorflow.keras import initializers, regularizers, constraints, optimizers, layers\n",
    "from tensorflow.keras import callbacks\n",
    "from tensorflow.keras.models import Sequential\n",
    "from tensorflow.keras.wrappers.scikit_learn import KerasClassifier\n",
    "from tensorflow.keras.callbacks import EarlyStopping, ModelCheckpoint\n",
    "\n",
    "from tensorflow.keras.layers.experimental.preprocessing import TextVectorization\n",
    "\n",
    "\n",
    "from keras.models import load_model\n",
    "\n",
    "from tensorflow.keras.datasets import imdb\n",
    "\n",
    "from tensorflow.keras.utils import model_to_dot"
   ]
  },
  {
   "cell_type": "code",
   "execution_count": 12,
   "id": "31ba962d-91e2-4109-acb2-c67985f7c113",
   "metadata": {},
   "outputs": [],
   "source": [
    "from tensorflow.keras.optimizers import Adam"
   ]
  },
  {
   "cell_type": "code",
   "execution_count": 13,
   "id": "ec2b5338-42e4-4a0f-9333-2ddbc1f6860e",
   "metadata": {},
   "outputs": [
    {
     "data": {
      "text/plain": [
       "[PhysicalDevice(name='/physical_device:CPU:0', device_type='CPU')]"
      ]
     },
     "execution_count": 13,
     "metadata": {},
     "output_type": "execute_result"
    }
   ],
   "source": [
    "tf.config.list_physical_devices()"
   ]
  },
  {
   "cell_type": "markdown",
   "id": "95ba53a6-a47f-4123-9f68-b34654dbeab3",
   "metadata": {
    "jp-MarkdownHeadingCollapsed": true,
    "tags": []
   },
   "source": [
    "---\n",
    "## Importing Data"
   ]
  },
  {
   "cell_type": "code",
   "execution_count": 15,
   "id": "ced311ec-b0f9-4d70-87a9-cc38a8193cea",
   "metadata": {},
   "outputs": [
    {
     "data": {
      "text/html": [
       "<div>\n",
       "<style scoped>\n",
       "    .dataframe tbody tr th:only-of-type {\n",
       "        vertical-align: middle;\n",
       "    }\n",
       "\n",
       "    .dataframe tbody tr th {\n",
       "        vertical-align: top;\n",
       "    }\n",
       "\n",
       "    .dataframe thead th {\n",
       "        text-align: right;\n",
       "    }\n",
       "</style>\n",
       "<table border=\"1\" class=\"dataframe\">\n",
       "  <thead>\n",
       "    <tr style=\"text-align: right;\">\n",
       "      <th></th>\n",
       "      <th>text_id</th>\n",
       "      <th>full_text</th>\n",
       "      <th>cohesion</th>\n",
       "      <th>syntax</th>\n",
       "      <th>vocabulary</th>\n",
       "      <th>phraseology</th>\n",
       "      <th>grammar</th>\n",
       "      <th>conventions</th>\n",
       "      <th>cleaned_tokenize_text</th>\n",
       "      <th>corrected_text</th>\n",
       "      <th>...</th>\n",
       "      <th>sent_count</th>\n",
       "      <th>sent_len</th>\n",
       "      <th>mistakes</th>\n",
       "      <th>num_mistakes</th>\n",
       "      <th>word_count</th>\n",
       "      <th>noun_count</th>\n",
       "      <th>verb_count</th>\n",
       "      <th>adjective_count</th>\n",
       "      <th>adverb_count</th>\n",
       "      <th>Score_Category</th>\n",
       "    </tr>\n",
       "  </thead>\n",
       "  <tbody>\n",
       "    <tr>\n",
       "      <th>0</th>\n",
       "      <td>0016926B079C</td>\n",
       "      <td>I think that students would benefit from learn...</td>\n",
       "      <td>3.5</td>\n",
       "      <td>3.5</td>\n",
       "      <td>3.0</td>\n",
       "      <td>3.0</td>\n",
       "      <td>4.0</td>\n",
       "      <td>3.0</td>\n",
       "      <td>think students would benefit learning home won...</td>\n",
       "      <td>think students would benefit learning home won...</td>\n",
       "      <td>...</td>\n",
       "      <td>18</td>\n",
       "      <td>14.500000</td>\n",
       "      <td>NaN</td>\n",
       "      <td>0</td>\n",
       "      <td>261</td>\n",
       "      <td>61</td>\n",
       "      <td>25</td>\n",
       "      <td>25</td>\n",
       "      <td>5</td>\n",
       "      <td>medium</td>\n",
       "    </tr>\n",
       "    <tr>\n",
       "      <th>1</th>\n",
       "      <td>0022683E9EA5</td>\n",
       "      <td>When a problem is a change you have to let it ...</td>\n",
       "      <td>2.5</td>\n",
       "      <td>2.5</td>\n",
       "      <td>3.0</td>\n",
       "      <td>2.0</td>\n",
       "      <td>2.0</td>\n",
       "      <td>2.5</td>\n",
       "      <td>problem change let best matter happening chang...</td>\n",
       "      <td>problem change let best matter happening chang...</td>\n",
       "      <td>...</td>\n",
       "      <td>14</td>\n",
       "      <td>38.071429</td>\n",
       "      <td>NaN</td>\n",
       "      <td>0</td>\n",
       "      <td>533</td>\n",
       "      <td>100</td>\n",
       "      <td>56</td>\n",
       "      <td>37</td>\n",
       "      <td>9</td>\n",
       "      <td>medium</td>\n",
       "    </tr>\n",
       "    <tr>\n",
       "      <th>2</th>\n",
       "      <td>00299B378633</td>\n",
       "      <td>Dear, Principal\\n\\nIf u change the school poli...</td>\n",
       "      <td>3.0</td>\n",
       "      <td>3.5</td>\n",
       "      <td>3.0</td>\n",
       "      <td>3.0</td>\n",
       "      <td>3.0</td>\n",
       "      <td>2.5</td>\n",
       "      <td>dear principal change school policy grade aver...</td>\n",
       "      <td>dear principal change school policy grade aver...</td>\n",
       "      <td>...</td>\n",
       "      <td>19</td>\n",
       "      <td>16.842105</td>\n",
       "      <td>NaN</td>\n",
       "      <td>0</td>\n",
       "      <td>320</td>\n",
       "      <td>58</td>\n",
       "      <td>20</td>\n",
       "      <td>33</td>\n",
       "      <td>5</td>\n",
       "      <td>medium</td>\n",
       "    </tr>\n",
       "    <tr>\n",
       "      <th>3</th>\n",
       "      <td>003885A45F42</td>\n",
       "      <td>The best time in life is when you become yours...</td>\n",
       "      <td>4.5</td>\n",
       "      <td>4.5</td>\n",
       "      <td>4.5</td>\n",
       "      <td>4.5</td>\n",
       "      <td>4.0</td>\n",
       "      <td>5.0</td>\n",
       "      <td>best time life become agree greatest accomplis...</td>\n",
       "      <td>best time life become agree greatest accomplis...</td>\n",
       "      <td>...</td>\n",
       "      <td>36</td>\n",
       "      <td>20.222222</td>\n",
       "      <td>NaN</td>\n",
       "      <td>0</td>\n",
       "      <td>728</td>\n",
       "      <td>106</td>\n",
       "      <td>73</td>\n",
       "      <td>62</td>\n",
       "      <td>22</td>\n",
       "      <td>high</td>\n",
       "    </tr>\n",
       "    <tr>\n",
       "      <th>4</th>\n",
       "      <td>0049B1DF5CCC</td>\n",
       "      <td>Small act of kindness can impact in other peop...</td>\n",
       "      <td>2.5</td>\n",
       "      <td>3.0</td>\n",
       "      <td>3.0</td>\n",
       "      <td>3.0</td>\n",
       "      <td>2.5</td>\n",
       "      <td>2.5</td>\n",
       "      <td>small act kindness impact people change people...</td>\n",
       "      <td>small act kindness impact people change people...</td>\n",
       "      <td>...</td>\n",
       "      <td>3</td>\n",
       "      <td>78.000000</td>\n",
       "      <td>kindess homeles triying greate kindess wount t...</td>\n",
       "      <td>11</td>\n",
       "      <td>234</td>\n",
       "      <td>58</td>\n",
       "      <td>21</td>\n",
       "      <td>18</td>\n",
       "      <td>5</td>\n",
       "      <td>medium</td>\n",
       "    </tr>\n",
       "  </tbody>\n",
       "</table>\n",
       "<p>5 rows × 21 columns</p>\n",
       "</div>"
      ],
      "text/plain": [
       "        text_id                                          full_text  cohesion  \\\n",
       "0  0016926B079C  I think that students would benefit from learn...       3.5   \n",
       "1  0022683E9EA5  When a problem is a change you have to let it ...       2.5   \n",
       "2  00299B378633  Dear, Principal\\n\\nIf u change the school poli...       3.0   \n",
       "3  003885A45F42  The best time in life is when you become yours...       4.5   \n",
       "4  0049B1DF5CCC  Small act of kindness can impact in other peop...       2.5   \n",
       "\n",
       "   syntax  vocabulary  phraseology  grammar  conventions  \\\n",
       "0     3.5         3.0          3.0      4.0          3.0   \n",
       "1     2.5         3.0          2.0      2.0          2.5   \n",
       "2     3.5         3.0          3.0      3.0          2.5   \n",
       "3     4.5         4.5          4.5      4.0          5.0   \n",
       "4     3.0         3.0          3.0      2.5          2.5   \n",
       "\n",
       "                               cleaned_tokenize_text  \\\n",
       "0  think students would benefit learning home won...   \n",
       "1  problem change let best matter happening chang...   \n",
       "2  dear principal change school policy grade aver...   \n",
       "3  best time life become agree greatest accomplis...   \n",
       "4  small act kindness impact people change people...   \n",
       "\n",
       "                                      corrected_text  ... sent_count  \\\n",
       "0  think students would benefit learning home won...  ...         18   \n",
       "1  problem change let best matter happening chang...  ...         14   \n",
       "2  dear principal change school policy grade aver...  ...         19   \n",
       "3  best time life become agree greatest accomplis...  ...         36   \n",
       "4  small act kindness impact people change people...  ...          3   \n",
       "\n",
       "    sent_len                                           mistakes num_mistakes  \\\n",
       "0  14.500000                                                NaN            0   \n",
       "1  38.071429                                                NaN            0   \n",
       "2  16.842105                                                NaN            0   \n",
       "3  20.222222                                                NaN            0   \n",
       "4  78.000000  kindess homeles triying greate kindess wount t...           11   \n",
       "\n",
       "   word_count  noun_count  verb_count  adjective_count  adverb_count  \\\n",
       "0         261          61          25               25             5   \n",
       "1         533         100          56               37             9   \n",
       "2         320          58          20               33             5   \n",
       "3         728         106          73               62            22   \n",
       "4         234          58          21               18             5   \n",
       "\n",
       "   Score_Category  \n",
       "0          medium  \n",
       "1          medium  \n",
       "2          medium  \n",
       "3            high  \n",
       "4          medium  \n",
       "\n",
       "[5 rows x 21 columns]"
      ]
     },
     "execution_count": 15,
     "metadata": {},
     "output_type": "execute_result"
    }
   ],
   "source": [
    "df_proc=pd.read_csv('../00_gcp_data/preprocessed-essay.csv')\n",
    "df_proc.head()"
   ]
  },
  {
   "cell_type": "code",
   "execution_count": 16,
   "id": "a1e5f217-5e7f-47aa-87e2-2a092c1e55f4",
   "metadata": {},
   "outputs": [
    {
     "data": {
      "text/html": [
       "<div>\n",
       "<style scoped>\n",
       "    .dataframe tbody tr th:only-of-type {\n",
       "        vertical-align: middle;\n",
       "    }\n",
       "\n",
       "    .dataframe tbody tr th {\n",
       "        vertical-align: top;\n",
       "    }\n",
       "\n",
       "    .dataframe thead th {\n",
       "        text-align: right;\n",
       "    }\n",
       "</style>\n",
       "<table border=\"1\" class=\"dataframe\">\n",
       "  <thead>\n",
       "    <tr style=\"text-align: right;\">\n",
       "      <th></th>\n",
       "      <th>corrected_text</th>\n",
       "      <th>lemmatized_text</th>\n",
       "    </tr>\n",
       "  </thead>\n",
       "  <tbody>\n",
       "    <tr>\n",
       "      <th>2759</th>\n",
       "      <td>anyone life shared wisdom experience ask someone important would love share maybe dad mon grandparents tones experience past person shared wisdom experience would father showed respectful adults show work business papers one thing father shared respect adults example father always best child would bad choices like going friends time listen parents got older realized one though serious rejected thought trouble child soon born able talk walk father would make say please thank well listening adults bow entering door greeting father want like younger made sure respectful grandparents shows father gave experience get respected family another thing father shared work business instance past months father showed paper work second job dad count money getting much give back workers times dad would come room teach split money making pay bills days showed showed much money everything made realized need work hard want simple job much gave job pay bills need work hard school shows father really cares future want well life showed wisdom hard like well school closing father taught business process one want business conclusion person showed wisdom experience would father teaching respect adult paper work job showed telling past show mange business older people important shared wisdom experience experience wisdom would share people people</td>\n",
       "      <td>anyone life share wisdom experience ask someone important would love share maybe dad mon grandparent tone experience past person share wisdom experience would father show respectful adult show work business paper one thing father share respect adult example father always best child would bad choice like go friend time listen parent get old realize one though serious reject thought trouble child soon born able talk walk father would make say please thank well listen adult bow enter door greet father want like young make sure respectful grandparent show father give experience get respect family another thing father share work business instance past month father show paper work second job dad count money get much give back worker time dad would come room teach split money make pay bill day show show much money everything make realize need work hard want simple job much give job pay bill need work hard school show father really care future want well life show wisdom hard like well school closing father taught business process one want business conclusion person show wisdom experience would father teach respect adult paper work job show tell past show mange business old people important share wisdom experience experience wisdom would share people people</td>\n",
       "    </tr>\n",
       "    <tr>\n",
       "      <th>192</th>\n",
       "      <td>dear principal honoured write letter pray take time busy schedule read letter hope good also want say happy student school first take stand decision changing school food healthier one say good one thoughtful idea also shows love school appreciate great idea good idea half student allergic reaction food chief cook rather hungry empty stomach incident still goes student might even pass one day secondly get healthier food active brains able function well soon class start however good breakfast even good food begin day sometimes help brain work well also help make brain good position working day work brain also consist contain particular minerals like carbohydrate protein fat supplementary substance also help human growth also help give energy human body lastly changing school food also make student never tried school lunch want try moreover student order food deliver school like school food allergic certain food incident keeps happening school food waste make school loose money therefore end speech saying good nice decision change school food healthier one once hope take time busy schedule read letter</td>\n",
       "      <td>dear principal honour write letter pray take time busy schedule read letter hope good also want say happy student school first take stand decision change school food healthier one say good one thoughtful idea also show love school appreciate great idea good idea half student allergic reaction food chief cook rather hungry empty stomach incident still go student might even pas one day secondly get healthier food active brain able function well soon class start however good breakfast even good food begin day sometimes help brain work well also help make brain good position work day work brain also consist contain particular mineral like carbohydrate protein fat supplementary substance also help human growth also help give energy human body lastly change school food also make student never try school lunch want try moreover student order food deliver school like school food allergic certain food incident keep happen school food waste make school loose money therefore end speech say good nice decision change school food healthier one once hope take time busy schedule read letter</td>\n",
       "    </tr>\n",
       "  </tbody>\n",
       "</table>\n",
       "</div>"
      ],
      "text/plain": [
       "                                                                                                                                                                                                                                                                                                                                                                                                                                                                                                                                                                                                                                                                                                                                                                                                                                                                                                                                                                                                                                                                                                                                                                                                                                                                                                                                                                                      corrected_text  \\\n",
       "2759  anyone life shared wisdom experience ask someone important would love share maybe dad mon grandparents tones experience past person shared wisdom experience would father showed respectful adults show work business papers one thing father shared respect adults example father always best child would bad choices like going friends time listen parents got older realized one though serious rejected thought trouble child soon born able talk walk father would make say please thank well listening adults bow entering door greeting father want like younger made sure respectful grandparents shows father gave experience get respected family another thing father shared work business instance past months father showed paper work second job dad count money getting much give back workers times dad would come room teach split money making pay bills days showed showed much money everything made realized need work hard want simple job much gave job pay bills need work hard school shows father really cares future want well life showed wisdom hard like well school closing father taught business process one want business conclusion person showed wisdom experience would father teaching respect adult paper work job showed telling past show mange business older people important shared wisdom experience experience wisdom would share people people   \n",
       "192                                                                                                                                                                                                                                      dear principal honoured write letter pray take time busy schedule read letter hope good also want say happy student school first take stand decision changing school food healthier one say good one thoughtful idea also shows love school appreciate great idea good idea half student allergic reaction food chief cook rather hungry empty stomach incident still goes student might even pass one day secondly get healthier food active brains able function well soon class start however good breakfast even good food begin day sometimes help brain work well also help make brain good position working day work brain also consist contain particular minerals like carbohydrate protein fat supplementary substance also help human growth also help give energy human body lastly changing school food also make student never tried school lunch want try moreover student order food deliver school like school food allergic certain food incident keeps happening school food waste make school loose money therefore end speech saying good nice decision change school food healthier one once hope take time busy schedule read letter   \n",
       "\n",
       "                                                                                                                                                                                                                                                                                                                                                                                                                                                                                                                                                                                                                                                                                                                                                                                                                                                                                                                                                                                                                                                                                                                                                                                                                                                                                                           lemmatized_text  \n",
       "2759  anyone life share wisdom experience ask someone important would love share maybe dad mon grandparent tone experience past person share wisdom experience would father show respectful adult show work business paper one thing father share respect adult example father always best child would bad choice like go friend time listen parent get old realize one though serious reject thought trouble child soon born able talk walk father would make say please thank well listen adult bow enter door greet father want like young make sure respectful grandparent show father give experience get respect family another thing father share work business instance past month father show paper work second job dad count money get much give back worker time dad would come room teach split money make pay bill day show show much money everything make realize need work hard want simple job much give job pay bill need work hard school show father really care future want well life show wisdom hard like well school closing father taught business process one want business conclusion person show wisdom experience would father teach respect adult paper work job show tell past show mange business old people important share wisdom experience experience wisdom would share people people  \n",
       "192                                                                                                                                                                                    dear principal honour write letter pray take time busy schedule read letter hope good also want say happy student school first take stand decision change school food healthier one say good one thoughtful idea also show love school appreciate great idea good idea half student allergic reaction food chief cook rather hungry empty stomach incident still go student might even pas one day secondly get healthier food active brain able function well soon class start however good breakfast even good food begin day sometimes help brain work well also help make brain good position work day work brain also consist contain particular mineral like carbohydrate protein fat supplementary substance also help human growth also help give energy human body lastly change school food also make student never try school lunch want try moreover student order food deliver school like school food allergic certain food incident keep happen school food waste make school loose money therefore end speech say good nice decision change school food healthier one once hope take time busy schedule read letter  "
      ]
     },
     "execution_count": 16,
     "metadata": {},
     "output_type": "execute_result"
    }
   ],
   "source": [
    "pd.options.display.max_colwidth=None\n",
    "df_proc[['corrected_text','lemmatized_text']].sample(2)"
   ]
  },
  {
   "cell_type": "code",
   "execution_count": 17,
   "id": "65f98005-e41b-4f33-8836-10cbbd4b8def",
   "metadata": {},
   "outputs": [],
   "source": [
    "## Setting text and target variables\n",
    "\n",
    "textVar=df_proc['lemmatized_text']\n",
    "targetVar=df_proc[[\"cohesion\", \"syntax\", \"vocabulary\", \"phraseology\", \"grammar\", \"conventions\"]]"
   ]
  },
  {
   "cell_type": "markdown",
   "id": "e489532b-9485-4bdc-a4c9-06464e2542be",
   "metadata": {
    "jp-MarkdownHeadingCollapsed": true,
    "tags": []
   },
   "source": [
    "----\n",
    "## Setting Model Parameters"
   ]
  },
  {
   "cell_type": "code",
   "execution_count": 50,
   "id": "50314ab5-52af-4ed2-82ef-026d3bf77af7",
   "metadata": {},
   "outputs": [],
   "source": [
    "# make our experiments repeatable\n",
    "np.random.seed(0)\n",
    "\n",
    "# Model Hyperparameters\n",
    "embedding_dim = 100\n",
    "\n",
    "# Here we specify the number of units of our hidden layer\n",
    "lstm_dims = 196\n",
    "\n",
    "# Training parameters. Here we specify the training of the net will use 64 examples for each backprop iteration\n",
    "batch_size = 64\n",
    "\n",
    "# We will go thru the entire data set 80 times\n",
    "num_epochs = 10\n",
    "\n",
    "# Prepossessing parameters\n",
    "# We will input the first 1000 words of every essay (and pad out with nulls if a essay review is <1000 words\n",
    "# We will also build our model using the most frequent 7000 words in our 'dictionary'\n",
    "\n",
    "sequence_length = 1000\n",
    "max_features = 7000\n",
    "\n",
    "#Specify the number of variables to predic\n",
    "num_classes = 6\n"
   ]
  },
  {
   "cell_type": "markdown",
   "id": "02fc1105-7ab5-4fd2-9d54-1a042282f251",
   "metadata": {
    "jp-MarkdownHeadingCollapsed": true,
    "tags": []
   },
   "source": [
    "-----\n",
    "## Text Preprocessing"
   ]
  },
  {
   "cell_type": "markdown",
   "id": "e609b00c-a784-4b3c-8d0e-cfb19a0a500c",
   "metadata": {},
   "source": [
    "### Tokenize the data and pad sequences"
   ]
  },
  {
   "cell_type": "code",
   "execution_count": 19,
   "id": "57988c09-a1e5-44b2-8f17-fd7fbbaa4034",
   "metadata": {},
   "outputs": [],
   "source": [
    "X = textVar.values\n",
    "Y = targetVar\n",
    "\n",
    "train_samples, test_samples, train_targets, test_targets = train_test_split(X,Y, test_size = 0.20, random_state = 1010)"
   ]
  },
  {
   "cell_type": "code",
   "execution_count": 20,
   "id": "94521fc8-cfc3-4c8a-ba4f-66240ecb343a",
   "metadata": {},
   "outputs": [
    {
     "name": "stdout",
     "output_type": "stream",
     "text": [
      "(3128,) (3128, 6)\n",
      "(783,) (783, 6)\n"
     ]
    }
   ],
   "source": [
    "# Check how many columns we have, make sure we have our sequence length set correctly\n",
    "\n",
    "print(train_samples.shape,train_targets.shape)\n",
    "print(test_samples.shape,test_targets.shape)"
   ]
  },
  {
   "cell_type": "code",
   "execution_count": 21,
   "id": "6158e390-3ddb-419a-9057-c20d27591fd9",
   "metadata": {},
   "outputs": [
    {
     "name": "stderr",
     "output_type": "stream",
     "text": [
      "2023-05-24 05:02:25.445213: I tensorflow/core/platform/cpu_feature_guard.cc:193] This TensorFlow binary is optimized with oneAPI Deep Neural Network Library (oneDNN) to use the following CPU instructions in performance-critical operations:  AVX2 FMA\n",
      "To enable them in other operations, rebuild TensorFlow with the appropriate compiler flags.\n"
     ]
    }
   ],
   "source": [
    "vectorizer = TextVectorization(max_tokens=max_features, output_sequence_length=sequence_length, ngrams=None, pad_to_max_tokens=True)\n",
    "\n",
    "text_ds = tf.data.Dataset.from_tensor_slices(train_samples).batch(128)\n",
    "vectorizer.adapt(text_ds)"
   ]
  },
  {
   "cell_type": "code",
   "execution_count": 23,
   "id": "69f489c5-e37e-468c-b0f8-d21182fd7052",
   "metadata": {},
   "outputs": [
    {
     "data": {
      "text/plain": [
       "<keras.layers.preprocessing.text_vectorization.TextVectorization at 0x7f1e0f8e2860>"
      ]
     },
     "execution_count": 23,
     "metadata": {},
     "output_type": "execute_result"
    }
   ],
   "source": [
    "vectorizer"
   ]
  },
  {
   "cell_type": "markdown",
   "id": "82896718-46e4-4ae4-a2e8-6dc045d91104",
   "metadata": {},
   "source": [
    "### Convert our list of strings data to Numpy arrays of integer indices"
   ]
  },
  {
   "cell_type": "code",
   "execution_count": 24,
   "id": "c4d6ab5d-cfbb-4efd-8274-4b5f3a7fa37b",
   "metadata": {},
   "outputs": [],
   "source": [
    "X_train = vectorizer(np.array([[s] for s in train_samples])).numpy()\n",
    "X_test = vectorizer(np.array([[s] for s in test_samples])).numpy()\n",
    "\n",
    "Y_train = np.array(train_targets)\n",
    "Y_test = np.array(test_targets)"
   ]
  },
  {
   "cell_type": "code",
   "execution_count": 25,
   "id": "7fcd3096-8926-4bfb-9bb5-64807e3e51bd",
   "metadata": {},
   "outputs": [
    {
     "data": {
      "text/plain": [
       "array([[667,  81,  21, ...,   0,   0,   0],\n",
       "       [ 16, 272,  10, ...,   0,   0,   0],\n",
       "       [ 19, 285,   9, ...,   0,   0,   0]])"
      ]
     },
     "execution_count": 25,
     "metadata": {},
     "output_type": "execute_result"
    }
   ],
   "source": [
    "X_train[:3]"
   ]
  },
  {
   "cell_type": "code",
   "execution_count": 26,
   "id": "ee5648db-e4cb-4e2c-81ea-8884634b00f0",
   "metadata": {
    "tags": []
   },
   "outputs": [
    {
     "data": {
      "text/plain": [
       "array([[2.5, 2.5, 2.5, 2. , 2.5, 2. ],\n",
       "       [2.5, 2. , 2. , 2.5, 2.5, 2.5],\n",
       "       [3.5, 2.5, 3. , 3.5, 2.5, 2.5],\n",
       "       ...,\n",
       "       [3. , 3.5, 3.5, 3. , 3. , 3.5],\n",
       "       [2.5, 2.5, 2.5, 2.5, 2.5, 3. ],\n",
       "       [3. , 2.5, 3. , 2.5, 2.5, 2.5]])"
      ]
     },
     "execution_count": 26,
     "metadata": {},
     "output_type": "execute_result"
    }
   ],
   "source": [
    "Y_train"
   ]
  },
  {
   "cell_type": "markdown",
   "id": "c15ec39c-793c-4dd4-8d21-442200e1cfa4",
   "metadata": {},
   "source": [
    "### Load a pretrained vector space model - GLOVE"
   ]
  },
  {
   "cell_type": "code",
   "execution_count": 27,
   "id": "a5c12778-b09b-4f6c-9a90-164ba8ec786b",
   "metadata": {},
   "outputs": [
    {
     "name": "stdout",
     "output_type": "stream",
     "text": [
      "Found 400000 word vectors.\n"
     ]
    }
   ],
   "source": [
    "embeddings_index = {}\n",
    "\n",
    "glove_dir = '../00_gcp_data/'\n",
    "f = open(os.path.join(glove_dir, 'glove.6B.100d.txt'), encoding=\"utf8\")\n",
    "\n",
    "for line in f:\n",
    "    values = line.split()\n",
    "    word = values[0]\n",
    "    coefs = np.asarray(values[1:], dtype='float32')\n",
    "    embeddings_index[word] = coefs\n",
    "f.close()\n",
    "\n",
    "print('Found %s word vectors.' % len(embeddings_index))"
   ]
  },
  {
   "cell_type": "code",
   "execution_count": 28,
   "id": "ae6e2570-651e-4659-83bc-02c23ccaf091",
   "metadata": {},
   "outputs": [
    {
     "name": "stdout",
     "output_type": "stream",
     "text": [
      "Converted 6638 words (362 misses)\n"
     ]
    }
   ],
   "source": [
    "voc = vectorizer.get_vocabulary()\n",
    "word_index = dict(zip(voc, range(len(voc))))\n",
    "\n",
    "num_tokens = len(voc) + 2\n",
    "hits = 0\n",
    "misses = 0\n",
    "\n",
    "# Prepare embedding matrix\n",
    "embedding_matrix = np.zeros((num_tokens, embedding_dim))\n",
    "for word, i in word_index.items():\n",
    "    embedding_vector = embeddings_index.get(word)\n",
    "    if embedding_vector is not None:\n",
    "        # Words not found in embedding index will be all-zeros.\n",
    "        # This includes the representation for \"padding\" and \"OOV\"\n",
    "        embedding_matrix[i] = embedding_vector\n",
    "        hits += 1\n",
    "    else:\n",
    "        misses += 1\n",
    "print(\"Converted %d words (%d misses)\" % (hits, misses))"
   ]
  },
  {
   "cell_type": "code",
   "execution_count": 29,
   "id": "16fa03f9-8e35-4c30-b41b-592423df76ba",
   "metadata": {},
   "outputs": [
    {
     "data": {
      "text/plain": [
       "array([[ 0.        ,  0.        ,  0.        , ...,  0.        ,\n",
       "         0.        ,  0.        ],\n",
       "       [ 0.        ,  0.        ,  0.        , ...,  0.        ,\n",
       "         0.        ,  0.        ],\n",
       "       [ 0.79618001,  0.56779999, -0.96452999, ..., -0.28637001,\n",
       "         0.54822999, -0.33597001],\n",
       "       ...,\n",
       "       [-0.01211   ,  0.001921  , -0.26157999, ...,  0.039627  ,\n",
       "        -0.12142   , -0.44775   ],\n",
       "       [ 0.        ,  0.        ,  0.        , ...,  0.        ,\n",
       "         0.        ,  0.        ],\n",
       "       [ 0.        ,  0.        ,  0.        , ...,  0.        ,\n",
       "         0.        ,  0.        ]])"
      ]
     },
     "execution_count": 29,
     "metadata": {},
     "output_type": "execute_result"
    }
   ],
   "source": [
    "embedding_matrix"
   ]
  },
  {
   "cell_type": "markdown",
   "id": "19ee5095-566a-4882-ba2f-7d9abd2aa53f",
   "metadata": {},
   "source": [
    "### Load the pre-trained word embeddings matrix into an Embedding layer\n",
    "We will keep embeddings static with **trainable=False**"
   ]
  },
  {
   "cell_type": "code",
   "execution_count": 32,
   "id": "2f1ece9f-edcb-4d51-b2cb-29ae5eaff43e",
   "metadata": {},
   "outputs": [],
   "source": [
    "embedding_layer = Embedding(\n",
    "    num_tokens,\n",
    "    embedding_dim,\n",
    "    embeddings_initializer=keras.initializers.Constant(embedding_matrix),\n",
    "    trainable=False,\n",
    ")"
   ]
  },
  {
   "cell_type": "markdown",
   "id": "325f424a-7638-4bd8-8596-bfc65f0a0344",
   "metadata": {
    "jp-MarkdownHeadingCollapsed": true,
    "tags": []
   },
   "source": [
    "---\n",
    "## MODEL 1: Baseline LSTM Model"
   ]
  },
  {
   "cell_type": "code",
   "execution_count": 73,
   "id": "d1a70410-3c69-43f3-8983-3706dd7b0090",
   "metadata": {},
   "outputs": [
    {
     "name": "stdout",
     "output_type": "stream",
     "text": [
      "Model: \"model_2\"\n",
      "_________________________________________________________________\n",
      " Layer (type)                Output Shape              Param #   \n",
      "=================================================================\n",
      " input_3 (InputLayer)        [(None, None)]            0         \n",
      "                                                                 \n",
      " embedding_3 (Embedding)     (None, None, 100)         700200    \n",
      "                                                                 \n",
      " lstm_layer (LSTM)           (None, None, 196)         232848    \n",
      "                                                                 \n",
      " global_max_pooling1d_2 (Glo  (None, 196)              0         \n",
      " balMaxPooling1D)                                                \n",
      "                                                                 \n",
      " dropout_4 (Dropout)         (None, 196)               0         \n",
      "                                                                 \n",
      " dense_4 (Dense)             (None, 50)                9850      \n",
      "                                                                 \n",
      " dropout_5 (Dropout)         (None, 50)                0         \n",
      "                                                                 \n",
      " dense_5 (Dense)             (None, 6)                 306       \n",
      "                                                                 \n",
      "=================================================================\n",
      "Total params: 943,204\n",
      "Trainable params: 243,004\n",
      "Non-trainable params: 700,200\n",
      "_________________________________________________________________\n"
     ]
    }
   ],
   "source": [
    "sequence_input = keras.Input(shape=(None,), dtype=\"int64\")\n",
    "embedded_sequences = embedding_layer(sequence_input)\n",
    "\n",
    "x = LSTM(lstm_dims, return_sequences=True,name='lstm_layer')(embedded_sequences)\n",
    "x = GlobalMaxPool1D()(x)\n",
    "x = Dropout(0.1)(x)\n",
    "x = Dense(50, activation=\"relu\")(x)\n",
    "x = Dropout(0.1)(x)\n",
    "preds = Dense(6, activation=\"linear\")(x)\n",
    "\n",
    "\n",
    "model_lstm_1 = Model(sequence_input, preds)\n",
    "model_lstm_1.compile(loss = 'mean_squared_error', optimizer='adam', metrics = ['mean_squared_error'])\n",
    "\n",
    "model_lstm_1.summary()"
   ]
  },
  {
   "cell_type": "code",
   "execution_count": 71,
   "id": "c6641ba2-b7c6-4f02-9b5a-f3d8656e2724",
   "metadata": {},
   "outputs": [],
   "source": [
    "from IPython.display import SVG\n",
    "from keras.utils.vis_utils import model_to_dot"
   ]
  },
  {
   "cell_type": "markdown",
   "id": "835e610c-69de-4f43-ab9c-d518fdf6f938",
   "metadata": {},
   "source": [
    "### Training the model"
   ]
  },
  {
   "cell_type": "code",
   "execution_count": 89,
   "id": "8a48dee5-7363-4451-a686-70e204e91575",
   "metadata": {
    "tags": []
   },
   "outputs": [
    {
     "name": "stdout",
     "output_type": "stream",
     "text": [
      "Epoch 1/10\n",
      "40/40 [==============================] - ETA: 0s - loss: 0.3609 - mean_squared_error: 0.3609\n",
      "Epoch 1: val_mean_squared_error improved from inf to 0.34680, saving model to /home/jupyter/automatic-essay-grading-DL/05_Model_files'/lstm_glove_weights_best\n"
     ]
    },
    {
     "name": "stderr",
     "output_type": "stream",
     "text": [
      "WARNING:absl:Found untraced functions such as _update_step_xla, lstm_cell_2_layer_call_fn, lstm_cell_2_layer_call_and_return_conditional_losses while saving (showing 3 of 3). These functions will not be directly callable after loading.\n"
     ]
    },
    {
     "name": "stdout",
     "output_type": "stream",
     "text": [
      "INFO:tensorflow:Assets written to: /home/jupyter/automatic-essay-grading-DL/05_Model_files'/lstm_glove_weights_best/assets\n"
     ]
    },
    {
     "name": "stderr",
     "output_type": "stream",
     "text": [
      "INFO:tensorflow:Assets written to: /home/jupyter/automatic-essay-grading-DL/05_Model_files'/lstm_glove_weights_best/assets\n"
     ]
    },
    {
     "name": "stdout",
     "output_type": "stream",
     "text": [
      "40/40 [==============================] - 70s 2s/step - loss: 0.3609 - mean_squared_error: 0.3609 - val_loss: 0.3468 - val_mean_squared_error: 0.3468\n",
      "Epoch 2/10\n",
      "40/40 [==============================] - ETA: 0s - loss: 0.3562 - mean_squared_error: 0.3562\n",
      "Epoch 2: val_mean_squared_error improved from 0.34680 to 0.33910, saving model to /home/jupyter/automatic-essay-grading-DL/05_Model_files'/lstm_glove_weights_best\n"
     ]
    },
    {
     "name": "stderr",
     "output_type": "stream",
     "text": [
      "WARNING:absl:Found untraced functions such as _update_step_xla, lstm_cell_2_layer_call_fn, lstm_cell_2_layer_call_and_return_conditional_losses while saving (showing 3 of 3). These functions will not be directly callable after loading.\n"
     ]
    },
    {
     "name": "stdout",
     "output_type": "stream",
     "text": [
      "INFO:tensorflow:Assets written to: /home/jupyter/automatic-essay-grading-DL/05_Model_files'/lstm_glove_weights_best/assets\n"
     ]
    },
    {
     "name": "stderr",
     "output_type": "stream",
     "text": [
      "INFO:tensorflow:Assets written to: /home/jupyter/automatic-essay-grading-DL/05_Model_files'/lstm_glove_weights_best/assets\n"
     ]
    },
    {
     "name": "stdout",
     "output_type": "stream",
     "text": [
      "40/40 [==============================] - 74s 2s/step - loss: 0.3562 - mean_squared_error: 0.3562 - val_loss: 0.3391 - val_mean_squared_error: 0.3391\n",
      "Epoch 3/10\n",
      "40/40 [==============================] - ETA: 0s - loss: 0.3486 - mean_squared_error: 0.3486\n",
      "Epoch 3: val_mean_squared_error improved from 0.33910 to 0.33868, saving model to /home/jupyter/automatic-essay-grading-DL/05_Model_files'/lstm_glove_weights_best\n"
     ]
    },
    {
     "name": "stderr",
     "output_type": "stream",
     "text": [
      "WARNING:absl:Found untraced functions such as _update_step_xla, lstm_cell_2_layer_call_fn, lstm_cell_2_layer_call_and_return_conditional_losses while saving (showing 3 of 3). These functions will not be directly callable after loading.\n"
     ]
    },
    {
     "name": "stdout",
     "output_type": "stream",
     "text": [
      "INFO:tensorflow:Assets written to: /home/jupyter/automatic-essay-grading-DL/05_Model_files'/lstm_glove_weights_best/assets\n"
     ]
    },
    {
     "name": "stderr",
     "output_type": "stream",
     "text": [
      "INFO:tensorflow:Assets written to: /home/jupyter/automatic-essay-grading-DL/05_Model_files'/lstm_glove_weights_best/assets\n"
     ]
    },
    {
     "name": "stdout",
     "output_type": "stream",
     "text": [
      "40/40 [==============================] - 89s 2s/step - loss: 0.3486 - mean_squared_error: 0.3486 - val_loss: 0.3387 - val_mean_squared_error: 0.3387\n",
      "Epoch 4/10\n",
      "40/40 [==============================] - ETA: 0s - loss: 0.3368 - mean_squared_error: 0.3368\n",
      "Epoch 4: val_mean_squared_error did not improve from 0.33868\n",
      "40/40 [==============================] - 79s 2s/step - loss: 0.3368 - mean_squared_error: 0.3368 - val_loss: 0.3422 - val_mean_squared_error: 0.3422\n",
      "Epoch 5/10\n",
      "40/40 [==============================] - ETA: 0s - loss: 0.3570 - mean_squared_error: 0.3570\n",
      "Epoch 5: val_mean_squared_error improved from 0.33868 to 0.33245, saving model to /home/jupyter/automatic-essay-grading-DL/05_Model_files'/lstm_glove_weights_best\n"
     ]
    },
    {
     "name": "stderr",
     "output_type": "stream",
     "text": [
      "WARNING:absl:Found untraced functions such as _update_step_xla, lstm_cell_2_layer_call_fn, lstm_cell_2_layer_call_and_return_conditional_losses while saving (showing 3 of 3). These functions will not be directly callable after loading.\n"
     ]
    },
    {
     "name": "stdout",
     "output_type": "stream",
     "text": [
      "INFO:tensorflow:Assets written to: /home/jupyter/automatic-essay-grading-DL/05_Model_files'/lstm_glove_weights_best/assets\n"
     ]
    },
    {
     "name": "stderr",
     "output_type": "stream",
     "text": [
      "INFO:tensorflow:Assets written to: /home/jupyter/automatic-essay-grading-DL/05_Model_files'/lstm_glove_weights_best/assets\n"
     ]
    },
    {
     "name": "stdout",
     "output_type": "stream",
     "text": [
      "40/40 [==============================] - 86s 2s/step - loss: 0.3570 - mean_squared_error: 0.3570 - val_loss: 0.3324 - val_mean_squared_error: 0.3324\n",
      "Epoch 6/10\n",
      "40/40 [==============================] - ETA: 0s - loss: 0.3524 - mean_squared_error: 0.3524\n",
      "Epoch 6: val_mean_squared_error improved from 0.33245 to 0.33131, saving model to /home/jupyter/automatic-essay-grading-DL/05_Model_files'/lstm_glove_weights_best\n"
     ]
    },
    {
     "name": "stderr",
     "output_type": "stream",
     "text": [
      "WARNING:absl:Found untraced functions such as _update_step_xla, lstm_cell_2_layer_call_fn, lstm_cell_2_layer_call_and_return_conditional_losses while saving (showing 3 of 3). These functions will not be directly callable after loading.\n"
     ]
    },
    {
     "name": "stdout",
     "output_type": "stream",
     "text": [
      "INFO:tensorflow:Assets written to: /home/jupyter/automatic-essay-grading-DL/05_Model_files'/lstm_glove_weights_best/assets\n"
     ]
    },
    {
     "name": "stderr",
     "output_type": "stream",
     "text": [
      "INFO:tensorflow:Assets written to: /home/jupyter/automatic-essay-grading-DL/05_Model_files'/lstm_glove_weights_best/assets\n"
     ]
    },
    {
     "name": "stdout",
     "output_type": "stream",
     "text": [
      "40/40 [==============================] - 86s 2s/step - loss: 0.3524 - mean_squared_error: 0.3524 - val_loss: 0.3313 - val_mean_squared_error: 0.3313\n",
      "Epoch 7/10\n",
      "40/40 [==============================] - ETA: 0s - loss: 0.3222 - mean_squared_error: 0.3222\n",
      "Epoch 7: val_mean_squared_error did not improve from 0.33131\n",
      "40/40 [==============================] - 79s 2s/step - loss: 0.3222 - mean_squared_error: 0.3222 - val_loss: 0.3381 - val_mean_squared_error: 0.3381\n",
      "Epoch 8/10\n",
      "40/40 [==============================] - ETA: 0s - loss: 0.3249 - mean_squared_error: 0.3249\n",
      "Epoch 8: val_mean_squared_error did not improve from 0.33131\n",
      "40/40 [==============================] - 79s 2s/step - loss: 0.3249 - mean_squared_error: 0.3249 - val_loss: 0.3459 - val_mean_squared_error: 0.3459\n",
      "Epoch 9/10\n",
      "40/40 [==============================] - ETA: 0s - loss: 0.3223 - mean_squared_error: 0.3223\n",
      "Epoch 9: val_mean_squared_error did not improve from 0.33131\n",
      "40/40 [==============================] - 78s 2s/step - loss: 0.3223 - mean_squared_error: 0.3223 - val_loss: 0.3407 - val_mean_squared_error: 0.3407\n",
      "Epoch 10/10\n",
      "40/40 [==============================] - ETA: 0s - loss: 0.3023 - mean_squared_error: 0.3023\n",
      "Epoch 10: val_mean_squared_error did not improve from 0.33131\n",
      "40/40 [==============================] - 78s 2s/step - loss: 0.3023 - mean_squared_error: 0.3023 - val_loss: 0.3382 - val_mean_squared_error: 0.3382\n",
      "LSTM Glove model train time = 797 seconds\n"
     ]
    }
   ],
   "source": [
    "filepath=\"/home/jupyter/automatic-essay-grading-DL/05_Model_files'/lstm_glove_weights_best\"\n",
    "checkpoint = ModelCheckpoint(filepath, monitor='val_mean_squared_error',\n",
    "                             verbose=1, save_best_only=True, save_weights_only=False, overwrite=True, mode='min')\n",
    "\n",
    "#only save model if it reduces MSE\n",
    "\n",
    "callbacks_list = [checkpoint]\n",
    "\n",
    "t1 = time.time()\n",
    "model_lstm_1_history = model_lstm_1.fit(X_train, Y_train,\n",
    "                    batch_size=batch_size, \n",
    "                    epochs=num_epochs,\n",
    "                    validation_split=0.2,\n",
    "                    callbacks = callbacks_list,\n",
    "                    verbose=1)\n",
    "t2 = time.time()\n",
    "print(\"LSTM Glove model train time = %d seconds\" %(t2-t1))"
   ]
  },
  {
   "cell_type": "code",
   "execution_count": 81,
   "id": "3e701f51-a35e-4d54-ba64-73391c27c077",
   "metadata": {},
   "outputs": [
    {
     "data": {
      "text/plain": [
       "dict_keys(['loss', 'mean_squared_error', 'val_loss', 'val_mean_squared_error'])"
      ]
     },
     "execution_count": 81,
     "metadata": {},
     "output_type": "execute_result"
    }
   ],
   "source": [
    "model_lstm_1_history.history.keys()"
   ]
  },
  {
   "cell_type": "code",
   "execution_count": 85,
   "id": "3a4d9a66-26b8-4a6f-85a8-9fe279d03e71",
   "metadata": {},
   "outputs": [],
   "source": [
    "def plot_train(history):\n",
    "    \"\"\"\n",
    "    Plot the keras epoch results thru training\n",
    "    \"\"\"\n",
    "    h = history.history    \n",
    "    epochs = range(1, len(h['mean_squared_error']) + 1)\n",
    "    plt.plot(epochs, h['mean_squared_error'], 'go', label='Training MSE')\n",
    "    plt.plot(epochs, h['val_mean_squared_error'], 'g', label='Validation MSE')\n",
    "    plt.title('Training and Validation MSE')\n",
    "    plt.xlabel('Epochs')\n",
    "    plt.ylabel('MSE')\n",
    "    plt.legend()\n",
    "    plt.show()"
   ]
  },
  {
   "cell_type": "code",
   "execution_count": 83,
   "id": "3a2ba763-8bf4-448c-ac33-c276ed01129a",
   "metadata": {},
   "outputs": [
    {
     "data": {
      "image/png": "[encoded data removed]",
      "text/plain": [
       "<Figure size 640x480 with 1 Axes>"
      ]
     },
     "metadata": {},
     "output_type": "display_data"
    }
   ],
   "source": [
    "plot_train(model_lstm_1_history)"
   ]
  },
  {
   "cell_type": "code",
   "execution_count": 87,
   "id": "02c57360-32a3-4c6c-a27c-becb400b69f9",
   "metadata": {},
   "outputs": [
    {
     "data": {
      "image/png": "[encoded data removed]",
      "text/plain": [
       "<Figure size 640x480 with 1 Axes>"
      ]
     },
     "metadata": {},
     "output_type": "display_data"
    }
   ],
   "source": [
    "plot_train(model_lstm_1_history)"
   ]
  },
  {
   "cell_type": "code",
   "execution_count": 90,
   "id": "93b02453-b2df-4a41-8f1c-89633160fb95",
   "metadata": {},
   "outputs": [
    {
     "data": {
      "image/png": "[encoded data removed]",
      "text/plain": [
       "<Figure size 640x480 with 1 Axes>"
      ]
     },
     "metadata": {},
     "output_type": "display_data"
    }
   ],
   "source": [
    "plot_train(model_lstm_1_history)"
   ]
  },
  {
   "cell_type": "code",
   "execution_count": 91,
   "id": "0772a2ff-0cf7-427e-86e4-f3e6ecdcb662",
   "metadata": {},
   "outputs": [
    {
     "name": "stdout",
     "output_type": "stream",
     "text": [
      "25/25 [==============================] - 14s 562ms/step - loss: 0.3466 - mean_squared_error: 0.3466\n"
     ]
    },
    {
     "data": {
      "text/plain": [
       "[0.34658941626548767, 0.34658941626548767]"
      ]
     },
     "execution_count": 91,
     "metadata": {},
     "output_type": "execute_result"
    }
   ],
   "source": [
    "model_lstm_1.evaluate(X_test, Y_test)"
   ]
  },
  {
   "cell_type": "markdown",
   "id": "ac621c3e-5c6a-4431-8b44-5234ed51867a",
   "metadata": {
    "jp-MarkdownHeadingCollapsed": true,
    "tags": []
   },
   "source": [
    "----\n",
    "## MODEL 2: Combining LSTM and CNN"
   ]
  },
  {
   "cell_type": "markdown",
   "id": "7c30f50d-e68e-4cd6-a4d1-e8929f11facd",
   "metadata": {},
   "source": [
    "### Defining the custom loss function"
   ]
  },
  {
   "cell_type": "code",
   "execution_count": 35,
   "id": "36bd4af0-08b6-4cc2-886c-994282282bde",
   "metadata": {},
   "outputs": [],
   "source": [
    "def mcrmse(y_true, y_pred):\n",
    "    colwise_mse = tf.reduce_mean(tf.square(y_true - y_pred), axis=0)\n",
    "    return tf.reduce_mean(tf.sqrt(colwise_mse), axis=0)"
   ]
  },
  {
   "cell_type": "markdown",
   "id": "daa506e7-c814-4e41-ac55-bb4dec8e70f1",
   "metadata": {},
   "source": [
    "### New Architecture"
   ]
  },
  {
   "cell_type": "code",
   "execution_count": 67,
   "id": "3931c618-2e81-45f1-bbcf-bcb34c68d96f",
   "metadata": {},
   "outputs": [],
   "source": [
    "adam = tf.keras.optimizers.Adam(learning_rate=0.001)\n",
    "\n",
    "embedding_layer = Embedding(\n",
    "    num_tokens,\n",
    "    embedding_dim,\n",
    "    embeddings_initializer=keras.initializers.Constant(embedding_matrix),\n",
    "    trainable=False,\n",
    ")\n",
    "\n",
    "def LSTM_CNN1D():\n",
    "    drop_lstm = 0.25\n",
    "    drop_dense = 0.25\n",
    "    num_lstm=150\n",
    "    \n",
    "    input_1 = Input(shape=(sequence_length,),name = 'input_comment_1')\n",
    "    embedding_layer_1 = embedding_layer(input_1)\n",
    "    conv_1_1 = Convolution1D(64,3,strides=1, padding='same',activation='relu')(embedding_layer_1)\n",
    "    lstm_1_1 = LSTM(64,dropout=drop_lstm,return_sequences=True,dtype=tf.float32)(embedding_layer_1)\n",
    "    concate_1 = keras.layers.Concatenate(axis=-1)([conv_1_1, lstm_1_1])\n",
    "    flatten_1 = Flatten()(concate_1)\n",
    "\n",
    "    # creating further layers\n",
    "    x = Dense(128, activation = 'relu')(flatten_1)\n",
    "    x = BatchNormalization()(x)\n",
    "    x = Dense(64, activation = 'relu')(x)\n",
    "    x = BatchNormalization()(x)\n",
    "    x = Dense(32, activation = 'relu')(x)\n",
    "    x = BatchNormalization()(x)\n",
    "    x = Dense(16, activation = 'relu')(x)\n",
    "    output = Dense(6,activation='linear')(x)\n",
    "    \n",
    "    model = Model(inputs = [input_1], outputs = [output])\n",
    "    model.compile(optimizer=adam, loss = mcrmse, metrics = mcrmse)\n",
    "    return model\n"
   ]
  },
  {
   "cell_type": "code",
   "execution_count": 68,
   "id": "e90e46ec-b41b-42ec-8dbe-d6a0237e4b5f",
   "metadata": {},
   "outputs": [
    {
     "name": "stdout",
     "output_type": "stream",
     "text": [
      "Model: \"model_7\"\n",
      "__________________________________________________________________________________________________\n",
      " Layer (type)                   Output Shape         Param #     Connected to                     \n",
      "==================================================================================================\n",
      " input_comment_1 (InputLayer)   [(None, 1000)]       0           []                               \n",
      "                                                                                                  \n",
      " embedding_6 (Embedding)        (None, 1000, 100)    700200      ['input_comment_1[0][0]']        \n",
      "                                                                                                  \n",
      " conv1d_11 (Conv1D)             (None, 1000, 64)     19264       ['embedding_6[0][0]']            \n",
      "                                                                                                  \n",
      " lstm_11 (LSTM)                 (None, 1000, 64)     42240       ['embedding_6[0][0]']            \n",
      "                                                                                                  \n",
      " concatenate_11 (Concatenate)   (None, 1000, 128)    0           ['conv1d_11[0][0]',              \n",
      "                                                                  'lstm_11[0][0]']                \n",
      "                                                                                                  \n",
      " flatten_11 (Flatten)           (None, 128000)       0           ['concatenate_11[0][0]']         \n",
      "                                                                                                  \n",
      " dense_38 (Dense)               (None, 128)          16384128    ['flatten_11[0][0]']             \n",
      "                                                                                                  \n",
      " batch_normalization_21 (BatchN  (None, 128)         512         ['dense_38[0][0]']               \n",
      " ormalization)                                                                                    \n",
      "                                                                                                  \n",
      " dense_39 (Dense)               (None, 64)           8256        ['batch_normalization_21[0][0]'] \n",
      "                                                                                                  \n",
      " batch_normalization_22 (BatchN  (None, 64)          256         ['dense_39[0][0]']               \n",
      " ormalization)                                                                                    \n",
      "                                                                                                  \n",
      " dense_40 (Dense)               (None, 32)           2080        ['batch_normalization_22[0][0]'] \n",
      "                                                                                                  \n",
      " batch_normalization_23 (BatchN  (None, 32)          128         ['dense_40[0][0]']               \n",
      " ormalization)                                                                                    \n",
      "                                                                                                  \n",
      " dense_41 (Dense)               (None, 16)           528         ['batch_normalization_23[0][0]'] \n",
      "                                                                                                  \n",
      " dense_42 (Dense)               (None, 6)            102         ['dense_41[0][0]']               \n",
      "                                                                                                  \n",
      "==================================================================================================\n",
      "Total params: 17,157,694\n",
      "Trainable params: 16,457,046\n",
      "Non-trainable params: 700,648\n",
      "__________________________________________________________________________________________________\n"
     ]
    }
   ],
   "source": [
    "mod_lstm_cnn=LSTM_CNN1D()\n",
    "mod_lstm_cnn.summary()"
   ]
  },
  {
   "cell_type": "code",
   "execution_count": 70,
   "id": "4ddd6d97-bc95-4970-b08f-055b61b75ae0",
   "metadata": {},
   "outputs": [
    {
     "name": "stdout",
     "output_type": "stream",
     "text": [
      "Epoch 1/20\n",
      "40/40 [==============================] - ETA: 0s - loss: 2.6080 - mcrmse: 2.5973\n",
      "Epoch 1: val_mcrmse improved from inf to 4.50891, saving model to /home/jupyter/automatic-essay-grading-DL/05_Model_files'/lstm_glove_weights_best\n"
     ]
    },
    {
     "name": "stderr",
     "output_type": "stream",
     "text": [
      "WARNING:absl:Found untraced functions such as _jit_compiled_convolution_op, _update_step_xla, lstm_cell_11_layer_call_fn, lstm_cell_11_layer_call_and_return_conditional_losses while saving (showing 4 of 4). These functions will not be directly callable after loading.\n"
     ]
    },
    {
     "name": "stdout",
     "output_type": "stream",
     "text": [
      "INFO:tensorflow:Assets written to: /home/jupyter/automatic-essay-grading-DL/05_Model_files'/lstm_glove_weights_best/assets\n"
     ]
    },
    {
     "name": "stderr",
     "output_type": "stream",
     "text": [
      "INFO:tensorflow:Assets written to: /home/jupyter/automatic-essay-grading-DL/05_Model_files'/lstm_glove_weights_best/assets\n"
     ]
    },
    {
     "name": "stdout",
     "output_type": "stream",
     "text": [
      "40/40 [==============================] - 41s 949ms/step - loss: 2.6080 - mcrmse: 2.5973 - val_loss: 4.5122 - val_mcrmse: 4.5089\n",
      "Epoch 2/20\n",
      "40/40 [==============================] - ETA: 0s - loss: 1.5764 - mcrmse: 1.5708\n",
      "Epoch 2: val_mcrmse improved from 4.50891 to 4.26065, saving model to /home/jupyter/automatic-essay-grading-DL/05_Model_files'/lstm_glove_weights_best\n"
     ]
    },
    {
     "name": "stderr",
     "output_type": "stream",
     "text": [
      "WARNING:absl:Found untraced functions such as _jit_compiled_convolution_op, _update_step_xla, lstm_cell_11_layer_call_fn, lstm_cell_11_layer_call_and_return_conditional_losses while saving (showing 4 of 4). These functions will not be directly callable after loading.\n"
     ]
    },
    {
     "name": "stdout",
     "output_type": "stream",
     "text": [
      "INFO:tensorflow:Assets written to: /home/jupyter/automatic-essay-grading-DL/05_Model_files'/lstm_glove_weights_best/assets\n"
     ]
    },
    {
     "name": "stderr",
     "output_type": "stream",
     "text": [
      "INFO:tensorflow:Assets written to: /home/jupyter/automatic-essay-grading-DL/05_Model_files'/lstm_glove_weights_best/assets\n"
     ]
    },
    {
     "name": "stdout",
     "output_type": "stream",
     "text": [
      "40/40 [==============================] - 37s 927ms/step - loss: 1.5764 - mcrmse: 1.5708 - val_loss: 4.2671 - val_mcrmse: 4.2606\n",
      "Epoch 3/20\n",
      "40/40 [==============================] - ETA: 0s - loss: 0.7363 - mcrmse: 0.7377\n",
      "Epoch 3: val_mcrmse improved from 4.26065 to 2.28773, saving model to /home/jupyter/automatic-essay-grading-DL/05_Model_files'/lstm_glove_weights_best\n"
     ]
    },
    {
     "name": "stderr",
     "output_type": "stream",
     "text": [
      "WARNING:absl:Found untraced functions such as _jit_compiled_convolution_op, _update_step_xla, lstm_cell_11_layer_call_fn, lstm_cell_11_layer_call_and_return_conditional_losses while saving (showing 4 of 4). These functions will not be directly callable after loading.\n"
     ]
    },
    {
     "name": "stdout",
     "output_type": "stream",
     "text": [
      "INFO:tensorflow:Assets written to: /home/jupyter/automatic-essay-grading-DL/05_Model_files'/lstm_glove_weights_best/assets\n"
     ]
    },
    {
     "name": "stderr",
     "output_type": "stream",
     "text": [
      "INFO:tensorflow:Assets written to: /home/jupyter/automatic-essay-grading-DL/05_Model_files'/lstm_glove_weights_best/assets\n"
     ]
    },
    {
     "name": "stdout",
     "output_type": "stream",
     "text": [
      "40/40 [==============================] - 37s 937ms/step - loss: 0.7363 - mcrmse: 0.7377 - val_loss: 2.2911 - val_mcrmse: 2.2877\n",
      "Epoch 4/20\n",
      "40/40 [==============================] - ETA: 0s - loss: 0.5910 - mcrmse: 0.5913\n",
      "Epoch 4: val_mcrmse improved from 2.28773 to 0.92373, saving model to /home/jupyter/automatic-essay-grading-DL/05_Model_files'/lstm_glove_weights_best\n"
     ]
    },
    {
     "name": "stderr",
     "output_type": "stream",
     "text": [
      "WARNING:absl:Found untraced functions such as _jit_compiled_convolution_op, _update_step_xla, lstm_cell_11_layer_call_fn, lstm_cell_11_layer_call_and_return_conditional_losses while saving (showing 4 of 4). These functions will not be directly callable after loading.\n"
     ]
    },
    {
     "name": "stdout",
     "output_type": "stream",
     "text": [
      "INFO:tensorflow:Assets written to: /home/jupyter/automatic-essay-grading-DL/05_Model_files'/lstm_glove_weights_best/assets\n"
     ]
    },
    {
     "name": "stderr",
     "output_type": "stream",
     "text": [
      "INFO:tensorflow:Assets written to: /home/jupyter/automatic-essay-grading-DL/05_Model_files'/lstm_glove_weights_best/assets\n"
     ]
    },
    {
     "name": "stdout",
     "output_type": "stream",
     "text": [
      "40/40 [==============================] - 37s 934ms/step - loss: 0.5910 - mcrmse: 0.5913 - val_loss: 0.9252 - val_mcrmse: 0.9237\n",
      "Epoch 5/20\n",
      "40/40 [==============================] - ETA: 0s - loss: 0.5114 - mcrmse: 0.5139\n",
      "Epoch 5: val_mcrmse improved from 0.92373 to 0.66642, saving model to /home/jupyter/automatic-essay-grading-DL/05_Model_files'/lstm_glove_weights_best\n"
     ]
    },
    {
     "name": "stderr",
     "output_type": "stream",
     "text": [
      "WARNING:absl:Found untraced functions such as _jit_compiled_convolution_op, _update_step_xla, lstm_cell_11_layer_call_fn, lstm_cell_11_layer_call_and_return_conditional_losses while saving (showing 4 of 4). These functions will not be directly callable after loading.\n"
     ]
    },
    {
     "name": "stdout",
     "output_type": "stream",
     "text": [
      "INFO:tensorflow:Assets written to: /home/jupyter/automatic-essay-grading-DL/05_Model_files'/lstm_glove_weights_best/assets\n"
     ]
    },
    {
     "name": "stderr",
     "output_type": "stream",
     "text": [
      "INFO:tensorflow:Assets written to: /home/jupyter/automatic-essay-grading-DL/05_Model_files'/lstm_glove_weights_best/assets\n"
     ]
    },
    {
     "name": "stdout",
     "output_type": "stream",
     "text": [
      "40/40 [==============================] - 36s 913ms/step - loss: 0.5114 - mcrmse: 0.5139 - val_loss: 0.6679 - val_mcrmse: 0.6664\n",
      "Epoch 6/20\n",
      "40/40 [==============================] - ETA: 0s - loss: 0.4891 - mcrmse: 0.4877\n",
      "Epoch 6: val_mcrmse did not improve from 0.66642\n",
      "40/40 [==============================] - 26s 660ms/step - loss: 0.4891 - mcrmse: 0.4877 - val_loss: 0.7047 - val_mcrmse: 0.7042\n",
      "Epoch 7/20\n",
      "40/40 [==============================] - ETA: 0s - loss: 0.4388 - mcrmse: 0.4445\n",
      "Epoch 7: val_mcrmse improved from 0.66642 to 0.64633, saving model to /home/jupyter/automatic-essay-grading-DL/05_Model_files'/lstm_glove_weights_best\n"
     ]
    },
    {
     "name": "stderr",
     "output_type": "stream",
     "text": [
      "WARNING:absl:Found untraced functions such as _jit_compiled_convolution_op, _update_step_xla, lstm_cell_11_layer_call_fn, lstm_cell_11_layer_call_and_return_conditional_losses while saving (showing 4 of 4). These functions will not be directly callable after loading.\n"
     ]
    },
    {
     "name": "stdout",
     "output_type": "stream",
     "text": [
      "INFO:tensorflow:Assets written to: /home/jupyter/automatic-essay-grading-DL/05_Model_files'/lstm_glove_weights_best/assets\n"
     ]
    },
    {
     "name": "stderr",
     "output_type": "stream",
     "text": [
      "INFO:tensorflow:Assets written to: /home/jupyter/automatic-essay-grading-DL/05_Model_files'/lstm_glove_weights_best/assets\n"
     ]
    },
    {
     "name": "stdout",
     "output_type": "stream",
     "text": [
      "40/40 [==============================] - 37s 936ms/step - loss: 0.4388 - mcrmse: 0.4445 - val_loss: 0.6476 - val_mcrmse: 0.6463\n",
      "Epoch 8/20\n",
      "40/40 [==============================] - ETA: 0s - loss: 0.4193 - mcrmse: 0.4231\n",
      "Epoch 8: val_mcrmse did not improve from 0.64633\n",
      "40/40 [==============================] - 26s 664ms/step - loss: 0.4193 - mcrmse: 0.4231 - val_loss: 0.6684 - val_mcrmse: 0.6673\n",
      "Epoch 9/20\n",
      "40/40 [==============================] - ETA: 0s - loss: 0.3924 - mcrmse: 0.3991\n",
      "Epoch 9: val_mcrmse did not improve from 0.64633\n",
      "40/40 [==============================] - 26s 654ms/step - loss: 0.3924 - mcrmse: 0.3991 - val_loss: 1.1979 - val_mcrmse: 1.1989\n",
      "Epoch 10/20\n",
      "40/40 [==============================] - ETA: 0s - loss: 0.3808 - mcrmse: 0.3938\n",
      "Epoch 10: val_mcrmse did not improve from 0.64633\n",
      "40/40 [==============================] - 26s 664ms/step - loss: 0.3808 - mcrmse: 0.3938 - val_loss: 0.7346 - val_mcrmse: 0.7339\n",
      "Epoch 11/20\n",
      "40/40 [==============================] - ETA: 0s - loss: 0.3914 - mcrmse: 0.3965\n",
      "Epoch 11: val_mcrmse did not improve from 0.64633\n",
      "40/40 [==============================] - 26s 654ms/step - loss: 0.3914 - mcrmse: 0.3965 - val_loss: 0.6583 - val_mcrmse: 0.6572\n",
      "Epoch 12/20\n",
      "40/40 [==============================] - ETA: 0s - loss: 0.3744 - mcrmse: 0.3829\n",
      "Epoch 12: val_mcrmse did not improve from 0.64633\n",
      "40/40 [==============================] - 27s 681ms/step - loss: 0.3744 - mcrmse: 0.3829 - val_loss: 0.6974 - val_mcrmse: 0.6976\n",
      "Epoch 13/20\n",
      "40/40 [==============================] - ETA: 0s - loss: 0.3518 - mcrmse: 0.3557\n",
      "Epoch 13: val_mcrmse did not improve from 0.64633\n",
      "40/40 [==============================] - 26s 646ms/step - loss: 0.3518 - mcrmse: 0.3557 - val_loss: 0.6756 - val_mcrmse: 0.6751\n",
      "Epoch 14/20\n",
      "40/40 [==============================] - ETA: 0s - loss: 0.3330 - mcrmse: 0.3423\n",
      "Epoch 14: val_mcrmse did not improve from 0.64633\n",
      "40/40 [==============================] - 25s 638ms/step - loss: 0.3330 - mcrmse: 0.3423 - val_loss: 0.6634 - val_mcrmse: 0.6628\n",
      "Epoch 15/20\n",
      "40/40 [==============================] - ETA: 0s - loss: 0.3307 - mcrmse: 0.3416\n",
      "Epoch 15: val_mcrmse did not improve from 0.64633\n",
      "40/40 [==============================] - 26s 648ms/step - loss: 0.3307 - mcrmse: 0.3416 - val_loss: 0.7150 - val_mcrmse: 0.7139\n",
      "Epoch 16/20\n",
      "40/40 [==============================] - ETA: 0s - loss: 0.3320 - mcrmse: 0.3441\n",
      "Epoch 16: val_mcrmse did not improve from 0.64633\n",
      "40/40 [==============================] - 26s 643ms/step - loss: 0.3320 - mcrmse: 0.3441 - val_loss: 0.6838 - val_mcrmse: 0.6837\n",
      "Epoch 17/20\n",
      "40/40 [==============================] - ETA: 0s - loss: 0.3028 - mcrmse: 0.3086\n",
      "Epoch 17: val_mcrmse did not improve from 0.64633\n",
      "40/40 [==============================] - 26s 647ms/step - loss: 0.3028 - mcrmse: 0.3086 - val_loss: 0.6675 - val_mcrmse: 0.6668\n",
      "Epoch 18/20\n",
      "40/40 [==============================] - ETA: 0s - loss: 0.3138 - mcrmse: 0.3193\n",
      "Epoch 18: val_mcrmse did not improve from 0.64633\n",
      "40/40 [==============================] - 26s 648ms/step - loss: 0.3138 - mcrmse: 0.3193 - val_loss: 0.6797 - val_mcrmse: 0.6797\n",
      "Epoch 19/20\n",
      "40/40 [==============================] - ETA: 0s - loss: 0.2856 - mcrmse: 0.2904\n",
      "Epoch 19: val_mcrmse did not improve from 0.64633\n",
      "40/40 [==============================] - 26s 650ms/step - loss: 0.2856 - mcrmse: 0.2904 - val_loss: 0.6699 - val_mcrmse: 0.6692\n",
      "Epoch 20/20\n",
      "40/40 [==============================] - ETA: 0s - loss: 0.2832 - mcrmse: 0.2907\n",
      "Epoch 20: val_mcrmse did not improve from 0.64633\n",
      "40/40 [==============================] - 26s 641ms/step - loss: 0.2832 - mcrmse: 0.2907 - val_loss: 0.6632 - val_mcrmse: 0.6627\n"
     ]
    }
   ],
   "source": [
    "filepath=\"/home/jupyter/automatic-essay-grading-DL/05_Model_files'/lstm_glove_weights_best\"\n",
    "checkpoint = ModelCheckpoint(filepath, monitor='val_mcrmse',\n",
    "                             verbose=1, save_best_only=True, save_weights_only=False, overwrite=True, mode='min')\n",
    "\n",
    "#only save model if it reduces MSE\n",
    "callbacks_list = [checkpoint]\n",
    "\n",
    "mod_lstm_cnn_history = mod_lstm_cnn.fit(X_train, Y_train,\n",
    "                    batch_size=batch_size, \n",
    "                    epochs=num_epochs,\n",
    "                    validation_split=0.2,\n",
    "                    callbacks = callbacks_list,\n",
    "                    verbose=1)\n"
   ]
  },
  {
   "cell_type": "code",
   "execution_count": 47,
   "id": "f58938a9-c5bf-495b-9402-837acadd5b89",
   "metadata": {},
   "outputs": [
    {
     "data": {
      "text/plain": [
       "dict_keys(['loss', 'mcrmse', 'val_loss', 'val_mcrmse'])"
      ]
     },
     "execution_count": 47,
     "metadata": {},
     "output_type": "execute_result"
    }
   ],
   "source": [
    "mod_lstm_cnn_history.history.keys()"
   ]
  },
  {
   "cell_type": "code",
   "execution_count": 33,
   "id": "74b2cab9-69b2-47f5-a94f-d7abd773a8ff",
   "metadata": {},
   "outputs": [],
   "source": [
    "def plot_train_rmse(history):\n",
    "    \"\"\"\n",
    "    Plot the keras epoch results thru training\n",
    "    \"\"\"\n",
    "    h = history.history\n",
    "    epochs = range(1, len(h['mcrmse']) + 1)\n",
    "    plt.subplots(1,1,figsize=(13,8))\n",
    "    plt.plot(epochs, h['mcrmse'], 'r', label='Training RMSE')\n",
    "    plt.plot(epochs, h['val_mcrmse'], 'g', label='Validation RMSE')\n",
    "    plt.title('Training and Validation RMSE')\n",
    "    plt.xlabel('Epochs')\n",
    "    plt.ylabel('RMSE')\n",
    "    plt.legend()\n",
    "    plt.show()"
   ]
  },
  {
   "cell_type": "code",
   "execution_count": 80,
   "id": "303b3450-cd84-4ae6-bf10-07c8485dfd71",
   "metadata": {},
   "outputs": [
    {
     "data": {
      "image/png": "[encoded data removed]",
      "text/plain": [
       "<Figure size 1300x800 with 1 Axes>"
      ]
     },
     "metadata": {},
     "output_type": "display_data"
    }
   ],
   "source": [
    "plot_train_rmse(mod_lstm_cnn_history)"
   ]
  },
  {
   "cell_type": "code",
   "execution_count": 82,
   "id": "9705e9aa-f35b-4ef9-a3cb-b6f991b02d95",
   "metadata": {},
   "outputs": [
    {
     "name": "stdout",
     "output_type": "stream",
     "text": [
      "25/25 [==============================] - 5s 194ms/step - loss: 0.6618 - mcrmse: 0.6610\n"
     ]
    },
    {
     "data": {
      "text/plain": [
       "[0.6617537140846252, 0.6609731912612915]"
      ]
     },
     "execution_count": 82,
     "metadata": {},
     "output_type": "execute_result"
    }
   ],
   "source": [
    "mod_lstm_cnn.evaluate(X_test,Y_test)"
   ]
  },
  {
   "cell_type": "markdown",
   "id": "0df86924-824e-465f-8ca3-2a88d205d1b7",
   "metadata": {},
   "source": [
    "### Adding more callbacks to alter learning rates and add early stopping"
   ]
  },
  {
   "cell_type": "code",
   "execution_count": 84,
   "id": "c076fedd-f3f3-4b92-936c-1abf7c9f8728",
   "metadata": {},
   "outputs": [],
   "source": [
    "from tensorflow.keras.callbacks import *\n",
    "import os\n",
    "reduce_lr = ReduceLROnPlateau(monitor = 'val_mcrmse', factor = 0.25, patience = 2, verbose = 1)\n",
    "earlystop = EarlyStopping(monitor = 'val_mcrmse',  mode=\"min\", min_delta = 0, patience = 25,verbose = 1)\n",
    "# filepath=\"/home/jupyter/automatic-essay-grading-DL/05_Model_files'/lstm_glove_weights_best\"\n",
    "# checkpoint = ModelCheckpoint(filepath, monitor='val_mcrmse',\n",
    "#                              verbose=1, save_best_only=True, save_weights_only=False, overwrite=True, mode='min')\n",
    "\n",
    "callbacks = [reduce_lr,earlystop]\n"
   ]
  },
  {
   "cell_type": "code",
   "execution_count": 100,
   "id": "3851b037-c38b-4463-9c68-038d08d956c6",
   "metadata": {},
   "outputs": [],
   "source": [
    "# re-instantiating the model\n",
    "\n",
    "def LSTM_CNN1D_2():\n",
    "    drop_lstm = 0.25\n",
    "    drop_dense = 0.25\n",
    "    num_lstm=150\n",
    "    \n",
    "    input_1 = Input(shape=(sequence_length,))\n",
    "    embedding_layer_1 = embedding_layer(input_1)\n",
    "    conv_1_1 = Convolution1D(64,3,strides=1, padding='same',activation='relu')(embedding_layer_1)\n",
    "    lstm_1_1 = LSTM(64,dropout=drop_lstm,return_sequences=True,dtype=tf.float32)(embedding_layer_1)\n",
    "    concate_1 = keras.layers.Concatenate(axis=-1)([conv_1_1, lstm_1_1])\n",
    "    flatten_1 = Flatten()(concate_1)\n",
    "\n",
    "    # creating further layers\n",
    "    x = Dense(128, activation = 'relu')(flatten_1)\n",
    "    x = BatchNormalization()(x)\n",
    "    x = Dense(64, activation = 'relu')(x)\n",
    "    x = BatchNormalization()(x)\n",
    "    x = Dense(32, activation = 'relu')(x)\n",
    "    x = BatchNormalization()(x)\n",
    "    x = Dense(16, activation = 'relu')(x)\n",
    "    output = Dense(6,activation='linear')(x)\n",
    "    \n",
    "    model = Model(inputs = [input_1], outputs = [output])\n",
    "    optimizer=Adam()\n",
    "    model.compile(optimizer=optimizer, loss = mcrmse, metrics = mcrmse)\n",
    "    return model"
   ]
  },
  {
   "cell_type": "code",
   "execution_count": 101,
   "id": "d242b90f-449e-493c-a291-154cb909756e",
   "metadata": {},
   "outputs": [
    {
     "name": "stdout",
     "output_type": "stream",
     "text": [
      "Model: \"model_16\"\n",
      "__________________________________________________________________________________________________\n",
      " Layer (type)                   Output Shape         Param #     Connected to                     \n",
      "==================================================================================================\n",
      " input_7 (InputLayer)           [(None, 1000)]       0           []                               \n",
      "                                                                                                  \n",
      " embedding_6 (Embedding)        (None, 1000, 100)    700200      ['input_7[0][0]']                \n",
      "                                                                                                  \n",
      " conv1d_20 (Conv1D)             (None, 1000, 64)     19264       ['embedding_6[9][0]']            \n",
      "                                                                                                  \n",
      " lstm_20 (LSTM)                 (None, 1000, 64)     42240       ['embedding_6[9][0]']            \n",
      "                                                                                                  \n",
      " concatenate_20 (Concatenate)   (None, 1000, 128)    0           ['conv1d_20[0][0]',              \n",
      "                                                                  'lstm_20[0][0]']                \n",
      "                                                                                                  \n",
      " flatten_20 (Flatten)           (None, 128000)       0           ['concatenate_20[0][0]']         \n",
      "                                                                                                  \n",
      " dense_83 (Dense)               (None, 128)          16384128    ['flatten_20[0][0]']             \n",
      "                                                                                                  \n",
      " batch_normalization_48 (BatchN  (None, 128)         512         ['dense_83[0][0]']               \n",
      " ormalization)                                                                                    \n",
      "                                                                                                  \n",
      " dense_84 (Dense)               (None, 64)           8256        ['batch_normalization_48[0][0]'] \n",
      "                                                                                                  \n",
      " batch_normalization_49 (BatchN  (None, 64)          256         ['dense_84[0][0]']               \n",
      " ormalization)                                                                                    \n",
      "                                                                                                  \n",
      " dense_85 (Dense)               (None, 32)           2080        ['batch_normalization_49[0][0]'] \n",
      "                                                                                                  \n",
      " batch_normalization_50 (BatchN  (None, 32)          128         ['dense_85[0][0]']               \n",
      " ormalization)                                                                                    \n",
      "                                                                                                  \n",
      " dense_86 (Dense)               (None, 16)           528         ['batch_normalization_50[0][0]'] \n",
      "                                                                                                  \n",
      " dense_87 (Dense)               (None, 6)            102         ['dense_86[0][0]']               \n",
      "                                                                                                  \n",
      "==================================================================================================\n",
      "Total params: 17,157,694\n",
      "Trainable params: 16,457,046\n",
      "Non-trainable params: 700,648\n",
      "__________________________________________________________________________________________________\n"
     ]
    }
   ],
   "source": [
    "mod_lstm_cnn2=LSTM_CNN1D_2()\n",
    "mod_lstm_cnn2.summary()"
   ]
  },
  {
   "cell_type": "code",
   "execution_count": 102,
   "id": "a31c9016-e6e6-4c3d-a79c-db99cd57b616",
   "metadata": {},
   "outputs": [
    {
     "name": "stdout",
     "output_type": "stream",
     "text": [
      "Epoch 1/20\n",
      "40/40 [==============================] - 26s 573ms/step - loss: 2.2156 - mcrmse: 2.2041 - val_loss: 2.4383 - val_mcrmse: 2.4344 - lr: 0.0010\n",
      "Epoch 2/20\n",
      "40/40 [==============================] - 22s 561ms/step - loss: 1.2537 - mcrmse: 1.2567 - val_loss: 2.7496 - val_mcrmse: 2.7459 - lr: 0.0010\n",
      "Epoch 3/20\n",
      "40/40 [==============================] - 22s 563ms/step - loss: 0.7747 - mcrmse: 0.7745 - val_loss: 1.0598 - val_mcrmse: 1.0571 - lr: 0.0010\n",
      "Epoch 4/20\n",
      "40/40 [==============================] - 22s 561ms/step - loss: 0.5594 - mcrmse: 0.5625 - val_loss: 0.7864 - val_mcrmse: 0.7853 - lr: 0.0010\n",
      "Epoch 5/20\n",
      "40/40 [==============================] - 22s 555ms/step - loss: 0.4906 - mcrmse: 0.4959 - val_loss: 0.6979 - val_mcrmse: 0.6958 - lr: 0.0010\n",
      "Epoch 6/20\n",
      "40/40 [==============================] - 22s 561ms/step - loss: 0.4628 - mcrmse: 0.4782 - val_loss: 0.7090 - val_mcrmse: 0.7080 - lr: 0.0010\n",
      "Epoch 7/20\n",
      "40/40 [==============================] - 22s 560ms/step - loss: 0.4138 - mcrmse: 0.4232 - val_loss: 0.6903 - val_mcrmse: 0.6895 - lr: 0.0010\n",
      "Epoch 8/20\n",
      "40/40 [==============================] - 22s 560ms/step - loss: 0.3892 - mcrmse: 0.3923 - val_loss: 0.7083 - val_mcrmse: 0.7067 - lr: 0.0010\n",
      "Epoch 9/20\n",
      "40/40 [==============================] - ETA: 0s - loss: 0.3764 - mcrmse: 0.3790\n",
      "Epoch 9: ReduceLROnPlateau reducing learning rate to 0.0002500000118743628.\n",
      "40/40 [==============================] - 22s 564ms/step - loss: 0.3764 - mcrmse: 0.3790 - val_loss: 0.6913 - val_mcrmse: 0.6908 - lr: 0.0010\n",
      "Epoch 10/20\n",
      "40/40 [==============================] - 22s 555ms/step - loss: 0.3395 - mcrmse: 0.3421 - val_loss: 0.6385 - val_mcrmse: 0.6373 - lr: 2.5000e-04\n",
      "Epoch 11/20\n",
      "40/40 [==============================] - 22s 555ms/step - loss: 0.3125 - mcrmse: 0.3134 - val_loss: 0.6386 - val_mcrmse: 0.6374 - lr: 2.5000e-04\n",
      "Epoch 12/20\n",
      "40/40 [==============================] - 22s 561ms/step - loss: 0.3060 - mcrmse: 0.3116 - val_loss: 0.6374 - val_mcrmse: 0.6362 - lr: 2.5000e-04\n",
      "Epoch 13/20\n",
      "40/40 [==============================] - 22s 555ms/step - loss: 0.2965 - mcrmse: 0.3038 - val_loss: 0.6521 - val_mcrmse: 0.6509 - lr: 2.5000e-04\n",
      "Epoch 14/20\n",
      "40/40 [==============================] - 22s 556ms/step - loss: 0.2934 - mcrmse: 0.3065 - val_loss: 0.6360 - val_mcrmse: 0.6347 - lr: 2.5000e-04\n",
      "Epoch 15/20\n",
      "40/40 [==============================] - 22s 553ms/step - loss: 0.2992 - mcrmse: 0.3043 - val_loss: 0.6331 - val_mcrmse: 0.6317 - lr: 2.5000e-04\n",
      "Epoch 16/20\n",
      "40/40 [==============================] - 22s 555ms/step - loss: 0.2727 - mcrmse: 0.2797 - val_loss: 0.6614 - val_mcrmse: 0.6604 - lr: 2.5000e-04\n",
      "Epoch 17/20\n",
      "40/40 [==============================] - 22s 562ms/step - loss: 0.2725 - mcrmse: 0.2822 - val_loss: 0.6302 - val_mcrmse: 0.6288 - lr: 2.5000e-04\n",
      "Epoch 18/20\n",
      "40/40 [==============================] - 22s 554ms/step - loss: 0.2699 - mcrmse: 0.2796 - val_loss: 0.6316 - val_mcrmse: 0.6303 - lr: 2.5000e-04\n",
      "Epoch 19/20\n",
      "40/40 [==============================] - ETA: 0s - loss: 0.2659 - mcrmse: 0.2719\n",
      "Epoch 19: ReduceLROnPlateau reducing learning rate to 6.25000029685907e-05.\n",
      "40/40 [==============================] - 22s 557ms/step - loss: 0.2659 - mcrmse: 0.2719 - val_loss: 0.6386 - val_mcrmse: 0.6373 - lr: 2.5000e-04\n",
      "Epoch 20/20\n",
      "40/40 [==============================] - 22s 559ms/step - loss: 0.2514 - mcrmse: 0.2581 - val_loss: 0.6320 - val_mcrmse: 0.6308 - lr: 6.2500e-05\n"
     ]
    }
   ],
   "source": [
    "num_epochs=20\n",
    "mod_lstm_cnn2_history = mod_lstm_cnn2.fit(X_train, Y_train,\n",
    "                    batch_size=batch_size, \n",
    "                    epochs=num_epochs,\n",
    "                    validation_split=0.2,\n",
    "                    callbacks = callbacks,\n",
    "                    verbose=1)"
   ]
  },
  {
   "cell_type": "code",
   "execution_count": 103,
   "id": "32f2c4a8-97da-4cb5-b84e-96180ec81971",
   "metadata": {},
   "outputs": [
    {
     "data": {
      "image/png": "[encoded data removed]",
      "text/plain": [
       "<Figure size 1300x800 with 1 Axes>"
      ]
     },
     "metadata": {},
     "output_type": "display_data"
    }
   ],
   "source": [
    "plot_train_rmse(mod_lstm_cnn2_history)"
   ]
  },
  {
   "cell_type": "code",
   "execution_count": 104,
   "id": "33db448a-ceb5-4a42-a3a5-22fa04167f55",
   "metadata": {},
   "outputs": [
    {
     "name": "stdout",
     "output_type": "stream",
     "text": [
      "25/25 [==============================] - 3s 117ms/step - loss: 0.6417 - mcrmse: 0.6402\n"
     ]
    },
    {
     "data": {
      "text/plain": [
       "[0.6417043209075928, 0.6402416229248047]"
      ]
     },
     "execution_count": 104,
     "metadata": {},
     "output_type": "execute_result"
    }
   ],
   "source": [
    "mod_lstm_cnn2.evaluate(X_test,Y_test)"
   ]
  },
  {
   "cell_type": "markdown",
   "id": "df9ac69f-5e17-4a76-b845-eaf6d1440414",
   "metadata": {
    "jp-MarkdownHeadingCollapsed": true,
    "tags": []
   },
   "source": [
    "----\n",
    "## MODEL 3: Pushing the text through another Conv1D + LSTM layer"
   ]
  },
  {
   "cell_type": "code",
   "execution_count": 36,
   "id": "c106baf7-645b-4c69-952c-230c0814360d",
   "metadata": {},
   "outputs": [],
   "source": [
    "def LSTM_CNN1D_3():\n",
    "    drop_lstm = 0.25\n",
    "    drop_dense = 0.25\n",
    "    num_lstm=150\n",
    "    \n",
    "    input_1 = Input(shape=(sequence_length,))\n",
    "    embedding_layer_1 = embedding_layer(input_1)\n",
    "    conv_1_1 = Convolution1D(64,3,strides=1, padding='same',activation='relu')(embedding_layer_1)\n",
    "    lstm_1_1 = LSTM(64,dropout=drop_lstm,return_sequences=True,dtype=tf.float32)(embedding_layer_1)\n",
    "    concate_1 = keras.layers.Concatenate(axis=-1)([conv_1_1, lstm_1_1])\n",
    "    flatten_1 = Flatten()(concate_1)\n",
    "\n",
    "    input_2 = Input(shape=(sequence_length,))\n",
    "    embedding_layer_2 = embedding_layer(input_2)\n",
    "    conv_1_1 = Convolution1D(128,3,strides=1, padding='same',activation='relu')(embedding_layer_2)\n",
    "    lstm_1_2 = LSTM(128,dropout=drop_lstm,return_sequences=True,dtype=tf.float32)(embedding_layer_2)\n",
    "    concate_2 = keras.layers.Concatenate(axis=-1)([conv_1_1, lstm_1_2])\n",
    "    flatten_2 = Flatten()(concate_2)\n",
    "\n",
    "    concatenated_layer = keras.layers.concatenate([flatten_1,flatten_2],axis=-1)\n",
    "\n",
    "    # creating further layers\n",
    "    x = Dense(128, activation = 'relu')(concatenated_layer)\n",
    "    x = BatchNormalization()(x)\n",
    "    x = Dense(64, activation = 'relu')(x)\n",
    "    x = BatchNormalization()(x)\n",
    "    x = Dense(32, activation = 'relu')(x)\n",
    "    x = BatchNormalization()(x)\n",
    "    x = Dense(16, activation = 'relu')(x)\n",
    "    output = Dense(6,activation='linear')(x)\n",
    "    \n",
    "    model = Model(inputs = [input_1,input_2], outputs = [output])\n",
    "    optimizer=Adam()\n",
    "    model.compile(optimizer=optimizer, loss = mcrmse, metrics = mcrmse)\n",
    "    return model"
   ]
  },
  {
   "cell_type": "code",
   "execution_count": 37,
   "id": "efd56910-00e8-4cf4-83a8-46265e74489c",
   "metadata": {},
   "outputs": [
    {
     "name": "stdout",
     "output_type": "stream",
     "text": [
      "Model: \"model_1\"\n",
      "__________________________________________________________________________________________________\n",
      " Layer (type)                   Output Shape         Param #     Connected to                     \n",
      "==================================================================================================\n",
      " input_4 (InputLayer)           [(None, 1000)]       0           []                               \n",
      "                                                                                                  \n",
      " input_5 (InputLayer)           [(None, 1000)]       0           []                               \n",
      "                                                                                                  \n",
      " embedding (Embedding)          (None, 1000, 100)    700200      ['input_4[0][0]',                \n",
      "                                                                  'input_5[0][0]']                \n",
      "                                                                                                  \n",
      " conv1d_2 (Conv1D)              (None, 1000, 64)     19264       ['embedding[2][0]']              \n",
      "                                                                                                  \n",
      " lstm_2 (LSTM)                  (None, 1000, 64)     42240       ['embedding[2][0]']              \n",
      "                                                                                                  \n",
      " conv1d_3 (Conv1D)              (None, 1000, 128)    38528       ['embedding[3][0]']              \n",
      "                                                                                                  \n",
      " lstm_3 (LSTM)                  (None, 1000, 128)    117248      ['embedding[3][0]']              \n",
      "                                                                                                  \n",
      " concatenate_3 (Concatenate)    (None, 1000, 128)    0           ['conv1d_2[0][0]',               \n",
      "                                                                  'lstm_2[0][0]']                 \n",
      "                                                                                                  \n",
      " concatenate_4 (Concatenate)    (None, 1000, 256)    0           ['conv1d_3[0][0]',               \n",
      "                                                                  'lstm_3[0][0]']                 \n",
      "                                                                                                  \n",
      " flatten_2 (Flatten)            (None, 128000)       0           ['concatenate_3[0][0]']          \n",
      "                                                                                                  \n",
      " flatten_3 (Flatten)            (None, 256000)       0           ['concatenate_4[0][0]']          \n",
      "                                                                                                  \n",
      " concatenate_5 (Concatenate)    (None, 384000)       0           ['flatten_2[0][0]',              \n",
      "                                                                  'flatten_3[0][0]']              \n",
      "                                                                                                  \n",
      " dense_5 (Dense)                (None, 128)          49152128    ['concatenate_5[0][0]']          \n",
      "                                                                                                  \n",
      " batch_normalization_3 (BatchNo  (None, 128)         512         ['dense_5[0][0]']                \n",
      " rmalization)                                                                                     \n",
      "                                                                                                  \n",
      " dense_6 (Dense)                (None, 64)           8256        ['batch_normalization_3[0][0]']  \n",
      "                                                                                                  \n",
      " batch_normalization_4 (BatchNo  (None, 64)          256         ['dense_6[0][0]']                \n",
      " rmalization)                                                                                     \n",
      "                                                                                                  \n",
      " dense_7 (Dense)                (None, 32)           2080        ['batch_normalization_4[0][0]']  \n",
      "                                                                                                  \n",
      " batch_normalization_5 (BatchNo  (None, 32)          128         ['dense_7[0][0]']                \n",
      " rmalization)                                                                                     \n",
      "                                                                                                  \n",
      " dense_8 (Dense)                (None, 16)           528         ['batch_normalization_5[0][0]']  \n",
      "                                                                                                  \n",
      " dense_9 (Dense)                (None, 6)            102         ['dense_8[0][0]']                \n",
      "                                                                                                  \n",
      "==================================================================================================\n",
      "Total params: 50,081,470\n",
      "Trainable params: 49,380,822\n",
      "Non-trainable params: 700,648\n",
      "__________________________________________________________________________________________________\n"
     ]
    }
   ],
   "source": [
    "mod_lstm_cnn3=LSTM_CNN1D_3()\n",
    "mod_lstm_cnn3.summary()"
   ]
  },
  {
   "cell_type": "code",
   "execution_count": 49,
   "id": "bec7e9e1-6b02-4e0c-9448-0433d5667eb4",
   "metadata": {},
   "outputs": [],
   "source": [
    "from IPython.display import SVG\n",
    "from keras.utils.vis_utils import model_to_dot\n",
    "svg_image=SVG(model_to_dot(mod_lstm_cnn3, show_shapes=True, dpi=150).create(prog='dot', format='svg'))\n",
    "with open(\"model_plot.svg\", \"w\") as f:\n",
    "    f.write(svg_image.data)"
   ]
  },
  {
   "cell_type": "code",
   "execution_count": 29,
   "id": "fe1f0580-8ad8-40ee-bf53-efb4553683c8",
   "metadata": {},
   "outputs": [],
   "source": [
    "from tensorflow.keras.callbacks import *\n",
    "import os\n",
    "reduce_lr = ReduceLROnPlateau(monitor = 'val_mcrmse', factor = 0.25, patience = 2, verbose = 1)\n",
    "earlystop = EarlyStopping(monitor = 'val_mcrmse',  mode=\"min\", min_delta = 0, patience = 25,verbose = 1)\n",
    "filepath=\"/home/jupyter/automatic-essay-grading-DL/05_Model_files'/cnn_lstm_glove_weights_best\"\n",
    "checkpoint = ModelCheckpoint(filepath, monitor='val_mcrmse',verbose=1, save_best_only=True, save_weights_only=False, overwrite=True, mode='min')\n",
    "\n",
    "callbacks = [reduce_lr,earlystop,checkpoint]"
   ]
  },
  {
   "cell_type": "code",
   "execution_count": 30,
   "id": "fa024d53-3770-45a3-bbf3-1fba9c8a14b6",
   "metadata": {},
   "outputs": [],
   "source": [
    "X_train_3=[vectorizer(np.array([[s] for s in train_samples])).numpy(),vectorizer(np.array([[s] for s in train_samples])).numpy()]"
   ]
  },
  {
   "cell_type": "code",
   "execution_count": 31,
   "id": "9297dfd1-6d22-43a7-aa43-87694e0ec767",
   "metadata": {
    "tags": []
   },
   "outputs": [
    {
     "name": "stdout",
     "output_type": "stream",
     "text": [
      "Epoch 1/30\n",
      "40/40 [==============================] - ETA: 0s - loss: 2.6367 - mcrmse: 2.6237\n",
      "Epoch 1: val_mcrmse improved from inf to 2.18057, saving model to /home/jupyter/automatic-essay-grading-DL/05_Model_files'/cnn_lstm_glove_weights_best\n"
     ]
    },
    {
     "name": "stderr",
     "output_type": "stream",
     "text": [
      "WARNING:absl:Found untraced functions such as _jit_compiled_convolution_op, _jit_compiled_convolution_op, _update_step_xla, lstm_cell_2_layer_call_fn, lstm_cell_2_layer_call_and_return_conditional_losses while saving (showing 5 of 7). These functions will not be directly callable after loading.\n"
     ]
    },
    {
     "name": "stdout",
     "output_type": "stream",
     "text": [
      "INFO:tensorflow:Assets written to: /home/jupyter/automatic-essay-grading-DL/05_Model_files'/cnn_lstm_glove_weights_best/assets\n"
     ]
    },
    {
     "name": "stderr",
     "output_type": "stream",
     "text": [
      "INFO:tensorflow:Assets written to: /home/jupyter/automatic-essay-grading-DL/05_Model_files'/cnn_lstm_glove_weights_best/assets\n"
     ]
    },
    {
     "name": "stdout",
     "output_type": "stream",
     "text": [
      "40/40 [==============================] - 78s 2s/step - loss: 2.6367 - mcrmse: 2.6237 - val_loss: 2.1811 - val_mcrmse: 2.1806 - lr: 0.0010\n",
      "Epoch 2/30\n",
      "40/40 [==============================] - ETA: 0s - loss: 1.6090 - mcrmse: 1.6003\n",
      "Epoch 2: val_mcrmse improved from 2.18057 to 1.83266, saving model to /home/jupyter/automatic-essay-grading-DL/05_Model_files'/cnn_lstm_glove_weights_best\n"
     ]
    },
    {
     "name": "stderr",
     "output_type": "stream",
     "text": [
      "WARNING:absl:Found untraced functions such as _jit_compiled_convolution_op, _jit_compiled_convolution_op, _update_step_xla, lstm_cell_2_layer_call_fn, lstm_cell_2_layer_call_and_return_conditional_losses while saving (showing 5 of 7). These functions will not be directly callable after loading.\n"
     ]
    },
    {
     "name": "stdout",
     "output_type": "stream",
     "text": [
      "INFO:tensorflow:Assets written to: /home/jupyter/automatic-essay-grading-DL/05_Model_files'/cnn_lstm_glove_weights_best/assets\n"
     ]
    },
    {
     "name": "stderr",
     "output_type": "stream",
     "text": [
      "INFO:tensorflow:Assets written to: /home/jupyter/automatic-essay-grading-DL/05_Model_files'/cnn_lstm_glove_weights_best/assets\n"
     ]
    },
    {
     "name": "stdout",
     "output_type": "stream",
     "text": [
      "40/40 [==============================] - 70s 2s/step - loss: 1.6090 - mcrmse: 1.6003 - val_loss: 1.8378 - val_mcrmse: 1.8327 - lr: 0.0010\n",
      "Epoch 3/30\n",
      "40/40 [==============================] - ETA: 0s - loss: 0.9226 - mcrmse: 0.9279\n",
      "Epoch 3: val_mcrmse improved from 1.83266 to 1.49585, saving model to /home/jupyter/automatic-essay-grading-DL/05_Model_files'/cnn_lstm_glove_weights_best\n"
     ]
    },
    {
     "name": "stderr",
     "output_type": "stream",
     "text": [
      "WARNING:absl:Found untraced functions such as _jit_compiled_convolution_op, _jit_compiled_convolution_op, _update_step_xla, lstm_cell_2_layer_call_fn, lstm_cell_2_layer_call_and_return_conditional_losses while saving (showing 5 of 7). These functions will not be directly callable after loading.\n"
     ]
    },
    {
     "name": "stdout",
     "output_type": "stream",
     "text": [
      "INFO:tensorflow:Assets written to: /home/jupyter/automatic-essay-grading-DL/05_Model_files'/cnn_lstm_glove_weights_best/assets\n"
     ]
    },
    {
     "name": "stderr",
     "output_type": "stream",
     "text": [
      "INFO:tensorflow:Assets written to: /home/jupyter/automatic-essay-grading-DL/05_Model_files'/cnn_lstm_glove_weights_best/assets\n"
     ]
    },
    {
     "name": "stdout",
     "output_type": "stream",
     "text": [
      "40/40 [==============================] - 70s 2s/step - loss: 0.9226 - mcrmse: 0.9279 - val_loss: 1.4981 - val_mcrmse: 1.4958 - lr: 0.0010\n",
      "Epoch 4/30\n",
      "40/40 [==============================] - ETA: 0s - loss: 0.7191 - mcrmse: 0.7339\n",
      "Epoch 4: val_mcrmse improved from 1.49585 to 1.03416, saving model to /home/jupyter/automatic-essay-grading-DL/05_Model_files'/cnn_lstm_glove_weights_best\n"
     ]
    },
    {
     "name": "stderr",
     "output_type": "stream",
     "text": [
      "WARNING:absl:Found untraced functions such as _jit_compiled_convolution_op, _jit_compiled_convolution_op, _update_step_xla, lstm_cell_2_layer_call_fn, lstm_cell_2_layer_call_and_return_conditional_losses while saving (showing 5 of 7). These functions will not be directly callable after loading.\n"
     ]
    },
    {
     "name": "stdout",
     "output_type": "stream",
     "text": [
      "INFO:tensorflow:Assets written to: /home/jupyter/automatic-essay-grading-DL/05_Model_files'/cnn_lstm_glove_weights_best/assets\n"
     ]
    },
    {
     "name": "stderr",
     "output_type": "stream",
     "text": [
      "INFO:tensorflow:Assets written to: /home/jupyter/automatic-essay-grading-DL/05_Model_files'/cnn_lstm_glove_weights_best/assets\n"
     ]
    },
    {
     "name": "stdout",
     "output_type": "stream",
     "text": [
      "40/40 [==============================] - 70s 2s/step - loss: 0.7191 - mcrmse: 0.7339 - val_loss: 1.0353 - val_mcrmse: 1.0342 - lr: 0.0010\n",
      "Epoch 5/30\n",
      "40/40 [==============================] - ETA: 0s - loss: 0.6444 - mcrmse: 0.6502\n",
      "Epoch 5: val_mcrmse improved from 1.03416 to 0.90630, saving model to /home/jupyter/automatic-essay-grading-DL/05_Model_files'/cnn_lstm_glove_weights_best\n"
     ]
    },
    {
     "name": "stderr",
     "output_type": "stream",
     "text": [
      "WARNING:absl:Found untraced functions such as _jit_compiled_convolution_op, _jit_compiled_convolution_op, _update_step_xla, lstm_cell_2_layer_call_fn, lstm_cell_2_layer_call_and_return_conditional_losses while saving (showing 5 of 7). These functions will not be directly callable after loading.\n"
     ]
    },
    {
     "name": "stdout",
     "output_type": "stream",
     "text": [
      "INFO:tensorflow:Assets written to: /home/jupyter/automatic-essay-grading-DL/05_Model_files'/cnn_lstm_glove_weights_best/assets\n"
     ]
    },
    {
     "name": "stderr",
     "output_type": "stream",
     "text": [
      "INFO:tensorflow:Assets written to: /home/jupyter/automatic-essay-grading-DL/05_Model_files'/cnn_lstm_glove_weights_best/assets\n"
     ]
    },
    {
     "name": "stdout",
     "output_type": "stream",
     "text": [
      "40/40 [==============================] - 73s 2s/step - loss: 0.6444 - mcrmse: 0.6502 - val_loss: 0.9062 - val_mcrmse: 0.9063 - lr: 0.0010\n",
      "Epoch 6/30\n",
      "40/40 [==============================] - ETA: 0s - loss: 0.6007 - mcrmse: 0.6124\n",
      "Epoch 6: val_mcrmse did not improve from 0.90630\n",
      "40/40 [==============================] - 53s 1s/step - loss: 0.6007 - mcrmse: 0.6124 - val_loss: 0.9859 - val_mcrmse: 0.9868 - lr: 0.0010\n",
      "Epoch 7/30\n",
      "40/40 [==============================] - ETA: 0s - loss: 0.5283 - mcrmse: 0.5372\n",
      "Epoch 7: val_mcrmse improved from 0.90630 to 0.74060, saving model to /home/jupyter/automatic-essay-grading-DL/05_Model_files'/cnn_lstm_glove_weights_best\n"
     ]
    },
    {
     "name": "stderr",
     "output_type": "stream",
     "text": [
      "WARNING:absl:Found untraced functions such as _jit_compiled_convolution_op, _jit_compiled_convolution_op, _update_step_xla, lstm_cell_2_layer_call_fn, lstm_cell_2_layer_call_and_return_conditional_losses while saving (showing 5 of 7). These functions will not be directly callable after loading.\n"
     ]
    },
    {
     "name": "stdout",
     "output_type": "stream",
     "text": [
      "INFO:tensorflow:Assets written to: /home/jupyter/automatic-essay-grading-DL/05_Model_files'/cnn_lstm_glove_weights_best/assets\n"
     ]
    },
    {
     "name": "stderr",
     "output_type": "stream",
     "text": [
      "INFO:tensorflow:Assets written to: /home/jupyter/automatic-essay-grading-DL/05_Model_files'/cnn_lstm_glove_weights_best/assets\n"
     ]
    },
    {
     "name": "stdout",
     "output_type": "stream",
     "text": [
      "40/40 [==============================] - 73s 2s/step - loss: 0.5283 - mcrmse: 0.5372 - val_loss: 0.7401 - val_mcrmse: 0.7406 - lr: 0.0010\n",
      "Epoch 8/30\n",
      "40/40 [==============================] - ETA: 0s - loss: 0.4779 - mcrmse: 0.4797\n",
      "Epoch 8: val_mcrmse improved from 0.74060 to 0.73054, saving model to /home/jupyter/automatic-essay-grading-DL/05_Model_files'/cnn_lstm_glove_weights_best\n"
     ]
    },
    {
     "name": "stderr",
     "output_type": "stream",
     "text": [
      "WARNING:absl:Found untraced functions such as _jit_compiled_convolution_op, _jit_compiled_convolution_op, _update_step_xla, lstm_cell_2_layer_call_fn, lstm_cell_2_layer_call_and_return_conditional_losses while saving (showing 5 of 7). These functions will not be directly callable after loading.\n"
     ]
    },
    {
     "name": "stdout",
     "output_type": "stream",
     "text": [
      "INFO:tensorflow:Assets written to: /home/jupyter/automatic-essay-grading-DL/05_Model_files'/cnn_lstm_glove_weights_best/assets\n"
     ]
    },
    {
     "name": "stderr",
     "output_type": "stream",
     "text": [
      "INFO:tensorflow:Assets written to: /home/jupyter/automatic-essay-grading-DL/05_Model_files'/cnn_lstm_glove_weights_best/assets\n"
     ]
    },
    {
     "name": "stdout",
     "output_type": "stream",
     "text": [
      "40/40 [==============================] - 95s 2s/step - loss: 0.4779 - mcrmse: 0.4797 - val_loss: 0.7308 - val_mcrmse: 0.7305 - lr: 0.0010\n",
      "Epoch 9/30\n",
      "40/40 [==============================] - ETA: 0s - loss: 0.4476 - mcrmse: 0.4547\n",
      "Epoch 9: val_mcrmse did not improve from 0.73054\n",
      "40/40 [==============================] - 69s 2s/step - loss: 0.4476 - mcrmse: 0.4547 - val_loss: 0.7733 - val_mcrmse: 0.7736 - lr: 0.0010\n",
      "Epoch 10/30\n",
      "40/40 [==============================] - ETA: 0s - loss: 0.4408 - mcrmse: 0.4447\n",
      "Epoch 10: val_mcrmse improved from 0.73054 to 0.67897, saving model to /home/jupyter/automatic-essay-grading-DL/05_Model_files'/cnn_lstm_glove_weights_best\n"
     ]
    },
    {
     "name": "stderr",
     "output_type": "stream",
     "text": [
      "WARNING:absl:Found untraced functions such as _jit_compiled_convolution_op, _jit_compiled_convolution_op, _update_step_xla, lstm_cell_2_layer_call_fn, lstm_cell_2_layer_call_and_return_conditional_losses while saving (showing 5 of 7). These functions will not be directly callable after loading.\n"
     ]
    },
    {
     "name": "stdout",
     "output_type": "stream",
     "text": [
      "INFO:tensorflow:Assets written to: /home/jupyter/automatic-essay-grading-DL/05_Model_files'/cnn_lstm_glove_weights_best/assets\n"
     ]
    },
    {
     "name": "stderr",
     "output_type": "stream",
     "text": [
      "INFO:tensorflow:Assets written to: /home/jupyter/automatic-essay-grading-DL/05_Model_files'/cnn_lstm_glove_weights_best/assets\n"
     ]
    },
    {
     "name": "stdout",
     "output_type": "stream",
     "text": [
      "40/40 [==============================] - 96s 2s/step - loss: 0.4408 - mcrmse: 0.4447 - val_loss: 0.6795 - val_mcrmse: 0.6790 - lr: 0.0010\n",
      "Epoch 11/30\n",
      "40/40 [==============================] - ETA: 0s - loss: 0.4210 - mcrmse: 0.4229\n",
      "Epoch 11: val_mcrmse did not improve from 0.67897\n",
      "40/40 [==============================] - 69s 2s/step - loss: 0.4210 - mcrmse: 0.4229 - val_loss: 0.6934 - val_mcrmse: 0.6924 - lr: 0.0010\n",
      "Epoch 12/30\n",
      "40/40 [==============================] - ETA: 0s - loss: 0.3806 - mcrmse: 0.3855\n",
      "Epoch 12: val_mcrmse improved from 0.67897 to 0.66325, saving model to /home/jupyter/automatic-essay-grading-DL/05_Model_files'/cnn_lstm_glove_weights_best\n"
     ]
    },
    {
     "name": "stderr",
     "output_type": "stream",
     "text": [
      "WARNING:absl:Found untraced functions such as _jit_compiled_convolution_op, _jit_compiled_convolution_op, _update_step_xla, lstm_cell_2_layer_call_fn, lstm_cell_2_layer_call_and_return_conditional_losses while saving (showing 5 of 7). These functions will not be directly callable after loading.\n"
     ]
    },
    {
     "name": "stdout",
     "output_type": "stream",
     "text": [
      "INFO:tensorflow:Assets written to: /home/jupyter/automatic-essay-grading-DL/05_Model_files'/cnn_lstm_glove_weights_best/assets\n"
     ]
    },
    {
     "name": "stderr",
     "output_type": "stream",
     "text": [
      "INFO:tensorflow:Assets written to: /home/jupyter/automatic-essay-grading-DL/05_Model_files'/cnn_lstm_glove_weights_best/assets\n"
     ]
    },
    {
     "name": "stdout",
     "output_type": "stream",
     "text": [
      "40/40 [==============================] - 93s 2s/step - loss: 0.3806 - mcrmse: 0.3855 - val_loss: 0.6642 - val_mcrmse: 0.6632 - lr: 0.0010\n",
      "Epoch 13/30\n",
      "40/40 [==============================] - ETA: 0s - loss: 0.3794 - mcrmse: 0.4007\n",
      "Epoch 13: val_mcrmse improved from 0.66325 to 0.65710, saving model to /home/jupyter/automatic-essay-grading-DL/05_Model_files'/cnn_lstm_glove_weights_best\n"
     ]
    },
    {
     "name": "stderr",
     "output_type": "stream",
     "text": [
      "WARNING:absl:Found untraced functions such as _jit_compiled_convolution_op, _jit_compiled_convolution_op, _update_step_xla, lstm_cell_2_layer_call_fn, lstm_cell_2_layer_call_and_return_conditional_losses while saving (showing 5 of 7). These functions will not be directly callable after loading.\n"
     ]
    },
    {
     "name": "stdout",
     "output_type": "stream",
     "text": [
      "INFO:tensorflow:Assets written to: /home/jupyter/automatic-essay-grading-DL/05_Model_files'/cnn_lstm_glove_weights_best/assets\n"
     ]
    },
    {
     "name": "stderr",
     "output_type": "stream",
     "text": [
      "INFO:tensorflow:Assets written to: /home/jupyter/automatic-essay-grading-DL/05_Model_files'/cnn_lstm_glove_weights_best/assets\n"
     ]
    },
    {
     "name": "stdout",
     "output_type": "stream",
     "text": [
      "40/40 [==============================] - 93s 2s/step - loss: 0.3794 - mcrmse: 0.4007 - val_loss: 0.6569 - val_mcrmse: 0.6571 - lr: 0.0010\n",
      "Epoch 14/30\n",
      "40/40 [==============================] - ETA: 0s - loss: 0.3486 - mcrmse: 0.3659\n",
      "Epoch 14: val_mcrmse did not improve from 0.65710\n",
      "40/40 [==============================] - 69s 2s/step - loss: 0.3486 - mcrmse: 0.3659 - val_loss: 0.6802 - val_mcrmse: 0.6809 - lr: 0.0010\n",
      "Epoch 15/30\n",
      "40/40 [==============================] - ETA: 0s - loss: 0.3689 - mcrmse: 0.3744\n",
      "Epoch 15: val_mcrmse improved from 0.65710 to 0.64199, saving model to /home/jupyter/automatic-essay-grading-DL/05_Model_files'/cnn_lstm_glove_weights_best\n"
     ]
    },
    {
     "name": "stderr",
     "output_type": "stream",
     "text": [
      "WARNING:absl:Found untraced functions such as _jit_compiled_convolution_op, _jit_compiled_convolution_op, _update_step_xla, lstm_cell_2_layer_call_fn, lstm_cell_2_layer_call_and_return_conditional_losses while saving (showing 5 of 7). These functions will not be directly callable after loading.\n"
     ]
    },
    {
     "name": "stdout",
     "output_type": "stream",
     "text": [
      "INFO:tensorflow:Assets written to: /home/jupyter/automatic-essay-grading-DL/05_Model_files'/cnn_lstm_glove_weights_best/assets\n"
     ]
    },
    {
     "name": "stderr",
     "output_type": "stream",
     "text": [
      "INFO:tensorflow:Assets written to: /home/jupyter/automatic-essay-grading-DL/05_Model_files'/cnn_lstm_glove_weights_best/assets\n"
     ]
    },
    {
     "name": "stdout",
     "output_type": "stream",
     "text": [
      "40/40 [==============================] - 94s 2s/step - loss: 0.3689 - mcrmse: 0.3744 - val_loss: 0.6420 - val_mcrmse: 0.6420 - lr: 0.0010\n",
      "Epoch 16/30\n",
      "40/40 [==============================] - ETA: 0s - loss: 0.3388 - mcrmse: 0.3462\n",
      "Epoch 16: val_mcrmse did not improve from 0.64199\n",
      "40/40 [==============================] - 68s 2s/step - loss: 0.3388 - mcrmse: 0.3462 - val_loss: 0.6558 - val_mcrmse: 0.6557 - lr: 0.0010\n",
      "Epoch 17/30\n",
      "40/40 [==============================] - ETA: 0s - loss: 0.3424 - mcrmse: 0.3461\n",
      "Epoch 17: ReduceLROnPlateau reducing learning rate to 0.0002500000118743628.\n",
      "\n",
      "Epoch 17: val_mcrmse did not improve from 0.64199\n",
      "40/40 [==============================] - 76s 2s/step - loss: 0.3424 - mcrmse: 0.3461 - val_loss: 0.6458 - val_mcrmse: 0.6450 - lr: 0.0010\n",
      "Epoch 18/30\n",
      "40/40 [==============================] - ETA: 0s - loss: 0.3087 - mcrmse: 0.3147\n",
      "Epoch 18: val_mcrmse improved from 0.64199 to 0.62828, saving model to /home/jupyter/automatic-essay-grading-DL/05_Model_files'/cnn_lstm_glove_weights_best\n"
     ]
    },
    {
     "name": "stderr",
     "output_type": "stream",
     "text": [
      "WARNING:absl:Found untraced functions such as _jit_compiled_convolution_op, _jit_compiled_convolution_op, _update_step_xla, lstm_cell_2_layer_call_fn, lstm_cell_2_layer_call_and_return_conditional_losses while saving (showing 5 of 7). These functions will not be directly callable after loading.\n"
     ]
    },
    {
     "name": "stdout",
     "output_type": "stream",
     "text": [
      "INFO:tensorflow:Assets written to: /home/jupyter/automatic-essay-grading-DL/05_Model_files'/cnn_lstm_glove_weights_best/assets\n"
     ]
    },
    {
     "name": "stderr",
     "output_type": "stream",
     "text": [
      "INFO:tensorflow:Assets written to: /home/jupyter/automatic-essay-grading-DL/05_Model_files'/cnn_lstm_glove_weights_best/assets\n"
     ]
    },
    {
     "name": "stdout",
     "output_type": "stream",
     "text": [
      "40/40 [==============================] - 110s 3s/step - loss: 0.3087 - mcrmse: 0.3147 - val_loss: 0.6290 - val_mcrmse: 0.6283 - lr: 2.5000e-04\n",
      "Epoch 19/30\n",
      "40/40 [==============================] - ETA: 0s - loss: 0.3078 - mcrmse: 0.3293\n",
      "Epoch 19: val_mcrmse improved from 0.62828 to 0.62563, saving model to /home/jupyter/automatic-essay-grading-DL/05_Model_files'/cnn_lstm_glove_weights_best\n"
     ]
    },
    {
     "name": "stderr",
     "output_type": "stream",
     "text": [
      "WARNING:absl:Found untraced functions such as _jit_compiled_convolution_op, _jit_compiled_convolution_op, _update_step_xla, lstm_cell_2_layer_call_fn, lstm_cell_2_layer_call_and_return_conditional_losses while saving (showing 5 of 7). These functions will not be directly callable after loading.\n"
     ]
    },
    {
     "name": "stdout",
     "output_type": "stream",
     "text": [
      "INFO:tensorflow:Assets written to: /home/jupyter/automatic-essay-grading-DL/05_Model_files'/cnn_lstm_glove_weights_best/assets\n"
     ]
    },
    {
     "name": "stderr",
     "output_type": "stream",
     "text": [
      "INFO:tensorflow:Assets written to: /home/jupyter/automatic-essay-grading-DL/05_Model_files'/cnn_lstm_glove_weights_best/assets\n"
     ]
    },
    {
     "name": "stdout",
     "output_type": "stream",
     "text": [
      "40/40 [==============================] - 100s 3s/step - loss: 0.3078 - mcrmse: 0.3293 - val_loss: 0.6264 - val_mcrmse: 0.6256 - lr: 2.5000e-04\n",
      "Epoch 20/30\n",
      "40/40 [==============================] - ETA: 0s - loss: 0.2917 - mcrmse: 0.3034\n",
      "Epoch 20: val_mcrmse improved from 0.62563 to 0.62460, saving model to /home/jupyter/automatic-essay-grading-DL/05_Model_files'/cnn_lstm_glove_weights_best\n"
     ]
    },
    {
     "name": "stderr",
     "output_type": "stream",
     "text": [
      "WARNING:absl:Found untraced functions such as _jit_compiled_convolution_op, _jit_compiled_convolution_op, _update_step_xla, lstm_cell_2_layer_call_fn, lstm_cell_2_layer_call_and_return_conditional_losses while saving (showing 5 of 7). These functions will not be directly callable after loading.\n"
     ]
    },
    {
     "name": "stdout",
     "output_type": "stream",
     "text": [
      "INFO:tensorflow:Assets written to: /home/jupyter/automatic-essay-grading-DL/05_Model_files'/cnn_lstm_glove_weights_best/assets\n"
     ]
    },
    {
     "name": "stderr",
     "output_type": "stream",
     "text": [
      "INFO:tensorflow:Assets written to: /home/jupyter/automatic-essay-grading-DL/05_Model_files'/cnn_lstm_glove_weights_best/assets\n"
     ]
    },
    {
     "name": "stdout",
     "output_type": "stream",
     "text": [
      "40/40 [==============================] - 84s 2s/step - loss: 0.2917 - mcrmse: 0.3034 - val_loss: 0.6257 - val_mcrmse: 0.6246 - lr: 2.5000e-04\n",
      "Epoch 21/30\n",
      "40/40 [==============================] - ETA: 0s - loss: 0.2744 - mcrmse: 0.2803\n",
      "Epoch 21: val_mcrmse improved from 0.62460 to 0.62294, saving model to /home/jupyter/automatic-essay-grading-DL/05_Model_files'/cnn_lstm_glove_weights_best\n"
     ]
    },
    {
     "name": "stderr",
     "output_type": "stream",
     "text": [
      "WARNING:absl:Found untraced functions such as _jit_compiled_convolution_op, _jit_compiled_convolution_op, _update_step_xla, lstm_cell_2_layer_call_fn, lstm_cell_2_layer_call_and_return_conditional_losses while saving (showing 5 of 7). These functions will not be directly callable after loading.\n"
     ]
    },
    {
     "name": "stdout",
     "output_type": "stream",
     "text": [
      "INFO:tensorflow:Assets written to: /home/jupyter/automatic-essay-grading-DL/05_Model_files'/cnn_lstm_glove_weights_best/assets\n"
     ]
    },
    {
     "name": "stderr",
     "output_type": "stream",
     "text": [
      "INFO:tensorflow:Assets written to: /home/jupyter/automatic-essay-grading-DL/05_Model_files'/cnn_lstm_glove_weights_best/assets\n"
     ]
    },
    {
     "name": "stdout",
     "output_type": "stream",
     "text": [
      "40/40 [==============================] - 81s 2s/step - loss: 0.2744 - mcrmse: 0.2803 - val_loss: 0.6241 - val_mcrmse: 0.6229 - lr: 2.5000e-04\n",
      "Epoch 22/30\n",
      "40/40 [==============================] - ETA: 0s - loss: 0.2677 - mcrmse: 0.2756\n",
      "Epoch 22: val_mcrmse did not improve from 0.62294\n",
      "40/40 [==============================] - 57s 1s/step - loss: 0.2677 - mcrmse: 0.2756 - val_loss: 0.6293 - val_mcrmse: 0.6286 - lr: 2.5000e-04\n",
      "Epoch 23/30\n",
      "40/40 [==============================] - ETA: 0s - loss: 0.2709 - mcrmse: 0.2893\n",
      "Epoch 23: ReduceLROnPlateau reducing learning rate to 6.25000029685907e-05.\n",
      "\n",
      "Epoch 23: val_mcrmse did not improve from 0.62294\n",
      "40/40 [==============================] - 57s 1s/step - loss: 0.2709 - mcrmse: 0.2893 - val_loss: 0.6247 - val_mcrmse: 0.6242 - lr: 2.5000e-04\n",
      "Epoch 24/30\n",
      "40/40 [==============================] - ETA: 0s - loss: 0.2649 - mcrmse: 0.2732\n",
      "Epoch 24: val_mcrmse improved from 0.62294 to 0.62159, saving model to /home/jupyter/automatic-essay-grading-DL/05_Model_files'/cnn_lstm_glove_weights_best\n"
     ]
    },
    {
     "name": "stderr",
     "output_type": "stream",
     "text": [
      "WARNING:absl:Found untraced functions such as _jit_compiled_convolution_op, _jit_compiled_convolution_op, _update_step_xla, lstm_cell_2_layer_call_fn, lstm_cell_2_layer_call_and_return_conditional_losses while saving (showing 5 of 7). These functions will not be directly callable after loading.\n"
     ]
    },
    {
     "name": "stdout",
     "output_type": "stream",
     "text": [
      "INFO:tensorflow:Assets written to: /home/jupyter/automatic-essay-grading-DL/05_Model_files'/cnn_lstm_glove_weights_best/assets\n"
     ]
    },
    {
     "name": "stderr",
     "output_type": "stream",
     "text": [
      "INFO:tensorflow:Assets written to: /home/jupyter/automatic-essay-grading-DL/05_Model_files'/cnn_lstm_glove_weights_best/assets\n"
     ]
    },
    {
     "name": "stdout",
     "output_type": "stream",
     "text": [
      "40/40 [==============================] - 76s 2s/step - loss: 0.2649 - mcrmse: 0.2732 - val_loss: 0.6226 - val_mcrmse: 0.6216 - lr: 6.2500e-05\n",
      "Epoch 25/30\n",
      "40/40 [==============================] - ETA: 0s - loss: 0.2524 - mcrmse: 0.2646\n",
      "Epoch 25: val_mcrmse did not improve from 0.62159\n",
      "40/40 [==============================] - 56s 1s/step - loss: 0.2524 - mcrmse: 0.2646 - val_loss: 0.6233 - val_mcrmse: 0.6226 - lr: 6.2500e-05\n",
      "Epoch 26/30\n",
      "40/40 [==============================] - ETA: 0s - loss: 0.2502 - mcrmse: 0.2770\n",
      "Epoch 26: ReduceLROnPlateau reducing learning rate to 1.5625000742147677e-05.\n",
      "\n",
      "Epoch 26: val_mcrmse did not improve from 0.62159\n",
      "40/40 [==============================] - 56s 1s/step - loss: 0.2502 - mcrmse: 0.2770 - val_loss: 0.6236 - val_mcrmse: 0.6230 - lr: 6.2500e-05\n",
      "Epoch 27/30\n",
      "40/40 [==============================] - ETA: 0s - loss: 0.2538 - mcrmse: 0.2582\n",
      "Epoch 27: val_mcrmse did not improve from 0.62159\n",
      "40/40 [==============================] - 56s 1s/step - loss: 0.2538 - mcrmse: 0.2582 - val_loss: 0.6232 - val_mcrmse: 0.6225 - lr: 1.5625e-05\n",
      "Epoch 28/30\n",
      "40/40 [==============================] - ETA: 0s - loss: 0.2587 - mcrmse: 0.2804\n",
      "Epoch 28: ReduceLROnPlateau reducing learning rate to 3.906250185536919e-06.\n",
      "\n",
      "Epoch 28: val_mcrmse did not improve from 0.62159\n",
      "40/40 [==============================] - 55s 1s/step - loss: 0.2587 - mcrmse: 0.2804 - val_loss: 0.6247 - val_mcrmse: 0.6241 - lr: 1.5625e-05\n",
      "Epoch 29/30\n",
      "40/40 [==============================] - ETA: 0s - loss: 0.2470 - mcrmse: 0.2501\n",
      "Epoch 29: val_mcrmse did not improve from 0.62159\n",
      "40/40 [==============================] - 53s 1s/step - loss: 0.2470 - mcrmse: 0.2501 - val_loss: 0.6245 - val_mcrmse: 0.6240 - lr: 3.9063e-06\n",
      "Epoch 30/30\n",
      "40/40 [==============================] - ETA: 0s - loss: 0.2510 - mcrmse: 0.2569\n",
      "Epoch 30: ReduceLROnPlateau reducing learning rate to 9.765625463842298e-07.\n",
      "\n",
      "Epoch 30: val_mcrmse did not improve from 0.62159\n",
      "40/40 [==============================] - 55s 1s/step - loss: 0.2510 - mcrmse: 0.2569 - val_loss: 0.6243 - val_mcrmse: 0.6238 - lr: 3.9063e-06\n"
     ]
    }
   ],
   "source": [
    "num_epochs=30\n",
    "mod_lstm_cnn3_history = mod_lstm_cnn3.fit(X_train_3, Y_train,\n",
    "                    batch_size=batch_size, \n",
    "                    epochs=num_epochs,\n",
    "                    validation_split=0.2,\n",
    "                    callbacks = callbacks,\n",
    "                    verbose=1)"
   ]
  },
  {
   "cell_type": "code",
   "execution_count": 34,
   "id": "15b6cea4-7199-48f3-9637-4f46ebe0fd1a",
   "metadata": {},
   "outputs": [
    {
     "data": {
      "image/png": "[encoded data removed]",
      "text/plain": [
       "<Figure size 1300x800 with 1 Axes>"
      ]
     },
     "metadata": {},
     "output_type": "display_data"
    }
   ],
   "source": [
    "plot_train_rmse(mod_lstm_cnn3_history)"
   ]
  },
  {
   "cell_type": "code",
   "execution_count": 36,
   "id": "4bf3288a-a71a-4cf6-a9bb-24c63860b792",
   "metadata": {},
   "outputs": [
    {
     "name": "stdout",
     "output_type": "stream",
     "text": [
      "25/25 [==============================] - 9s 350ms/step - loss: 0.6234 - mcrmse: 0.6224\n"
     ]
    },
    {
     "data": {
      "text/plain": [
       "[0.6234258413314819, 0.6224086284637451]"
      ]
     },
     "execution_count": 36,
     "metadata": {},
     "output_type": "execute_result"
    }
   ],
   "source": [
    "X_test_3=[vectorizer(np.array([[s] for s in test_samples])).numpy(),vectorizer(np.array([[s] for s in test_samples])).numpy()]\n",
    "mod_lstm_cnn3.evaluate(X_test_3,Y_test)"
   ]
  },
  {
   "cell_type": "code",
   "execution_count": 37,
   "id": "d3b15962-2a0f-4d21-992b-be5a8c743fc4",
   "metadata": {},
   "outputs": [],
   "source": [
    "mod_lstm_cnn3.save('mod_lstm_cnn3.h5')"
   ]
  },
  {
   "cell_type": "code",
   "execution_count": null,
   "id": "eb4e691c-7ea8-4641-b4ef-f459171f9334",
   "metadata": {},
   "outputs": [],
   "source": [
    "def plot_train_rmse(history):\n",
    "    \"\"\"\n",
    "    Plot the keras epoch results thru training\n",
    "    \"\"\"\n",
    "    h = history.history\n",
    "    epochs = range(1, len(h['mcrmse']) + 1)\n",
    "    plt.subplots(1,1,figsize=(13,8))\n",
    "    plt.plot(epochs, h['mcrmse'], 'r', label='Training RMSE')\n",
    "    plt.plot(epochs, h['val_mcrmse'], 'g', label='Validation RMSE')\n",
    "    plt.title('Training and Validation RMSE')\n",
    "    plt.xlabel('Epochs')\n",
    "    plt.ylabel('RMSE')\n",
    "    plt.legend()\n",
    "    plt.show()"
   ]
  },
  {
   "cell_type": "code",
   "execution_count": 51,
   "id": "890683ec-ab9b-400f-b67c-b766671fe6f4",
   "metadata": {},
   "outputs": [],
   "source": [
    "def save_epochs(history):\n",
    "    h = history.history\n",
    "    df = pd.DataFrame({'Epochs':list(range(1, len(h['mcrmse']) + 1)), 'RMSE':list(h['mcrmse'])})\n",
    "    return df\n"
   ]
  },
  {
   "cell_type": "code",
   "execution_count": 46,
   "id": "9e19f97f-a2f7-4f04-860d-3b3a65f89f63",
   "metadata": {},
   "outputs": [],
   "source": [
    "mod_lstm_cnn3_epochs_df=save_epochs(mod_lstm_cnn3_history)\n",
    "mod_lstm_cnn3_epochs_df.to_csv('mod_lstm_cnn3_epochs_df.csv', index=False)"
   ]
  }
 ],
 "metadata": {
  "environment": {
   "kernel": "python3",
   "name": "tf2-gpu.2-11.m108",
   "type": "gcloud",
   "uri": "gcr.io/deeplearning-platform-release/tf2-gpu.2-11:m108"
  },
  "kernelspec": {
   "display_name": "Python 3 (ipykernel)",
   "language": "python",
   "name": "python3"
  },
  "language_info": {
   "codemirror_mode": {
    "name": "ipython",
    "version": 3
   },
   "file_extension": ".py",
   "mimetype": "text/x-python",
   "name": "python",
   "nbconvert_exporter": "python",
   "pygments_lexer": "ipython3",
   "version": "3.10.10"
  }
 },
 "nbformat": 4,
 "nbformat_minor": 5
}
