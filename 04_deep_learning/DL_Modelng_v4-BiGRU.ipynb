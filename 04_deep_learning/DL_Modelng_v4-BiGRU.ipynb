{
 "cells": [
  {
   "cell_type": "markdown",
   "id": "44359cb2-e602-4a42-9cef-916b43177136",
   "metadata": {},
   "source": [
    "# Using Deep Learning for Sentence Score Prediction - Bi Directional GRUs\n",
    "## Overview\n",
    "\n",
    "Sentence-to-sentence GRU for text regression\n",
    "\n",
    "#### Approach\n",
    "- Split this data set into two sets - one for training our DL model, and one for evaluation  \n",
    "- Use Keras to create GRU with multiple layers. We will train this model on both CPU environments  \n",
    "- Evaluate and test the model on the test set and look at a few individual examples\n"
   ]
  },
  {
   "cell_type": "code",
   "execution_count": 1,
   "id": "7dfa75c7-fefa-4918-a8f5-42f1796ee7eb",
   "metadata": {},
   "outputs": [
    {
     "name": "stdout",
     "output_type": "stream",
     "text": [
      "16\n"
     ]
    }
   ],
   "source": [
    "import numpy as np\n",
    "import pandas as pd\n",
    "import os, re, time\n",
    "import matplotlib.pyplot as plt\n",
    "\n",
    "from sklearn.model_selection import train_test_split\n",
    "from sklearn import preprocessing\n",
    "\n",
    "import warnings\n",
    "warnings.filterwarnings(\"ignore\", category=FutureWarning)\n",
    "warnings.filterwarnings(\"ignore\", category=DeprecationWarning)\n",
    "\n",
    "from multiprocessing import cpu_count\n",
    "print(cpu_count())"
   ]
  },
  {
   "cell_type": "code",
   "execution_count": 2,
   "id": "f216e61a-b8fc-43ed-941f-cee9694ec17d",
   "metadata": {},
   "outputs": [
    {
     "name": "stdout",
     "output_type": "stream",
     "text": [
      "Available CPUs: 16\n",
      "INFO: Pandarallel will run on 15 workers.\n",
      "INFO: Pandarallel will use standard multiprocessing data transfer (pipe) to transfer data between the main process and workers.\n"
     ]
    }
   ],
   "source": [
    "# %pip install pandarallel\n",
    "import multiprocessing\n",
    "\n",
    "num_processors = multiprocessing.cpu_count()\n",
    "print(f'Available CPUs: {num_processors}')\n",
    "\n",
    "import pandarallel\n",
    "from pandarallel import pandarallel\n",
    "pandarallel.initialize(nb_workers=num_processors-1, use_memory_fs=False)"
   ]
  },
  {
   "cell_type": "code",
   "execution_count": 3,
   "id": "6889b4cb-423f-4e61-a0c4-454ec02e27e7",
   "metadata": {
    "tags": []
   },
   "outputs": [
    {
     "name": "stderr",
     "output_type": "stream",
     "text": [
      "2023-05-22 00:10:29.243623: I tensorflow/core/platform/cpu_feature_guard.cc:193] This TensorFlow binary is optimized with oneAPI Deep Neural Network Library (oneDNN) to use the following CPU instructions in performance-critical operations:  AVX2 FMA\n",
      "To enable them in other operations, rebuild TensorFlow with the appropriate compiler flags.\n",
      "2023-05-22 00:10:33.982321: W tensorflow/compiler/xla/stream_executor/platform/default/dso_loader.cc:64] Could not load dynamic library 'libnvinfer.so.7'; dlerror: libnvinfer.so.7: cannot open shared object file: No such file or directory; LD_LIBRARY_PATH: /usr/local/cuda/lib64:/usr/local/nccl2/lib:/usr/local/cuda/extras/CUPTI/lib64\n",
      "2023-05-22 00:10:33.982501: W tensorflow/compiler/xla/stream_executor/platform/default/dso_loader.cc:64] Could not load dynamic library 'libnvinfer_plugin.so.7'; dlerror: libnvinfer_plugin.so.7: cannot open shared object file: No such file or directory; LD_LIBRARY_PATH: /usr/local/cuda/lib64:/usr/local/nccl2/lib:/usr/local/cuda/extras/CUPTI/lib64\n",
      "2023-05-22 00:10:33.982516: W tensorflow/compiler/tf2tensorrt/utils/py_utils.cc:38] TF-TRT Warning: Cannot dlopen some TensorRT libraries. If you would like to use Nvidia GPU with TensorRT, please make sure the missing libraries mentioned above are installed properly.\n"
     ]
    }
   ],
   "source": [
    "import tensorflow as tf\n",
    "from tensorflow import keras\n",
    "\n",
    "from tensorflow.keras.layers.experimental.preprocessing import TextVectorization\n",
    "from tensorflow.keras.layers import Embedding\n",
    "from tensorflow.keras import layers\n",
    "from keras.callbacks import EarlyStopping, ModelCheckpoint\n",
    "from keras.layers import Dense, Input, LSTM, Embedding, Dropout, Activation, GRU, Convolution1D, Flatten, LeakyReLU\n",
    "from keras.layers import Bidirectional, GlobalMaxPool1D, GlobalAveragePooling1D, MaxPooling1D, GlobalMaxPooling1D\n",
    "from keras.layers import SpatialDropout1D, MaxPooling1D, Bidirectional, GRU, concatenate, BatchNormalization\n",
    "from tensorflow.keras.models import Model, Sequential"
   ]
  },
  {
   "cell_type": "code",
   "execution_count": 4,
   "id": "ec2b5338-42e4-4a0f-9333-2ddbc1f6860e",
   "metadata": {},
   "outputs": [
    {
     "name": "stderr",
     "output_type": "stream",
     "text": [
      "2023-05-22 00:10:37.349857: W tensorflow/compiler/xla/stream_executor/platform/default/dso_loader.cc:64] Could not load dynamic library 'libcuda.so.1'; dlerror: libcuda.so.1: cannot open shared object file: No such file or directory; LD_LIBRARY_PATH: /usr/local/cuda/lib64:/usr/local/nccl2/lib:/usr/local/cuda/extras/CUPTI/lib64\n",
      "2023-05-22 00:10:37.349900: W tensorflow/compiler/xla/stream_executor/cuda/cuda_driver.cc:265] failed call to cuInit: UNKNOWN ERROR (303)\n",
      "2023-05-22 00:10:37.349935: I tensorflow/compiler/xla/stream_executor/cuda/cuda_diagnostics.cc:156] kernel driver does not appear to be running on this host (ml-essay-grading): /proc/driver/nvidia/version does not exist\n"
     ]
    },
    {
     "data": {
      "text/plain": [
       "[PhysicalDevice(name='/physical_device:CPU:0', device_type='CPU')]"
      ]
     },
     "execution_count": 4,
     "metadata": {},
     "output_type": "execute_result"
    }
   ],
   "source": [
    "tf.config.list_physical_devices()"
   ]
  },
  {
   "cell_type": "code",
   "execution_count": 5,
   "id": "ced311ec-b0f9-4d70-87a9-cc38a8193cea",
   "metadata": {
    "tags": []
   },
   "outputs": [],
   "source": [
    "df_proc=pd.read_csv('../00_gcp_data/preprocessed-essay.csv')\n",
    "# df_proc.head()"
   ]
  },
  {
   "cell_type": "code",
   "execution_count": 6,
   "id": "a1e5f217-5e7f-47aa-87e2-2a092c1e55f4",
   "metadata": {},
   "outputs": [
    {
     "data": {
      "text/html": [
       "<div>\n",
       "<style scoped>\n",
       "    .dataframe tbody tr th:only-of-type {\n",
       "        vertical-align: middle;\n",
       "    }\n",
       "\n",
       "    .dataframe tbody tr th {\n",
       "        vertical-align: top;\n",
       "    }\n",
       "\n",
       "    .dataframe thead th {\n",
       "        text-align: right;\n",
       "    }\n",
       "</style>\n",
       "<table border=\"1\" class=\"dataframe\">\n",
       "  <thead>\n",
       "    <tr style=\"text-align: right;\">\n",
       "      <th></th>\n",
       "      <th>corrected_text</th>\n",
       "      <th>lemmatized_text</th>\n",
       "    </tr>\n",
       "  </thead>\n",
       "  <tbody>\n",
       "    <tr>\n",
       "      <th>1510</th>\n",
       "      <td>according text think good idea students graduate high school three years graduate high school early going get lot opportunities successful life also think someone decide start working contraction hard works like early three years later person going get lot experience money decide college like graduate college going young ready life lot people became millinery must time spend something experience going get got experience know want life going better easier future people also think bad idea graduate high school three years said early going smart enough successful life said wrong still summer school take extra classes summer school smart need pass classes fail class fail one need take summer school going problem want graduate early also take classes online going busy ready next level know someone dominican republic leaves genericcity went one barbershop ask successful told years old graduate high school ask graduate early told take classes summer school take classes online said good keep telling became successful told graduate went college take classes barbershop years later years old work one year want open busyness open three barbershops genericcity said put best effort thing life going get better everything another thing everybody make hard tip type people never give best put hurt put best effort mon dad going pay food going man house everybody need work hard everyday one successful life conclusion best thing student graduate early must experience get something must money going make life perseverance progress successful got nothing nobody going respect need help people make people fail sometime life easy people got opportunity good life take opportunity</td>\n",
       "      <td>accord text think good idea student graduate high school three year graduate high school early go get lot opportunity successful life also think someone decide start work contraction hard work like early three year later person go get lot experience money decide college like graduate college go young ready life lot people become millinery must time spend something experience go get get experience know want life go well easy future people also think bad idea graduate high school three year say early go smart enough successful life say wrong still summer school take extra class summer school smart need pas class fail class fail one need take summer school go problem want graduate early also take class online go busy ready next level know someone dominican republic leaf genericcity go one barbershop ask successful told year old graduate high school ask graduate early told take class summer school take class online say good keep tell become successful told graduate go college take class barbershop year later year old work one year want open busyness open three barbershop genericcity say put best effort thing life go get well everything another thing everybody make hard tip type people never give best put hurt put best effort mon dad go pay food go man house everybody need work hard everyday one successful life conclusion best thing student graduate early must experience get something must money go make life perseverance progress successful get nothing nobody go respect need help people make people fail sometime life easy people get opportunity good life take opportunity</td>\n",
       "    </tr>\n",
       "    <tr>\n",
       "      <th>2220</th>\n",
       "      <td>manager would like work envy nail nail salon salon always want work feel comfortable think someone needs work important person always wanted person like way worker going really good job also sociable friendly think something important customers need feel comfortable way costumer going like job worker likely going back later get done nails salon one year getting nails done salon like techniques workers use time care put make nails think salon perfect people get nails want different color nails salon lot choices color gel acrylic powder would happy lorn techniques styles workers customers like french nail sculpture nail gel nail two years practice basic steps make nail example put acrylic powder properly fake real nail put gel sculpture nail moment morning make figures acrylic powder for example roses flowers figures costumer want also practice pedicure properly massage idea lorn know work always wanted would happy allow visit nail salon give employment going work hard put effort nails going make</td>\n",
       "      <td>manager would like work envy nail nail salon salon always want work feel comfortable think someone need work important person always want person like way worker go really good job also sociable friendly think something important customer need feel comfortable way costumer go like job worker likely go back later get do nail salon one year get nail do salon like technique worker use time care put make nail think salon perfect people get nail want different color nail salon lot choice color gel acrylic powder would happy lorn technique style worker customer like french nail sculpture nail gel nail two year practice basic step make nail example put acrylic powder properly fake real nail put gel sculpture nail moment morning make figure acrylic powder for example rose flower figure costumer want also practice pedicure properly massage idea lorn know work always want would happy allow visit nail salon give employment go work hard put effort nail go make</td>\n",
       "    </tr>\n",
       "  </tbody>\n",
       "</table>\n",
       "</div>"
      ],
      "text/plain": [
       "                                                                                                                                                                                                                                                                                                                                                                                                                                                                                                                                                                                                                                                                                                                                                                                                                                                                                                                                                                                                                                                                                                                                                                                                                                                                                                                                                                                                                                                                                                                                                                                                                                                                                                                                        corrected_text  \\\n",
       "1510  according text think good idea students graduate high school three years graduate high school early going get lot opportunities successful life also think someone decide start working contraction hard works like early three years later person going get lot experience money decide college like graduate college going young ready life lot people became millinery must time spend something experience going get got experience know want life going better easier future people also think bad idea graduate high school three years said early going smart enough successful life said wrong still summer school take extra classes summer school smart need pass classes fail class fail one need take summer school going problem want graduate early also take classes online going busy ready next level know someone dominican republic leaves genericcity went one barbershop ask successful told years old graduate high school ask graduate early told take classes summer school take classes online said good keep telling became successful told graduate went college take classes barbershop years later years old work one year want open busyness open three barbershops genericcity said put best effort thing life going get better everything another thing everybody make hard tip type people never give best put hurt put best effort mon dad going pay food going man house everybody need work hard everyday one successful life conclusion best thing student graduate early must experience get something must money going make life perseverance progress successful got nothing nobody going respect need help people make people fail sometime life easy people got opportunity good life take opportunity   \n",
       "2220                                                                                                                                                                                                                                                                                                                                                                                                                                                                                                                                                                                                                                                                                                 manager would like work envy nail nail salon salon always want work feel comfortable think someone needs work important person always wanted person like way worker going really good job also sociable friendly think something important customers need feel comfortable way costumer going like job worker likely going back later get done nails salon one year getting nails done salon like techniques workers use time care put make nails think salon perfect people get nails want different color nails salon lot choices color gel acrylic powder would happy lorn techniques styles workers customers like french nail sculpture nail gel nail two years practice basic steps make nail example put acrylic powder properly fake real nail put gel sculpture nail moment morning make figures acrylic powder for example roses flowers figures costumer want also practice pedicure properly massage idea lorn know work always wanted would happy allow visit nail salon give employment going work hard put effort nails going make   \n",
       "\n",
       "                                                                                                                                                                                                                                                                                                                                                                                                                                                                                                                                                                                                                                                                                                                                                                                                                                                                                                                                                                                                                                                                                                                                                                                                                                                                                                                                                                                                                                                                                                                                                                                                                                               lemmatized_text  \n",
       "1510  accord text think good idea student graduate high school three year graduate high school early go get lot opportunity successful life also think someone decide start work contraction hard work like early three year later person go get lot experience money decide college like graduate college go young ready life lot people become millinery must time spend something experience go get get experience know want life go well easy future people also think bad idea graduate high school three year say early go smart enough successful life say wrong still summer school take extra class summer school smart need pas class fail class fail one need take summer school go problem want graduate early also take class online go busy ready next level know someone dominican republic leaf genericcity go one barbershop ask successful told year old graduate high school ask graduate early told take class summer school take class online say good keep tell become successful told graduate go college take class barbershop year later year old work one year want open busyness open three barbershop genericcity say put best effort thing life go get well everything another thing everybody make hard tip type people never give best put hurt put best effort mon dad go pay food go man house everybody need work hard everyday one successful life conclusion best thing student graduate early must experience get something must money go make life perseverance progress successful get nothing nobody go respect need help people make people fail sometime life easy people get opportunity good life take opportunity  \n",
       "2220                                                                                                                                                                                                                                                                                                                                                                                                                                                                                                                                                                                                                                                         manager would like work envy nail nail salon salon always want work feel comfortable think someone need work important person always want person like way worker go really good job also sociable friendly think something important customer need feel comfortable way costumer go like job worker likely go back later get do nail salon one year get nail do salon like technique worker use time care put make nail think salon perfect people get nail want different color nail salon lot choice color gel acrylic powder would happy lorn technique style worker customer like french nail sculpture nail gel nail two year practice basic step make nail example put acrylic powder properly fake real nail put gel sculpture nail moment morning make figure acrylic powder for example rose flower figure costumer want also practice pedicure properly massage idea lorn know work always want would happy allow visit nail salon give employment go work hard put effort nail go make  "
      ]
     },
     "execution_count": 6,
     "metadata": {},
     "output_type": "execute_result"
    }
   ],
   "source": [
    "pd.options.display.max_colwidth=None\n",
    "df_proc[['corrected_text','lemmatized_text']].sample(2)"
   ]
  },
  {
   "cell_type": "markdown",
   "id": "9927c551-cf33-43da-95a4-1c4fa2734384",
   "metadata": {},
   "source": [
    "### Setting variables"
   ]
  },
  {
   "cell_type": "code",
   "execution_count": 7,
   "id": "65f98005-e41b-4f33-8836-10cbbd4b8def",
   "metadata": {},
   "outputs": [],
   "source": [
    "## Setting text and target variables\n",
    "\n",
    "textVar=df_proc['lemmatized_text']\n",
    "targetVar=df_proc[[\"cohesion\", \"syntax\", \"vocabulary\", \"phraseology\", \"grammar\", \"conventions\"]]"
   ]
  },
  {
   "cell_type": "markdown",
   "id": "e489532b-9485-4bdc-a4c9-06464e2542be",
   "metadata": {},
   "source": [
    "### Parameters - for GRU"
   ]
  },
  {
   "cell_type": "code",
   "execution_count": 24,
   "id": "50314ab5-52af-4ed2-82ef-026d3bf77af7",
   "metadata": {},
   "outputs": [],
   "source": [
    "# make our experiments repeatable\n",
    "np.random.seed(0)\n",
    "\n",
    "# Model Hyperparameters\n",
    "embedding_dim = 100\n",
    "\n",
    "# Here we specify the number of units of our GRU layer\n",
    "gru_dims = 64\n",
    "\n",
    "# Training parameters. Here we specify the training of the net will use N examples for each backprop iteration\n",
    "batch_size = 64\n",
    "\n",
    "# We will go thru the entire data set N times\n",
    "num_epochs = 30\n",
    "\n",
    "# Prepossessing parameters\n",
    "# We will input the first 1000 words of every essay (and pad out with nulls if a essay review is <1000 words\n",
    "# We will also build our model using the most frequent 7000 words in our essay 'dictionary'\n",
    "sequence_length = 1000\n",
    "max_features = 7000\n",
    "\n",
    "#Specify the number of classes to predict\n",
    "num_classes = 6"
   ]
  },
  {
   "cell_type": "markdown",
   "id": "e609b00c-a784-4b3c-8d0e-cfb19a0a500c",
   "metadata": {},
   "source": [
    "### Tokenize the data and pad sequences"
   ]
  },
  {
   "cell_type": "code",
   "execution_count": 9,
   "id": "57988c09-a1e5-44b2-8f17-fd7fbbaa4034",
   "metadata": {},
   "outputs": [],
   "source": [
    "X = textVar.values\n",
    "Y = targetVar\n",
    "\n",
    "train_samples, test_samples, train_targets, test_targets = train_test_split(X,Y, test_size = 0.20, random_state = 1010)"
   ]
  },
  {
   "cell_type": "code",
   "execution_count": 10,
   "id": "94521fc8-cfc3-4c8a-ba4f-66240ecb343a",
   "metadata": {},
   "outputs": [
    {
     "name": "stdout",
     "output_type": "stream",
     "text": [
      "(3128,) (3128, 6)\n",
      "(783,) (783, 6)\n"
     ]
    }
   ],
   "source": [
    "# Check how many columns we have, make sure we have our sequence length set correctly\n",
    "\n",
    "print(train_samples.shape,train_targets.shape)\n",
    "print(test_samples.shape,test_targets.shape)"
   ]
  },
  {
   "cell_type": "code",
   "execution_count": 11,
   "id": "6158e390-3ddb-419a-9057-c20d27591fd9",
   "metadata": {},
   "outputs": [
    {
     "name": "stderr",
     "output_type": "stream",
     "text": [
      "2023-05-22 00:10:37.836382: I tensorflow/core/platform/cpu_feature_guard.cc:193] This TensorFlow binary is optimized with oneAPI Deep Neural Network Library (oneDNN) to use the following CPU instructions in performance-critical operations:  AVX2 FMA\n",
      "To enable them in other operations, rebuild TensorFlow with the appropriate compiler flags.\n"
     ]
    }
   ],
   "source": [
    "# A TextVectorization layer is created with the specified parameters\n",
    "vectorizer = TextVectorization(max_tokens=max_features, output_sequence_length=sequence_length, ngrams=None, pad_to_max_tokens=True)\n",
    "\n",
    "# The train_samples tensor is converted into a TensorFlow Dataset \n",
    "text_ds = tf.data.Dataset.from_tensor_slices(train_samples).batch(128)\n",
    "\n",
    "# The TextVectorization layer is adapted to the dataset text_ds. \n",
    "# This process analyzes the text data in text_ds and builds the vocabulary of the vectorizer based on the observed tokens.\n",
    "vectorizer.adapt(text_ds)"
   ]
  },
  {
   "cell_type": "code",
   "execution_count": 12,
   "id": "7fae732a-675d-4fa9-8d49-c9e471496111",
   "metadata": {},
   "outputs": [
    {
     "data": {
      "text/plain": [
       "['',\n",
       " '[UNK]',\n",
       " 'student',\n",
       " 'people',\n",
       " 'school',\n",
       " 'work',\n",
       " 'get',\n",
       " 'make',\n",
       " 'time',\n",
       " 'want',\n",
       " 'good',\n",
       " 'help',\n",
       " 'like',\n",
       " 'life',\n",
       " 'thing',\n",
       " 'would',\n",
       " 'think',\n",
       " 'class',\n",
       " 'one',\n",
       " 'well']"
      ]
     },
     "execution_count": 12,
     "metadata": {},
     "output_type": "execute_result"
    }
   ],
   "source": [
    "vectorizer.get_vocabulary()[:20]"
   ]
  },
  {
   "cell_type": "code",
   "execution_count": 13,
   "id": "69f489c5-e37e-468c-b0f8-d21182fd7052",
   "metadata": {},
   "outputs": [
    {
     "data": {
      "text/plain": [
       "<keras.layers.preprocessing.text_vectorization.TextVectorization at 0x7fda7dead720>"
      ]
     },
     "execution_count": 13,
     "metadata": {},
     "output_type": "execute_result"
    }
   ],
   "source": [
    "vectorizer"
   ]
  },
  {
   "cell_type": "markdown",
   "id": "82896718-46e4-4ae4-a2e8-6dc045d91104",
   "metadata": {},
   "source": [
    "### Convert our list of strings data to Numpy arrays of integer indices"
   ]
  },
  {
   "cell_type": "code",
   "execution_count": 14,
   "id": "c4d6ab5d-cfbb-4efd-8274-4b5f3a7fa37b",
   "metadata": {},
   "outputs": [],
   "source": [
    "X_train = vectorizer(np.array([[s] for s in train_samples])).numpy()\n",
    "X_test = vectorizer(np.array([[s] for s in test_samples])).numpy()\n",
    "\n",
    "Y_train = np.array(train_targets)\n",
    "Y_test = np.array(test_targets)"
   ]
  },
  {
   "cell_type": "code",
   "execution_count": 15,
   "id": "7fcd3096-8926-4bfb-9bb5-64807e3e51bd",
   "metadata": {},
   "outputs": [
    {
     "data": {
      "text/plain": [
       "(3128, 1000)"
      ]
     },
     "execution_count": 15,
     "metadata": {},
     "output_type": "execute_result"
    }
   ],
   "source": [
    "X_train.shape"
   ]
  },
  {
   "cell_type": "code",
   "execution_count": 16,
   "id": "ee5648db-e4cb-4e2c-81ea-8884634b00f0",
   "metadata": {
    "tags": []
   },
   "outputs": [
    {
     "data": {
      "text/plain": [
       "(3128, 6)"
      ]
     },
     "execution_count": 16,
     "metadata": {},
     "output_type": "execute_result"
    }
   ],
   "source": [
    "Y_train.shape"
   ]
  },
  {
   "cell_type": "markdown",
   "id": "c15ec39c-793c-4dd4-8d21-442200e1cfa4",
   "metadata": {},
   "source": [
    "### Load a pretrained vector space model - GLOVE"
   ]
  },
  {
   "cell_type": "code",
   "execution_count": 17,
   "id": "a5c12778-b09b-4f6c-9a90-164ba8ec786b",
   "metadata": {},
   "outputs": [
    {
     "name": "stdout",
     "output_type": "stream",
     "text": [
      "Found 400000 word vectors.\n"
     ]
    }
   ],
   "source": [
    "embeddings_index = {}\n",
    "\n",
    "glove_dir = '../00_gcp_data/'\n",
    "f = open(os.path.join(glove_dir, 'glove.6B.100d.txt'), encoding=\"utf8\")\n",
    "\n",
    "for line in f:\n",
    "    values = line.split()\n",
    "    word = values[0]\n",
    "    coefs = np.asarray(values[1:], dtype='float32')\n",
    "    embeddings_index[word] = coefs\n",
    "f.close()\n",
    "\n",
    "print('Found %s word vectors.' % len(embeddings_index))"
   ]
  },
  {
   "cell_type": "code",
   "execution_count": 18,
   "id": "ae6e2570-651e-4659-83bc-02c23ccaf091",
   "metadata": {},
   "outputs": [
    {
     "name": "stdout",
     "output_type": "stream",
     "text": [
      "Converted 6638 words (362 misses)\n"
     ]
    }
   ],
   "source": [
    "voc = vectorizer.get_vocabulary()\n",
    "word_index = dict(zip(voc, range(len(voc))))\n",
    "\n",
    "num_tokens = len(voc) + 2\n",
    "hits = 0\n",
    "misses = 0\n",
    "\n",
    "# Prepare embedding matrix\n",
    "embedding_matrix = np.zeros((num_tokens, embedding_dim))\n",
    "for word, i in word_index.items():\n",
    "    embedding_vector = embeddings_index.get(word)\n",
    "    if embedding_vector is not None:\n",
    "        # Words not found in embedding index will be all-zeros.\n",
    "        # This includes the representation for \"padding\" and \"OOV\"\n",
    "        embedding_matrix[i] = embedding_vector\n",
    "        hits += 1\n",
    "    else:\n",
    "        misses += 1\n",
    "print(\"Converted %d words (%d misses)\" % (hits, misses))"
   ]
  },
  {
   "cell_type": "code",
   "execution_count": 19,
   "id": "16fa03f9-8e35-4c30-b41b-592423df76ba",
   "metadata": {
    "tags": []
   },
   "outputs": [
    {
     "data": {
      "text/plain": [
       "array([[ 0.        ,  0.        ,  0.        , ...,  0.        ,\n",
       "         0.        ,  0.        ],\n",
       "       [ 0.        ,  0.        ,  0.        , ...,  0.        ,\n",
       "         0.        ,  0.        ],\n",
       "       [ 0.79618001,  0.56779999, -0.96452999, ..., -0.28637001,\n",
       "         0.54822999, -0.33597001],\n",
       "       ...,\n",
       "       [-0.01211   ,  0.001921  , -0.26157999, ...,  0.039627  ,\n",
       "        -0.12142   , -0.44775   ],\n",
       "       [ 0.        ,  0.        ,  0.        , ...,  0.        ,\n",
       "         0.        ,  0.        ],\n",
       "       [ 0.        ,  0.        ,  0.        , ...,  0.        ,\n",
       "         0.        ,  0.        ]])"
      ]
     },
     "execution_count": 19,
     "metadata": {},
     "output_type": "execute_result"
    }
   ],
   "source": [
    "embedding_matrix"
   ]
  },
  {
   "cell_type": "markdown",
   "id": "19ee5095-566a-4882-ba2f-7d9abd2aa53f",
   "metadata": {},
   "source": [
    "## Load the pre-trained word embeddings matrix into an Embedding layer\n",
    "We will keep embeddings static with **trainable=False**"
   ]
  },
  {
   "cell_type": "code",
   "execution_count": 152,
   "id": "2f1ece9f-edcb-4d51-b2cb-29ae5eaff43e",
   "metadata": {},
   "outputs": [],
   "source": [
    "embedding_layer = Embedding(\n",
    "    num_tokens,\n",
    "    embedding_dim,\n",
    "    embeddings_initializer=keras.initializers.Constant(embedding_matrix),\n",
    "    trainable=False,\n",
    ")"
   ]
  },
  {
   "cell_type": "markdown",
   "id": "0391c36a-83d7-4534-bc52-46be600307f4",
   "metadata": {},
   "source": [
    "### Adding our loss function"
   ]
  },
  {
   "cell_type": "code",
   "execution_count": 21,
   "id": "0d2dbec2-8319-42c0-9163-3fe9efd68b33",
   "metadata": {},
   "outputs": [],
   "source": [
    "## Adding a custom loss function\n",
    "\n",
    "def mcrmse(y_true, y_pred):\n",
    "    colwise_mse = tf.reduce_mean(tf.square(y_true - y_pred), axis=0)\n",
    "    return tf.reduce_mean(tf.sqrt(colwise_mse), axis=0)"
   ]
  },
  {
   "cell_type": "markdown",
   "id": "388749e7-72a5-4a03-a48e-15ba8d08cbca",
   "metadata": {},
   "source": [
    "## GRU Model based on Glove word embeddings  \n",
    "\n",
    "### Create GRU Neural Network Structure\n",
    "\n",
    "Bidirectional GRUs / LSTMs train two instead of one GRUs / LSTMs on the input sequence. The first on the input sequence as-is and the second on a reversed copy of the input sequence. This provides additional context to the network and result in faster and fuller learning of the sentense / language model.\n",
    "\n",
    "The goal is to predict one value per timestep given the full sequence provided as input. This requires that the GRUs / LSTMs hidden layer returns a sequence of values (one per timestep) rather than a single value for the whole input sequence (return_sequences=True)"
   ]
  },
  {
   "cell_type": "markdown",
   "id": "325f424a-7638-4bd8-8596-bfc65f0a0344",
   "metadata": {},
   "source": [
    "## Baseline GRU Model"
   ]
  },
  {
   "cell_type": "code",
   "execution_count": 154,
   "id": "d1a70410-3c69-43f3-8983-3706dd7b0090",
   "metadata": {},
   "outputs": [
    {
     "name": "stdout",
     "output_type": "stream",
     "text": [
      "Model: \"model_15\"\n",
      "__________________________________________________________________________________________________\n",
      " Layer (type)                   Output Shape         Param #     Connected to                     \n",
      "==================================================================================================\n",
      " input_15 (InputLayer)          [(None, 1000)]       0           []                               \n",
      "                                                                                                  \n",
      " embedding_19 (Embedding)       (None, 1000, 100)    700200      ['input_15[0][0]']               \n",
      "                                                                                                  \n",
      " spatial_dropout1d_15 (SpatialD  (None, 1000, 100)   0           ['embedding_19[0][0]']           \n",
      " ropout1D)                                                                                        \n",
      "                                                                                                  \n",
      " bidirectional_15 (Bidirectiona  (None, 1000, 128)   63744       ['spatial_dropout1d_15[0][0]']   \n",
      " l)                                                                                               \n",
      "                                                                                                  \n",
      " global_average_pooling1d_15 (G  (None, 128)         0           ['bidirectional_15[0][0]']       \n",
      " lobalAveragePooling1D)                                                                           \n",
      "                                                                                                  \n",
      " global_max_pooling1d_15 (Globa  (None, 128)         0           ['bidirectional_15[0][0]']       \n",
      " lMaxPooling1D)                                                                                   \n",
      "                                                                                                  \n",
      " concatenate_14 (Concatenate)   (None, 256)          0           ['global_average_pooling1d_15[0][\n",
      "                                                                 0]',                             \n",
      "                                                                  'global_max_pooling1d_15[0][0]']\n",
      "                                                                                                  \n",
      " dense_33 (Dense)               (None, 128)          32896       ['concatenate_14[0][0]']         \n",
      "                                                                                                  \n",
      " batch_normalization_8 (BatchNo  (None, 128)         512         ['dense_33[0][0]']               \n",
      " rmalization)                                                                                     \n",
      "                                                                                                  \n",
      " dense_34 (Dense)               (None, 64)           8256        ['batch_normalization_8[0][0]']  \n",
      "                                                                                                  \n",
      " batch_normalization_9 (BatchNo  (None, 64)          256         ['dense_34[0][0]']               \n",
      " rmalization)                                                                                     \n",
      "                                                                                                  \n",
      " dense_35 (Dense)               (None, 32)           2080        ['batch_normalization_9[0][0]']  \n",
      "                                                                                                  \n",
      " batch_normalization_10 (BatchN  (None, 32)          128         ['dense_35[0][0]']               \n",
      " ormalization)                                                                                    \n",
      "                                                                                                  \n",
      " dense_36 (Dense)               (None, 16)           528         ['batch_normalization_10[0][0]'] \n",
      "                                                                                                  \n",
      " batch_normalization_11 (BatchN  (None, 16)          64          ['dense_36[0][0]']               \n",
      " ormalization)                                                                                    \n",
      "                                                                                                  \n",
      " dense_37 (Dense)               (None, 6)            102         ['batch_normalization_11[0][0]'] \n",
      "                                                                                                  \n",
      "==================================================================================================\n",
      "Total params: 808,766\n",
      "Trainable params: 808,286\n",
      "Non-trainable params: 480\n",
      "__________________________________________________________________________________________________\n",
      "None\n"
     ]
    }
   ],
   "source": [
    "inputs = Input(shape=(sequence_length, ))\n",
    "\n",
    "x = Embedding(num_tokens, embedding_dim, weights=[embedding_matrix])(inputs)\n",
    "x = SpatialDropout1D(0.2)(x)\n",
    "x = Bidirectional(GRU(gru_dims, return_sequences=True))(x)\n",
    "flatten_1 = Flatten()(concate_1)\n",
    "\n",
    "# Create a concatenation of GlobalAveragePooling1D and GlobalMaxPooling1D layers\n",
    "avg_pool = GlobalAveragePooling1D()(x)\n",
    "max_pool = GlobalMaxPooling1D()(x)\n",
    "concatenated = concatenate([avg_pool, max_pool])\n",
    "x = Dense(128, activation = 'relu')(concatenated)\n",
    "x = BatchNormalization()(x)\n",
    "x = Dense(64, activation = 'relu')(x)\n",
    "x = BatchNormalization()(x)\n",
    "x = Dense(32, activation = 'relu')(x)\n",
    "x = BatchNormalization()(x)\n",
    "x = Dense(16, activation = 'relu')(x)\n",
    "x = BatchNormalization()(x)\n",
    "outputs = Dense(6, activation = 'linear')(x)\n",
    "\n",
    "model_gru_1 = Model(inputs=inputs, outputs=outputs)\n",
    "model_gru_1.compile(loss = mcrmse, optimizer='adam', metrics = mcrmse)\n",
    "\n",
    "print(model_gru_1.summary())"
   ]
  },
  {
   "cell_type": "markdown",
   "id": "835e610c-69de-4f43-ab9c-d518fdf6f938",
   "metadata": {},
   "source": [
    "## Training the model"
   ]
  },
  {
   "cell_type": "code",
   "execution_count": 155,
   "id": "8a48dee5-7363-4451-a686-70e204e91575",
   "metadata": {
    "tags": []
   },
   "outputs": [
    {
     "name": "stdout",
     "output_type": "stream",
     "text": [
      "Epoch 1/15\n",
      "25/25 [==============================] - ETA: 0s - loss: 3.2566 - mcrmse: 3.2544WARNING:tensorflow:Can save best model only with val_mean_squared_error available, skipping.\n"
     ]
    },
    {
     "name": "stderr",
     "output_type": "stream",
     "text": [
      "WARNING:tensorflow:Can save best model only with val_mean_squared_error available, skipping.\n"
     ]
    },
    {
     "name": "stdout",
     "output_type": "stream",
     "text": [
      "25/25 [==============================] - 32s 1s/step - loss: 3.2566 - mcrmse: 3.2544 - val_loss: 3.0902 - val_mcrmse: 3.0895 - lr: 0.0010\n",
      "Epoch 2/15\n",
      "25/25 [==============================] - ETA: 0s - loss: 3.1029 - mcrmse: 3.1050WARNING:tensorflow:Can save best model only with val_mean_squared_error available, skipping.\n"
     ]
    },
    {
     "name": "stderr",
     "output_type": "stream",
     "text": [
      "WARNING:tensorflow:Can save best model only with val_mean_squared_error available, skipping.\n"
     ]
    },
    {
     "name": "stdout",
     "output_type": "stream",
     "text": [
      "25/25 [==============================] - 21s 849ms/step - loss: 3.1029 - mcrmse: 3.1050 - val_loss: 2.9994 - val_mcrmse: 2.9987 - lr: 0.0010\n",
      "Epoch 3/15\n",
      "25/25 [==============================] - ETA: 0s - loss: 3.0004 - mcrmse: 3.0026WARNING:tensorflow:Can save best model only with val_mean_squared_error available, skipping.\n"
     ]
    },
    {
     "name": "stderr",
     "output_type": "stream",
     "text": [
      "WARNING:tensorflow:Can save best model only with val_mean_squared_error available, skipping.\n"
     ]
    },
    {
     "name": "stdout",
     "output_type": "stream",
     "text": [
      "25/25 [==============================] - 18s 721ms/step - loss: 3.0004 - mcrmse: 3.0026 - val_loss: 2.8424 - val_mcrmse: 2.8418 - lr: 0.0010\n",
      "Epoch 4/15\n",
      "25/25 [==============================] - ETA: 0s - loss: 2.8784 - mcrmse: 2.8749WARNING:tensorflow:Can save best model only with val_mean_squared_error available, skipping.\n"
     ]
    },
    {
     "name": "stderr",
     "output_type": "stream",
     "text": [
      "WARNING:tensorflow:Can save best model only with val_mean_squared_error available, skipping.\n"
     ]
    },
    {
     "name": "stdout",
     "output_type": "stream",
     "text": [
      "25/25 [==============================] - 24s 968ms/step - loss: 2.8784 - mcrmse: 2.8749 - val_loss: 2.6722 - val_mcrmse: 2.6716 - lr: 0.0010\n",
      "Epoch 5/15\n",
      "25/25 [==============================] - ETA: 0s - loss: 2.7213 - mcrmse: 2.7168WARNING:tensorflow:Can save best model only with val_mean_squared_error available, skipping.\n"
     ]
    },
    {
     "name": "stderr",
     "output_type": "stream",
     "text": [
      "WARNING:tensorflow:Can save best model only with val_mean_squared_error available, skipping.\n"
     ]
    },
    {
     "name": "stdout",
     "output_type": "stream",
     "text": [
      "25/25 [==============================] - 24s 989ms/step - loss: 2.7213 - mcrmse: 2.7168 - val_loss: 2.4869 - val_mcrmse: 2.4863 - lr: 0.0010\n",
      "Epoch 6/15\n",
      "25/25 [==============================] - ETA: 0s - loss: 2.5178 - mcrmse: 2.5169WARNING:tensorflow:Can save best model only with val_mean_squared_error available, skipping.\n"
     ]
    },
    {
     "name": "stderr",
     "output_type": "stream",
     "text": [
      "WARNING:tensorflow:Can save best model only with val_mean_squared_error available, skipping.\n"
     ]
    },
    {
     "name": "stdout",
     "output_type": "stream",
     "text": [
      "25/25 [==============================] - 21s 850ms/step - loss: 2.5178 - mcrmse: 2.5169 - val_loss: 2.2818 - val_mcrmse: 2.2811 - lr: 0.0010\n",
      "Epoch 7/15\n",
      "25/25 [==============================] - ETA: 0s - loss: 2.2679 - mcrmse: 2.2658WARNING:tensorflow:Can save best model only with val_mean_squared_error available, skipping.\n"
     ]
    },
    {
     "name": "stderr",
     "output_type": "stream",
     "text": [
      "WARNING:tensorflow:Can save best model only with val_mean_squared_error available, skipping.\n"
     ]
    },
    {
     "name": "stdout",
     "output_type": "stream",
     "text": [
      "25/25 [==============================] - 18s 711ms/step - loss: 2.2679 - mcrmse: 2.2658 - val_loss: 1.9559 - val_mcrmse: 1.9555 - lr: 0.0010\n",
      "Epoch 8/15\n",
      "25/25 [==============================] - ETA: 0s - loss: 1.9673 - mcrmse: 1.9633WARNING:tensorflow:Can save best model only with val_mean_squared_error available, skipping.\n"
     ]
    },
    {
     "name": "stderr",
     "output_type": "stream",
     "text": [
      "WARNING:tensorflow:Can save best model only with val_mean_squared_error available, skipping.\n"
     ]
    },
    {
     "name": "stdout",
     "output_type": "stream",
     "text": [
      "25/25 [==============================] - 24s 980ms/step - loss: 1.9673 - mcrmse: 1.9633 - val_loss: 1.8636 - val_mcrmse: 1.8628 - lr: 0.0010\n",
      "Epoch 9/15\n",
      "25/25 [==============================] - ETA: 0s - loss: 1.6191 - mcrmse: 1.6131WARNING:tensorflow:Can save best model only with val_mean_squared_error available, skipping.\n"
     ]
    },
    {
     "name": "stderr",
     "output_type": "stream",
     "text": [
      "WARNING:tensorflow:Can save best model only with val_mean_squared_error available, skipping.\n"
     ]
    },
    {
     "name": "stdout",
     "output_type": "stream",
     "text": [
      "25/25 [==============================] - 24s 984ms/step - loss: 1.6191 - mcrmse: 1.6131 - val_loss: 1.3141 - val_mcrmse: 1.3136 - lr: 0.0010\n",
      "Epoch 10/15\n",
      "25/25 [==============================] - ETA: 0s - loss: 1.2514 - mcrmse: 1.2486WARNING:tensorflow:Can save best model only with val_mean_squared_error available, skipping.\n"
     ]
    },
    {
     "name": "stderr",
     "output_type": "stream",
     "text": [
      "WARNING:tensorflow:Can save best model only with val_mean_squared_error available, skipping.\n"
     ]
    },
    {
     "name": "stdout",
     "output_type": "stream",
     "text": [
      "25/25 [==============================] - 21s 858ms/step - loss: 1.2514 - mcrmse: 1.2486 - val_loss: 0.9458 - val_mcrmse: 0.9453 - lr: 0.0010\n",
      "Epoch 11/15\n",
      "25/25 [==============================] - ETA: 0s - loss: 0.8944 - mcrmse: 0.8914WARNING:tensorflow:Can save best model only with val_mean_squared_error available, skipping.\n"
     ]
    },
    {
     "name": "stderr",
     "output_type": "stream",
     "text": [
      "WARNING:tensorflow:Can save best model only with val_mean_squared_error available, skipping.\n"
     ]
    },
    {
     "name": "stdout",
     "output_type": "stream",
     "text": [
      "25/25 [==============================] - 18s 727ms/step - loss: 0.8944 - mcrmse: 0.8914 - val_loss: 0.9453 - val_mcrmse: 0.9435 - lr: 0.0010\n",
      "Epoch 12/15\n",
      "25/25 [==============================] - ETA: 0s - loss: 0.6799 - mcrmse: 0.6792WARNING:tensorflow:Can save best model only with val_mean_squared_error available, skipping.\n"
     ]
    },
    {
     "name": "stderr",
     "output_type": "stream",
     "text": [
      "WARNING:tensorflow:Can save best model only with val_mean_squared_error available, skipping.\n"
     ]
    },
    {
     "name": "stdout",
     "output_type": "stream",
     "text": [
      "25/25 [==============================] - 24s 962ms/step - loss: 0.6799 - mcrmse: 0.6792 - val_loss: 0.6444 - val_mcrmse: 0.6433 - lr: 0.0010\n",
      "Epoch 13/15\n",
      "25/25 [==============================] - ETA: 0s - loss: 0.5850 - mcrmse: 0.5864WARNING:tensorflow:Can save best model only with val_mean_squared_error available, skipping.\n"
     ]
    },
    {
     "name": "stderr",
     "output_type": "stream",
     "text": [
      "WARNING:tensorflow:Can save best model only with val_mean_squared_error available, skipping.\n"
     ]
    },
    {
     "name": "stdout",
     "output_type": "stream",
     "text": [
      "25/25 [==============================] - 24s 955ms/step - loss: 0.5850 - mcrmse: 0.5864 - val_loss: 0.9103 - val_mcrmse: 0.9076 - lr: 0.0010\n",
      "Epoch 14/15\n",
      "25/25 [==============================] - ETA: 0s - loss: 0.5484 - mcrmse: 0.5499\n",
      "Epoch 14: ReduceLROnPlateau reducing learning rate to 0.0002500000118743628.\n",
      "WARNING:tensorflow:Can save best model only with val_mean_squared_error available, skipping.\n"
     ]
    },
    {
     "name": "stderr",
     "output_type": "stream",
     "text": [
      "WARNING:tensorflow:Can save best model only with val_mean_squared_error available, skipping.\n"
     ]
    },
    {
     "name": "stdout",
     "output_type": "stream",
     "text": [
      "25/25 [==============================] - 21s 841ms/step - loss: 0.5484 - mcrmse: 0.5499 - val_loss: 0.6525 - val_mcrmse: 0.6512 - lr: 0.0010\n",
      "Epoch 15/15\n",
      "25/25 [==============================] - ETA: 0s - loss: 0.5173 - mcrmse: 0.5166WARNING:tensorflow:Can save best model only with val_mean_squared_error available, skipping.\n"
     ]
    },
    {
     "name": "stderr",
     "output_type": "stream",
     "text": [
      "WARNING:tensorflow:Can save best model only with val_mean_squared_error available, skipping.\n"
     ]
    },
    {
     "name": "stdout",
     "output_type": "stream",
     "text": [
      "25/25 [==============================] - 19s 767ms/step - loss: 0.5173 - mcrmse: 0.5166 - val_loss: 0.5910 - val_mcrmse: 0.5907 - lr: 2.5000e-04\n",
      "GRU Glove model train time = 333 seconds\n"
     ]
    }
   ],
   "source": [
    "from tensorflow.keras.callbacks import *\n",
    "import os\n",
    "reduce_lr = ReduceLROnPlateau(monitor = 'val_mcrmse', factor = 0.25, patience = 2, verbose = 1)\n",
    "earlystop = EarlyStopping(monitor = 'val_mcrmse',  mode=\"min\", min_delta = 0, patience = 25,verbose = 1)\n",
    "\n",
    "filepath=\"/home/jupyter/automatic-essay-grading-DL/05_Model_files'/gru_glove_weights_best\"\n",
    "checkpoint = ModelCheckpoint(filepath, monitor='val_mean_squared_error',\n",
    "                             verbose=1, save_best_only=True, save_weights_only=False, overwrite=True, mode='min')\n",
    "\n",
    "#only save model if it reduces MSE\n",
    "callbacks = [reduce_lr,earlystop,checkpoint]\n",
    "\n",
    "t1 = time.time()\n",
    "model_gru_1_history = model_gru_1.fit(X_train, Y_train,\n",
    "                    batch_size=batch_size, \n",
    "                    epochs=num_epochs,\n",
    "                    validation_split=0.2,\n",
    "                    callbacks = callbacks,\n",
    "                    verbose=1)\n",
    "t2 = time.time()\n",
    "print(\"GRU Glove model train time = %d seconds\" %(t2-t1))"
   ]
  },
  {
   "cell_type": "code",
   "execution_count": 156,
   "id": "3e701f51-a35e-4d54-ba64-73391c27c077",
   "metadata": {},
   "outputs": [
    {
     "data": {
      "text/plain": [
       "dict_keys(['loss', 'mcrmse', 'val_loss', 'val_mcrmse', 'lr'])"
      ]
     },
     "execution_count": 156,
     "metadata": {},
     "output_type": "execute_result"
    }
   ],
   "source": [
    "model_gru_1_history.history.keys()"
   ]
  },
  {
   "cell_type": "code",
   "execution_count": 27,
   "id": "3a4d9a66-26b8-4a6f-85a8-9fe279d03e71",
   "metadata": {},
   "outputs": [],
   "source": [
    "def plot_train_rmse(history):\n",
    "    \"\"\"\n",
    "    Plot the keras epoch results thru training\n",
    "    \"\"\"\n",
    "    h = history.history\n",
    "    epochs = range(1, len(h['mcrmse']) + 1)\n",
    "    plt.subplots(1,1,figsize=(13,8))\n",
    "    plt.plot(epochs, h['mcrmse'], 'r', label='Training RMSE')\n",
    "    plt.plot(epochs, h['val_mcrmse'], 'g', label='Validation RMSE')\n",
    "    plt.title('Training and Validation RMSE')\n",
    "    plt.xlabel('Epochs')\n",
    "    plt.ylabel('RMSE')\n",
    "    plt.legend()\n",
    "    plt.show()"
   ]
  },
  {
   "cell_type": "code",
   "execution_count": 158,
   "id": "3a2ba763-8bf4-448c-ac33-c276ed01129a",
   "metadata": {},
   "outputs": [
    {
     "data": {
      "image/png": "[encoded data removed]",
      "text/plain": [
       "<Figure size 1300x800 with 1 Axes>"
      ]
     },
     "metadata": {},
     "output_type": "display_data"
    }
   ],
   "source": [
    "plot_train_rmse(model_gru_1_history)"
   ]
  },
  {
   "cell_type": "code",
   "execution_count": 160,
   "id": "0772a2ff-0cf7-427e-86e4-f3e6ecdcb662",
   "metadata": {},
   "outputs": [
    {
     "name": "stdout",
     "output_type": "stream",
     "text": [
      "25/25 [==============================] - 4s 179ms/step - loss: 0.5978 - mcrmse: 0.5958\n"
     ]
    },
    {
     "data": {
      "text/plain": [
       "[0.5978489518165588, 0.5958216190338135]"
      ]
     },
     "execution_count": 160,
     "metadata": {},
     "output_type": "execute_result"
    }
   ],
   "source": [
    "model_gru_1.evaluate(X_test, Y_test)"
   ]
  },
  {
   "cell_type": "markdown",
   "id": "556cdf29-cfca-4ba8-bd24-3fd5e7785650",
   "metadata": {},
   "source": [
    "### GRU Model 2"
   ]
  },
  {
   "cell_type": "code",
   "execution_count": 23,
   "id": "3d4904c9-7434-421c-9747-0b5ac8d75222",
   "metadata": {},
   "outputs": [
    {
     "name": "stdout",
     "output_type": "stream",
     "text": [
      "Model: \"model_2\"\n",
      "_________________________________________________________________\n",
      " Layer (type)                Output Shape              Param #   \n",
      "=================================================================\n",
      " input_3 (InputLayer)        [(None, 1000)]            0         \n",
      "                                                                 \n",
      " embedding_2 (Embedding)     (None, 1000, 100)         700200    \n",
      "                                                                 \n",
      " spatial_dropout1d_2 (Spatia  (None, 1000, 100)        0         \n",
      " lDropout1D)                                                     \n",
      "                                                                 \n",
      " bidirectional_2 (Bidirectio  (None, 1000, 128)        63744     \n",
      " nal)                                                            \n",
      "                                                                 \n",
      " flatten_2 (Flatten)         (None, 128000)            0         \n",
      "                                                                 \n",
      " dense_10 (Dense)            (None, 128)               16384128  \n",
      "                                                                 \n",
      " dense_11 (Dense)            (None, 64)                8256      \n",
      "                                                                 \n",
      " batch_normalization_8 (Batc  (None, 64)               256       \n",
      " hNormalization)                                                 \n",
      "                                                                 \n",
      " dense_12 (Dense)            (None, 32)                2080      \n",
      "                                                                 \n",
      " batch_normalization_9 (Batc  (None, 32)               128       \n",
      " hNormalization)                                                 \n",
      "                                                                 \n",
      " dense_13 (Dense)            (None, 16)                528       \n",
      "                                                                 \n",
      " batch_normalization_10 (Bat  (None, 16)               64        \n",
      " chNormalization)                                                \n",
      "                                                                 \n",
      " dense_14 (Dense)            (None, 6)                 102       \n",
      "                                                                 \n",
      "=================================================================\n",
      "Total params: 17,159,486\n",
      "Trainable params: 17,159,262\n",
      "Non-trainable params: 224\n",
      "_________________________________________________________________\n",
      "None\n"
     ]
    }
   ],
   "source": [
    "inputs = Input(shape=(sequence_length, ))\n",
    "\n",
    "x = Embedding(num_tokens, embedding_dim, weights=[embedding_matrix])(inputs)\n",
    "x = SpatialDropout1D(0.2)(x)\n",
    "x = Bidirectional(GRU(gru_dims, return_sequences=True))(x)\n",
    "x = Flatten()(x)\n",
    "\n",
    "# Create a concatenation of GlobalAveragePooling1D and GlobalMaxPooling1D layers\n",
    "# avg_pool = GlobalAveragePooling1D()(x)\n",
    "# max_pool = GlobalMaxPooling1D()(x)\n",
    "# concatenated = concatenate([avg_pool, max_pool])\n",
    "x = Dense(128, activation = 'relu')(x)\n",
    "x = Dense(64, activation = 'relu')(x)\n",
    "x = BatchNormalization()(x)\n",
    "x = Dense(32, activation = 'relu')(x)\n",
    "x = BatchNormalization()(x)\n",
    "x = Dense(16, activation = 'relu')(x)\n",
    "x = BatchNormalization()(x)\n",
    "outputs = Dense(6, activation = 'linear')(x)\n",
    "\n",
    "model_gru_2 = Model(inputs=inputs, outputs=outputs)\n",
    "model_gru_2.compile(loss = mcrmse, optimizer='adam', metrics = mcrmse)\n",
    "\n",
    "print(model_gru_2.summary())"
   ]
  },
  {
   "cell_type": "code",
   "execution_count": 25,
   "id": "a193af5c-55d2-4442-872b-93ddc55adb55",
   "metadata": {},
   "outputs": [
    {
     "name": "stdout",
     "output_type": "stream",
     "text": [
      "Epoch 1/30\n",
      "40/40 [==============================] - ETA: 0s - loss: 3.1797 - mcrmse: 3.1688WARNING:tensorflow:Can save best model only with val_mean_squared_error available, skipping.\n",
      "40/40 [==============================] - 37s 803ms/step - loss: 3.1797 - mcrmse: 3.1688 - val_loss: 2.6814 - val_mcrmse: 2.6801 - lr: 0.0010\n",
      "Epoch 2/30\n",
      "40/40 [==============================] - ETA: 0s - loss: 3.0113 - mcrmse: 3.0039WARNING:tensorflow:Can save best model only with val_mean_squared_error available, skipping.\n",
      "40/40 [==============================] - 35s 871ms/step - loss: 3.0113 - mcrmse: 3.0039 - val_loss: 2.6151 - val_mcrmse: 2.6159 - lr: 0.0010\n",
      "Epoch 3/30\n",
      "40/40 [==============================] - ETA: 0s - loss: 2.8218 - mcrmse: 2.8182WARNING:tensorflow:Can save best model only with val_mean_squared_error available, skipping.\n",
      "40/40 [==============================] - 30s 736ms/step - loss: 2.8218 - mcrmse: 2.8182 - val_loss: 2.6055 - val_mcrmse: 2.6067 - lr: 0.0010\n",
      "Epoch 4/30\n",
      "40/40 [==============================] - ETA: 0s - loss: 2.5200 - mcrmse: 2.5178WARNING:tensorflow:Can save best model only with val_mean_squared_error available, skipping.\n",
      "40/40 [==============================] - 31s 784ms/step - loss: 2.5200 - mcrmse: 2.5178 - val_loss: 2.2531 - val_mcrmse: 2.2544 - lr: 0.0010\n",
      "Epoch 5/30\n",
      "40/40 [==============================] - ETA: 0s - loss: 2.0877 - mcrmse: 2.0801WARNING:tensorflow:Can save best model only with val_mean_squared_error available, skipping.\n",
      "40/40 [==============================] - 34s 863ms/step - loss: 2.0877 - mcrmse: 2.0801 - val_loss: 1.9845 - val_mcrmse: 1.9852 - lr: 0.0010\n",
      "Epoch 6/30\n",
      "40/40 [==============================] - ETA: 0s - loss: 1.5480 - mcrmse: 1.5393WARNING:tensorflow:Can save best model only with val_mean_squared_error available, skipping.\n",
      "40/40 [==============================] - 33s 836ms/step - loss: 1.5480 - mcrmse: 1.5393 - val_loss: 1.1477 - val_mcrmse: 1.1487 - lr: 0.0010\n",
      "Epoch 7/30\n",
      "40/40 [==============================] - ETA: 0s - loss: 1.0254 - mcrmse: 1.0210WARNING:tensorflow:Can save best model only with val_mean_squared_error available, skipping.\n",
      "40/40 [==============================] - 36s 899ms/step - loss: 1.0254 - mcrmse: 1.0210 - val_loss: 4.4644 - val_mcrmse: 4.4733 - lr: 0.0010\n",
      "Epoch 8/30\n",
      "40/40 [==============================] - ETA: 0s - loss: 0.7019 - mcrmse: 0.6990\n",
      "Epoch 8: ReduceLROnPlateau reducing learning rate to 0.0002500000118743628.\n",
      "WARNING:tensorflow:Can save best model only with val_mean_squared_error available, skipping.\n",
      "40/40 [==============================] - 29s 721ms/step - loss: 0.7019 - mcrmse: 0.6990 - val_loss: 1.9382 - val_mcrmse: 1.9379 - lr: 0.0010\n",
      "Epoch 9/30\n",
      "40/40 [==============================] - ETA: 0s - loss: 0.5727 - mcrmse: 0.5722WARNING:tensorflow:Can save best model only with val_mean_squared_error available, skipping.\n",
      "40/40 [==============================] - 31s 780ms/step - loss: 0.5727 - mcrmse: 0.5722 - val_loss: 1.3286 - val_mcrmse: 1.3287 - lr: 2.5000e-04\n",
      "Epoch 10/30\n",
      "40/40 [==============================] - ETA: 0s - loss: 0.5328 - mcrmse: 0.5330WARNING:tensorflow:Can save best model only with val_mean_squared_error available, skipping.\n",
      "40/40 [==============================] - 34s 845ms/step - loss: 0.5328 - mcrmse: 0.5330 - val_loss: 0.8817 - val_mcrmse: 0.8815 - lr: 2.5000e-04\n",
      "Epoch 11/30\n",
      "40/40 [==============================] - ETA: 0s - loss: 0.5020 - mcrmse: 0.5040WARNING:tensorflow:Can save best model only with val_mean_squared_error available, skipping.\n",
      "40/40 [==============================] - 33s 837ms/step - loss: 0.5020 - mcrmse: 0.5040 - val_loss: 0.7324 - val_mcrmse: 0.7322 - lr: 2.5000e-04\n",
      "Epoch 12/30\n",
      "40/40 [==============================] - ETA: 0s - loss: 0.4850 - mcrmse: 0.4891WARNING:tensorflow:Can save best model only with val_mean_squared_error available, skipping.\n",
      "40/40 [==============================] - 34s 858ms/step - loss: 0.4850 - mcrmse: 0.4891 - val_loss: 0.6706 - val_mcrmse: 0.6705 - lr: 2.5000e-04\n",
      "Epoch 13/30\n",
      "40/40 [==============================] - ETA: 0s - loss: 0.4698 - mcrmse: 0.4732WARNING:tensorflow:Can save best model only with val_mean_squared_error available, skipping.\n",
      "40/40 [==============================] - 30s 738ms/step - loss: 0.4698 - mcrmse: 0.4732 - val_loss: 0.6747 - val_mcrmse: 0.6739 - lr: 2.5000e-04\n",
      "Epoch 14/30\n",
      "40/40 [==============================] - ETA: 0s - loss: 0.4613 - mcrmse: 0.4685WARNING:tensorflow:Can save best model only with val_mean_squared_error available, skipping.\n",
      "40/40 [==============================] - 30s 761ms/step - loss: 0.4613 - mcrmse: 0.4685 - val_loss: 0.6640 - val_mcrmse: 0.6641 - lr: 2.5000e-04\n",
      "Epoch 15/30\n",
      "40/40 [==============================] - ETA: 0s - loss: 0.4435 - mcrmse: 0.4444WARNING:tensorflow:Can save best model only with val_mean_squared_error available, skipping.\n",
      "40/40 [==============================] - 35s 865ms/step - loss: 0.4435 - mcrmse: 0.4444 - val_loss: 0.6376 - val_mcrmse: 0.6366 - lr: 2.5000e-04\n",
      "Epoch 16/30\n",
      "40/40 [==============================] - ETA: 0s - loss: 0.4324 - mcrmse: 0.4328WARNING:tensorflow:Can save best model only with val_mean_squared_error available, skipping.\n",
      "40/40 [==============================] - 29s 724ms/step - loss: 0.4324 - mcrmse: 0.4328 - val_loss: 0.6404 - val_mcrmse: 0.6395 - lr: 2.5000e-04\n",
      "Epoch 17/30\n",
      "40/40 [==============================] - ETA: 0s - loss: 0.4172 - mcrmse: 0.4220\n",
      "Epoch 17: ReduceLROnPlateau reducing learning rate to 6.25000029685907e-05.\n",
      "WARNING:tensorflow:Can save best model only with val_mean_squared_error available, skipping.\n",
      "40/40 [==============================] - 31s 780ms/step - loss: 0.4172 - mcrmse: 0.4220 - val_loss: 0.6988 - val_mcrmse: 0.6969 - lr: 2.5000e-04\n",
      "Epoch 18/30\n",
      "40/40 [==============================] - ETA: 0s - loss: 0.4118 - mcrmse: 0.4312WARNING:tensorflow:Can save best model only with val_mean_squared_error available, skipping.\n",
      "40/40 [==============================] - 34s 862ms/step - loss: 0.4118 - mcrmse: 0.4312 - val_loss: 0.6410 - val_mcrmse: 0.6407 - lr: 6.2500e-05\n",
      "Epoch 19/30\n",
      "40/40 [==============================] - ETA: 0s - loss: 0.4093 - mcrmse: 0.4221WARNING:tensorflow:Can save best model only with val_mean_squared_error available, skipping.\n",
      "40/40 [==============================] - 34s 841ms/step - loss: 0.4093 - mcrmse: 0.4221 - val_loss: 0.6349 - val_mcrmse: 0.6345 - lr: 6.2500e-05\n",
      "Epoch 20/30\n",
      "40/40 [==============================] - ETA: 0s - loss: 0.4003 - mcrmse: 0.4045WARNING:tensorflow:Can save best model only with val_mean_squared_error available, skipping.\n",
      "40/40 [==============================] - 35s 873ms/step - loss: 0.4003 - mcrmse: 0.4045 - val_loss: 0.6295 - val_mcrmse: 0.6291 - lr: 6.2500e-05\n",
      "Epoch 21/30\n",
      "40/40 [==============================] - ETA: 0s - loss: 0.4002 - mcrmse: 0.4023WARNING:tensorflow:Can save best model only with val_mean_squared_error available, skipping.\n",
      "40/40 [==============================] - 29s 716ms/step - loss: 0.4002 - mcrmse: 0.4023 - val_loss: 0.6240 - val_mcrmse: 0.6235 - lr: 6.2500e-05\n",
      "Epoch 22/30\n",
      "40/40 [==============================] - ETA: 0s - loss: 0.3977 - mcrmse: 0.4074WARNING:tensorflow:Can save best model only with val_mean_squared_error available, skipping.\n",
      "40/40 [==============================] - 31s 782ms/step - loss: 0.3977 - mcrmse: 0.4074 - val_loss: 0.6268 - val_mcrmse: 0.6257 - lr: 6.2500e-05\n",
      "Epoch 23/30\n",
      "40/40 [==============================] - ETA: 0s - loss: 0.3979 - mcrmse: 0.4028\n",
      "Epoch 23: ReduceLROnPlateau reducing learning rate to 1.5625000742147677e-05.\n",
      "WARNING:tensorflow:Can save best model only with val_mean_squared_error available, skipping.\n",
      "40/40 [==============================] - 34s 839ms/step - loss: 0.3979 - mcrmse: 0.4028 - val_loss: 0.6730 - val_mcrmse: 0.6715 - lr: 6.2500e-05\n",
      "Epoch 24/30\n",
      "40/40 [==============================] - ETA: 0s - loss: 0.3977 - mcrmse: 0.4040WARNING:tensorflow:Can save best model only with val_mean_squared_error available, skipping.\n",
      "40/40 [==============================] - 34s 853ms/step - loss: 0.3977 - mcrmse: 0.4040 - val_loss: 0.6320 - val_mcrmse: 0.6310 - lr: 1.5625e-05\n",
      "Epoch 25/30\n",
      "40/40 [==============================] - ETA: 0s - loss: 0.3930 - mcrmse: 0.3959WARNING:tensorflow:Can save best model only with val_mean_squared_error available, skipping.\n",
      "40/40 [==============================] - 38s 942ms/step - loss: 0.3930 - mcrmse: 0.3959 - val_loss: 0.6241 - val_mcrmse: 0.6232 - lr: 1.5625e-05\n",
      "Epoch 26/30\n",
      "40/40 [==============================] - ETA: 0s - loss: 0.3943 - mcrmse: 0.3946WARNING:tensorflow:Can save best model only with val_mean_squared_error available, skipping.\n",
      "40/40 [==============================] - 40s 1s/step - loss: 0.3943 - mcrmse: 0.3946 - val_loss: 0.6221 - val_mcrmse: 0.6214 - lr: 1.5625e-05\n",
      "Epoch 27/30\n",
      "40/40 [==============================] - ETA: 0s - loss: 0.3923 - mcrmse: 0.3966WARNING:tensorflow:Can save best model only with val_mean_squared_error available, skipping.\n",
      "40/40 [==============================] - 42s 1s/step - loss: 0.3923 - mcrmse: 0.3966 - val_loss: 0.6201 - val_mcrmse: 0.6194 - lr: 1.5625e-05\n",
      "Epoch 28/30\n",
      "40/40 [==============================] - ETA: 0s - loss: 0.3891 - mcrmse: 0.3879WARNING:tensorflow:Can save best model only with val_mean_squared_error available, skipping.\n",
      "40/40 [==============================] - 36s 896ms/step - loss: 0.3891 - mcrmse: 0.3879 - val_loss: 0.6214 - val_mcrmse: 0.6207 - lr: 1.5625e-05\n",
      "Epoch 29/30\n",
      "40/40 [==============================] - ETA: 0s - loss: 0.3872 - mcrmse: 0.3858WARNING:tensorflow:Can save best model only with val_mean_squared_error available, skipping.\n",
      "40/40 [==============================] - 39s 971ms/step - loss: 0.3872 - mcrmse: 0.3858 - val_loss: 0.6183 - val_mcrmse: 0.6176 - lr: 1.5625e-05\n",
      "Epoch 30/30\n",
      "40/40 [==============================] - ETA: 0s - loss: 0.3890 - mcrmse: 0.3894WARNING:tensorflow:Can save best model only with val_mean_squared_error available, skipping.\n",
      "40/40 [==============================] - 42s 1s/step - loss: 0.3890 - mcrmse: 0.3894 - val_loss: 0.6187 - val_mcrmse: 0.6179 - lr: 1.5625e-05\n",
      "GRU Glove model train time = 1019 seconds\n"
     ]
    }
   ],
   "source": [
    "from tensorflow.keras.callbacks import *\n",
    "import os\n",
    "reduce_lr = ReduceLROnPlateau(monitor = 'val_mcrmse', factor = 0.25, patience = 2, verbose = 1)\n",
    "earlystop = EarlyStopping(monitor = 'val_mcrmse',  mode=\"min\", min_delta = 0, patience = 25,verbose = 1)\n",
    "\n",
    "filepath=\"/home/jupyter/automatic-essay-grading-DL/05_Model_files'/gru_glove_weights_best_2\"\n",
    "checkpoint = ModelCheckpoint(filepath, monitor='val_mean_squared_error',\n",
    "                             verbose=1, save_best_only=True, save_weights_only=False, overwrite=True, mode='min')\n",
    "\n",
    "#only save model if it reduces MSE\n",
    "callbacks = [reduce_lr,earlystop,checkpoint]\n",
    "\n",
    "t1 = time.time()\n",
    "model_gru_2_history = model_gru_2.fit(X_train, Y_train,\n",
    "                    batch_size=batch_size, \n",
    "                    epochs=num_epochs,\n",
    "                    validation_split=0.2,\n",
    "                    callbacks = callbacks,\n",
    "                    verbose=1)\n",
    "t2 = time.time()\n",
    "print(\"GRU Glove model train time = %d seconds\" %(t2-t1))"
   ]
  },
  {
   "cell_type": "code",
   "execution_count": 28,
   "id": "96e03865-5210-4d37-b527-47a758843f6f",
   "metadata": {},
   "outputs": [
    {
     "data": {
      "image/png": "[encoded data removed]",
      "text/plain": [
       "<Figure size 1300x800 with 1 Axes>"
      ]
     },
     "metadata": {},
     "output_type": "display_data"
    }
   ],
   "source": [
    "plot_train_rmse(model_gru_2_history)"
   ]
  },
  {
   "cell_type": "code",
   "execution_count": 29,
   "id": "ae500f9f-099a-409e-89cb-f1e3b8c747fb",
   "metadata": {},
   "outputs": [
    {
     "name": "stdout",
     "output_type": "stream",
     "text": [
      "25/25 [==============================] - 5s 203ms/step - loss: 0.6299 - mcrmse: 0.6277\n"
     ]
    },
    {
     "data": {
      "text/plain": [
       "[0.6299134492874146, 0.627717912197113]"
      ]
     },
     "execution_count": 29,
     "metadata": {},
     "output_type": "execute_result"
    }
   ],
   "source": [
    "model_gru_2.evaluate(X_test, Y_test)"
   ]
  },
  {
   "cell_type": "code",
   "execution_count": 30,
   "id": "f4008d73-e9c2-4d68-abb4-d65255197a06",
   "metadata": {},
   "outputs": [],
   "source": [
    "model_gru_2.save('model_gru_2.h5')"
   ]
  },
  {
   "cell_type": "code",
   "execution_count": 32,
   "id": "e06fe836-e20b-47d6-9709-85fada67c96e",
   "metadata": {},
   "outputs": [],
   "source": [
    "def save_epochs(history):\n",
    "    h = history.history\n",
    "    df = pd.DataFrame({'Epochs':list(range(1, len(h['mcrmse']) + 1)), 'RMSE':list(h['mcrmse'])})\n",
    "    return df"
   ]
  },
  {
   "cell_type": "code",
   "execution_count": 33,
   "id": "fde84c43-fd95-4cc4-9959-112aa8740dca",
   "metadata": {},
   "outputs": [],
   "source": [
    "model_gru_2_epochs_df=save_epochs(model_gru_2_history)\n",
    "model_gru_2_epochs_df.to_csv('model_gru_2_epochs_df.csv', index=False)"
   ]
  },
  {
   "cell_type": "code",
   "execution_count": null,
   "id": "8d4a106c-5364-4aab-830f-acbf99e59102",
   "metadata": {},
   "outputs": [],
   "source": []
  }
 ],
 "metadata": {
  "environment": {
   "kernel": "python3",
   "name": "tf2-gpu.2-11.m108",
   "type": "gcloud",
   "uri": "gcr.io/deeplearning-platform-release/tf2-gpu.2-11:m108"
  },
  "kernelspec": {
   "display_name": "Python 3 (ipykernel)",
   "language": "python",
   "name": "python3"
  },
  "language_info": {
   "codemirror_mode": {
    "name": "ipython",
    "version": 3
   },
   "file_extension": ".py",
   "mimetype": "text/x-python",
   "name": "python",
   "nbconvert_exporter": "python",
   "pygments_lexer": "ipython3",
   "version": "3.10.10"
  }
 },
 "nbformat": 4,
 "nbformat_minor": 5
}
