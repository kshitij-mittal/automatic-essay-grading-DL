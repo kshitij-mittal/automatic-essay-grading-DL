{
 "cells": [
  {
   "cell_type": "markdown",
   "id": "44359cb2-e602-4a42-9cef-916b43177136",
   "metadata": {},
   "source": [
    "# Using Deep Learning for Sentence Score Prediction - Convolutional Neural Networks\n",
    "## Overview\n",
    "\n",
    "Sentence-to-sentence Convolutional Neural Network for text regression\n",
    "\n",
    "#### Approach\n",
    "- Split this data set into two sets - one for training our DL model, and one for evaluation  \n",
    "- Use Keras to create a Convolutional Neural Network (CNN) with multiple layers. We will train this model on both CPU and GPU environments and compare runtimes  \n",
    "- Evaluate and test the model on the test set and look at a few individual yelp examples  \n",
    "\n",
    "\n"
   ]
  },
  {
   "cell_type": "code",
   "execution_count": 1,
   "id": "7dfa75c7-fefa-4918-a8f5-42f1796ee7eb",
   "metadata": {},
   "outputs": [
    {
     "name": "stdout",
     "output_type": "stream",
     "text": [
      "16\n"
     ]
    }
   ],
   "source": [
    "import numpy as np\n",
    "import pandas as pd\n",
    "import os, re, time\n",
    "import matplotlib.pyplot as plt\n",
    "\n",
    "from sklearn.model_selection import train_test_split\n",
    "from sklearn import preprocessing\n",
    "\n",
    "import warnings\n",
    "warnings.filterwarnings(\"ignore\", category=FutureWarning)\n",
    "warnings.filterwarnings(\"ignore\", category=DeprecationWarning)\n",
    "\n",
    "from multiprocessing import cpu_count\n",
    "print(cpu_count())"
   ]
  },
  {
   "cell_type": "code",
   "execution_count": 2,
   "id": "6889b4cb-423f-4e61-a0c4-454ec02e27e7",
   "metadata": {
    "tags": []
   },
   "outputs": [
    {
     "name": "stderr",
     "output_type": "stream",
     "text": [
      "2023-05-19 22:05:12.144008: I tensorflow/core/platform/cpu_feature_guard.cc:193] This TensorFlow binary is optimized with oneAPI Deep Neural Network Library (oneDNN) to use the following CPU instructions in performance-critical operations:  AVX2 FMA\n",
      "To enable them in other operations, rebuild TensorFlow with the appropriate compiler flags.\n",
      "2023-05-19 22:05:15.580799: W tensorflow/compiler/xla/stream_executor/platform/default/dso_loader.cc:64] Could not load dynamic library 'libnvinfer.so.7'; dlerror: libnvinfer.so.7: cannot open shared object file: No such file or directory; LD_LIBRARY_PATH: /usr/local/cuda/lib64:/usr/local/nccl2/lib:/usr/local/cuda/extras/CUPTI/lib64\n",
      "2023-05-19 22:05:15.580930: W tensorflow/compiler/xla/stream_executor/platform/default/dso_loader.cc:64] Could not load dynamic library 'libnvinfer_plugin.so.7'; dlerror: libnvinfer_plugin.so.7: cannot open shared object file: No such file or directory; LD_LIBRARY_PATH: /usr/local/cuda/lib64:/usr/local/nccl2/lib:/usr/local/cuda/extras/CUPTI/lib64\n",
      "2023-05-19 22:05:15.580942: W tensorflow/compiler/tf2tensorrt/utils/py_utils.cc:38] TF-TRT Warning: Cannot dlopen some TensorRT libraries. If you would like to use Nvidia GPU with TensorRT, please make sure the missing libraries mentioned above are installed properly.\n"
     ]
    }
   ],
   "source": [
    "import tensorflow as tf\n",
    "\n",
    "from tensorflow.keras.wrappers.scikit_learn import KerasClassifier\n",
    "from tensorflow.keras.preprocessing.text import Tokenizer, text_to_word_sequence\n",
    "from tensorflow.keras.preprocessing import sequence\n",
    "from tensorflow.keras.layers import Dense, Input, LSTM, Embedding, Dropout, Activation, GRU, Convolution1D, Flatten, LeakyReLU\n",
    "from tensorflow.keras.layers import Bidirectional, GlobalMaxPool1D, GlobalAveragePooling1D, MaxPooling1D, GlobalMaxPooling1D\n",
    "from tensorflow.keras.layers import Concatenate\n",
    "\n",
    "from tensorflow.keras.models import Model, Sequential\n",
    "from tensorflow.keras import initializers, regularizers, constraints, optimizers, layers\n",
    "from tensorflow.keras import callbacks\n",
    "from tensorflow.keras.models import Sequential\n",
    "from tensorflow.keras.wrappers.scikit_learn import KerasClassifier\n",
    "from tensorflow.keras.callbacks import EarlyStopping, ModelCheckpoint\n",
    "\n",
    "from keras.models import load_model\n",
    "\n",
    "from tensorflow.keras.datasets import imdb\n",
    "\n",
    "from tensorflow.keras.utils import model_to_dot"
   ]
  },
  {
   "cell_type": "code",
   "execution_count": 3,
   "id": "ec2b5338-42e4-4a0f-9333-2ddbc1f6860e",
   "metadata": {},
   "outputs": [
    {
     "name": "stderr",
     "output_type": "stream",
     "text": [
      "2023-05-19 22:05:17.934671: W tensorflow/compiler/xla/stream_executor/platform/default/dso_loader.cc:64] Could not load dynamic library 'libcuda.so.1'; dlerror: libcuda.so.1: cannot open shared object file: No such file or directory; LD_LIBRARY_PATH: /usr/local/cuda/lib64:/usr/local/nccl2/lib:/usr/local/cuda/extras/CUPTI/lib64\n",
      "2023-05-19 22:05:17.934728: W tensorflow/compiler/xla/stream_executor/cuda/cuda_driver.cc:265] failed call to cuInit: UNKNOWN ERROR (303)\n",
      "2023-05-19 22:05:17.934764: I tensorflow/compiler/xla/stream_executor/cuda/cuda_diagnostics.cc:156] kernel driver does not appear to be running on this host (ml-essay-grading): /proc/driver/nvidia/version does not exist\n"
     ]
    },
    {
     "data": {
      "text/plain": [
       "[PhysicalDevice(name='/physical_device:CPU:0', device_type='CPU')]"
      ]
     },
     "execution_count": 3,
     "metadata": {},
     "output_type": "execute_result"
    }
   ],
   "source": [
    "tf.config.list_physical_devices()"
   ]
  },
  {
   "cell_type": "code",
   "execution_count": 4,
   "id": "ef4f064d-793c-4632-9d80-cd3f72348615",
   "metadata": {},
   "outputs": [
    {
     "name": "stdout",
     "output_type": "stream",
     "text": [
      "/bin/bash: line 1: nvidia-smi: command not found\n"
     ]
    }
   ],
   "source": [
    "!nvidia-smi"
   ]
  },
  {
   "cell_type": "code",
   "execution_count": 5,
   "id": "ced311ec-b0f9-4d70-87a9-cc38a8193cea",
   "metadata": {},
   "outputs": [
    {
     "data": {
      "text/html": [
       "<div>\n",
       "<style scoped>\n",
       "    .dataframe tbody tr th:only-of-type {\n",
       "        vertical-align: middle;\n",
       "    }\n",
       "\n",
       "    .dataframe tbody tr th {\n",
       "        vertical-align: top;\n",
       "    }\n",
       "\n",
       "    .dataframe thead th {\n",
       "        text-align: right;\n",
       "    }\n",
       "</style>\n",
       "<table border=\"1\" class=\"dataframe\">\n",
       "  <thead>\n",
       "    <tr style=\"text-align: right;\">\n",
       "      <th></th>\n",
       "      <th>text_id</th>\n",
       "      <th>full_text</th>\n",
       "      <th>cohesion</th>\n",
       "      <th>syntax</th>\n",
       "      <th>vocabulary</th>\n",
       "      <th>phraseology</th>\n",
       "      <th>grammar</th>\n",
       "      <th>conventions</th>\n",
       "      <th>cleaned_tokenize_text</th>\n",
       "      <th>corrected_text</th>\n",
       "      <th>...</th>\n",
       "      <th>sent_count</th>\n",
       "      <th>sent_len</th>\n",
       "      <th>mistakes</th>\n",
       "      <th>num_mistakes</th>\n",
       "      <th>word_count</th>\n",
       "      <th>noun_count</th>\n",
       "      <th>verb_count</th>\n",
       "      <th>adjective_count</th>\n",
       "      <th>adverb_count</th>\n",
       "      <th>Score_Category</th>\n",
       "    </tr>\n",
       "  </thead>\n",
       "  <tbody>\n",
       "    <tr>\n",
       "      <th>0</th>\n",
       "      <td>0016926B079C</td>\n",
       "      <td>I think that students would benefit from learn...</td>\n",
       "      <td>3.5</td>\n",
       "      <td>3.5</td>\n",
       "      <td>3.0</td>\n",
       "      <td>3.0</td>\n",
       "      <td>4.0</td>\n",
       "      <td>3.0</td>\n",
       "      <td>think students would benefit learning home won...</td>\n",
       "      <td>think students would benefit learning home won...</td>\n",
       "      <td>...</td>\n",
       "      <td>18</td>\n",
       "      <td>14.500000</td>\n",
       "      <td>NaN</td>\n",
       "      <td>0</td>\n",
       "      <td>261</td>\n",
       "      <td>61</td>\n",
       "      <td>25</td>\n",
       "      <td>25</td>\n",
       "      <td>5</td>\n",
       "      <td>medium</td>\n",
       "    </tr>\n",
       "    <tr>\n",
       "      <th>1</th>\n",
       "      <td>0022683E9EA5</td>\n",
       "      <td>When a problem is a change you have to let it ...</td>\n",
       "      <td>2.5</td>\n",
       "      <td>2.5</td>\n",
       "      <td>3.0</td>\n",
       "      <td>2.0</td>\n",
       "      <td>2.0</td>\n",
       "      <td>2.5</td>\n",
       "      <td>problem change let best matter happening chang...</td>\n",
       "      <td>problem change let best matter happening chang...</td>\n",
       "      <td>...</td>\n",
       "      <td>14</td>\n",
       "      <td>38.071429</td>\n",
       "      <td>NaN</td>\n",
       "      <td>0</td>\n",
       "      <td>533</td>\n",
       "      <td>100</td>\n",
       "      <td>56</td>\n",
       "      <td>37</td>\n",
       "      <td>9</td>\n",
       "      <td>medium</td>\n",
       "    </tr>\n",
       "    <tr>\n",
       "      <th>2</th>\n",
       "      <td>00299B378633</td>\n",
       "      <td>Dear, Principal\\n\\nIf u change the school poli...</td>\n",
       "      <td>3.0</td>\n",
       "      <td>3.5</td>\n",
       "      <td>3.0</td>\n",
       "      <td>3.0</td>\n",
       "      <td>3.0</td>\n",
       "      <td>2.5</td>\n",
       "      <td>dear principal change school policy grade aver...</td>\n",
       "      <td>dear principal change school policy grade aver...</td>\n",
       "      <td>...</td>\n",
       "      <td>19</td>\n",
       "      <td>16.842105</td>\n",
       "      <td>NaN</td>\n",
       "      <td>0</td>\n",
       "      <td>320</td>\n",
       "      <td>58</td>\n",
       "      <td>20</td>\n",
       "      <td>33</td>\n",
       "      <td>5</td>\n",
       "      <td>medium</td>\n",
       "    </tr>\n",
       "    <tr>\n",
       "      <th>3</th>\n",
       "      <td>003885A45F42</td>\n",
       "      <td>The best time in life is when you become yours...</td>\n",
       "      <td>4.5</td>\n",
       "      <td>4.5</td>\n",
       "      <td>4.5</td>\n",
       "      <td>4.5</td>\n",
       "      <td>4.0</td>\n",
       "      <td>5.0</td>\n",
       "      <td>best time life become agree greatest accomplis...</td>\n",
       "      <td>best time life become agree greatest accomplis...</td>\n",
       "      <td>...</td>\n",
       "      <td>36</td>\n",
       "      <td>20.222222</td>\n",
       "      <td>NaN</td>\n",
       "      <td>0</td>\n",
       "      <td>728</td>\n",
       "      <td>106</td>\n",
       "      <td>73</td>\n",
       "      <td>62</td>\n",
       "      <td>22</td>\n",
       "      <td>high</td>\n",
       "    </tr>\n",
       "    <tr>\n",
       "      <th>4</th>\n",
       "      <td>0049B1DF5CCC</td>\n",
       "      <td>Small act of kindness can impact in other peop...</td>\n",
       "      <td>2.5</td>\n",
       "      <td>3.0</td>\n",
       "      <td>3.0</td>\n",
       "      <td>3.0</td>\n",
       "      <td>2.5</td>\n",
       "      <td>2.5</td>\n",
       "      <td>small act kindness impact people change people...</td>\n",
       "      <td>small act kindness impact people change people...</td>\n",
       "      <td>...</td>\n",
       "      <td>3</td>\n",
       "      <td>78.000000</td>\n",
       "      <td>kindess homeles triying greate kindess wount t...</td>\n",
       "      <td>11</td>\n",
       "      <td>234</td>\n",
       "      <td>58</td>\n",
       "      <td>21</td>\n",
       "      <td>18</td>\n",
       "      <td>5</td>\n",
       "      <td>medium</td>\n",
       "    </tr>\n",
       "  </tbody>\n",
       "</table>\n",
       "<p>5 rows × 21 columns</p>\n",
       "</div>"
      ],
      "text/plain": [
       "        text_id                                          full_text  cohesion  \\\n",
       "0  0016926B079C  I think that students would benefit from learn...       3.5   \n",
       "1  0022683E9EA5  When a problem is a change you have to let it ...       2.5   \n",
       "2  00299B378633  Dear, Principal\\n\\nIf u change the school poli...       3.0   \n",
       "3  003885A45F42  The best time in life is when you become yours...       4.5   \n",
       "4  0049B1DF5CCC  Small act of kindness can impact in other peop...       2.5   \n",
       "\n",
       "   syntax  vocabulary  phraseology  grammar  conventions  \\\n",
       "0     3.5         3.0          3.0      4.0          3.0   \n",
       "1     2.5         3.0          2.0      2.0          2.5   \n",
       "2     3.5         3.0          3.0      3.0          2.5   \n",
       "3     4.5         4.5          4.5      4.0          5.0   \n",
       "4     3.0         3.0          3.0      2.5          2.5   \n",
       "\n",
       "                               cleaned_tokenize_text  \\\n",
       "0  think students would benefit learning home won...   \n",
       "1  problem change let best matter happening chang...   \n",
       "2  dear principal change school policy grade aver...   \n",
       "3  best time life become agree greatest accomplis...   \n",
       "4  small act kindness impact people change people...   \n",
       "\n",
       "                                      corrected_text  ... sent_count  \\\n",
       "0  think students would benefit learning home won...  ...         18   \n",
       "1  problem change let best matter happening chang...  ...         14   \n",
       "2  dear principal change school policy grade aver...  ...         19   \n",
       "3  best time life become agree greatest accomplis...  ...         36   \n",
       "4  small act kindness impact people change people...  ...          3   \n",
       "\n",
       "    sent_len                                           mistakes num_mistakes  \\\n",
       "0  14.500000                                                NaN            0   \n",
       "1  38.071429                                                NaN            0   \n",
       "2  16.842105                                                NaN            0   \n",
       "3  20.222222                                                NaN            0   \n",
       "4  78.000000  kindess homeles triying greate kindess wount t...           11   \n",
       "\n",
       "   word_count  noun_count  verb_count  adjective_count  adverb_count  \\\n",
       "0         261          61          25               25             5   \n",
       "1         533         100          56               37             9   \n",
       "2         320          58          20               33             5   \n",
       "3         728         106          73               62            22   \n",
       "4         234          58          21               18             5   \n",
       "\n",
       "   Score_Category  \n",
       "0          medium  \n",
       "1          medium  \n",
       "2          medium  \n",
       "3            high  \n",
       "4          medium  \n",
       "\n",
       "[5 rows x 21 columns]"
      ]
     },
     "execution_count": 5,
     "metadata": {},
     "output_type": "execute_result"
    }
   ],
   "source": [
    "df_proc=pd.read_csv('../00_gcp_data/preprocessed-essay.csv')\n",
    "df_proc.head()"
   ]
  },
  {
   "cell_type": "code",
   "execution_count": 143,
   "id": "a1e5f217-5e7f-47aa-87e2-2a092c1e55f4",
   "metadata": {},
   "outputs": [
    {
     "data": {
      "text/html": [
       "<div>\n",
       "<style scoped>\n",
       "    .dataframe tbody tr th:only-of-type {\n",
       "        vertical-align: middle;\n",
       "    }\n",
       "\n",
       "    .dataframe tbody tr th {\n",
       "        vertical-align: top;\n",
       "    }\n",
       "\n",
       "    .dataframe thead th {\n",
       "        text-align: right;\n",
       "    }\n",
       "</style>\n",
       "<table border=\"1\" class=\"dataframe\">\n",
       "  <thead>\n",
       "    <tr style=\"text-align: right;\">\n",
       "      <th></th>\n",
       "      <th>corrected_text</th>\n",
       "      <th>lemmatized_text</th>\n",
       "    </tr>\n",
       "  </thead>\n",
       "  <tbody>\n",
       "    <tr>\n",
       "      <th>2759</th>\n",
       "      <td>anyone life shared wisdom experience ask someone important would love share maybe dad mon grandparents tones experience past person shared wisdom experience would father showed respectful adults show work business papers one thing father shared respect adults example father always best child would bad choices like going friends time listen parents got older realized one though serious rejected thought trouble child soon born able talk walk father would make say please thank well listening adults bow entering door greeting father want like younger made sure respectful grandparents shows father gave experience get respected family another thing father shared work business instance past months father showed paper work second job dad count money getting much give back workers times dad would come room teach split money making pay bills days showed showed much money everything made realized need work hard want simple job much gave job pay bills need work hard school shows father really cares future want well life showed wisdom hard like well school closing father taught business process one want business conclusion person showed wisdom experience would father teaching respect adult paper work job showed telling past show mange business older people important shared wisdom experience experience wisdom would share people people</td>\n",
       "      <td>anyone life share wisdom experience ask someone important would love share maybe dad mon grandparent tone experience past person share wisdom experience would father show respectful adult show work business paper one thing father share respect adult example father always best child would bad choice like go friend time listen parent get old realize one though serious reject thought trouble child soon born able talk walk father would make say please thank well listen adult bow enter door greet father want like young make sure respectful grandparent show father give experience get respect family another thing father share work business instance past month father show paper work second job dad count money get much give back worker time dad would come room teach split money make pay bill day show show much money everything make realize need work hard want simple job much give job pay bill need work hard school show father really care future want well life show wisdom hard like well school closing father taught business process one want business conclusion person show wisdom experience would father teach respect adult paper work job show tell past show mange business old people important share wisdom experience experience wisdom would share people people</td>\n",
       "    </tr>\n",
       "    <tr>\n",
       "      <th>192</th>\n",
       "      <td>dear principal honoured write letter pray take time busy schedule read letter hope good also want say happy student school first take stand decision changing school food healthier one say good one thoughtful idea also shows love school appreciate great idea good idea half student allergic reaction food chief cook rather hungry empty stomach incident still goes student might even pass one day secondly get healthier food active brains able function well soon class start however good breakfast even good food begin day sometimes help brain work well also help make brain good position working day work brain also consist contain particular minerals like carbohydrate protein fat supplementary substance also help human growth also help give energy human body lastly changing school food also make student never tried school lunch want try moreover student order food deliver school like school food allergic certain food incident keeps happening school food waste make school loose money therefore end speech saying good nice decision change school food healthier one once hope take time busy schedule read letter</td>\n",
       "      <td>dear principal honour write letter pray take time busy schedule read letter hope good also want say happy student school first take stand decision change school food healthier one say good one thoughtful idea also show love school appreciate great idea good idea half student allergic reaction food chief cook rather hungry empty stomach incident still go student might even pas one day secondly get healthier food active brain able function well soon class start however good breakfast even good food begin day sometimes help brain work well also help make brain good position work day work brain also consist contain particular mineral like carbohydrate protein fat supplementary substance also help human growth also help give energy human body lastly change school food also make student never try school lunch want try moreover student order food deliver school like school food allergic certain food incident keep happen school food waste make school loose money therefore end speech say good nice decision change school food healthier one once hope take time busy schedule read letter</td>\n",
       "    </tr>\n",
       "  </tbody>\n",
       "</table>\n",
       "</div>"
      ],
      "text/plain": [
       "                                                                                                                                                                                                                                                                                                                                                                                                                                                                                                                                                                                                                                                                                                                                                                                                                                                                                                                                                                                                                                                                                                                                                                                                                                                                                                                                                                                      corrected_text  \\\n",
       "2759  anyone life shared wisdom experience ask someone important would love share maybe dad mon grandparents tones experience past person shared wisdom experience would father showed respectful adults show work business papers one thing father shared respect adults example father always best child would bad choices like going friends time listen parents got older realized one though serious rejected thought trouble child soon born able talk walk father would make say please thank well listening adults bow entering door greeting father want like younger made sure respectful grandparents shows father gave experience get respected family another thing father shared work business instance past months father showed paper work second job dad count money getting much give back workers times dad would come room teach split money making pay bills days showed showed much money everything made realized need work hard want simple job much gave job pay bills need work hard school shows father really cares future want well life showed wisdom hard like well school closing father taught business process one want business conclusion person showed wisdom experience would father teaching respect adult paper work job showed telling past show mange business older people important shared wisdom experience experience wisdom would share people people   \n",
       "192                                                                                                                                                                                                                                      dear principal honoured write letter pray take time busy schedule read letter hope good also want say happy student school first take stand decision changing school food healthier one say good one thoughtful idea also shows love school appreciate great idea good idea half student allergic reaction food chief cook rather hungry empty stomach incident still goes student might even pass one day secondly get healthier food active brains able function well soon class start however good breakfast even good food begin day sometimes help brain work well also help make brain good position working day work brain also consist contain particular minerals like carbohydrate protein fat supplementary substance also help human growth also help give energy human body lastly changing school food also make student never tried school lunch want try moreover student order food deliver school like school food allergic certain food incident keeps happening school food waste make school loose money therefore end speech saying good nice decision change school food healthier one once hope take time busy schedule read letter   \n",
       "\n",
       "                                                                                                                                                                                                                                                                                                                                                                                                                                                                                                                                                                                                                                                                                                                                                                                                                                                                                                                                                                                                                                                                                                                                                                                                                                                                                                           lemmatized_text  \n",
       "2759  anyone life share wisdom experience ask someone important would love share maybe dad mon grandparent tone experience past person share wisdom experience would father show respectful adult show work business paper one thing father share respect adult example father always best child would bad choice like go friend time listen parent get old realize one though serious reject thought trouble child soon born able talk walk father would make say please thank well listen adult bow enter door greet father want like young make sure respectful grandparent show father give experience get respect family another thing father share work business instance past month father show paper work second job dad count money get much give back worker time dad would come room teach split money make pay bill day show show much money everything make realize need work hard want simple job much give job pay bill need work hard school show father really care future want well life show wisdom hard like well school closing father taught business process one want business conclusion person show wisdom experience would father teach respect adult paper work job show tell past show mange business old people important share wisdom experience experience wisdom would share people people  \n",
       "192                                                                                                                                                                                    dear principal honour write letter pray take time busy schedule read letter hope good also want say happy student school first take stand decision change school food healthier one say good one thoughtful idea also show love school appreciate great idea good idea half student allergic reaction food chief cook rather hungry empty stomach incident still go student might even pas one day secondly get healthier food active brain able function well soon class start however good breakfast even good food begin day sometimes help brain work well also help make brain good position work day work brain also consist contain particular mineral like carbohydrate protein fat supplementary substance also help human growth also help give energy human body lastly change school food also make student never try school lunch want try moreover student order food deliver school like school food allergic certain food incident keep happen school food waste make school loose money therefore end speech say good nice decision change school food healthier one once hope take time busy schedule read letter  "
      ]
     },
     "execution_count": 143,
     "metadata": {},
     "output_type": "execute_result"
    }
   ],
   "source": [
    "pd.options.display.max_colwidth=None\n",
    "df_proc[['corrected_text','lemmatized_text']].sample(2)"
   ]
  },
  {
   "cell_type": "markdown",
   "id": "9927c551-cf33-43da-95a4-1c4fa2734384",
   "metadata": {},
   "source": [
    "### At first only predicting cohesion scores"
   ]
  },
  {
   "cell_type": "code",
   "execution_count": 7,
   "id": "65f98005-e41b-4f33-8836-10cbbd4b8def",
   "metadata": {},
   "outputs": [],
   "source": [
    "## Setting text and target variables\n",
    "\n",
    "textVar=df_proc['lemmatized_text']\n",
    "targetVar=df_proc['cohesion']"
   ]
  },
  {
   "cell_type": "code",
   "execution_count": 8,
   "id": "a2307b5e-2092-4f0b-97a8-83e029ea1e45",
   "metadata": {},
   "outputs": [
    {
     "name": "stdout",
     "output_type": "stream",
     "text": [
      "(3128,) (3128,)\n",
      "(783,) (783,)\n"
     ]
    }
   ],
   "source": [
    "## Splitting into train and test\n",
    "\n",
    "X = textVar\n",
    "Y = targetVar\n",
    "\n",
    "# encoder = preprocessing.LabelEncoder()\n",
    "# encoder.fit(targetVar)\n",
    "# Y = encoder.transform(targetVar)\n",
    "\n",
    "X_train, X_test, y_train, y_test = \\\n",
    "train_test_split(X, Y, test_size = 0.20, random_state = 1010)\n",
    "\n",
    "print(X_train.shape,y_train.shape)\n",
    "print(X_test.shape,y_test.shape)"
   ]
  },
  {
   "cell_type": "code",
   "execution_count": 144,
   "id": "ec542e26-aa9c-4f37-87df-a8ea54641123",
   "metadata": {},
   "outputs": [
    {
     "data": {
      "text/plain": [
       "812      prompt ask take position issue support response reason specific example prompt counterargument once take position issue people make decision seek guidance expert authority life important matter people make decision one point another there always go time go make decision something like example every four year there always selection new government mean new government mean like new president make selection decision make self situation look commit beneficial good star make decision self specially young adult high school right ask bad choice change star make good decision list try make right decision school\n",
       "185    think curfew good idea adopt least student die street loneliness teen would brake law big trouble teen street fight crime shoot weapon etc curfew take care least temporary depends government need take care homeless teen drop high school early bad student decide learn try hard subject success future without education real world one need educate complete high school take care themselves street curfew leave found minimum job payment good least teen something life big mistake ignore lazy skiing school bad grade attitude respect telephone etc teen change mind possibility well end wrong way hope succeed future\n",
       "Name: lemmatized_text, dtype: object"
      ]
     },
     "execution_count": 144,
     "metadata": {},
     "output_type": "execute_result"
    }
   ],
   "source": [
    "X_train[:2]"
   ]
  },
  {
   "cell_type": "markdown",
   "id": "e489532b-9485-4bdc-a4c9-06464e2542be",
   "metadata": {},
   "source": [
    "### Parameters"
   ]
  },
  {
   "cell_type": "code",
   "execution_count": 116,
   "id": "50314ab5-52af-4ed2-82ef-026d3bf77af7",
   "metadata": {},
   "outputs": [],
   "source": [
    "# make our experiments repeatable\n",
    "np.random.seed(0)\n",
    "\n",
    "# Model Hyperparameters\n",
    "embedding_dim = 100\n",
    "num_filters = 10\n",
    "filter_size = 3\n",
    "\n",
    "# Here we specify the number of units of our hidden layer\n",
    "hidden_dims = 5\n",
    "\n",
    "# Training parameters. Here we specify the training of the net will use 64 examples for each backprop iteration\n",
    "batch_size = 64\n",
    "\n",
    "# We will go thru the entire data set 80 times\n",
    "num_epochs = 40\n",
    "\n",
    "# Prepossessing parameters\n",
    "# We will input the first 1000 words of every essay (and pad out with nulls if a essay review is <1000 words\n",
    "# We will also build our model using the most frequent 6000 words in our yelp 'dictionary'\n",
    "\n",
    "sequence_length = 1000\n",
    "max_features = 6000\n",
    "\n",
    "#Specify the number of variables to predict (1 for binary classification or count unique values for multilabel classification)\n",
    "num_classes = 1\n",
    "#num_classes = target.nunique()"
   ]
  },
  {
   "cell_type": "markdown",
   "id": "e609b00c-a784-4b3c-8d0e-cfb19a0a500c",
   "metadata": {},
   "source": [
    "### Tokenize the data and pad sequences"
   ]
  },
  {
   "cell_type": "code",
   "execution_count": 117,
   "id": "1134c57b-462b-486d-927e-46fe754b3b73",
   "metadata": {},
   "outputs": [],
   "source": [
    "tokenizer = Tokenizer(num_words=max_features, char_level=False)\n",
    "\n",
    "#Fit tokenizer to entire data (not just Train)\n",
    "tokenizer.fit_on_texts(df_proc[\"lemmatized_text\"].values)\n",
    "\n",
    "input_vocab_size = len(tokenizer.word_index) + 1\n",
    "vocabulary = tokenizer.word_index\n",
    "vocabulary_inv = dict((v, k) for k, v in vocabulary.items())\n",
    "vocabulary_inv[0] = \"<PAD/>\"\n",
    "\n",
    "x_train = tokenizer.texts_to_sequences(X_train.values)\n",
    "x_train = sequence.pad_sequences(x_train, maxlen=sequence_length, padding=\"post\",\n",
    "                                 truncating=\"post\")\n",
    "\n",
    "x_test = tokenizer.texts_to_sequences(X_test.values)\n",
    "x_test = sequence.pad_sequences(x_test, maxlen=sequence_length, padding=\"post\",\n",
    "                                 truncating=\"post\")"
   ]
  },
  {
   "cell_type": "code",
   "execution_count": 118,
   "id": "bda1949c-d0c8-41dc-9bdb-b9f50d0af49f",
   "metadata": {},
   "outputs": [
    {
     "data": {
      "text/plain": [
       "array([[ 666,   84,   20, ...,    0,    0,    0],\n",
       "       [  15,  284,   10, ...,    0,    0,    0],\n",
       "       [  18,  289,    8, ...,    0,    0,    0],\n",
       "       ...,\n",
       "       [  42,   96, 1260, ...,    0,    0,    0],\n",
       "       [ 509,  356,   53, ...,    0,    0,    0],\n",
       "       [ 635,  540,  553, ...,    0,    0,    0]], dtype=int32)"
      ]
     },
     "execution_count": 118,
     "metadata": {},
     "output_type": "execute_result"
    }
   ],
   "source": [
    "x_train"
   ]
  },
  {
   "cell_type": "code",
   "execution_count": 119,
   "id": "7fcd3096-8926-4bfb-9bb5-64807e3e51bd",
   "metadata": {},
   "outputs": [
    {
     "data": {
      "text/plain": [
       "812                                                                                                                                                                                                                                                                                                                                                                                                                                                                                                                                                                                                                                                                                                                                                                                                                                                                                                                                                                                                                                                                                                                                                                                                                                                                                                                                                                                                                                                                                                                                                                                                                                                                                                                                                                                                                                                                                                                                                                                                                                                                                                                                                                                                                                                                                                                                                                                                                                                             prompt ask take position issue support response reason specific example prompt counterargument once take position issue people make decision seek guidance expert authority life important matter people make decision one point another there always go time go make decision something like example every four year there always selection new government mean new government mean like new president make selection decision make self situation look commit beneficial good star make decision self specially young adult high school right ask bad choice change star make good decision list try make right decision school\n",
       "185                                                                                                                                                                                                                                                                                                                                                                                                                                                                                                                                                                                                                                                                                                                                                                                                                                                                                                                                                                                                                                                                                                                                                                                                                                                                                                                                                                                                                                                                                                                                                                                                                                                                                                                                                                                                                                                                                                                                                                                                                                                                                                                                                                                                                                                                                                                                                                                                                                                           think curfew good idea adopt least student die street loneliness teen would brake law big trouble teen street fight crime shoot weapon etc curfew take care least temporary depends government need take care homeless teen drop high school early bad student decide learn try hard subject success future without education real world one need educate complete high school take care themselves street curfew leave found minimum job payment good least teen something life big mistake ignore lazy skiing school bad grade attitude respect telephone etc teen change mind possibility well end wrong way hope succeed future\n",
       "725    well business want visit hospital pharmacy try convince get permission manager business hello hope good reason write letter want tell ask get permission visit business well reason want visit business first wan visit business interest wan learn business want work career high school probably may ask interest business answer one day house play soccer friend do play mon call emergency sister house drive fast sister heart attack take hospital thirty minute nobody attend time stand bad sister angry hospital service want continue eat hospital go another hospital people say good hospital real thing question doctor nobody attend sister almost die minute doctor come attend sister sister good problem heart doctor do attend ask question say hospital take long attend people say because many medicament attend people enter sick serious problem also say good supply attend people come sick almost din also many doctor slow attend people well think people die many hospital attend sometime people see problem happen hospital also many doctor get pay still work see need people well thought may doctor save life help people need interest business job second reason wan convince let visit business wan doctor learn talk sick people see thing use emergency also want good adventure also wan meat people make new friend second point little friendly business make friend help help like sometime know something may partner know try explain make friend job business work problem know together make friend business work play work third reason want convince many people student wan explore certain occupation select one wan learn business work type rule business much pay day free normal thing know learn also want know many day work week fourth reason want convince manager business best one wan learn everything business know everyday know little mon ask wan age dream everyday mon ask question say wan doctor person save life help people mon told put also tell short story one day five year old school bad people like play around make people angry one day study one kid start annoy tell bad word told one thing never forget told never dream life look never real start think like sad thought told real never find dream happen life one day think room say never give fight dream nobody tell follow heart everything point short story never give dream look let people make feel bad listen negative people wherever want want people say die something like five reason want convince let visit business many people chance explore visit business people care try make real give move another job another dream many time many get example want visit business interest write give many example another people want learn give permission think let visit business interest emotion doctor work interest honest write permission visit business know thing want know see thing never see also want tell give opportunity visit business hope let visit business like thank take little time read hope great day\n",
       "Name: lemmatized_text, dtype: object"
      ]
     },
     "execution_count": 119,
     "metadata": {},
     "output_type": "execute_result"
    }
   ],
   "source": [
    "X_train[:3]"
   ]
  },
  {
   "cell_type": "code",
   "execution_count": 120,
   "id": "ee5648db-e4cb-4e2c-81ea-8884634b00f0",
   "metadata": {
    "tags": []
   },
   "outputs": [
    {
     "data": {
      "text/plain": [
       "812     2.5\n",
       "185     2.5\n",
       "725     3.5\n",
       "2532    4.0\n",
       "3573    3.0\n",
       "       ... \n",
       "2549    3.0\n",
       "3090    4.0\n",
       "202     3.0\n",
       "1736    2.5\n",
       "3620    3.0\n",
       "Name: cohesion, Length: 3128, dtype: float64"
      ]
     },
     "execution_count": 120,
     "metadata": {},
     "output_type": "execute_result"
    }
   ],
   "source": [
    "y_train"
   ]
  },
  {
   "cell_type": "code",
   "execution_count": 121,
   "id": "ae545de9-c539-4417-8b00-d6de41b95114",
   "metadata": {},
   "outputs": [
    {
     "name": "stdout",
     "output_type": "stream",
     "text": [
      "x_train shape: (3128, 1000)\n",
      "x_test shape: (783, 1000)\n",
      "Vocabulary Size: 10283\n"
     ]
    }
   ],
   "source": [
    "if sequence_length != x_test.shape[1]:\n",
    "    print(\"Adjusting sequence length for actual size\")\n",
    "    sequence_length = x_test.shape[1]\n",
    "\n",
    "\n",
    "print(\"x_train shape:\", x_train.shape)\n",
    "print(\"x_test shape:\", x_test.shape)\n",
    "print(\"Vocabulary Size: {:d}\".format(len(vocabulary_inv)))"
   ]
  },
  {
   "cell_type": "code",
   "execution_count": 122,
   "id": "5599e632-0dcc-4f23-a2c3-b47443aa8801",
   "metadata": {},
   "outputs": [
    {
     "name": "stdout",
     "output_type": "stream",
     "text": [
      "y train shape is (3128,)\n",
      "y test shape is (783,)\n"
     ]
    }
   ],
   "source": [
    "print(\"y train shape is %s\" % (y_train.shape,))\n",
    "print(\"y test shape is %s\" % (y_test.shape,))"
   ]
  },
  {
   "cell_type": "markdown",
   "id": "c15ec39c-793c-4dd4-8d21-442200e1cfa4",
   "metadata": {},
   "source": [
    "### Load a pretrained vector space model"
   ]
  },
  {
   "cell_type": "code",
   "execution_count": 124,
   "id": "a5c12778-b09b-4f6c-9a90-164ba8ec786b",
   "metadata": {},
   "outputs": [
    {
     "name": "stdout",
     "output_type": "stream",
     "text": [
      "Found 400000 word vectors.\n"
     ]
    }
   ],
   "source": [
    "embeddings_index = {}\n",
    "\n",
    "glove_dir = '../00_gcp_data/'\n",
    "f = open(os.path.join(glove_dir, 'glove.6B.100d.txt'), encoding=\"utf8\")\n",
    "\n",
    "for line in f:\n",
    "    values = line.split()\n",
    "    word = values[0]\n",
    "    coefs = np.asarray(values[1:], dtype='float32')\n",
    "    embeddings_index[word] = coefs\n",
    "f.close()\n",
    "\n",
    "print('Found %s word vectors.' % len(embeddings_index))"
   ]
  },
  {
   "cell_type": "code",
   "execution_count": 125,
   "id": "a55f74bd-ed02-4ad8-b922-aef8592b3e2d",
   "metadata": {},
   "outputs": [
    {
     "data": {
      "text/plain": [
       "100"
      ]
     },
     "execution_count": 125,
     "metadata": {},
     "output_type": "execute_result"
    }
   ],
   "source": [
    "len(embeddings_index['student'])"
   ]
  },
  {
   "cell_type": "code",
   "execution_count": 126,
   "id": "13cb0371-97bc-48c2-8d07-4179e1858147",
   "metadata": {},
   "outputs": [
    {
     "name": "stdout",
     "output_type": "stream",
     "text": [
      "word is university at index 551 \n"
     ]
    }
   ],
   "source": [
    "# Create our embedding matrix - this will allow us to go from a word in our yelp to its vector space representation\n",
    "\n",
    "embedding_matrix = np.zeros((len(vocabulary) + 1, embedding_dim))\n",
    "for word, i in vocabulary.items():\n",
    "    embedding_vector = embeddings_index.get(word)\n",
    "    if (word=='university'):\n",
    "        print(\"word is %s at index %d \" % (word, i))\n",
    "    if embedding_vector is not None:\n",
    "        # words not found in embedding index will be all-zeros.\n",
    "        embedding_matrix[i] = embedding_vector"
   ]
  },
  {
   "cell_type": "code",
   "execution_count": 127,
   "id": "fb0e8657-29d8-462e-9905-2a81365f84c2",
   "metadata": {},
   "outputs": [
    {
     "data": {
      "text/plain": [
       "array([[ 0.        ,  0.        ,  0.        , ...,  0.        ,\n",
       "         0.        ,  0.        ],\n",
       "       [ 0.79618001,  0.56779999, -0.96452999, ..., -0.28637001,\n",
       "         0.54822999, -0.33597001],\n",
       "       [ 0.29019001,  0.80497003,  0.31187001, ..., -0.33603001,\n",
       "         0.45998001, -0.11278   ],\n",
       "       ...,\n",
       "       [ 0.        ,  0.        ,  0.        , ...,  0.        ,\n",
       "         0.        ,  0.        ],\n",
       "       [ 0.44525999,  0.17578   , -0.54009002, ..., -0.33307999,\n",
       "        -0.90337998,  0.0175    ],\n",
       "       [ 0.        ,  0.        ,  0.        , ...,  0.        ,\n",
       "         0.        ,  0.        ]])"
      ]
     },
     "execution_count": 127,
     "metadata": {},
     "output_type": "execute_result"
    }
   ],
   "source": [
    "embedding_matrix"
   ]
  },
  {
   "cell_type": "code",
   "execution_count": 128,
   "id": "894f485e-e0b4-4b4a-ac5c-a859a0861232",
   "metadata": {},
   "outputs": [
    {
     "name": "stdout",
     "output_type": "stream",
     "text": [
      "Our vocab has word count 10283\n",
      "Matrix shape is  (10283, 100)\n",
      "Example row is  [ 0.058792    0.46122     0.95361    -0.35800999 -0.37367001  0.74261999\n",
      " -0.50187999  0.24525     0.2958     -0.76233     0.36491999  0.043526\n",
      "  0.34975001 -0.29161    -0.10035    -0.28575    -0.34646001  0.71338999\n",
      " -0.43531001  0.58613998 -0.23838     0.082975   -0.32286999 -1.03610003\n",
      "  0.19852     0.19776    -0.47338    -0.51177001  0.45921999 -0.41784999\n",
      " -0.029453    0.94788003  0.42048001  0.10861     0.30035001  0.045433\n",
      " -0.084829    0.083592    0.17925    -0.52122003 -0.45185    -0.084647\n",
      "  0.39475    -0.39993    -0.44732001 -0.031859   -0.23484001  0.14524999\n",
      " -0.11945    -1.11389995  0.35323    -0.12512    -0.16362999  0.79565001\n",
      " -0.017578   -2.02090001  0.12223     0.085044    1.2938      0.24239001\n",
      "  0.24686     0.82770997 -0.23009001 -0.35879001  0.42050001  0.35205999\n",
      "  0.60115999  0.21159001 -0.13845     0.0030674   0.14346001 -0.3942\n",
      "  0.035264   -0.23196     0.62360001  0.50643998  0.14004999 -0.55967999\n",
      " -0.13079    -0.073559    0.46244001  0.19204    -0.89091998 -0.020628\n",
      " -1.48179996 -0.36412999 -0.82520002 -0.16377001 -0.58434999 -0.33535001\n",
      "  0.22847    -0.4673      0.32534999 -0.36329001 -0.63817    -0.054129\n",
      "  0.0020747   0.18595     0.074304    0.90739   ]\n"
     ]
    }
   ],
   "source": [
    "print(\"Our vocab has word count %d\" % (len(vocabulary)+1))\n",
    "print(\"Matrix shape is \", embedding_matrix.shape)\n",
    "print(\"Example row is \", embedding_matrix[100])"
   ]
  },
  {
   "cell_type": "markdown",
   "id": "325f424a-7638-4bd8-8596-bfc65f0a0344",
   "metadata": {},
   "source": [
    "## Create a network architecture"
   ]
  },
  {
   "cell_type": "code",
   "execution_count": 129,
   "id": "e7ae273f-aa6e-4076-9fba-0387526f64be",
   "metadata": {},
   "outputs": [],
   "source": [
    "# Use the pre trained GloVe model for our embedding layer\n",
    "embedding_glove = Embedding(len(vocabulary) + 1,\n",
    "                            embedding_dim,\n",
    "                            weights=[embedding_matrix],\n",
    "                            input_length=sequence_length,\n",
    "                            trainable=False)"
   ]
  },
  {
   "cell_type": "code",
   "execution_count": 130,
   "id": "d1a70410-3c69-43f3-8983-3706dd7b0090",
   "metadata": {},
   "outputs": [],
   "source": [
    "def cnn_create(embedding):\n",
    "    \"\"\"\n",
    "    Create basic cnn structure\n",
    "    embedding: keras Embedding\n",
    "    return: compiled keras model\n",
    "    \"\"\"\n",
    "    model = Sequential()\n",
    "\n",
    "    model.add(embedding)\n",
    "\n",
    "    model.add(Convolution1D(filters=10,\n",
    "                             kernel_size=3,\n",
    "                             padding=\"valid\",\n",
    "                             activation=\"relu\",\n",
    "                             strides=1))\n",
    "    model.add(Convolution1D(filters=10,\n",
    "                             kernel_size=3,\n",
    "                             padding=\"valid\",\n",
    "                             activation=\"relu\",\n",
    "                             strides=1))\n",
    "    \n",
    "    model.add(GlobalMaxPooling1D())\n",
    "\n",
    "    # We add a dense layer (fully connected) to the previous layer with a 20% dropout (ignore 20% of units during weight updates)\n",
    "    hidden_dims = 5\n",
    "    model.add(Dense(hidden_dims))\n",
    "    model.add(Dropout(0.1))\n",
    "    model.add(Activation('relu'))\n",
    "\n",
    "    # We project onto a single unit output layer, and squash it with a linear (for regression):\n",
    "    model.add(Dense(num_classes))\n",
    "    model.add(Activation('linear')) #use softmax for multilabel\n",
    "    return(model)\n"
   ]
  },
  {
   "cell_type": "code",
   "execution_count": 131,
   "id": "89717cca-5a62-4396-ac88-0b7070b4654f",
   "metadata": {},
   "outputs": [],
   "source": [
    "glove_model = cnn_create(embedding_glove)\n",
    "glove_model.compile(loss=\"mean_squared_error\", optimizer=\"adam\", metrics=[\"mean_squared_error\"])"
   ]
  },
  {
   "cell_type": "code",
   "execution_count": 132,
   "id": "c6641ba2-b7c6-4f02-9b5a-f3d8656e2724",
   "metadata": {},
   "outputs": [],
   "source": [
    "from IPython.display import SVG\n",
    "from keras.utils.vis_utils import model_to_dot"
   ]
  },
  {
   "cell_type": "code",
   "execution_count": 133,
   "id": "f3a62996-3404-481e-a732-514dd07375d9",
   "metadata": {},
   "outputs": [
    {
     "name": "stdout",
     "output_type": "stream",
     "text": [
      "Model: \"sequential_4\"\n",
      "_________________________________________________________________\n",
      " Layer (type)                Output Shape              Param #   \n",
      "=================================================================\n",
      " embedding_3 (Embedding)     (None, 1000, 100)         1028300   \n",
      "                                                                 \n",
      " conv1d_9 (Conv1D)           (None, 998, 10)           3010      \n",
      "                                                                 \n",
      " conv1d_10 (Conv1D)          (None, 996, 10)           310       \n",
      "                                                                 \n",
      " global_max_pooling1d_4 (Glo  (None, 10)               0         \n",
      " balMaxPooling1D)                                                \n",
      "                                                                 \n",
      " dense_8 (Dense)             (None, 5)                 55        \n",
      "                                                                 \n",
      " dropout_4 (Dropout)         (None, 5)                 0         \n",
      "                                                                 \n",
      " activation_8 (Activation)   (None, 5)                 0         \n",
      "                                                                 \n",
      " dense_9 (Dense)             (None, 1)                 6         \n",
      "                                                                 \n",
      " activation_9 (Activation)   (None, 1)                 0         \n",
      "                                                                 \n",
      "=================================================================\n",
      "Total params: 1,031,681\n",
      "Trainable params: 3,381\n",
      "Non-trainable params: 1,028,300\n",
      "_________________________________________________________________\n"
     ]
    }
   ],
   "source": [
    "glove_model.summary()"
   ]
  },
  {
   "cell_type": "code",
   "execution_count": 134,
   "id": "51e24801-a5ad-4e33-9a3b-a50077f5efdb",
   "metadata": {
    "tags": []
   },
   "outputs": [],
   "source": [
    "# from IPython.display import SVG\n",
    "# from keras.utils.vis_utils import model_to_dot\n",
    "\n",
    "# SVG(model_to_dot(glove_model, show_shapes=True, dpi=65).create(prog='dot', format='svg'))"
   ]
  },
  {
   "cell_type": "code",
   "execution_count": 135,
   "id": "9b751d59-af86-43a4-a6db-b94a5cb5adcf",
   "metadata": {
    "tags": []
   },
   "outputs": [],
   "source": [
    "# import pydotplus\n",
    "\n",
    "# from tensorflow.keras.utils import model_to_dot\n",
    "# dot = model_to_dot(glove_model, show_shapes=True)\n",
    "# graph = pydotplus.graph_from_dot_data(dot.to_string())\n",
    "# graph.write_png('model.png')"
   ]
  },
  {
   "cell_type": "code",
   "execution_count": null,
   "id": "26ce65d7-0dc9-4e6f-b8c8-cca5062a104e",
   "metadata": {},
   "outputs": [],
   "source": []
  },
  {
   "cell_type": "code",
   "execution_count": 136,
   "id": "1edf48b1-4d17-428c-8b33-854668f0ecea",
   "metadata": {
    "tags": []
   },
   "outputs": [],
   "source": [
    "# SVG(model_to_dot(glove_model, show_shapes=True, dpi=65).create(prog='dot', format='svg'))\n",
    "\n",
    "# %pip install pydot_ng\n",
    "# import pydot_ng\n",
    "# from pydot_ng import model_to_dot\n",
    "# SVG(model_to_dot(glove_model, show_shapes=True, dpi=65).create(prog='dot', format='svg'))\n"
   ]
  },
  {
   "cell_type": "code",
   "execution_count": 137,
   "id": "712bef22-53fb-4cae-bd91-bc4ef0ceecdd",
   "metadata": {},
   "outputs": [],
   "source": [
    "# %pip install pydot\n",
    "\n",
    "# from tensorflow.keras.utils import plot_model\n",
    "# plot_model(glove_model, show_shapes=True, to_file='model.png')"
   ]
  },
  {
   "cell_type": "code",
   "execution_count": 138,
   "id": "8a48dee5-7363-4451-a686-70e204e91575",
   "metadata": {
    "collapsed": true,
    "jupyter": {
     "outputs_hidden": true
    },
    "tags": []
   },
   "outputs": [
    {
     "name": "stdout",
     "output_type": "stream",
     "text": [
      "Epoch 1/200\n",
      "WARNING:tensorflow:Can save best model only with val_accuracy available, skipping.\n",
      "49/49 - 2s - loss: 1.0438 - mean_squared_error: 1.0438 - val_loss: 0.5521 - val_mean_squared_error: 0.5521 - 2s/epoch - 47ms/step\n",
      "Epoch 2/200\n",
      "WARNING:tensorflow:Can save best model only with val_accuracy available, skipping.\n",
      "49/49 - 1s - loss: 0.8826 - mean_squared_error: 0.8826 - val_loss: 0.4787 - val_mean_squared_error: 0.4787 - 1s/epoch - 28ms/step\n",
      "Epoch 3/200\n",
      "WARNING:tensorflow:Can save best model only with val_accuracy available, skipping.\n",
      "49/49 - 1s - loss: 0.7263 - mean_squared_error: 0.7263 - val_loss: 0.4587 - val_mean_squared_error: 0.4587 - 1s/epoch - 27ms/step\n",
      "Epoch 4/200\n",
      "WARNING:tensorflow:Can save best model only with val_accuracy available, skipping.\n",
      "49/49 - 1s - loss: 0.6973 - mean_squared_error: 0.6973 - val_loss: 0.4393 - val_mean_squared_error: 0.4393 - 1s/epoch - 27ms/step\n",
      "Epoch 5/200\n",
      "WARNING:tensorflow:Can save best model only with val_accuracy available, skipping.\n",
      "49/49 - 1s - loss: 0.6846 - mean_squared_error: 0.6846 - val_loss: 0.4154 - val_mean_squared_error: 0.4154 - 1s/epoch - 29ms/step\n",
      "Epoch 6/200\n",
      "WARNING:tensorflow:Can save best model only with val_accuracy available, skipping.\n",
      "49/49 - 1s - loss: 0.7028 - mean_squared_error: 0.7028 - val_loss: 0.4122 - val_mean_squared_error: 0.4122 - 1s/epoch - 28ms/step\n",
      "Epoch 7/200\n",
      "WARNING:tensorflow:Can save best model only with val_accuracy available, skipping.\n",
      "49/49 - 1s - loss: 0.6807 - mean_squared_error: 0.6807 - val_loss: 0.4263 - val_mean_squared_error: 0.4263 - 1s/epoch - 28ms/step\n",
      "Epoch 8/200\n",
      "WARNING:tensorflow:Can save best model only with val_accuracy available, skipping.\n",
      "49/49 - 1s - loss: 0.6408 - mean_squared_error: 0.6408 - val_loss: 0.4311 - val_mean_squared_error: 0.4311 - 1s/epoch - 29ms/step\n",
      "Epoch 9/200\n",
      "WARNING:tensorflow:Can save best model only with val_accuracy available, skipping.\n",
      "49/49 - 1s - loss: 0.6421 - mean_squared_error: 0.6421 - val_loss: 0.4135 - val_mean_squared_error: 0.4135 - 1s/epoch - 30ms/step\n",
      "Epoch 10/200\n",
      "WARNING:tensorflow:Can save best model only with val_accuracy available, skipping.\n",
      "49/49 - 1s - loss: 0.6298 - mean_squared_error: 0.6298 - val_loss: 0.4173 - val_mean_squared_error: 0.4173 - 1s/epoch - 30ms/step\n",
      "Epoch 11/200\n",
      "WARNING:tensorflow:Can save best model only with val_accuracy available, skipping.\n",
      "49/49 - 2s - loss: 0.5988 - mean_squared_error: 0.5988 - val_loss: 0.4176 - val_mean_squared_error: 0.4176 - 2s/epoch - 31ms/step\n",
      "Epoch 12/200\n",
      "WARNING:tensorflow:Can save best model only with val_accuracy available, skipping.\n",
      "49/49 - 1s - loss: 0.5959 - mean_squared_error: 0.5959 - val_loss: 0.4096 - val_mean_squared_error: 0.4096 - 1s/epoch - 29ms/step\n",
      "Epoch 13/200\n",
      "WARNING:tensorflow:Can save best model only with val_accuracy available, skipping.\n",
      "49/49 - 1s - loss: 0.5725 - mean_squared_error: 0.5725 - val_loss: 0.4803 - val_mean_squared_error: 0.4803 - 1s/epoch - 28ms/step\n",
      "Epoch 14/200\n",
      "WARNING:tensorflow:Can save best model only with val_accuracy available, skipping.\n",
      "49/49 - 1s - loss: 0.5820 - mean_squared_error: 0.5820 - val_loss: 0.4218 - val_mean_squared_error: 0.4218 - 1s/epoch - 27ms/step\n",
      "Epoch 15/200\n",
      "WARNING:tensorflow:Can save best model only with val_accuracy available, skipping.\n",
      "49/49 - 1s - loss: 0.5315 - mean_squared_error: 0.5315 - val_loss: 0.4168 - val_mean_squared_error: 0.4168 - 1s/epoch - 28ms/step\n",
      "Epoch 16/200\n",
      "WARNING:tensorflow:Can save best model only with val_accuracy available, skipping.\n",
      "49/49 - 1s - loss: 0.5269 - mean_squared_error: 0.5269 - val_loss: 0.4430 - val_mean_squared_error: 0.4430 - 1s/epoch - 28ms/step\n",
      "Epoch 17/200\n",
      "WARNING:tensorflow:Can save best model only with val_accuracy available, skipping.\n",
      "49/49 - 1s - loss: 0.5171 - mean_squared_error: 0.5171 - val_loss: 0.4285 - val_mean_squared_error: 0.4285 - 1s/epoch - 28ms/step\n",
      "Epoch 18/200\n",
      "WARNING:tensorflow:Can save best model only with val_accuracy available, skipping.\n",
      "49/49 - 1s - loss: 0.5079 - mean_squared_error: 0.5079 - val_loss: 0.4448 - val_mean_squared_error: 0.4448 - 1s/epoch - 28ms/step\n",
      "Epoch 19/200\n",
      "WARNING:tensorflow:Can save best model only with val_accuracy available, skipping.\n",
      "49/49 - 1s - loss: 0.5187 - mean_squared_error: 0.5187 - val_loss: 0.4241 - val_mean_squared_error: 0.4241 - 1s/epoch - 28ms/step\n",
      "Epoch 20/200\n",
      "WARNING:tensorflow:Can save best model only with val_accuracy available, skipping.\n",
      "49/49 - 1s - loss: 0.4864 - mean_squared_error: 0.4864 - val_loss: 0.4331 - val_mean_squared_error: 0.4331 - 1s/epoch - 28ms/step\n",
      "Epoch 21/200\n",
      "WARNING:tensorflow:Can save best model only with val_accuracy available, skipping.\n",
      "49/49 - 1s - loss: 0.5095 - mean_squared_error: 0.5095 - val_loss: 0.4386 - val_mean_squared_error: 0.4386 - 1s/epoch - 28ms/step\n",
      "Epoch 22/200\n",
      "WARNING:tensorflow:Can save best model only with val_accuracy available, skipping.\n",
      "49/49 - 1s - loss: 0.4542 - mean_squared_error: 0.4542 - val_loss: 0.4733 - val_mean_squared_error: 0.4733 - 1s/epoch - 28ms/step\n",
      "Epoch 23/200\n",
      "WARNING:tensorflow:Can save best model only with val_accuracy available, skipping.\n",
      "49/49 - 1s - loss: 0.4471 - mean_squared_error: 0.4471 - val_loss: 0.4630 - val_mean_squared_error: 0.4630 - 1s/epoch - 28ms/step\n",
      "Epoch 24/200\n",
      "WARNING:tensorflow:Can save best model only with val_accuracy available, skipping.\n",
      "49/49 - 1s - loss: 0.4433 - mean_squared_error: 0.4433 - val_loss: 0.4293 - val_mean_squared_error: 0.4293 - 1s/epoch - 28ms/step\n",
      "Epoch 25/200\n",
      "WARNING:tensorflow:Can save best model only with val_accuracy available, skipping.\n",
      "49/49 - 1s - loss: 0.4375 - mean_squared_error: 0.4375 - val_loss: 0.4295 - val_mean_squared_error: 0.4295 - 1s/epoch - 27ms/step\n",
      "Epoch 26/200\n",
      "WARNING:tensorflow:Can save best model only with val_accuracy available, skipping.\n",
      "49/49 - 1s - loss: 0.4223 - mean_squared_error: 0.4223 - val_loss: 0.4419 - val_mean_squared_error: 0.4419 - 1s/epoch - 28ms/step\n",
      "Epoch 27/200\n",
      "WARNING:tensorflow:Can save best model only with val_accuracy available, skipping.\n",
      "49/49 - 1s - loss: 0.4199 - mean_squared_error: 0.4199 - val_loss: 0.4333 - val_mean_squared_error: 0.4333 - 1s/epoch - 26ms/step\n",
      "Epoch 28/200\n",
      "WARNING:tensorflow:Can save best model only with val_accuracy available, skipping.\n",
      "49/49 - 1s - loss: 0.4224 - mean_squared_error: 0.4224 - val_loss: 0.4580 - val_mean_squared_error: 0.4580 - 1s/epoch - 27ms/step\n",
      "Epoch 29/200\n",
      "WARNING:tensorflow:Can save best model only with val_accuracy available, skipping.\n",
      "49/49 - 1s - loss: 0.4094 - mean_squared_error: 0.4094 - val_loss: 0.4408 - val_mean_squared_error: 0.4408 - 1s/epoch - 28ms/step\n",
      "Epoch 30/200\n",
      "WARNING:tensorflow:Can save best model only with val_accuracy available, skipping.\n",
      "49/49 - 1s - loss: 0.3946 - mean_squared_error: 0.3946 - val_loss: 0.4618 - val_mean_squared_error: 0.4618 - 1s/epoch - 28ms/step\n",
      "Epoch 31/200\n",
      "WARNING:tensorflow:Can save best model only with val_accuracy available, skipping.\n",
      "49/49 - 1s - loss: 0.3969 - mean_squared_error: 0.3969 - val_loss: 0.4478 - val_mean_squared_error: 0.4478 - 1s/epoch - 28ms/step\n",
      "Epoch 32/200\n",
      "WARNING:tensorflow:Can save best model only with val_accuracy available, skipping.\n",
      "49/49 - 1s - loss: 0.3880 - mean_squared_error: 0.3880 - val_loss: 0.4691 - val_mean_squared_error: 0.4691 - 1s/epoch - 28ms/step\n",
      "Epoch 33/200\n",
      "WARNING:tensorflow:Can save best model only with val_accuracy available, skipping.\n",
      "49/49 - 1s - loss: 0.3414 - mean_squared_error: 0.3414 - val_loss: 0.4737 - val_mean_squared_error: 0.4737 - 1s/epoch - 29ms/step\n",
      "Epoch 34/200\n",
      "WARNING:tensorflow:Can save best model only with val_accuracy available, skipping.\n",
      "49/49 - 1s - loss: 0.3718 - mean_squared_error: 0.3718 - val_loss: 0.4577 - val_mean_squared_error: 0.4577 - 1s/epoch - 28ms/step\n",
      "Epoch 35/200\n",
      "WARNING:tensorflow:Can save best model only with val_accuracy available, skipping.\n",
      "49/49 - 1s - loss: 0.3349 - mean_squared_error: 0.3349 - val_loss: 0.4571 - val_mean_squared_error: 0.4571 - 1s/epoch - 26ms/step\n",
      "Epoch 36/200\n",
      "WARNING:tensorflow:Can save best model only with val_accuracy available, skipping.\n",
      "49/49 - 1s - loss: 0.3497 - mean_squared_error: 0.3497 - val_loss: 0.4783 - val_mean_squared_error: 0.4783 - 1s/epoch - 28ms/step\n",
      "Epoch 37/200\n",
      "WARNING:tensorflow:Can save best model only with val_accuracy available, skipping.\n",
      "49/49 - 1s - loss: 0.3461 - mean_squared_error: 0.3461 - val_loss: 0.4634 - val_mean_squared_error: 0.4634 - 1s/epoch - 27ms/step\n",
      "Epoch 38/200\n",
      "WARNING:tensorflow:Can save best model only with val_accuracy available, skipping.\n",
      "49/49 - 1s - loss: 0.3382 - mean_squared_error: 0.3382 - val_loss: 0.4663 - val_mean_squared_error: 0.4663 - 1s/epoch - 28ms/step\n",
      "Epoch 39/200\n",
      "WARNING:tensorflow:Can save best model only with val_accuracy available, skipping.\n",
      "49/49 - 1s - loss: 0.3129 - mean_squared_error: 0.3129 - val_loss: 0.4762 - val_mean_squared_error: 0.4762 - 1s/epoch - 28ms/step\n",
      "Epoch 40/200\n",
      "WARNING:tensorflow:Can save best model only with val_accuracy available, skipping.\n",
      "49/49 - 1s - loss: 0.3254 - mean_squared_error: 0.3254 - val_loss: 0.4833 - val_mean_squared_error: 0.4833 - 1s/epoch - 28ms/step\n",
      "Epoch 41/200\n",
      "WARNING:tensorflow:Can save best model only with val_accuracy available, skipping.\n",
      "49/49 - 1s - loss: 0.2935 - mean_squared_error: 0.2935 - val_loss: 0.4645 - val_mean_squared_error: 0.4645 - 1s/epoch - 28ms/step\n",
      "Epoch 42/200\n",
      "WARNING:tensorflow:Can save best model only with val_accuracy available, skipping.\n",
      "49/49 - 1s - loss: 0.2981 - mean_squared_error: 0.2981 - val_loss: 0.4833 - val_mean_squared_error: 0.4833 - 1s/epoch - 29ms/step\n",
      "Epoch 43/200\n",
      "WARNING:tensorflow:Can save best model only with val_accuracy available, skipping.\n",
      "49/49 - 1s - loss: 0.2770 - mean_squared_error: 0.2770 - val_loss: 0.4743 - val_mean_squared_error: 0.4743 - 1s/epoch - 28ms/step\n",
      "Epoch 44/200\n",
      "WARNING:tensorflow:Can save best model only with val_accuracy available, skipping.\n",
      "49/49 - 1s - loss: 0.2912 - mean_squared_error: 0.2912 - val_loss: 0.4786 - val_mean_squared_error: 0.4786 - 1s/epoch - 29ms/step\n",
      "Epoch 45/200\n",
      "WARNING:tensorflow:Can save best model only with val_accuracy available, skipping.\n",
      "49/49 - 1s - loss: 0.3084 - mean_squared_error: 0.3084 - val_loss: 0.4932 - val_mean_squared_error: 0.4932 - 1s/epoch - 29ms/step\n",
      "Epoch 46/200\n",
      "WARNING:tensorflow:Can save best model only with val_accuracy available, skipping.\n",
      "49/49 - 1s - loss: 0.2834 - mean_squared_error: 0.2834 - val_loss: 0.4954 - val_mean_squared_error: 0.4954 - 1s/epoch - 28ms/step\n",
      "Epoch 47/200\n",
      "WARNING:tensorflow:Can save best model only with val_accuracy available, skipping.\n",
      "49/49 - 1s - loss: 0.2759 - mean_squared_error: 0.2759 - val_loss: 0.4938 - val_mean_squared_error: 0.4938 - 1s/epoch - 29ms/step\n",
      "Epoch 48/200\n",
      "WARNING:tensorflow:Can save best model only with val_accuracy available, skipping.\n",
      "49/49 - 1s - loss: 0.2488 - mean_squared_error: 0.2488 - val_loss: 0.4883 - val_mean_squared_error: 0.4883 - 1s/epoch - 28ms/step\n",
      "Epoch 49/200\n",
      "WARNING:tensorflow:Can save best model only with val_accuracy available, skipping.\n",
      "49/49 - 1s - loss: 0.2448 - mean_squared_error: 0.2448 - val_loss: 0.5047 - val_mean_squared_error: 0.5047 - 1s/epoch - 28ms/step\n",
      "Epoch 50/200\n",
      "WARNING:tensorflow:Can save best model only with val_accuracy available, skipping.\n",
      "49/49 - 1s - loss: 0.2710 - mean_squared_error: 0.2710 - val_loss: 0.5054 - val_mean_squared_error: 0.5054 - 1s/epoch - 27ms/step\n",
      "Epoch 51/200\n",
      "WARNING:tensorflow:Can save best model only with val_accuracy available, skipping.\n",
      "49/49 - 1s - loss: 0.2384 - mean_squared_error: 0.2384 - val_loss: 0.5075 - val_mean_squared_error: 0.5075 - 1s/epoch - 27ms/step\n",
      "Epoch 52/200\n",
      "WARNING:tensorflow:Can save best model only with val_accuracy available, skipping.\n",
      "49/49 - 1s - loss: 0.2437 - mean_squared_error: 0.2437 - val_loss: 0.5123 - val_mean_squared_error: 0.5123 - 1s/epoch - 29ms/step\n",
      "Epoch 53/200\n",
      "WARNING:tensorflow:Can save best model only with val_accuracy available, skipping.\n",
      "49/49 - 1s - loss: 0.2256 - mean_squared_error: 0.2256 - val_loss: 0.5213 - val_mean_squared_error: 0.5213 - 1s/epoch - 30ms/step\n",
      "Epoch 54/200\n",
      "WARNING:tensorflow:Can save best model only with val_accuracy available, skipping.\n",
      "49/49 - 2s - loss: 0.2300 - mean_squared_error: 0.2300 - val_loss: 0.5060 - val_mean_squared_error: 0.5060 - 2s/epoch - 32ms/step\n",
      "Epoch 55/200\n",
      "WARNING:tensorflow:Can save best model only with val_accuracy available, skipping.\n",
      "49/49 - 1s - loss: 0.2297 - mean_squared_error: 0.2297 - val_loss: 0.5117 - val_mean_squared_error: 0.5117 - 1s/epoch - 29ms/step\n",
      "Epoch 56/200\n",
      "WARNING:tensorflow:Can save best model only with val_accuracy available, skipping.\n",
      "49/49 - 1s - loss: 0.2177 - mean_squared_error: 0.2177 - val_loss: 0.5212 - val_mean_squared_error: 0.5212 - 1s/epoch - 28ms/step\n",
      "Epoch 57/200\n",
      "WARNING:tensorflow:Can save best model only with val_accuracy available, skipping.\n",
      "49/49 - 1s - loss: 0.2318 - mean_squared_error: 0.2318 - val_loss: 0.5194 - val_mean_squared_error: 0.5194 - 1s/epoch - 27ms/step\n",
      "Epoch 58/200\n",
      "WARNING:tensorflow:Can save best model only with val_accuracy available, skipping.\n",
      "49/49 - 1s - loss: 0.2160 - mean_squared_error: 0.2160 - val_loss: 0.5252 - val_mean_squared_error: 0.5252 - 1s/epoch - 30ms/step\n",
      "Epoch 59/200\n",
      "WARNING:tensorflow:Can save best model only with val_accuracy available, skipping.\n",
      "49/49 - 1s - loss: 0.2080 - mean_squared_error: 0.2080 - val_loss: 0.5365 - val_mean_squared_error: 0.5365 - 1s/epoch - 29ms/step\n",
      "Epoch 60/200\n",
      "WARNING:tensorflow:Can save best model only with val_accuracy available, skipping.\n",
      "49/49 - 1s - loss: 0.2211 - mean_squared_error: 0.2211 - val_loss: 0.5214 - val_mean_squared_error: 0.5214 - 1s/epoch - 28ms/step\n",
      "Epoch 61/200\n",
      "WARNING:tensorflow:Can save best model only with val_accuracy available, skipping.\n",
      "49/49 - 1s - loss: 0.2128 - mean_squared_error: 0.2128 - val_loss: 0.5174 - val_mean_squared_error: 0.5174 - 1s/epoch - 27ms/step\n",
      "Epoch 62/200\n",
      "WARNING:tensorflow:Can save best model only with val_accuracy available, skipping.\n",
      "49/49 - 1s - loss: 0.1971 - mean_squared_error: 0.1971 - val_loss: 0.5222 - val_mean_squared_error: 0.5222 - 1s/epoch - 28ms/step\n",
      "Epoch 63/200\n",
      "WARNING:tensorflow:Can save best model only with val_accuracy available, skipping.\n",
      "49/49 - 1s - loss: 0.2059 - mean_squared_error: 0.2059 - val_loss: 0.5551 - val_mean_squared_error: 0.5551 - 1s/epoch - 27ms/step\n",
      "Epoch 64/200\n",
      "WARNING:tensorflow:Can save best model only with val_accuracy available, skipping.\n",
      "49/49 - 1s - loss: 0.1962 - mean_squared_error: 0.1962 - val_loss: 0.5363 - val_mean_squared_error: 0.5363 - 1s/epoch - 27ms/step\n",
      "Epoch 65/200\n",
      "WARNING:tensorflow:Can save best model only with val_accuracy available, skipping.\n",
      "49/49 - 1s - loss: 0.1900 - mean_squared_error: 0.1900 - val_loss: 0.5274 - val_mean_squared_error: 0.5274 - 1s/epoch - 27ms/step\n",
      "Epoch 66/200\n",
      "WARNING:tensorflow:Can save best model only with val_accuracy available, skipping.\n",
      "49/49 - 1s - loss: 0.1967 - mean_squared_error: 0.1967 - val_loss: 0.5351 - val_mean_squared_error: 0.5351 - 1s/epoch - 27ms/step\n",
      "Epoch 67/200\n",
      "WARNING:tensorflow:Can save best model only with val_accuracy available, skipping.\n",
      "49/49 - 1s - loss: 0.1768 - mean_squared_error: 0.1768 - val_loss: 0.5357 - val_mean_squared_error: 0.5357 - 1s/epoch - 29ms/step\n",
      "Epoch 68/200\n",
      "WARNING:tensorflow:Can save best model only with val_accuracy available, skipping.\n",
      "49/49 - 1s - loss: 0.1824 - mean_squared_error: 0.1824 - val_loss: 0.5408 - val_mean_squared_error: 0.5408 - 1s/epoch - 28ms/step\n",
      "Epoch 69/200\n",
      "WARNING:tensorflow:Can save best model only with val_accuracy available, skipping.\n",
      "49/49 - 1s - loss: 0.1804 - mean_squared_error: 0.1804 - val_loss: 0.5372 - val_mean_squared_error: 0.5372 - 1s/epoch - 28ms/step\n",
      "Epoch 70/200\n",
      "WARNING:tensorflow:Can save best model only with val_accuracy available, skipping.\n",
      "49/49 - 1s - loss: 0.1862 - mean_squared_error: 0.1862 - val_loss: 0.5444 - val_mean_squared_error: 0.5444 - 1s/epoch - 28ms/step\n",
      "Epoch 71/200\n",
      "WARNING:tensorflow:Can save best model only with val_accuracy available, skipping.\n",
      "49/49 - 1s - loss: 0.1729 - mean_squared_error: 0.1729 - val_loss: 0.5381 - val_mean_squared_error: 0.5381 - 1s/epoch - 30ms/step\n",
      "Epoch 72/200\n",
      "WARNING:tensorflow:Can save best model only with val_accuracy available, skipping.\n",
      "49/49 - 1s - loss: 0.1678 - mean_squared_error: 0.1678 - val_loss: 0.5384 - val_mean_squared_error: 0.5384 - 1s/epoch - 29ms/step\n",
      "Epoch 73/200\n",
      "WARNING:tensorflow:Can save best model only with val_accuracy available, skipping.\n",
      "49/49 - 1s - loss: 0.1749 - mean_squared_error: 0.1749 - val_loss: 0.5349 - val_mean_squared_error: 0.5349 - 1s/epoch - 29ms/step\n",
      "Epoch 74/200\n",
      "WARNING:tensorflow:Can save best model only with val_accuracy available, skipping.\n",
      "49/49 - 1s - loss: 0.1566 - mean_squared_error: 0.1566 - val_loss: 0.5465 - val_mean_squared_error: 0.5465 - 1s/epoch - 27ms/step\n",
      "Epoch 75/200\n",
      "WARNING:tensorflow:Can save best model only with val_accuracy available, skipping.\n",
      "49/49 - 1s - loss: 0.1622 - mean_squared_error: 0.1622 - val_loss: 0.5312 - val_mean_squared_error: 0.5312 - 1s/epoch - 29ms/step\n",
      "Epoch 76/200\n",
      "WARNING:tensorflow:Can save best model only with val_accuracy available, skipping.\n",
      "49/49 - 1s - loss: 0.1616 - mean_squared_error: 0.1616 - val_loss: 0.5353 - val_mean_squared_error: 0.5353 - 1s/epoch - 29ms/step\n",
      "Epoch 77/200\n",
      "WARNING:tensorflow:Can save best model only with val_accuracy available, skipping.\n",
      "49/49 - 1s - loss: 0.1505 - mean_squared_error: 0.1505 - val_loss: 0.5431 - val_mean_squared_error: 0.5431 - 1s/epoch - 27ms/step\n",
      "Epoch 78/200\n",
      "WARNING:tensorflow:Can save best model only with val_accuracy available, skipping.\n",
      "49/49 - 1s - loss: 0.1527 - mean_squared_error: 0.1527 - val_loss: 0.5450 - val_mean_squared_error: 0.5450 - 1s/epoch - 27ms/step\n",
      "Epoch 79/200\n",
      "WARNING:tensorflow:Can save best model only with val_accuracy available, skipping.\n",
      "49/49 - 1s - loss: 0.1482 - mean_squared_error: 0.1482 - val_loss: 0.5329 - val_mean_squared_error: 0.5329 - 1s/epoch - 28ms/step\n",
      "Epoch 80/200\n",
      "WARNING:tensorflow:Can save best model only with val_accuracy available, skipping.\n",
      "49/49 - 1s - loss: 0.1380 - mean_squared_error: 0.1380 - val_loss: 0.5364 - val_mean_squared_error: 0.5364 - 1s/epoch - 29ms/step\n",
      "Epoch 81/200\n",
      "WARNING:tensorflow:Can save best model only with val_accuracy available, skipping.\n",
      "49/49 - 1s - loss: 0.1387 - mean_squared_error: 0.1387 - val_loss: 0.5379 - val_mean_squared_error: 0.5379 - 1s/epoch - 28ms/step\n",
      "Epoch 82/200\n",
      "WARNING:tensorflow:Can save best model only with val_accuracy available, skipping.\n",
      "49/49 - 1s - loss: 0.1434 - mean_squared_error: 0.1434 - val_loss: 0.5544 - val_mean_squared_error: 0.5544 - 1s/epoch - 28ms/step\n",
      "Epoch 83/200\n",
      "WARNING:tensorflow:Can save best model only with val_accuracy available, skipping.\n",
      "49/49 - 1s - loss: 0.1378 - mean_squared_error: 0.1378 - val_loss: 0.5475 - val_mean_squared_error: 0.5475 - 1s/epoch - 27ms/step\n",
      "Epoch 84/200\n",
      "WARNING:tensorflow:Can save best model only with val_accuracy available, skipping.\n",
      "49/49 - 1s - loss: 0.1376 - mean_squared_error: 0.1376 - val_loss: 0.5501 - val_mean_squared_error: 0.5501 - 1s/epoch - 28ms/step\n",
      "Epoch 85/200\n",
      "WARNING:tensorflow:Can save best model only with val_accuracy available, skipping.\n",
      "49/49 - 1s - loss: 0.1310 - mean_squared_error: 0.1310 - val_loss: 0.5483 - val_mean_squared_error: 0.5483 - 1s/epoch - 28ms/step\n",
      "Epoch 86/200\n",
      "WARNING:tensorflow:Can save best model only with val_accuracy available, skipping.\n",
      "49/49 - 1s - loss: 0.1347 - mean_squared_error: 0.1347 - val_loss: 0.5508 - val_mean_squared_error: 0.5508 - 1s/epoch - 27ms/step\n",
      "Epoch 87/200\n",
      "WARNING:tensorflow:Can save best model only with val_accuracy available, skipping.\n",
      "49/49 - 1s - loss: 0.1257 - mean_squared_error: 0.1257 - val_loss: 0.5504 - val_mean_squared_error: 0.5504 - 1s/epoch - 28ms/step\n",
      "Epoch 88/200\n",
      "WARNING:tensorflow:Can save best model only with val_accuracy available, skipping.\n",
      "49/49 - 1s - loss: 0.1252 - mean_squared_error: 0.1252 - val_loss: 0.5390 - val_mean_squared_error: 0.5390 - 1s/epoch - 26ms/step\n",
      "Epoch 89/200\n",
      "WARNING:tensorflow:Can save best model only with val_accuracy available, skipping.\n",
      "49/49 - 1s - loss: 0.1213 - mean_squared_error: 0.1213 - val_loss: 0.5542 - val_mean_squared_error: 0.5542 - 1s/epoch - 28ms/step\n",
      "Epoch 90/200\n",
      "WARNING:tensorflow:Can save best model only with val_accuracy available, skipping.\n",
      "49/49 - 1s - loss: 0.1224 - mean_squared_error: 0.1224 - val_loss: 0.5509 - val_mean_squared_error: 0.5509 - 1s/epoch - 28ms/step\n",
      "Epoch 91/200\n",
      "WARNING:tensorflow:Can save best model only with val_accuracy available, skipping.\n",
      "49/49 - 1s - loss: 0.1184 - mean_squared_error: 0.1184 - val_loss: 0.5600 - val_mean_squared_error: 0.5600 - 1s/epoch - 28ms/step\n",
      "Epoch 92/200\n",
      "WARNING:tensorflow:Can save best model only with val_accuracy available, skipping.\n",
      "49/49 - 1s - loss: 0.1210 - mean_squared_error: 0.1210 - val_loss: 0.5552 - val_mean_squared_error: 0.5552 - 1s/epoch - 28ms/step\n",
      "Epoch 93/200\n",
      "WARNING:tensorflow:Can save best model only with val_accuracy available, skipping.\n",
      "49/49 - 1s - loss: 0.1245 - mean_squared_error: 0.1245 - val_loss: 0.5618 - val_mean_squared_error: 0.5618 - 1s/epoch - 29ms/step\n",
      "Epoch 94/200\n",
      "WARNING:tensorflow:Can save best model only with val_accuracy available, skipping.\n",
      "49/49 - 1s - loss: 0.1220 - mean_squared_error: 0.1220 - val_loss: 0.5694 - val_mean_squared_error: 0.5694 - 1s/epoch - 28ms/step\n",
      "Epoch 95/200\n",
      "WARNING:tensorflow:Can save best model only with val_accuracy available, skipping.\n",
      "49/49 - 1s - loss: 0.1150 - mean_squared_error: 0.1150 - val_loss: 0.5686 - val_mean_squared_error: 0.5686 - 1s/epoch - 28ms/step\n",
      "Epoch 96/200\n",
      "WARNING:tensorflow:Can save best model only with val_accuracy available, skipping.\n",
      "49/49 - 1s - loss: 0.1172 - mean_squared_error: 0.1172 - val_loss: 0.5528 - val_mean_squared_error: 0.5528 - 1s/epoch - 30ms/step\n",
      "Epoch 97/200\n",
      "WARNING:tensorflow:Can save best model only with val_accuracy available, skipping.\n",
      "49/49 - 1s - loss: 0.1168 - mean_squared_error: 0.1168 - val_loss: 0.5641 - val_mean_squared_error: 0.5641 - 1s/epoch - 30ms/step\n",
      "Epoch 98/200\n",
      "WARNING:tensorflow:Can save best model only with val_accuracy available, skipping.\n",
      "49/49 - 2s - loss: 0.1083 - mean_squared_error: 0.1083 - val_loss: 0.5616 - val_mean_squared_error: 0.5616 - 2s/epoch - 31ms/step\n",
      "Epoch 99/200\n",
      "WARNING:tensorflow:Can save best model only with val_accuracy available, skipping.\n",
      "49/49 - 1s - loss: 0.1110 - mean_squared_error: 0.1110 - val_loss: 0.5615 - val_mean_squared_error: 0.5615 - 1s/epoch - 28ms/step\n",
      "Epoch 100/200\n",
      "WARNING:tensorflow:Can save best model only with val_accuracy available, skipping.\n",
      "49/49 - 1s - loss: 0.1143 - mean_squared_error: 0.1143 - val_loss: 0.5714 - val_mean_squared_error: 0.5714 - 1s/epoch - 28ms/step\n",
      "Epoch 101/200\n",
      "WARNING:tensorflow:Can save best model only with val_accuracy available, skipping.\n",
      "49/49 - 1s - loss: 0.1065 - mean_squared_error: 0.1065 - val_loss: 0.5509 - val_mean_squared_error: 0.5509 - 1s/epoch - 28ms/step\n",
      "Epoch 102/200\n",
      "WARNING:tensorflow:Can save best model only with val_accuracy available, skipping.\n",
      "49/49 - 1s - loss: 0.1040 - mean_squared_error: 0.1040 - val_loss: 0.5568 - val_mean_squared_error: 0.5568 - 1s/epoch - 29ms/step\n",
      "Epoch 103/200\n",
      "WARNING:tensorflow:Can save best model only with val_accuracy available, skipping.\n",
      "49/49 - 1s - loss: 0.1108 - mean_squared_error: 0.1108 - val_loss: 0.5562 - val_mean_squared_error: 0.5562 - 1s/epoch - 29ms/step\n",
      "Epoch 104/200\n",
      "WARNING:tensorflow:Can save best model only with val_accuracy available, skipping.\n",
      "49/49 - 1s - loss: 0.1077 - mean_squared_error: 0.1077 - val_loss: 0.5639 - val_mean_squared_error: 0.5639 - 1s/epoch - 28ms/step\n",
      "Epoch 105/200\n",
      "WARNING:tensorflow:Can save best model only with val_accuracy available, skipping.\n",
      "49/49 - 1s - loss: 0.1056 - mean_squared_error: 0.1056 - val_loss: 0.5618 - val_mean_squared_error: 0.5618 - 1s/epoch - 27ms/step\n",
      "Epoch 106/200\n",
      "WARNING:tensorflow:Can save best model only with val_accuracy available, skipping.\n",
      "49/49 - 1s - loss: 0.1084 - mean_squared_error: 0.1084 - val_loss: 0.5620 - val_mean_squared_error: 0.5620 - 1s/epoch - 28ms/step\n",
      "Epoch 107/200\n",
      "WARNING:tensorflow:Can save best model only with val_accuracy available, skipping.\n",
      "49/49 - 1s - loss: 0.1069 - mean_squared_error: 0.1069 - val_loss: 0.5639 - val_mean_squared_error: 0.5639 - 1s/epoch - 28ms/step\n",
      "Epoch 108/200\n",
      "WARNING:tensorflow:Can save best model only with val_accuracy available, skipping.\n",
      "49/49 - 1s - loss: 0.1043 - mean_squared_error: 0.1043 - val_loss: 0.5623 - val_mean_squared_error: 0.5623 - 1s/epoch - 30ms/step\n",
      "Epoch 109/200\n",
      "WARNING:tensorflow:Can save best model only with val_accuracy available, skipping.\n",
      "49/49 - 1s - loss: 0.1091 - mean_squared_error: 0.1091 - val_loss: 0.5691 - val_mean_squared_error: 0.5691 - 1s/epoch - 28ms/step\n",
      "Epoch 110/200\n",
      "WARNING:tensorflow:Can save best model only with val_accuracy available, skipping.\n",
      "49/49 - 1s - loss: 0.1054 - mean_squared_error: 0.1054 - val_loss: 0.5707 - val_mean_squared_error: 0.5707 - 1s/epoch - 28ms/step\n",
      "Epoch 111/200\n",
      "WARNING:tensorflow:Can save best model only with val_accuracy available, skipping.\n",
      "49/49 - 1s - loss: 0.1016 - mean_squared_error: 0.1016 - val_loss: 0.5659 - val_mean_squared_error: 0.5659 - 1s/epoch - 28ms/step\n",
      "Epoch 112/200\n",
      "WARNING:tensorflow:Can save best model only with val_accuracy available, skipping.\n",
      "49/49 - 1s - loss: 0.0958 - mean_squared_error: 0.0958 - val_loss: 0.5640 - val_mean_squared_error: 0.5640 - 1s/epoch - 28ms/step\n",
      "Epoch 113/200\n",
      "WARNING:tensorflow:Can save best model only with val_accuracy available, skipping.\n",
      "49/49 - 1s - loss: 0.1028 - mean_squared_error: 0.1028 - val_loss: 0.5800 - val_mean_squared_error: 0.5800 - 1s/epoch - 28ms/step\n",
      "Epoch 114/200\n",
      "WARNING:tensorflow:Can save best model only with val_accuracy available, skipping.\n",
      "49/49 - 1s - loss: 0.0987 - mean_squared_error: 0.0987 - val_loss: 0.5792 - val_mean_squared_error: 0.5792 - 1s/epoch - 28ms/step\n",
      "Epoch 115/200\n",
      "WARNING:tensorflow:Can save best model only with val_accuracy available, skipping.\n",
      "49/49 - 1s - loss: 0.0943 - mean_squared_error: 0.0943 - val_loss: 0.5778 - val_mean_squared_error: 0.5778 - 1s/epoch - 28ms/step\n",
      "Epoch 116/200\n",
      "WARNING:tensorflow:Can save best model only with val_accuracy available, skipping.\n",
      "49/49 - 1s - loss: 0.1018 - mean_squared_error: 0.1018 - val_loss: 0.5951 - val_mean_squared_error: 0.5951 - 1s/epoch - 28ms/step\n",
      "Epoch 117/200\n",
      "WARNING:tensorflow:Can save best model only with val_accuracy available, skipping.\n",
      "49/49 - 1s - loss: 0.0986 - mean_squared_error: 0.0986 - val_loss: 0.5919 - val_mean_squared_error: 0.5919 - 1s/epoch - 28ms/step\n",
      "Epoch 118/200\n",
      "WARNING:tensorflow:Can save best model only with val_accuracy available, skipping.\n",
      "49/49 - 1s - loss: 0.1007 - mean_squared_error: 0.1007 - val_loss: 0.5961 - val_mean_squared_error: 0.5961 - 1s/epoch - 28ms/step\n",
      "Epoch 119/200\n",
      "WARNING:tensorflow:Can save best model only with val_accuracy available, skipping.\n",
      "49/49 - 1s - loss: 0.0948 - mean_squared_error: 0.0948 - val_loss: 0.5808 - val_mean_squared_error: 0.5808 - 1s/epoch - 28ms/step\n",
      "Epoch 120/200\n",
      "WARNING:tensorflow:Can save best model only with val_accuracy available, skipping.\n",
      "49/49 - 1s - loss: 0.0965 - mean_squared_error: 0.0965 - val_loss: 0.5617 - val_mean_squared_error: 0.5617 - 1s/epoch - 29ms/step\n",
      "Epoch 121/200\n",
      "WARNING:tensorflow:Can save best model only with val_accuracy available, skipping.\n",
      "49/49 - 1s - loss: 0.0951 - mean_squared_error: 0.0951 - val_loss: 0.5770 - val_mean_squared_error: 0.5770 - 1s/epoch - 30ms/step\n",
      "Epoch 122/200\n",
      "WARNING:tensorflow:Can save best model only with val_accuracy available, skipping.\n",
      "49/49 - 1s - loss: 0.0909 - mean_squared_error: 0.0909 - val_loss: 0.5738 - val_mean_squared_error: 0.5738 - 1s/epoch - 29ms/step\n",
      "Epoch 123/200\n",
      "WARNING:tensorflow:Can save best model only with val_accuracy available, skipping.\n",
      "49/49 - 1s - loss: 0.0913 - mean_squared_error: 0.0913 - val_loss: 0.5877 - val_mean_squared_error: 0.5877 - 1s/epoch - 28ms/step\n",
      "Epoch 124/200\n",
      "WARNING:tensorflow:Can save best model only with val_accuracy available, skipping.\n",
      "49/49 - 1s - loss: 0.0944 - mean_squared_error: 0.0944 - val_loss: 0.5778 - val_mean_squared_error: 0.5778 - 1s/epoch - 28ms/step\n",
      "Epoch 125/200\n",
      "WARNING:tensorflow:Can save best model only with val_accuracy available, skipping.\n",
      "49/49 - 1s - loss: 0.0992 - mean_squared_error: 0.0992 - val_loss: 0.5721 - val_mean_squared_error: 0.5721 - 1s/epoch - 29ms/step\n",
      "Epoch 126/200\n",
      "WARNING:tensorflow:Can save best model only with val_accuracy available, skipping.\n",
      "49/49 - 1s - loss: 0.0953 - mean_squared_error: 0.0953 - val_loss: 0.5913 - val_mean_squared_error: 0.5913 - 1s/epoch - 28ms/step\n",
      "Epoch 127/200\n",
      "WARNING:tensorflow:Can save best model only with val_accuracy available, skipping.\n",
      "49/49 - 1s - loss: 0.0982 - mean_squared_error: 0.0982 - val_loss: 0.5724 - val_mean_squared_error: 0.5724 - 1s/epoch - 27ms/step\n",
      "Epoch 128/200\n",
      "WARNING:tensorflow:Can save best model only with val_accuracy available, skipping.\n",
      "49/49 - 1s - loss: 0.0937 - mean_squared_error: 0.0937 - val_loss: 0.5848 - val_mean_squared_error: 0.5848 - 1s/epoch - 28ms/step\n",
      "Epoch 129/200\n",
      "WARNING:tensorflow:Can save best model only with val_accuracy available, skipping.\n",
      "49/49 - 1s - loss: 0.0938 - mean_squared_error: 0.0938 - val_loss: 0.5866 - val_mean_squared_error: 0.5866 - 1s/epoch - 29ms/step\n",
      "Epoch 130/200\n",
      "WARNING:tensorflow:Can save best model only with val_accuracy available, skipping.\n",
      "49/49 - 1s - loss: 0.0939 - mean_squared_error: 0.0939 - val_loss: 0.5932 - val_mean_squared_error: 0.5932 - 1s/epoch - 28ms/step\n",
      "Epoch 131/200\n",
      "WARNING:tensorflow:Can save best model only with val_accuracy available, skipping.\n",
      "49/49 - 1s - loss: 0.0934 - mean_squared_error: 0.0934 - val_loss: 0.5972 - val_mean_squared_error: 0.5972 - 1s/epoch - 27ms/step\n",
      "Epoch 132/200\n",
      "WARNING:tensorflow:Can save best model only with val_accuracy available, skipping.\n",
      "49/49 - 1s - loss: 0.0918 - mean_squared_error: 0.0918 - val_loss: 0.5977 - val_mean_squared_error: 0.5977 - 1s/epoch - 29ms/step\n",
      "Epoch 133/200\n",
      "WARNING:tensorflow:Can save best model only with val_accuracy available, skipping.\n",
      "49/49 - 1s - loss: 0.0918 - mean_squared_error: 0.0918 - val_loss: 0.5842 - val_mean_squared_error: 0.5842 - 1s/epoch - 29ms/step\n",
      "Epoch 134/200\n",
      "WARNING:tensorflow:Can save best model only with val_accuracy available, skipping.\n",
      "49/49 - 1s - loss: 0.0904 - mean_squared_error: 0.0904 - val_loss: 0.5913 - val_mean_squared_error: 0.5913 - 1s/epoch - 29ms/step\n",
      "Epoch 135/200\n",
      "WARNING:tensorflow:Can save best model only with val_accuracy available, skipping.\n",
      "49/49 - 1s - loss: 0.0953 - mean_squared_error: 0.0953 - val_loss: 0.5940 - val_mean_squared_error: 0.5940 - 1s/epoch - 27ms/step\n",
      "Epoch 136/200\n",
      "WARNING:tensorflow:Can save best model only with val_accuracy available, skipping.\n",
      "49/49 - 1s - loss: 0.0929 - mean_squared_error: 0.0929 - val_loss: 0.5983 - val_mean_squared_error: 0.5983 - 1s/epoch - 27ms/step\n",
      "Epoch 137/200\n",
      "WARNING:tensorflow:Can save best model only with val_accuracy available, skipping.\n",
      "49/49 - 1s - loss: 0.0934 - mean_squared_error: 0.0934 - val_loss: 0.5816 - val_mean_squared_error: 0.5816 - 1s/epoch - 28ms/step\n",
      "Epoch 138/200\n",
      "WARNING:tensorflow:Can save best model only with val_accuracy available, skipping.\n",
      "49/49 - 1s - loss: 0.0902 - mean_squared_error: 0.0902 - val_loss: 0.6056 - val_mean_squared_error: 0.6056 - 1s/epoch - 29ms/step\n",
      "Epoch 139/200\n",
      "WARNING:tensorflow:Can save best model only with val_accuracy available, skipping.\n",
      "49/49 - 1s - loss: 0.0886 - mean_squared_error: 0.0886 - val_loss: 0.6111 - val_mean_squared_error: 0.6111 - 1s/epoch - 27ms/step\n",
      "Epoch 140/200\n",
      "WARNING:tensorflow:Can save best model only with val_accuracy available, skipping.\n",
      "49/49 - 1s - loss: 0.0947 - mean_squared_error: 0.0947 - val_loss: 0.6029 - val_mean_squared_error: 0.6029 - 1s/epoch - 31ms/step\n",
      "Epoch 141/200\n",
      "WARNING:tensorflow:Can save best model only with val_accuracy available, skipping.\n",
      "49/49 - 1s - loss: 0.0941 - mean_squared_error: 0.0941 - val_loss: 0.5970 - val_mean_squared_error: 0.5970 - 1s/epoch - 30ms/step\n",
      "Epoch 142/200\n",
      "WARNING:tensorflow:Can save best model only with val_accuracy available, skipping.\n",
      "49/49 - 1s - loss: 0.0913 - mean_squared_error: 0.0913 - val_loss: 0.5877 - val_mean_squared_error: 0.5877 - 1s/epoch - 29ms/step\n",
      "Epoch 143/200\n",
      "WARNING:tensorflow:Can save best model only with val_accuracy available, skipping.\n",
      "49/49 - 1s - loss: 0.0951 - mean_squared_error: 0.0951 - val_loss: 0.5911 - val_mean_squared_error: 0.5911 - 1s/epoch - 27ms/step\n",
      "Epoch 144/200\n",
      "WARNING:tensorflow:Can save best model only with val_accuracy available, skipping.\n",
      "49/49 - 1s - loss: 0.0882 - mean_squared_error: 0.0882 - val_loss: 0.5888 - val_mean_squared_error: 0.5888 - 1s/epoch - 28ms/step\n",
      "Epoch 145/200\n",
      "WARNING:tensorflow:Can save best model only with val_accuracy available, skipping.\n",
      "49/49 - 1s - loss: 0.0898 - mean_squared_error: 0.0898 - val_loss: 0.5907 - val_mean_squared_error: 0.5907 - 1s/epoch - 27ms/step\n",
      "Epoch 146/200\n",
      "WARNING:tensorflow:Can save best model only with val_accuracy available, skipping.\n",
      "49/49 - 1s - loss: 0.0931 - mean_squared_error: 0.0931 - val_loss: 0.5880 - val_mean_squared_error: 0.5880 - 1s/epoch - 27ms/step\n",
      "Epoch 147/200\n",
      "WARNING:tensorflow:Can save best model only with val_accuracy available, skipping.\n",
      "49/49 - 1s - loss: 0.0869 - mean_squared_error: 0.0869 - val_loss: 0.5886 - val_mean_squared_error: 0.5886 - 1s/epoch - 27ms/step\n",
      "Epoch 148/200\n",
      "WARNING:tensorflow:Can save best model only with val_accuracy available, skipping.\n",
      "49/49 - 1s - loss: 0.0915 - mean_squared_error: 0.0915 - val_loss: 0.5922 - val_mean_squared_error: 0.5922 - 1s/epoch - 28ms/step\n",
      "Epoch 149/200\n",
      "WARNING:tensorflow:Can save best model only with val_accuracy available, skipping.\n",
      "49/49 - 1s - loss: 0.0902 - mean_squared_error: 0.0902 - val_loss: 0.6024 - val_mean_squared_error: 0.6024 - 1s/epoch - 28ms/step\n",
      "Epoch 150/200\n",
      "WARNING:tensorflow:Can save best model only with val_accuracy available, skipping.\n",
      "49/49 - 1s - loss: 0.0887 - mean_squared_error: 0.0887 - val_loss: 0.5962 - val_mean_squared_error: 0.5962 - 1s/epoch - 28ms/step\n",
      "Epoch 151/200\n",
      "WARNING:tensorflow:Can save best model only with val_accuracy available, skipping.\n",
      "49/49 - 1s - loss: 0.0871 - mean_squared_error: 0.0871 - val_loss: 0.5972 - val_mean_squared_error: 0.5972 - 1s/epoch - 28ms/step\n",
      "Epoch 152/200\n",
      "WARNING:tensorflow:Can save best model only with val_accuracy available, skipping.\n",
      "49/49 - 1s - loss: 0.0866 - mean_squared_error: 0.0866 - val_loss: 0.5947 - val_mean_squared_error: 0.5947 - 1s/epoch - 28ms/step\n",
      "Epoch 153/200\n",
      "WARNING:tensorflow:Can save best model only with val_accuracy available, skipping.\n",
      "49/49 - 1s - loss: 0.0886 - mean_squared_error: 0.0886 - val_loss: 0.5860 - val_mean_squared_error: 0.5860 - 1s/epoch - 27ms/step\n",
      "Epoch 154/200\n",
      "WARNING:tensorflow:Can save best model only with val_accuracy available, skipping.\n",
      "49/49 - 1s - loss: 0.0943 - mean_squared_error: 0.0943 - val_loss: 0.5958 - val_mean_squared_error: 0.5958 - 1s/epoch - 28ms/step\n",
      "Epoch 155/200\n",
      "WARNING:tensorflow:Can save best model only with val_accuracy available, skipping.\n",
      "49/49 - 1s - loss: 0.0955 - mean_squared_error: 0.0955 - val_loss: 0.6010 - val_mean_squared_error: 0.6010 - 1s/epoch - 28ms/step\n",
      "Epoch 156/200\n",
      "WARNING:tensorflow:Can save best model only with val_accuracy available, skipping.\n",
      "49/49 - 1s - loss: 0.0842 - mean_squared_error: 0.0842 - val_loss: 0.5986 - val_mean_squared_error: 0.5986 - 1s/epoch - 28ms/step\n",
      "Epoch 157/200\n",
      "WARNING:tensorflow:Can save best model only with val_accuracy available, skipping.\n",
      "49/49 - 1s - loss: 0.0939 - mean_squared_error: 0.0939 - val_loss: 0.6074 - val_mean_squared_error: 0.6074 - 1s/epoch - 28ms/step\n",
      "Epoch 158/200\n",
      "WARNING:tensorflow:Can save best model only with val_accuracy available, skipping.\n",
      "49/49 - 1s - loss: 0.0900 - mean_squared_error: 0.0900 - val_loss: 0.6009 - val_mean_squared_error: 0.6009 - 1s/epoch - 27ms/step\n",
      "Epoch 159/200\n",
      "WARNING:tensorflow:Can save best model only with val_accuracy available, skipping.\n",
      "49/49 - 1s - loss: 0.0884 - mean_squared_error: 0.0884 - val_loss: 0.5893 - val_mean_squared_error: 0.5893 - 1s/epoch - 28ms/step\n",
      "Epoch 160/200\n",
      "WARNING:tensorflow:Can save best model only with val_accuracy available, skipping.\n",
      "49/49 - 1s - loss: 0.0853 - mean_squared_error: 0.0853 - val_loss: 0.6137 - val_mean_squared_error: 0.6137 - 1s/epoch - 27ms/step\n",
      "Epoch 161/200\n",
      "WARNING:tensorflow:Can save best model only with val_accuracy available, skipping.\n",
      "49/49 - 1s - loss: 0.0855 - mean_squared_error: 0.0855 - val_loss: 0.5999 - val_mean_squared_error: 0.5999 - 1s/epoch - 27ms/step\n",
      "Epoch 162/200\n",
      "WARNING:tensorflow:Can save best model only with val_accuracy available, skipping.\n",
      "49/49 - 1s - loss: 0.0886 - mean_squared_error: 0.0886 - val_loss: 0.5937 - val_mean_squared_error: 0.5937 - 1s/epoch - 27ms/step\n",
      "Epoch 163/200\n",
      "WARNING:tensorflow:Can save best model only with val_accuracy available, skipping.\n",
      "49/49 - 1s - loss: 0.0938 - mean_squared_error: 0.0938 - val_loss: 0.6236 - val_mean_squared_error: 0.6236 - 1s/epoch - 28ms/step\n",
      "Epoch 164/200\n",
      "WARNING:tensorflow:Can save best model only with val_accuracy available, skipping.\n",
      "49/49 - 1s - loss: 0.0818 - mean_squared_error: 0.0818 - val_loss: 0.6109 - val_mean_squared_error: 0.6109 - 1s/epoch - 28ms/step\n",
      "Epoch 165/200\n",
      "WARNING:tensorflow:Can save best model only with val_accuracy available, skipping.\n",
      "49/49 - 1s - loss: 0.0851 - mean_squared_error: 0.0851 - val_loss: 0.6096 - val_mean_squared_error: 0.6096 - 1s/epoch - 28ms/step\n",
      "Epoch 166/200\n",
      "WARNING:tensorflow:Can save best model only with val_accuracy available, skipping.\n",
      "49/49 - 1s - loss: 0.0849 - mean_squared_error: 0.0849 - val_loss: 0.6150 - val_mean_squared_error: 0.6150 - 1s/epoch - 27ms/step\n",
      "Epoch 167/200\n",
      "WARNING:tensorflow:Can save best model only with val_accuracy available, skipping.\n",
      "49/49 - 1s - loss: 0.0853 - mean_squared_error: 0.0853 - val_loss: 0.5985 - val_mean_squared_error: 0.5985 - 1s/epoch - 28ms/step\n",
      "Epoch 168/200\n",
      "WARNING:tensorflow:Can save best model only with val_accuracy available, skipping.\n",
      "49/49 - 1s - loss: 0.0840 - mean_squared_error: 0.0840 - val_loss: 0.6198 - val_mean_squared_error: 0.6198 - 1s/epoch - 27ms/step\n",
      "Epoch 169/200\n",
      "WARNING:tensorflow:Can save best model only with val_accuracy available, skipping.\n",
      "49/49 - 1s - loss: 0.0835 - mean_squared_error: 0.0835 - val_loss: 0.6153 - val_mean_squared_error: 0.6153 - 1s/epoch - 27ms/step\n",
      "Epoch 170/200\n",
      "WARNING:tensorflow:Can save best model only with val_accuracy available, skipping.\n",
      "49/49 - 1s - loss: 0.0843 - mean_squared_error: 0.0843 - val_loss: 0.6189 - val_mean_squared_error: 0.6189 - 1s/epoch - 28ms/step\n",
      "Epoch 171/200\n",
      "WARNING:tensorflow:Can save best model only with val_accuracy available, skipping.\n",
      "49/49 - 1s - loss: 0.0816 - mean_squared_error: 0.0816 - val_loss: 0.6113 - val_mean_squared_error: 0.6113 - 1s/epoch - 28ms/step\n",
      "Epoch 172/200\n",
      "WARNING:tensorflow:Can save best model only with val_accuracy available, skipping.\n",
      "49/49 - 1s - loss: 0.0824 - mean_squared_error: 0.0824 - val_loss: 0.6178 - val_mean_squared_error: 0.6178 - 1s/epoch - 28ms/step\n",
      "Epoch 173/200\n",
      "WARNING:tensorflow:Can save best model only with val_accuracy available, skipping.\n",
      "49/49 - 1s - loss: 0.0906 - mean_squared_error: 0.0906 - val_loss: 0.6291 - val_mean_squared_error: 0.6291 - 1s/epoch - 28ms/step\n",
      "Epoch 174/200\n",
      "WARNING:tensorflow:Can save best model only with val_accuracy available, skipping.\n",
      "49/49 - 1s - loss: 0.0840 - mean_squared_error: 0.0840 - val_loss: 0.6141 - val_mean_squared_error: 0.6141 - 1s/epoch - 29ms/step\n",
      "Epoch 175/200\n",
      "WARNING:tensorflow:Can save best model only with val_accuracy available, skipping.\n",
      "49/49 - 1s - loss: 0.0871 - mean_squared_error: 0.0871 - val_loss: 0.6096 - val_mean_squared_error: 0.6096 - 1s/epoch - 28ms/step\n",
      "Epoch 176/200\n",
      "WARNING:tensorflow:Can save best model only with val_accuracy available, skipping.\n",
      "49/49 - 1s - loss: 0.0876 - mean_squared_error: 0.0876 - val_loss: 0.6151 - val_mean_squared_error: 0.6151 - 1s/epoch - 27ms/step\n",
      "Epoch 177/200\n",
      "WARNING:tensorflow:Can save best model only with val_accuracy available, skipping.\n",
      "49/49 - 1s - loss: 0.0836 - mean_squared_error: 0.0836 - val_loss: 0.6150 - val_mean_squared_error: 0.6150 - 1s/epoch - 28ms/step\n",
      "Epoch 178/200\n",
      "WARNING:tensorflow:Can save best model only with val_accuracy available, skipping.\n",
      "49/49 - 1s - loss: 0.0832 - mean_squared_error: 0.0832 - val_loss: 0.6051 - val_mean_squared_error: 0.6051 - 1s/epoch - 27ms/step\n",
      "Epoch 179/200\n",
      "WARNING:tensorflow:Can save best model only with val_accuracy available, skipping.\n",
      "49/49 - 1s - loss: 0.0817 - mean_squared_error: 0.0817 - val_loss: 0.6277 - val_mean_squared_error: 0.6277 - 1s/epoch - 29ms/step\n",
      "Epoch 180/200\n",
      "WARNING:tensorflow:Can save best model only with val_accuracy available, skipping.\n",
      "49/49 - 1s - loss: 0.0820 - mean_squared_error: 0.0820 - val_loss: 0.6268 - val_mean_squared_error: 0.6268 - 1s/epoch - 27ms/step\n",
      "Epoch 181/200\n",
      "WARNING:tensorflow:Can save best model only with val_accuracy available, skipping.\n",
      "49/49 - 1s - loss: 0.0758 - mean_squared_error: 0.0758 - val_loss: 0.6259 - val_mean_squared_error: 0.6259 - 1s/epoch - 28ms/step\n",
      "Epoch 182/200\n",
      "WARNING:tensorflow:Can save best model only with val_accuracy available, skipping.\n",
      "49/49 - 1s - loss: 0.0804 - mean_squared_error: 0.0804 - val_loss: 0.6164 - val_mean_squared_error: 0.6164 - 1s/epoch - 28ms/step\n",
      "Epoch 183/200\n",
      "WARNING:tensorflow:Can save best model only with val_accuracy available, skipping.\n",
      "49/49 - 1s - loss: 0.0831 - mean_squared_error: 0.0831 - val_loss: 0.6120 - val_mean_squared_error: 0.6120 - 1s/epoch - 30ms/step\n",
      "Epoch 184/200\n",
      "WARNING:tensorflow:Can save best model only with val_accuracy available, skipping.\n",
      "49/49 - 1s - loss: 0.0843 - mean_squared_error: 0.0843 - val_loss: 0.6184 - val_mean_squared_error: 0.6184 - 1s/epoch - 30ms/step\n",
      "Epoch 185/200\n",
      "WARNING:tensorflow:Can save best model only with val_accuracy available, skipping.\n",
      "49/49 - 1s - loss: 0.0846 - mean_squared_error: 0.0846 - val_loss: 0.6162 - val_mean_squared_error: 0.6162 - 1s/epoch - 30ms/step\n",
      "Epoch 186/200\n",
      "WARNING:tensorflow:Can save best model only with val_accuracy available, skipping.\n",
      "49/49 - 1s - loss: 0.0842 - mean_squared_error: 0.0842 - val_loss: 0.6130 - val_mean_squared_error: 0.6130 - 1s/epoch - 29ms/step\n",
      "Epoch 187/200\n",
      "WARNING:tensorflow:Can save best model only with val_accuracy available, skipping.\n",
      "49/49 - 1s - loss: 0.0821 - mean_squared_error: 0.0821 - val_loss: 0.6146 - val_mean_squared_error: 0.6146 - 1s/epoch - 30ms/step\n",
      "Epoch 188/200\n",
      "WARNING:tensorflow:Can save best model only with val_accuracy available, skipping.\n",
      "49/49 - 1s - loss: 0.0798 - mean_squared_error: 0.0798 - val_loss: 0.6118 - val_mean_squared_error: 0.6118 - 1s/epoch - 27ms/step\n",
      "Epoch 189/200\n",
      "WARNING:tensorflow:Can save best model only with val_accuracy available, skipping.\n",
      "49/49 - 1s - loss: 0.0806 - mean_squared_error: 0.0806 - val_loss: 0.6067 - val_mean_squared_error: 0.6067 - 1s/epoch - 28ms/step\n",
      "Epoch 190/200\n",
      "WARNING:tensorflow:Can save best model only with val_accuracy available, skipping.\n",
      "49/49 - 1s - loss: 0.0838 - mean_squared_error: 0.0838 - val_loss: 0.6214 - val_mean_squared_error: 0.6214 - 1s/epoch - 29ms/step\n",
      "Epoch 191/200\n",
      "WARNING:tensorflow:Can save best model only with val_accuracy available, skipping.\n",
      "49/49 - 1s - loss: 0.0810 - mean_squared_error: 0.0810 - val_loss: 0.6227 - val_mean_squared_error: 0.6227 - 1s/epoch - 28ms/step\n",
      "Epoch 192/200\n",
      "WARNING:tensorflow:Can save best model only with val_accuracy available, skipping.\n",
      "49/49 - 1s - loss: 0.0843 - mean_squared_error: 0.0843 - val_loss: 0.6285 - val_mean_squared_error: 0.6285 - 1s/epoch - 27ms/step\n",
      "Epoch 193/200\n",
      "WARNING:tensorflow:Can save best model only with val_accuracy available, skipping.\n",
      "49/49 - 1s - loss: 0.0857 - mean_squared_error: 0.0857 - val_loss: 0.6311 - val_mean_squared_error: 0.6311 - 1s/epoch - 27ms/step\n",
      "Epoch 194/200\n",
      "WARNING:tensorflow:Can save best model only with val_accuracy available, skipping.\n",
      "49/49 - 1s - loss: 0.0809 - mean_squared_error: 0.0809 - val_loss: 0.6308 - val_mean_squared_error: 0.6308 - 1s/epoch - 27ms/step\n",
      "Epoch 195/200\n",
      "WARNING:tensorflow:Can save best model only with val_accuracy available, skipping.\n",
      "49/49 - 1s - loss: 0.0847 - mean_squared_error: 0.0847 - val_loss: 0.6186 - val_mean_squared_error: 0.6186 - 1s/epoch - 27ms/step\n",
      "Epoch 196/200\n",
      "WARNING:tensorflow:Can save best model only with val_accuracy available, skipping.\n",
      "49/49 - 1s - loss: 0.0774 - mean_squared_error: 0.0774 - val_loss: 0.6351 - val_mean_squared_error: 0.6351 - 1s/epoch - 27ms/step\n",
      "Epoch 197/200\n",
      "WARNING:tensorflow:Can save best model only with val_accuracy available, skipping.\n",
      "49/49 - 1s - loss: 0.0803 - mean_squared_error: 0.0803 - val_loss: 0.6272 - val_mean_squared_error: 0.6272 - 1s/epoch - 27ms/step\n",
      "Epoch 198/200\n",
      "WARNING:tensorflow:Can save best model only with val_accuracy available, skipping.\n",
      "49/49 - 1s - loss: 0.0788 - mean_squared_error: 0.0788 - val_loss: 0.6234 - val_mean_squared_error: 0.6234 - 1s/epoch - 28ms/step\n",
      "Epoch 199/200\n",
      "WARNING:tensorflow:Can save best model only with val_accuracy available, skipping.\n",
      "49/49 - 1s - loss: 0.0808 - mean_squared_error: 0.0808 - val_loss: 0.6196 - val_mean_squared_error: 0.6196 - 1s/epoch - 27ms/step\n",
      "Epoch 200/200\n",
      "WARNING:tensorflow:Can save best model only with val_accuracy available, skipping.\n",
      "49/49 - 1s - loss: 0.0802 - mean_squared_error: 0.0802 - val_loss: 0.6384 - val_mean_squared_error: 0.6384 - 1s/epoch - 28ms/step\n",
      "CNN Glove model train time = 276 seconds\n"
     ]
    }
   ],
   "source": [
    "filepath=\"..00_gcp_data/dl_models/cnn_glove_weights_best\"\n",
    "checkpoint = ModelCheckpoint(filepath, monitor='val_accuracy',\n",
    "                             verbose=1, save_best_only=True, save_weights_only=False, overwrite=True, mode='max')\n",
    "#only save model if it improves the accuracy\n",
    "\n",
    "callbacks_list = [checkpoint]\n",
    "\n",
    "t1 = time.time()\n",
    "glove_history = glove_model.fit(x_train, y_train,\n",
    "                    batch_size=batch_size, \n",
    "                    epochs=num_epochs,\n",
    "                    validation_data=(x_test, y_test),\n",
    "                    callbacks = callbacks_list,\n",
    "                    verbose=2)\n",
    "t2 = time.time()\n",
    "print(\"CNN Glove model train time = %d seconds\" %(t2-t1))"
   ]
  },
  {
   "cell_type": "code",
   "execution_count": 139,
   "id": "3e701f51-a35e-4d54-ba64-73391c27c077",
   "metadata": {},
   "outputs": [
    {
     "data": {
      "text/plain": [
       "dict_keys(['loss', 'mean_squared_error', 'val_loss', 'val_mean_squared_error'])"
      ]
     },
     "execution_count": 139,
     "metadata": {},
     "output_type": "execute_result"
    }
   ],
   "source": [
    "glove_history.history.keys()"
   ]
  },
  {
   "cell_type": "code",
   "execution_count": 140,
   "id": "3a4d9a66-26b8-4a6f-85a8-9fe279d03e71",
   "metadata": {},
   "outputs": [],
   "source": [
    "def plot_train(history):\n",
    "    \"\"\"\n",
    "    Plot the keras epoch results thru training\n",
    "    \"\"\"\n",
    "    h = history.history\n",
    "    #loss_values = history_dict['loss']\n",
    "    #val_loss_values = history_dict['val_loss']\n",
    "    #acc = history_dict['acc']\n",
    "    #val_acc = history_dict['val_accuracy']\n",
    "    \n",
    "    #plt.plot(epochs, loss_values, 'bo', label='Training loss')\n",
    "    #plt.plot(epochs, val_loss_values, 'b', label='Validation loss')\n",
    "    \n",
    "    epochs = range(1, len(h['mean_squared_error']) + 1)\n",
    "    plt.plot(epochs, h['mean_squared_error'], 'go', label='Training MSE')\n",
    "    plt.plot(epochs, h['val_mean_squared_error'], 'g', label='Validation MSE')\n",
    "    plt.title('Training and Validation MSE')\n",
    "    plt.xlabel('Epochs')\n",
    "    plt.ylabel('MSE')\n",
    "    plt.legend()\n",
    "    plt.show()"
   ]
  },
  {
   "cell_type": "code",
   "execution_count": 141,
   "id": "3a2ba763-8bf4-448c-ac33-c276ed01129a",
   "metadata": {},
   "outputs": [
    {
     "data": {
      "image/png": "[encoded data removed]",
      "text/plain": [
       "<Figure size 640x480 with 1 Axes>"
      ]
     },
     "metadata": {},
     "output_type": "display_data"
    }
   ],
   "source": [
    "plot_train(glove_history)"
   ]
  },
  {
   "cell_type": "code",
   "execution_count": 142,
   "id": "f5b8cfca-0e0a-4f41-adc5-60f7a5ecc1b0",
   "metadata": {
    "collapsed": true,
    "jupyter": {
     "outputs_hidden": true
    },
    "tags": []
   },
   "outputs": [
    {
     "data": {
      "text/plain": [
       "{'name': 'sequential_4',\n",
       " 'layers': [{'class_name': 'InputLayer',\n",
       "   'config': {'batch_input_shape': (None, 1000),\n",
       "    'dtype': 'float32',\n",
       "    'sparse': False,\n",
       "    'ragged': False,\n",
       "    'name': 'embedding_3_input'}},\n",
       "  {'class_name': 'Embedding',\n",
       "   'config': {'name': 'embedding_3',\n",
       "    'trainable': False,\n",
       "    'dtype': 'float32',\n",
       "    'batch_input_shape': (None, 1000),\n",
       "    'input_dim': 10283,\n",
       "    'output_dim': 100,\n",
       "    'embeddings_initializer': {'class_name': 'RandomUniform',\n",
       "     'config': {'minval': -0.05, 'maxval': 0.05, 'seed': None}},\n",
       "    'embeddings_regularizer': None,\n",
       "    'activity_regularizer': None,\n",
       "    'embeddings_constraint': None,\n",
       "    'mask_zero': False,\n",
       "    'input_length': 1000}},\n",
       "  {'class_name': 'Conv1D',\n",
       "   'config': {'name': 'conv1d_9',\n",
       "    'trainable': True,\n",
       "    'dtype': 'float32',\n",
       "    'filters': 10,\n",
       "    'kernel_size': (3,),\n",
       "    'strides': (1,),\n",
       "    'padding': 'valid',\n",
       "    'data_format': 'channels_last',\n",
       "    'dilation_rate': (1,),\n",
       "    'groups': 1,\n",
       "    'activation': 'relu',\n",
       "    'use_bias': True,\n",
       "    'kernel_initializer': {'class_name': 'GlorotUniform',\n",
       "     'config': {'seed': None}},\n",
       "    'bias_initializer': {'class_name': 'Zeros', 'config': {}},\n",
       "    'kernel_regularizer': None,\n",
       "    'bias_regularizer': None,\n",
       "    'activity_regularizer': None,\n",
       "    'kernel_constraint': None,\n",
       "    'bias_constraint': None}},\n",
       "  {'class_name': 'Conv1D',\n",
       "   'config': {'name': 'conv1d_10',\n",
       "    'trainable': True,\n",
       "    'dtype': 'float32',\n",
       "    'filters': 10,\n",
       "    'kernel_size': (3,),\n",
       "    'strides': (1,),\n",
       "    'padding': 'valid',\n",
       "    'data_format': 'channels_last',\n",
       "    'dilation_rate': (1,),\n",
       "    'groups': 1,\n",
       "    'activation': 'relu',\n",
       "    'use_bias': True,\n",
       "    'kernel_initializer': {'class_name': 'GlorotUniform',\n",
       "     'config': {'seed': None}},\n",
       "    'bias_initializer': {'class_name': 'Zeros', 'config': {}},\n",
       "    'kernel_regularizer': None,\n",
       "    'bias_regularizer': None,\n",
       "    'activity_regularizer': None,\n",
       "    'kernel_constraint': None,\n",
       "    'bias_constraint': None}},\n",
       "  {'class_name': 'GlobalMaxPooling1D',\n",
       "   'config': {'name': 'global_max_pooling1d_4',\n",
       "    'trainable': True,\n",
       "    'dtype': 'float32',\n",
       "    'data_format': 'channels_last',\n",
       "    'keepdims': False}},\n",
       "  {'class_name': 'Dense',\n",
       "   'config': {'name': 'dense_8',\n",
       "    'trainable': True,\n",
       "    'dtype': 'float32',\n",
       "    'units': 5,\n",
       "    'activation': 'linear',\n",
       "    'use_bias': True,\n",
       "    'kernel_initializer': {'class_name': 'GlorotUniform',\n",
       "     'config': {'seed': None}},\n",
       "    'bias_initializer': {'class_name': 'Zeros', 'config': {}},\n",
       "    'kernel_regularizer': None,\n",
       "    'bias_regularizer': None,\n",
       "    'activity_regularizer': None,\n",
       "    'kernel_constraint': None,\n",
       "    'bias_constraint': None}},\n",
       "  {'class_name': 'Dropout',\n",
       "   'config': {'name': 'dropout_4',\n",
       "    'trainable': True,\n",
       "    'dtype': 'float32',\n",
       "    'rate': 0.1,\n",
       "    'noise_shape': None,\n",
       "    'seed': None}},\n",
       "  {'class_name': 'Activation',\n",
       "   'config': {'name': 'activation_8',\n",
       "    'trainable': True,\n",
       "    'dtype': 'float32',\n",
       "    'activation': 'relu'}},\n",
       "  {'class_name': 'Dense',\n",
       "   'config': {'name': 'dense_9',\n",
       "    'trainable': True,\n",
       "    'dtype': 'float32',\n",
       "    'units': 1,\n",
       "    'activation': 'linear',\n",
       "    'use_bias': True,\n",
       "    'kernel_initializer': {'class_name': 'GlorotUniform',\n",
       "     'config': {'seed': None}},\n",
       "    'bias_initializer': {'class_name': 'Zeros', 'config': {}},\n",
       "    'kernel_regularizer': None,\n",
       "    'bias_regularizer': None,\n",
       "    'activity_regularizer': None,\n",
       "    'kernel_constraint': None,\n",
       "    'bias_constraint': None}},\n",
       "  {'class_name': 'Activation',\n",
       "   'config': {'name': 'activation_9',\n",
       "    'trainable': True,\n",
       "    'dtype': 'float32',\n",
       "    'activation': 'linear'}}]}"
      ]
     },
     "execution_count": 142,
     "metadata": {},
     "output_type": "execute_result"
    }
   ],
   "source": [
    "glove_history.model.get_config()"
   ]
  },
  {
   "cell_type": "markdown",
   "id": "ac621c3e-5c6a-4431-8b44-5234ed51867a",
   "metadata": {},
   "source": [
    "----\n",
    "## Now trying for 6 different outputs"
   ]
  },
  {
   "cell_type": "code",
   "execution_count": 145,
   "id": "cba4e6e8-8575-48d8-80b6-28ec6ffa7a90",
   "metadata": {},
   "outputs": [],
   "source": [
    "## Setting text and target variables\n",
    "\n",
    "textVar=df_proc['lemmatized_text']\n",
    "targetVar=df_proc[[\"cohesion\", \"syntax\", \"vocabulary\", \"phraseology\", \"grammar\", \"conventions\"]]"
   ]
  },
  {
   "cell_type": "code",
   "execution_count": 146,
   "id": "c2c3bbce-13d0-4694-9d3c-9a44adf63353",
   "metadata": {},
   "outputs": [
    {
     "name": "stdout",
     "output_type": "stream",
     "text": [
      "(3128,) (3128, 6)\n",
      "(783,) (783, 6)\n"
     ]
    }
   ],
   "source": [
    "## Splitting into train and test\n",
    "\n",
    "X = textVar\n",
    "Y = targetVar\n",
    "\n",
    "# encoder = preprocessing.LabelEncoder()\n",
    "# encoder.fit(targetVar)\n",
    "# Y = encoder.transform(targetVar)\n",
    "\n",
    "X_train, X_test, y_train, y_test = \\\n",
    "train_test_split(X, Y, test_size = 0.20, random_state = 1010)\n",
    "\n",
    "print(X_train.shape,y_train.shape)\n",
    "print(X_test.shape,y_test.shape)"
   ]
  },
  {
   "cell_type": "code",
   "execution_count": 147,
   "id": "87a6ec34-3c40-47bd-b461-5c43093f87a7",
   "metadata": {},
   "outputs": [],
   "source": [
    "tokenizer = Tokenizer(num_words=max_features, char_level=False)\n",
    "\n",
    "#Fit tokenizer to entire data (not just Train)\n",
    "tokenizer.fit_on_texts(df_proc[\"lemmatized_text\"].values)\n",
    "\n",
    "input_vocab_size = len(tokenizer.word_index) + 1\n",
    "vocabulary = tokenizer.word_index\n",
    "vocabulary_inv = dict((v, k) for k, v in vocabulary.items())\n",
    "vocabulary_inv[0] = \"<PAD/>\"\n",
    "\n",
    "x_train = tokenizer.texts_to_sequences(X_train.values)\n",
    "x_train = sequence.pad_sequences(x_train, maxlen=sequence_length, padding=\"post\",\n",
    "                                 truncating=\"post\")\n",
    "\n",
    "x_test = tokenizer.texts_to_sequences(X_test.values)\n",
    "x_test = sequence.pad_sequences(x_test, maxlen=sequence_length, padding=\"post\",\n",
    "                                 truncating=\"post\")"
   ]
  },
  {
   "cell_type": "code",
   "execution_count": 149,
   "id": "6d690764-69e0-4776-8615-4d0803f9635d",
   "metadata": {
    "tags": []
   },
   "outputs": [
    {
     "name": "stdout",
     "output_type": "stream",
     "text": [
      "x_train shape: (3128, 1000)\n",
      "x_test shape: (783, 1000)\n",
      "Vocabulary Size: 10283\n"
     ]
    }
   ],
   "source": [
    "print(\"x_train shape:\", x_train.shape)\n",
    "print(\"x_test shape:\", x_test.shape)\n",
    "print(\"Vocabulary Size: {:d}\".format(len(vocabulary_inv)))"
   ]
  },
  {
   "cell_type": "code",
   "execution_count": 150,
   "id": "1185698e-99c3-4d33-8718-be0a61e87f1b",
   "metadata": {},
   "outputs": [
    {
     "name": "stdout",
     "output_type": "stream",
     "text": [
      "word is university at index 551 \n"
     ]
    }
   ],
   "source": [
    "# Create our embedding matrix - this will allow us to go from a word in our yelp to its vector space representation\n",
    "\n",
    "embedding_matrix = np.zeros((len(vocabulary) + 1, embedding_dim))\n",
    "for word, i in vocabulary.items():\n",
    "    embedding_vector = embeddings_index.get(word)\n",
    "    if (word=='university'):\n",
    "        print(\"word is %s at index %d \" % (word, i))\n",
    "    if embedding_vector is not None:\n",
    "        # words not found in embedding index will be all-zeros.\n",
    "        embedding_matrix[i] = embedding_vector"
   ]
  },
  {
   "cell_type": "markdown",
   "id": "b3c69cb6-8e4e-4b52-8a79-8060c95f3488",
   "metadata": {},
   "source": [
    "### Creating a new architecture"
   ]
  },
  {
   "cell_type": "code",
   "execution_count": 151,
   "id": "d254af88-510f-47bd-9180-5b2888a7b46b",
   "metadata": {},
   "outputs": [],
   "source": [
    "# Use the pre trained GloVe model for our embedding layer\n",
    "embedding_glove = Embedding(len(vocabulary) + 1,\n",
    "                            embedding_dim,\n",
    "                            weights=[embedding_matrix],\n",
    "                            input_length=sequence_length,\n",
    "                            trainable=False)"
   ]
  },
  {
   "cell_type": "code",
   "execution_count": 158,
   "id": "e35eb368-f14d-4b8a-86a3-6babf4819c68",
   "metadata": {},
   "outputs": [],
   "source": [
    "def cnn_create_all(embedding):\n",
    "    \"\"\"\n",
    "    Create basic cnn structure\n",
    "    embedding: keras Embedding\n",
    "    return: compiled keras model\n",
    "    \"\"\"\n",
    "    model = Sequential()\n",
    "\n",
    "    model.add(embedding) # Adding our glove embedding\n",
    "\n",
    "    model.add(Convolution1D(filters=20,\n",
    "                             kernel_size=5,\n",
    "                             padding=\"valid\",\n",
    "                             activation=\"relu\",\n",
    "                             strides=1))\n",
    "    \n",
    "    model.add(Convolution1D(filters=40,\n",
    "                             kernel_size=3,\n",
    "                             padding=\"valid\",\n",
    "                             activation=\"relu\",\n",
    "                             strides=1))\n",
    "        \n",
    "    model.add(GlobalMaxPooling1D())\n",
    "\n",
    "    # We add a dense layer (fully connected) to the previous layer with a 10% dropout (ignore 10% of units during weight updates)\n",
    "    hidden_dims = 20\n",
    "    model.add(Dense(hidden_dims))\n",
    "    model.add(Dropout(0.1))\n",
    "    model.add(Activation('relu'))\n",
    "\n",
    "    # We project onto a single unit output layer, and squash it with a linear (for regression):\n",
    "    model.add(Dense(6))\n",
    "    model.add(Activation('linear')) #use softmax for multilabel\n",
    "    return(model)\n"
   ]
  },
  {
   "cell_type": "code",
   "execution_count": 159,
   "id": "bf637465-ea8a-4e32-a546-9d603909a8db",
   "metadata": {},
   "outputs": [
    {
     "name": "stdout",
     "output_type": "stream",
     "text": [
      "Model: \"sequential_6\"\n",
      "_________________________________________________________________\n",
      " Layer (type)                Output Shape              Param #   \n",
      "=================================================================\n",
      " embedding_4 (Embedding)     (None, 1000, 100)         1028300   \n",
      "                                                                 \n",
      " conv1d_13 (Conv1D)          (None, 996, 20)           10020     \n",
      "                                                                 \n",
      " conv1d_14 (Conv1D)          (None, 994, 40)           2440      \n",
      "                                                                 \n",
      " global_max_pooling1d_6 (Glo  (None, 40)               0         \n",
      " balMaxPooling1D)                                                \n",
      "                                                                 \n",
      " dense_12 (Dense)            (None, 20)                820       \n",
      "                                                                 \n",
      " dropout_6 (Dropout)         (None, 20)                0         \n",
      "                                                                 \n",
      " activation_12 (Activation)  (None, 20)                0         \n",
      "                                                                 \n",
      " dense_13 (Dense)            (None, 6)                 126       \n",
      "                                                                 \n",
      " activation_13 (Activation)  (None, 6)                 0         \n",
      "                                                                 \n",
      "=================================================================\n",
      "Total params: 1,041,706\n",
      "Trainable params: 13,406\n",
      "Non-trainable params: 1,028,300\n",
      "_________________________________________________________________\n"
     ]
    }
   ],
   "source": [
    "glove_model_all = cnn_create_all(embedding_glove)\n",
    "glove_model_all.summary()"
   ]
  },
  {
   "cell_type": "code",
   "execution_count": 162,
   "id": "4ec8917a-2f63-4596-8046-cb0b4172ac83",
   "metadata": {},
   "outputs": [],
   "source": [
    "glove_model_all.compile(loss=\"mean_squared_error\", optimizer=\"adam\", metrics=[\"mean_squared_error\"])"
   ]
  },
  {
   "cell_type": "code",
   "execution_count": 163,
   "id": "4fe3e52b-9551-4097-a156-4a1e6ec57887",
   "metadata": {
    "collapsed": true,
    "jupyter": {
     "outputs_hidden": true
    },
    "tags": []
   },
   "outputs": [
    {
     "name": "stdout",
     "output_type": "stream",
     "text": [
      "Epoch 1/200\n",
      "\n",
      "Epoch 1: val_mean_squared_error improved from inf to 8.46718, saving model to ..00_gcp_data/dl_models/cnn_glove_weights_best\n"
     ]
    },
    {
     "name": "stderr",
     "output_type": "stream",
     "text": [
      "WARNING:absl:Found untraced functions such as _jit_compiled_convolution_op, _jit_compiled_convolution_op, _update_step_xla while saving (showing 3 of 3). These functions will not be directly callable after loading.\n"
     ]
    },
    {
     "name": "stdout",
     "output_type": "stream",
     "text": [
      "INFO:tensorflow:Assets written to: ..00_gcp_data/dl_models/cnn_glove_weights_best/assets\n"
     ]
    },
    {
     "name": "stderr",
     "output_type": "stream",
     "text": [
      "INFO:tensorflow:Assets written to: ..00_gcp_data/dl_models/cnn_glove_weights_best/assets\n"
     ]
    },
    {
     "name": "stdout",
     "output_type": "stream",
     "text": [
      "49/49 - 4s - loss: 9.7151 - mean_squared_error: 9.7151 - val_loss: 8.4672 - val_mean_squared_error: 8.4672 - 4s/epoch - 76ms/step\n",
      "Epoch 2/200\n",
      "\n",
      "Epoch 2: val_mean_squared_error improved from 8.46718 to 5.84094, saving model to ..00_gcp_data/dl_models/cnn_glove_weights_best\n"
     ]
    },
    {
     "name": "stderr",
     "output_type": "stream",
     "text": [
      "WARNING:absl:Found untraced functions such as _jit_compiled_convolution_op, _jit_compiled_convolution_op, _update_step_xla while saving (showing 3 of 3). These functions will not be directly callable after loading.\n"
     ]
    },
    {
     "name": "stdout",
     "output_type": "stream",
     "text": [
      "INFO:tensorflow:Assets written to: ..00_gcp_data/dl_models/cnn_glove_weights_best/assets\n"
     ]
    },
    {
     "name": "stderr",
     "output_type": "stream",
     "text": [
      "INFO:tensorflow:Assets written to: ..00_gcp_data/dl_models/cnn_glove_weights_best/assets\n"
     ]
    },
    {
     "name": "stdout",
     "output_type": "stream",
     "text": [
      "49/49 - 3s - loss: 7.3394 - mean_squared_error: 7.3394 - val_loss: 5.8409 - val_mean_squared_error: 5.8409 - 3s/epoch - 61ms/step\n",
      "Epoch 3/200\n",
      "\n",
      "Epoch 3: val_mean_squared_error improved from 5.84094 to 3.25389, saving model to ..00_gcp_data/dl_models/cnn_glove_weights_best\n"
     ]
    },
    {
     "name": "stderr",
     "output_type": "stream",
     "text": [
      "WARNING:absl:Found untraced functions such as _jit_compiled_convolution_op, _jit_compiled_convolution_op, _update_step_xla while saving (showing 3 of 3). These functions will not be directly callable after loading.\n"
     ]
    },
    {
     "name": "stdout",
     "output_type": "stream",
     "text": [
      "INFO:tensorflow:Assets written to: ..00_gcp_data/dl_models/cnn_glove_weights_best/assets\n"
     ]
    },
    {
     "name": "stderr",
     "output_type": "stream",
     "text": [
      "INFO:tensorflow:Assets written to: ..00_gcp_data/dl_models/cnn_glove_weights_best/assets\n"
     ]
    },
    {
     "name": "stdout",
     "output_type": "stream",
     "text": [
      "49/49 - 3s - loss: 4.8744 - mean_squared_error: 4.8744 - val_loss: 3.2539 - val_mean_squared_error: 3.2539 - 3s/epoch - 57ms/step\n",
      "Epoch 4/200\n",
      "\n",
      "Epoch 4: val_mean_squared_error improved from 3.25389 to 1.31700, saving model to ..00_gcp_data/dl_models/cnn_glove_weights_best\n"
     ]
    },
    {
     "name": "stderr",
     "output_type": "stream",
     "text": [
      "WARNING:absl:Found untraced functions such as _jit_compiled_convolution_op, _jit_compiled_convolution_op, _update_step_xla while saving (showing 3 of 3). These functions will not be directly callable after loading.\n"
     ]
    },
    {
     "name": "stdout",
     "output_type": "stream",
     "text": [
      "INFO:tensorflow:Assets written to: ..00_gcp_data/dl_models/cnn_glove_weights_best/assets\n"
     ]
    },
    {
     "name": "stderr",
     "output_type": "stream",
     "text": [
      "INFO:tensorflow:Assets written to: ..00_gcp_data/dl_models/cnn_glove_weights_best/assets\n"
     ]
    },
    {
     "name": "stdout",
     "output_type": "stream",
     "text": [
      "49/49 - 3s - loss: 2.7370 - mean_squared_error: 2.7370 - val_loss: 1.3170 - val_mean_squared_error: 1.3170 - 3s/epoch - 61ms/step\n",
      "Epoch 5/200\n",
      "\n",
      "Epoch 5: val_mean_squared_error improved from 1.31700 to 0.61635, saving model to ..00_gcp_data/dl_models/cnn_glove_weights_best\n"
     ]
    },
    {
     "name": "stderr",
     "output_type": "stream",
     "text": [
      "WARNING:absl:Found untraced functions such as _jit_compiled_convolution_op, _jit_compiled_convolution_op, _update_step_xla while saving (showing 3 of 3). These functions will not be directly callable after loading.\n"
     ]
    },
    {
     "name": "stdout",
     "output_type": "stream",
     "text": [
      "INFO:tensorflow:Assets written to: ..00_gcp_data/dl_models/cnn_glove_weights_best/assets\n"
     ]
    },
    {
     "name": "stderr",
     "output_type": "stream",
     "text": [
      "INFO:tensorflow:Assets written to: ..00_gcp_data/dl_models/cnn_glove_weights_best/assets\n"
     ]
    },
    {
     "name": "stdout",
     "output_type": "stream",
     "text": [
      "49/49 - 3s - loss: 1.5766 - mean_squared_error: 1.5766 - val_loss: 0.6164 - val_mean_squared_error: 0.6164 - 3s/epoch - 55ms/step\n",
      "Epoch 6/200\n",
      "\n",
      "Epoch 6: val_mean_squared_error improved from 0.61635 to 0.48839, saving model to ..00_gcp_data/dl_models/cnn_glove_weights_best\n"
     ]
    },
    {
     "name": "stderr",
     "output_type": "stream",
     "text": [
      "WARNING:absl:Found untraced functions such as _jit_compiled_convolution_op, _jit_compiled_convolution_op, _update_step_xla while saving (showing 3 of 3). These functions will not be directly callable after loading.\n"
     ]
    },
    {
     "name": "stdout",
     "output_type": "stream",
     "text": [
      "INFO:tensorflow:Assets written to: ..00_gcp_data/dl_models/cnn_glove_weights_best/assets\n"
     ]
    },
    {
     "name": "stderr",
     "output_type": "stream",
     "text": [
      "INFO:tensorflow:Assets written to: ..00_gcp_data/dl_models/cnn_glove_weights_best/assets\n"
     ]
    },
    {
     "name": "stdout",
     "output_type": "stream",
     "text": [
      "49/49 - 3s - loss: 1.2026 - mean_squared_error: 1.2026 - val_loss: 0.4884 - val_mean_squared_error: 0.4884 - 3s/epoch - 53ms/step\n",
      "Epoch 7/200\n",
      "\n",
      "Epoch 7: val_mean_squared_error did not improve from 0.48839\n",
      "49/49 - 2s - loss: 1.0896 - mean_squared_error: 1.0896 - val_loss: 0.4897 - val_mean_squared_error: 0.4897 - 2s/epoch - 40ms/step\n",
      "Epoch 8/200\n",
      "\n",
      "Epoch 8: val_mean_squared_error improved from 0.48839 to 0.46547, saving model to ..00_gcp_data/dl_models/cnn_glove_weights_best\n"
     ]
    },
    {
     "name": "stderr",
     "output_type": "stream",
     "text": [
      "WARNING:absl:Found untraced functions such as _jit_compiled_convolution_op, _jit_compiled_convolution_op, _update_step_xla while saving (showing 3 of 3). These functions will not be directly callable after loading.\n"
     ]
    },
    {
     "name": "stdout",
     "output_type": "stream",
     "text": [
      "INFO:tensorflow:Assets written to: ..00_gcp_data/dl_models/cnn_glove_weights_best/assets\n"
     ]
    },
    {
     "name": "stderr",
     "output_type": "stream",
     "text": [
      "INFO:tensorflow:Assets written to: ..00_gcp_data/dl_models/cnn_glove_weights_best/assets\n"
     ]
    },
    {
     "name": "stdout",
     "output_type": "stream",
     "text": [
      "49/49 - 3s - loss: 1.0844 - mean_squared_error: 1.0844 - val_loss: 0.4655 - val_mean_squared_error: 0.4655 - 3s/epoch - 58ms/step\n",
      "Epoch 9/200\n",
      "\n",
      "Epoch 9: val_mean_squared_error improved from 0.46547 to 0.39294, saving model to ..00_gcp_data/dl_models/cnn_glove_weights_best\n"
     ]
    },
    {
     "name": "stderr",
     "output_type": "stream",
     "text": [
      "WARNING:absl:Found untraced functions such as _jit_compiled_convolution_op, _jit_compiled_convolution_op, _update_step_xla while saving (showing 3 of 3). These functions will not be directly callable after loading.\n"
     ]
    },
    {
     "name": "stdout",
     "output_type": "stream",
     "text": [
      "INFO:tensorflow:Assets written to: ..00_gcp_data/dl_models/cnn_glove_weights_best/assets\n"
     ]
    },
    {
     "name": "stderr",
     "output_type": "stream",
     "text": [
      "INFO:tensorflow:Assets written to: ..00_gcp_data/dl_models/cnn_glove_weights_best/assets\n"
     ]
    },
    {
     "name": "stdout",
     "output_type": "stream",
     "text": [
      "49/49 - 3s - loss: 0.9505 - mean_squared_error: 0.9505 - val_loss: 0.3929 - val_mean_squared_error: 0.3929 - 3s/epoch - 59ms/step\n",
      "Epoch 10/200\n",
      "\n",
      "Epoch 10: val_mean_squared_error did not improve from 0.39294\n",
      "49/49 - 2s - loss: 0.9918 - mean_squared_error: 0.9918 - val_loss: 0.4274 - val_mean_squared_error: 0.4274 - 2s/epoch - 35ms/step\n",
      "Epoch 11/200\n",
      "\n",
      "Epoch 11: val_mean_squared_error did not improve from 0.39294\n",
      "49/49 - 2s - loss: 0.9194 - mean_squared_error: 0.9194 - val_loss: 0.3957 - val_mean_squared_error: 0.3957 - 2s/epoch - 35ms/step\n",
      "Epoch 12/200\n",
      "\n",
      "Epoch 12: val_mean_squared_error did not improve from 0.39294\n",
      "49/49 - 2s - loss: 0.8971 - mean_squared_error: 0.8971 - val_loss: 0.4205 - val_mean_squared_error: 0.4205 - 2s/epoch - 35ms/step\n",
      "Epoch 13/200\n",
      "\n",
      "Epoch 13: val_mean_squared_error did not improve from 0.39294\n",
      "49/49 - 2s - loss: 0.8653 - mean_squared_error: 0.8653 - val_loss: 0.4558 - val_mean_squared_error: 0.4558 - 2s/epoch - 35ms/step\n",
      "Epoch 14/200\n",
      "\n",
      "Epoch 14: val_mean_squared_error did not improve from 0.39294\n",
      "49/49 - 2s - loss: 0.8001 - mean_squared_error: 0.8001 - val_loss: 0.4324 - val_mean_squared_error: 0.4324 - 2s/epoch - 35ms/step\n",
      "Epoch 15/200\n",
      "\n",
      "Epoch 15: val_mean_squared_error improved from 0.39294 to 0.38861, saving model to ..00_gcp_data/dl_models/cnn_glove_weights_best\n"
     ]
    },
    {
     "name": "stderr",
     "output_type": "stream",
     "text": [
      "WARNING:absl:Found untraced functions such as _jit_compiled_convolution_op, _jit_compiled_convolution_op, _update_step_xla while saving (showing 3 of 3). These functions will not be directly callable after loading.\n"
     ]
    },
    {
     "name": "stdout",
     "output_type": "stream",
     "text": [
      "INFO:tensorflow:Assets written to: ..00_gcp_data/dl_models/cnn_glove_weights_best/assets\n"
     ]
    },
    {
     "name": "stderr",
     "output_type": "stream",
     "text": [
      "INFO:tensorflow:Assets written to: ..00_gcp_data/dl_models/cnn_glove_weights_best/assets\n"
     ]
    },
    {
     "name": "stdout",
     "output_type": "stream",
     "text": [
      "49/49 - 3s - loss: 0.8105 - mean_squared_error: 0.8105 - val_loss: 0.3886 - val_mean_squared_error: 0.3886 - 3s/epoch - 52ms/step\n",
      "Epoch 16/200\n",
      "\n",
      "Epoch 16: val_mean_squared_error did not improve from 0.38861\n",
      "49/49 - 2s - loss: 0.8452 - mean_squared_error: 0.8452 - val_loss: 0.3886 - val_mean_squared_error: 0.3886 - 2s/epoch - 34ms/step\n",
      "Epoch 17/200\n",
      "\n",
      "Epoch 17: val_mean_squared_error did not improve from 0.38861\n",
      "49/49 - 2s - loss: 0.8053 - mean_squared_error: 0.8053 - val_loss: 0.3899 - val_mean_squared_error: 0.3899 - 2s/epoch - 34ms/step\n",
      "Epoch 18/200\n",
      "\n",
      "Epoch 18: val_mean_squared_error improved from 0.38861 to 0.37816, saving model to ..00_gcp_data/dl_models/cnn_glove_weights_best\n"
     ]
    },
    {
     "name": "stderr",
     "output_type": "stream",
     "text": [
      "WARNING:absl:Found untraced functions such as _jit_compiled_convolution_op, _jit_compiled_convolution_op, _update_step_xla while saving (showing 3 of 3). These functions will not be directly callable after loading.\n"
     ]
    },
    {
     "name": "stdout",
     "output_type": "stream",
     "text": [
      "INFO:tensorflow:Assets written to: ..00_gcp_data/dl_models/cnn_glove_weights_best/assets\n"
     ]
    },
    {
     "name": "stderr",
     "output_type": "stream",
     "text": [
      "INFO:tensorflow:Assets written to: ..00_gcp_data/dl_models/cnn_glove_weights_best/assets\n"
     ]
    },
    {
     "name": "stdout",
     "output_type": "stream",
     "text": [
      "49/49 - 3s - loss: 0.8054 - mean_squared_error: 0.8054 - val_loss: 0.3782 - val_mean_squared_error: 0.3782 - 3s/epoch - 52ms/step\n",
      "Epoch 19/200\n",
      "\n",
      "Epoch 19: val_mean_squared_error did not improve from 0.37816\n",
      "49/49 - 2s - loss: 0.7686 - mean_squared_error: 0.7686 - val_loss: 0.4183 - val_mean_squared_error: 0.4183 - 2s/epoch - 35ms/step\n",
      "Epoch 20/200\n",
      "\n",
      "Epoch 20: val_mean_squared_error did not improve from 0.37816\n",
      "49/49 - 2s - loss: 0.7610 - mean_squared_error: 0.7610 - val_loss: 0.4103 - val_mean_squared_error: 0.4103 - 2s/epoch - 34ms/step\n",
      "Epoch 21/200\n",
      "\n",
      "Epoch 21: val_mean_squared_error did not improve from 0.37816\n",
      "49/49 - 2s - loss: 0.7179 - mean_squared_error: 0.7179 - val_loss: 0.3976 - val_mean_squared_error: 0.3976 - 2s/epoch - 34ms/step\n",
      "Epoch 22/200\n",
      "\n",
      "Epoch 22: val_mean_squared_error did not improve from 0.37816\n",
      "49/49 - 2s - loss: 0.6995 - mean_squared_error: 0.6995 - val_loss: 0.3835 - val_mean_squared_error: 0.3835 - 2s/epoch - 35ms/step\n",
      "Epoch 23/200\n",
      "\n",
      "Epoch 23: val_mean_squared_error did not improve from 0.37816\n",
      "49/49 - 2s - loss: 0.6769 - mean_squared_error: 0.6769 - val_loss: 0.4810 - val_mean_squared_error: 0.4810 - 2s/epoch - 35ms/step\n",
      "Epoch 24/200\n",
      "\n",
      "Epoch 24: val_mean_squared_error did not improve from 0.37816\n",
      "49/49 - 2s - loss: 0.6875 - mean_squared_error: 0.6875 - val_loss: 0.3905 - val_mean_squared_error: 0.3905 - 2s/epoch - 34ms/step\n",
      "Epoch 25/200\n",
      "\n",
      "Epoch 25: val_mean_squared_error did not improve from 0.37816\n",
      "49/49 - 2s - loss: 0.6623 - mean_squared_error: 0.6623 - val_loss: 0.3893 - val_mean_squared_error: 0.3893 - 2s/epoch - 34ms/step\n",
      "Epoch 26/200\n",
      "\n",
      "Epoch 26: val_mean_squared_error did not improve from 0.37816\n",
      "49/49 - 2s - loss: 0.6760 - mean_squared_error: 0.6760 - val_loss: 0.4145 - val_mean_squared_error: 0.4145 - 2s/epoch - 34ms/step\n",
      "Epoch 27/200\n",
      "\n",
      "Epoch 27: val_mean_squared_error did not improve from 0.37816\n",
      "49/49 - 2s - loss: 0.6297 - mean_squared_error: 0.6297 - val_loss: 0.3911 - val_mean_squared_error: 0.3911 - 2s/epoch - 34ms/step\n",
      "Epoch 28/200\n",
      "\n",
      "Epoch 28: val_mean_squared_error did not improve from 0.37816\n",
      "49/49 - 2s - loss: 0.6543 - mean_squared_error: 0.6543 - val_loss: 0.4015 - val_mean_squared_error: 0.4015 - 2s/epoch - 34ms/step\n",
      "Epoch 29/200\n",
      "\n",
      "Epoch 29: val_mean_squared_error did not improve from 0.37816\n",
      "49/49 - 2s - loss: 0.6307 - mean_squared_error: 0.6307 - val_loss: 0.4361 - val_mean_squared_error: 0.4361 - 2s/epoch - 34ms/step\n",
      "Epoch 30/200\n",
      "\n",
      "Epoch 30: val_mean_squared_error did not improve from 0.37816\n",
      "49/49 - 2s - loss: 0.6091 - mean_squared_error: 0.6091 - val_loss: 0.4102 - val_mean_squared_error: 0.4102 - 2s/epoch - 34ms/step\n",
      "Epoch 31/200\n",
      "\n",
      "Epoch 31: val_mean_squared_error did not improve from 0.37816\n",
      "49/49 - 2s - loss: 0.6031 - mean_squared_error: 0.6031 - val_loss: 0.4110 - val_mean_squared_error: 0.4110 - 2s/epoch - 35ms/step\n",
      "Epoch 32/200\n",
      "\n",
      "Epoch 32: val_mean_squared_error did not improve from 0.37816\n",
      "49/49 - 2s - loss: 0.5690 - mean_squared_error: 0.5690 - val_loss: 0.3907 - val_mean_squared_error: 0.3907 - 2s/epoch - 36ms/step\n",
      "Epoch 33/200\n",
      "\n",
      "Epoch 33: val_mean_squared_error did not improve from 0.37816\n",
      "49/49 - 2s - loss: 0.5849 - mean_squared_error: 0.5849 - val_loss: 0.3913 - val_mean_squared_error: 0.3913 - 2s/epoch - 37ms/step\n",
      "Epoch 34/200\n",
      "\n",
      "Epoch 34: val_mean_squared_error did not improve from 0.37816\n",
      "49/49 - 2s - loss: 0.5693 - mean_squared_error: 0.5693 - val_loss: 0.3909 - val_mean_squared_error: 0.3909 - 2s/epoch - 38ms/step\n",
      "Epoch 35/200\n",
      "\n",
      "Epoch 35: val_mean_squared_error did not improve from 0.37816\n",
      "49/49 - 2s - loss: 0.6051 - mean_squared_error: 0.6051 - val_loss: 0.4049 - val_mean_squared_error: 0.4049 - 2s/epoch - 39ms/step\n",
      "Epoch 36/200\n",
      "\n",
      "Epoch 36: val_mean_squared_error did not improve from 0.37816\n",
      "49/49 - 2s - loss: 0.5658 - mean_squared_error: 0.5658 - val_loss: 0.4029 - val_mean_squared_error: 0.4029 - 2s/epoch - 38ms/step\n",
      "Epoch 37/200\n",
      "\n",
      "Epoch 37: val_mean_squared_error did not improve from 0.37816\n",
      "49/49 - 2s - loss: 0.5800 - mean_squared_error: 0.5800 - val_loss: 0.4575 - val_mean_squared_error: 0.4575 - 2s/epoch - 40ms/step\n",
      "Epoch 38/200\n",
      "\n",
      "Epoch 38: val_mean_squared_error did not improve from 0.37816\n",
      "49/49 - 2s - loss: 0.5140 - mean_squared_error: 0.5140 - val_loss: 0.4452 - val_mean_squared_error: 0.4452 - 2s/epoch - 37ms/step\n",
      "Epoch 39/200\n",
      "\n",
      "Epoch 39: val_mean_squared_error did not improve from 0.37816\n",
      "49/49 - 2s - loss: 0.5585 - mean_squared_error: 0.5585 - val_loss: 0.4340 - val_mean_squared_error: 0.4340 - 2s/epoch - 40ms/step\n",
      "Epoch 40/200\n",
      "\n",
      "Epoch 40: val_mean_squared_error did not improve from 0.37816\n",
      "49/49 - 2s - loss: 0.5213 - mean_squared_error: 0.5213 - val_loss: 0.4116 - val_mean_squared_error: 0.4116 - 2s/epoch - 42ms/step\n",
      "Epoch 41/200\n",
      "\n",
      "Epoch 41: val_mean_squared_error did not improve from 0.37816\n",
      "49/49 - 2s - loss: 0.5018 - mean_squared_error: 0.5018 - val_loss: 0.4107 - val_mean_squared_error: 0.4107 - 2s/epoch - 37ms/step\n",
      "Epoch 42/200\n",
      "\n",
      "Epoch 42: val_mean_squared_error did not improve from 0.37816\n",
      "49/49 - 2s - loss: 0.5461 - mean_squared_error: 0.5461 - val_loss: 0.4408 - val_mean_squared_error: 0.4408 - 2s/epoch - 35ms/step\n",
      "Epoch 43/200\n",
      "\n",
      "Epoch 43: val_mean_squared_error did not improve from 0.37816\n",
      "49/49 - 2s - loss: 0.5209 - mean_squared_error: 0.5209 - val_loss: 0.4112 - val_mean_squared_error: 0.4112 - 2s/epoch - 41ms/step\n",
      "Epoch 44/200\n",
      "\n",
      "Epoch 44: val_mean_squared_error did not improve from 0.37816\n",
      "49/49 - 2s - loss: 0.4671 - mean_squared_error: 0.4671 - val_loss: 0.4126 - val_mean_squared_error: 0.4126 - 2s/epoch - 42ms/step\n",
      "Epoch 45/200\n",
      "\n",
      "Epoch 45: val_mean_squared_error did not improve from 0.37816\n",
      "49/49 - 2s - loss: 0.4707 - mean_squared_error: 0.4707 - val_loss: 0.4629 - val_mean_squared_error: 0.4629 - 2s/epoch - 44ms/step\n",
      "Epoch 46/200\n",
      "\n",
      "Epoch 46: val_mean_squared_error did not improve from 0.37816\n",
      "49/49 - 2s - loss: 0.4942 - mean_squared_error: 0.4942 - val_loss: 0.4307 - val_mean_squared_error: 0.4307 - 2s/epoch - 46ms/step\n",
      "Epoch 47/200\n",
      "\n",
      "Epoch 47: val_mean_squared_error did not improve from 0.37816\n",
      "49/49 - 2s - loss: 0.5152 - mean_squared_error: 0.5152 - val_loss: 0.4213 - val_mean_squared_error: 0.4213 - 2s/epoch - 46ms/step\n",
      "Epoch 48/200\n",
      "\n",
      "Epoch 48: val_mean_squared_error did not improve from 0.37816\n",
      "49/49 - 2s - loss: 0.4891 - mean_squared_error: 0.4891 - val_loss: 0.4422 - val_mean_squared_error: 0.4422 - 2s/epoch - 47ms/step\n",
      "Epoch 49/200\n",
      "\n",
      "Epoch 49: val_mean_squared_error did not improve from 0.37816\n",
      "49/49 - 2s - loss: 0.4936 - mean_squared_error: 0.4936 - val_loss: 0.4267 - val_mean_squared_error: 0.4267 - 2s/epoch - 47ms/step\n",
      "Epoch 50/200\n",
      "\n",
      "Epoch 50: val_mean_squared_error did not improve from 0.37816\n",
      "49/49 - 2s - loss: 0.4799 - mean_squared_error: 0.4799 - val_loss: 0.4238 - val_mean_squared_error: 0.4238 - 2s/epoch - 48ms/step\n",
      "Epoch 51/200\n",
      "\n",
      "Epoch 51: val_mean_squared_error did not improve from 0.37816\n",
      "49/49 - 2s - loss: 0.4809 - mean_squared_error: 0.4809 - val_loss: 0.4662 - val_mean_squared_error: 0.4662 - 2s/epoch - 47ms/step\n",
      "Epoch 52/200\n",
      "\n",
      "Epoch 52: val_mean_squared_error did not improve from 0.37816\n",
      "49/49 - 2s - loss: 0.4546 - mean_squared_error: 0.4546 - val_loss: 0.4443 - val_mean_squared_error: 0.4443 - 2s/epoch - 44ms/step\n",
      "Epoch 53/200\n",
      "\n",
      "Epoch 53: val_mean_squared_error did not improve from 0.37816\n",
      "49/49 - 2s - loss: 0.4610 - mean_squared_error: 0.4610 - val_loss: 0.4269 - val_mean_squared_error: 0.4269 - 2s/epoch - 44ms/step\n",
      "Epoch 54/200\n",
      "\n",
      "Epoch 54: val_mean_squared_error did not improve from 0.37816\n",
      "49/49 - 2s - loss: 0.4288 - mean_squared_error: 0.4288 - val_loss: 0.4520 - val_mean_squared_error: 0.4520 - 2s/epoch - 46ms/step\n",
      "Epoch 55/200\n",
      "\n",
      "Epoch 55: val_mean_squared_error did not improve from 0.37816\n",
      "49/49 - 2s - loss: 0.4124 - mean_squared_error: 0.4124 - val_loss: 0.4386 - val_mean_squared_error: 0.4386 - 2s/epoch - 44ms/step\n",
      "Epoch 56/200\n",
      "\n",
      "Epoch 56: val_mean_squared_error did not improve from 0.37816\n",
      "49/49 - 2s - loss: 0.3577 - mean_squared_error: 0.3577 - val_loss: 0.4315 - val_mean_squared_error: 0.4315 - 2s/epoch - 44ms/step\n",
      "Epoch 57/200\n",
      "\n",
      "Epoch 57: val_mean_squared_error did not improve from 0.37816\n",
      "49/49 - 2s - loss: 0.3510 - mean_squared_error: 0.3510 - val_loss: 0.4546 - val_mean_squared_error: 0.4546 - 2s/epoch - 44ms/step\n",
      "Epoch 58/200\n",
      "\n",
      "Epoch 58: val_mean_squared_error did not improve from 0.37816\n",
      "49/49 - 2s - loss: 0.3460 - mean_squared_error: 0.3460 - val_loss: 0.4297 - val_mean_squared_error: 0.4297 - 2s/epoch - 44ms/step\n",
      "Epoch 59/200\n",
      "\n",
      "Epoch 59: val_mean_squared_error did not improve from 0.37816\n",
      "49/49 - 2s - loss: 0.3428 - mean_squared_error: 0.3428 - val_loss: 0.4329 - val_mean_squared_error: 0.4329 - 2s/epoch - 45ms/step\n",
      "Epoch 60/200\n",
      "\n",
      "Epoch 60: val_mean_squared_error did not improve from 0.37816\n",
      "49/49 - 2s - loss: 0.3421 - mean_squared_error: 0.3421 - val_loss: 0.4442 - val_mean_squared_error: 0.4442 - 2s/epoch - 45ms/step\n",
      "Epoch 61/200\n"
     ]
    },
    {
     "ename": "KeyboardInterrupt",
     "evalue": "",
     "output_type": "error",
     "traceback": [
      "\u001b[0;31m---------------------------------------------------------------------------\u001b[0m",
      "\u001b[0;31mKeyboardInterrupt\u001b[0m                         Traceback (most recent call last)",
      "Cell \u001b[0;32mIn[163], line 9\u001b[0m\n\u001b[1;32m      6\u001b[0m callbacks_list \u001b[38;5;241m=\u001b[39m [checkpoint]\n\u001b[1;32m      8\u001b[0m t1 \u001b[38;5;241m=\u001b[39m time\u001b[38;5;241m.\u001b[39mtime()\n\u001b[0;32m----> 9\u001b[0m glove_history_all \u001b[38;5;241m=\u001b[39m \u001b[43mglove_model_all\u001b[49m\u001b[38;5;241;43m.\u001b[39;49m\u001b[43mfit\u001b[49m\u001b[43m(\u001b[49m\u001b[43mx_train\u001b[49m\u001b[43m,\u001b[49m\u001b[43m \u001b[49m\u001b[43my_train\u001b[49m\u001b[43m,\u001b[49m\n\u001b[1;32m     10\u001b[0m \u001b[43m                    \u001b[49m\u001b[43mbatch_size\u001b[49m\u001b[38;5;241;43m=\u001b[39;49m\u001b[43mbatch_size\u001b[49m\u001b[43m,\u001b[49m\u001b[43m \u001b[49m\n\u001b[1;32m     11\u001b[0m \u001b[43m                    \u001b[49m\u001b[43mepochs\u001b[49m\u001b[38;5;241;43m=\u001b[39;49m\u001b[43mnum_epochs\u001b[49m\u001b[43m,\u001b[49m\n\u001b[1;32m     12\u001b[0m \u001b[43m                    \u001b[49m\u001b[43mvalidation_data\u001b[49m\u001b[38;5;241;43m=\u001b[39;49m\u001b[43m(\u001b[49m\u001b[43mx_test\u001b[49m\u001b[43m,\u001b[49m\u001b[43m \u001b[49m\u001b[43my_test\u001b[49m\u001b[43m)\u001b[49m\u001b[43m,\u001b[49m\n\u001b[1;32m     13\u001b[0m \u001b[43m                    \u001b[49m\u001b[43mcallbacks\u001b[49m\u001b[43m \u001b[49m\u001b[38;5;241;43m=\u001b[39;49m\u001b[43m \u001b[49m\u001b[43mcallbacks_list\u001b[49m\u001b[43m,\u001b[49m\n\u001b[1;32m     14\u001b[0m \u001b[43m                    \u001b[49m\u001b[43mverbose\u001b[49m\u001b[38;5;241;43m=\u001b[39;49m\u001b[38;5;241;43m2\u001b[39;49m\u001b[43m)\u001b[49m\n\u001b[1;32m     15\u001b[0m t2 \u001b[38;5;241m=\u001b[39m time\u001b[38;5;241m.\u001b[39mtime()\n\u001b[1;32m     16\u001b[0m \u001b[38;5;28mprint\u001b[39m(\u001b[38;5;124m\"\u001b[39m\u001b[38;5;124mCNN Glove_all model train time = \u001b[39m\u001b[38;5;132;01m%d\u001b[39;00m\u001b[38;5;124m seconds\u001b[39m\u001b[38;5;124m\"\u001b[39m \u001b[38;5;241m%\u001b[39m(t2\u001b[38;5;241m-\u001b[39mt1))\n",
      "File \u001b[0;32m/opt/conda/lib/python3.10/site-packages/keras/utils/traceback_utils.py:65\u001b[0m, in \u001b[0;36mfilter_traceback.<locals>.error_handler\u001b[0;34m(*args, **kwargs)\u001b[0m\n\u001b[1;32m     63\u001b[0m filtered_tb \u001b[38;5;241m=\u001b[39m \u001b[38;5;28;01mNone\u001b[39;00m\n\u001b[1;32m     64\u001b[0m \u001b[38;5;28;01mtry\u001b[39;00m:\n\u001b[0;32m---> 65\u001b[0m     \u001b[38;5;28;01mreturn\u001b[39;00m \u001b[43mfn\u001b[49m\u001b[43m(\u001b[49m\u001b[38;5;241;43m*\u001b[39;49m\u001b[43margs\u001b[49m\u001b[43m,\u001b[49m\u001b[43m \u001b[49m\u001b[38;5;241;43m*\u001b[39;49m\u001b[38;5;241;43m*\u001b[39;49m\u001b[43mkwargs\u001b[49m\u001b[43m)\u001b[49m\n\u001b[1;32m     66\u001b[0m \u001b[38;5;28;01mexcept\u001b[39;00m \u001b[38;5;167;01mException\u001b[39;00m \u001b[38;5;28;01mas\u001b[39;00m e:\n\u001b[1;32m     67\u001b[0m     filtered_tb \u001b[38;5;241m=\u001b[39m _process_traceback_frames(e\u001b[38;5;241m.\u001b[39m__traceback__)\n",
      "File \u001b[0;32m/opt/conda/lib/python3.10/site-packages/keras/engine/training.py:1650\u001b[0m, in \u001b[0;36mModel.fit\u001b[0;34m(self, x, y, batch_size, epochs, verbose, callbacks, validation_split, validation_data, shuffle, class_weight, sample_weight, initial_epoch, steps_per_epoch, validation_steps, validation_batch_size, validation_freq, max_queue_size, workers, use_multiprocessing)\u001b[0m\n\u001b[1;32m   1642\u001b[0m \u001b[38;5;28;01mwith\u001b[39;00m tf\u001b[38;5;241m.\u001b[39mprofiler\u001b[38;5;241m.\u001b[39mexperimental\u001b[38;5;241m.\u001b[39mTrace(\n\u001b[1;32m   1643\u001b[0m     \u001b[38;5;124m\"\u001b[39m\u001b[38;5;124mtrain\u001b[39m\u001b[38;5;124m\"\u001b[39m,\n\u001b[1;32m   1644\u001b[0m     epoch_num\u001b[38;5;241m=\u001b[39mepoch,\n\u001b[0;32m   (...)\u001b[0m\n\u001b[1;32m   1647\u001b[0m     _r\u001b[38;5;241m=\u001b[39m\u001b[38;5;241m1\u001b[39m,\n\u001b[1;32m   1648\u001b[0m ):\n\u001b[1;32m   1649\u001b[0m     callbacks\u001b[38;5;241m.\u001b[39mon_train_batch_begin(step)\n\u001b[0;32m-> 1650\u001b[0m     tmp_logs \u001b[38;5;241m=\u001b[39m \u001b[38;5;28;43mself\u001b[39;49m\u001b[38;5;241;43m.\u001b[39;49m\u001b[43mtrain_function\u001b[49m\u001b[43m(\u001b[49m\u001b[43miterator\u001b[49m\u001b[43m)\u001b[49m\n\u001b[1;32m   1651\u001b[0m     \u001b[38;5;28;01mif\u001b[39;00m data_handler\u001b[38;5;241m.\u001b[39mshould_sync:\n\u001b[1;32m   1652\u001b[0m         context\u001b[38;5;241m.\u001b[39masync_wait()\n",
      "File \u001b[0;32m/opt/conda/lib/python3.10/site-packages/tensorflow/python/util/traceback_utils.py:150\u001b[0m, in \u001b[0;36mfilter_traceback.<locals>.error_handler\u001b[0;34m(*args, **kwargs)\u001b[0m\n\u001b[1;32m    148\u001b[0m filtered_tb \u001b[38;5;241m=\u001b[39m \u001b[38;5;28;01mNone\u001b[39;00m\n\u001b[1;32m    149\u001b[0m \u001b[38;5;28;01mtry\u001b[39;00m:\n\u001b[0;32m--> 150\u001b[0m   \u001b[38;5;28;01mreturn\u001b[39;00m \u001b[43mfn\u001b[49m\u001b[43m(\u001b[49m\u001b[38;5;241;43m*\u001b[39;49m\u001b[43margs\u001b[49m\u001b[43m,\u001b[49m\u001b[43m \u001b[49m\u001b[38;5;241;43m*\u001b[39;49m\u001b[38;5;241;43m*\u001b[39;49m\u001b[43mkwargs\u001b[49m\u001b[43m)\u001b[49m\n\u001b[1;32m    151\u001b[0m \u001b[38;5;28;01mexcept\u001b[39;00m \u001b[38;5;167;01mException\u001b[39;00m \u001b[38;5;28;01mas\u001b[39;00m e:\n\u001b[1;32m    152\u001b[0m   filtered_tb \u001b[38;5;241m=\u001b[39m _process_traceback_frames(e\u001b[38;5;241m.\u001b[39m__traceback__)\n",
      "File \u001b[0;32m/opt/conda/lib/python3.10/site-packages/tensorflow/python/eager/polymorphic_function/polymorphic_function.py:880\u001b[0m, in \u001b[0;36mFunction.__call__\u001b[0;34m(self, *args, **kwds)\u001b[0m\n\u001b[1;32m    877\u001b[0m compiler \u001b[38;5;241m=\u001b[39m \u001b[38;5;124m\"\u001b[39m\u001b[38;5;124mxla\u001b[39m\u001b[38;5;124m\"\u001b[39m \u001b[38;5;28;01mif\u001b[39;00m \u001b[38;5;28mself\u001b[39m\u001b[38;5;241m.\u001b[39m_jit_compile \u001b[38;5;28;01melse\u001b[39;00m \u001b[38;5;124m\"\u001b[39m\u001b[38;5;124mnonXla\u001b[39m\u001b[38;5;124m\"\u001b[39m\n\u001b[1;32m    879\u001b[0m \u001b[38;5;28;01mwith\u001b[39;00m OptionalXlaContext(\u001b[38;5;28mself\u001b[39m\u001b[38;5;241m.\u001b[39m_jit_compile):\n\u001b[0;32m--> 880\u001b[0m   result \u001b[38;5;241m=\u001b[39m \u001b[38;5;28;43mself\u001b[39;49m\u001b[38;5;241;43m.\u001b[39;49m\u001b[43m_call\u001b[49m\u001b[43m(\u001b[49m\u001b[38;5;241;43m*\u001b[39;49m\u001b[43margs\u001b[49m\u001b[43m,\u001b[49m\u001b[43m \u001b[49m\u001b[38;5;241;43m*\u001b[39;49m\u001b[38;5;241;43m*\u001b[39;49m\u001b[43mkwds\u001b[49m\u001b[43m)\u001b[49m\n\u001b[1;32m    882\u001b[0m new_tracing_count \u001b[38;5;241m=\u001b[39m \u001b[38;5;28mself\u001b[39m\u001b[38;5;241m.\u001b[39mexperimental_get_tracing_count()\n\u001b[1;32m    883\u001b[0m without_tracing \u001b[38;5;241m=\u001b[39m (tracing_count \u001b[38;5;241m==\u001b[39m new_tracing_count)\n",
      "File \u001b[0;32m/opt/conda/lib/python3.10/site-packages/tensorflow/python/eager/polymorphic_function/polymorphic_function.py:912\u001b[0m, in \u001b[0;36mFunction._call\u001b[0;34m(self, *args, **kwds)\u001b[0m\n\u001b[1;32m    909\u001b[0m   \u001b[38;5;28mself\u001b[39m\u001b[38;5;241m.\u001b[39m_lock\u001b[38;5;241m.\u001b[39mrelease()\n\u001b[1;32m    910\u001b[0m   \u001b[38;5;66;03m# In this case we have created variables on the first call, so we run the\u001b[39;00m\n\u001b[1;32m    911\u001b[0m   \u001b[38;5;66;03m# defunned version which is guaranteed to never create variables.\u001b[39;00m\n\u001b[0;32m--> 912\u001b[0m   \u001b[38;5;28;01mreturn\u001b[39;00m \u001b[38;5;28;43mself\u001b[39;49m\u001b[38;5;241;43m.\u001b[39;49m\u001b[43m_no_variable_creation_fn\u001b[49m\u001b[43m(\u001b[49m\u001b[38;5;241;43m*\u001b[39;49m\u001b[43margs\u001b[49m\u001b[43m,\u001b[49m\u001b[43m \u001b[49m\u001b[38;5;241;43m*\u001b[39;49m\u001b[38;5;241;43m*\u001b[39;49m\u001b[43mkwds\u001b[49m\u001b[43m)\u001b[49m  \u001b[38;5;66;03m# pylint: disable=not-callable\u001b[39;00m\n\u001b[1;32m    913\u001b[0m \u001b[38;5;28;01melif\u001b[39;00m \u001b[38;5;28mself\u001b[39m\u001b[38;5;241m.\u001b[39m_variable_creation_fn \u001b[38;5;129;01mis\u001b[39;00m \u001b[38;5;129;01mnot\u001b[39;00m \u001b[38;5;28;01mNone\u001b[39;00m:\n\u001b[1;32m    914\u001b[0m   \u001b[38;5;66;03m# Release the lock early so that multiple threads can perform the call\u001b[39;00m\n\u001b[1;32m    915\u001b[0m   \u001b[38;5;66;03m# in parallel.\u001b[39;00m\n\u001b[1;32m    916\u001b[0m   \u001b[38;5;28mself\u001b[39m\u001b[38;5;241m.\u001b[39m_lock\u001b[38;5;241m.\u001b[39mrelease()\n",
      "File \u001b[0;32m/opt/conda/lib/python3.10/site-packages/tensorflow/python/eager/polymorphic_function/tracing_compiler.py:134\u001b[0m, in \u001b[0;36mTracingCompiler.__call__\u001b[0;34m(self, *args, **kwargs)\u001b[0m\n\u001b[1;32m    131\u001b[0m \u001b[38;5;28;01mwith\u001b[39;00m \u001b[38;5;28mself\u001b[39m\u001b[38;5;241m.\u001b[39m_lock:\n\u001b[1;32m    132\u001b[0m   (concrete_function,\n\u001b[1;32m    133\u001b[0m    filtered_flat_args) \u001b[38;5;241m=\u001b[39m \u001b[38;5;28mself\u001b[39m\u001b[38;5;241m.\u001b[39m_maybe_define_function(args, kwargs)\n\u001b[0;32m--> 134\u001b[0m \u001b[38;5;28;01mreturn\u001b[39;00m \u001b[43mconcrete_function\u001b[49m\u001b[38;5;241;43m.\u001b[39;49m\u001b[43m_call_flat\u001b[49m\u001b[43m(\u001b[49m\n\u001b[1;32m    135\u001b[0m \u001b[43m    \u001b[49m\u001b[43mfiltered_flat_args\u001b[49m\u001b[43m,\u001b[49m\u001b[43m \u001b[49m\u001b[43mcaptured_inputs\u001b[49m\u001b[38;5;241;43m=\u001b[39;49m\u001b[43mconcrete_function\u001b[49m\u001b[38;5;241;43m.\u001b[39;49m\u001b[43mcaptured_inputs\u001b[49m\u001b[43m)\u001b[49m\n",
      "File \u001b[0;32m/opt/conda/lib/python3.10/site-packages/tensorflow/python/eager/polymorphic_function/monomorphic_function.py:1745\u001b[0m, in \u001b[0;36mConcreteFunction._call_flat\u001b[0;34m(self, args, captured_inputs, cancellation_manager)\u001b[0m\n\u001b[1;32m   1741\u001b[0m possible_gradient_type \u001b[38;5;241m=\u001b[39m gradients_util\u001b[38;5;241m.\u001b[39mPossibleTapeGradientTypes(args)\n\u001b[1;32m   1742\u001b[0m \u001b[38;5;28;01mif\u001b[39;00m (possible_gradient_type \u001b[38;5;241m==\u001b[39m gradients_util\u001b[38;5;241m.\u001b[39mPOSSIBLE_GRADIENT_TYPES_NONE\n\u001b[1;32m   1743\u001b[0m     \u001b[38;5;129;01mand\u001b[39;00m executing_eagerly):\n\u001b[1;32m   1744\u001b[0m   \u001b[38;5;66;03m# No tape is watching; skip to running the function.\u001b[39;00m\n\u001b[0;32m-> 1745\u001b[0m   \u001b[38;5;28;01mreturn\u001b[39;00m \u001b[38;5;28mself\u001b[39m\u001b[38;5;241m.\u001b[39m_build_call_outputs(\u001b[38;5;28;43mself\u001b[39;49m\u001b[38;5;241;43m.\u001b[39;49m\u001b[43m_inference_function\u001b[49m\u001b[38;5;241;43m.\u001b[39;49m\u001b[43mcall\u001b[49m\u001b[43m(\u001b[49m\n\u001b[1;32m   1746\u001b[0m \u001b[43m      \u001b[49m\u001b[43mctx\u001b[49m\u001b[43m,\u001b[49m\u001b[43m \u001b[49m\u001b[43margs\u001b[49m\u001b[43m,\u001b[49m\u001b[43m \u001b[49m\u001b[43mcancellation_manager\u001b[49m\u001b[38;5;241;43m=\u001b[39;49m\u001b[43mcancellation_manager\u001b[49m\u001b[43m)\u001b[49m)\n\u001b[1;32m   1747\u001b[0m forward_backward \u001b[38;5;241m=\u001b[39m \u001b[38;5;28mself\u001b[39m\u001b[38;5;241m.\u001b[39m_select_forward_and_backward_functions(\n\u001b[1;32m   1748\u001b[0m     args,\n\u001b[1;32m   1749\u001b[0m     possible_gradient_type,\n\u001b[1;32m   1750\u001b[0m     executing_eagerly)\n\u001b[1;32m   1751\u001b[0m forward_function, args_with_tangents \u001b[38;5;241m=\u001b[39m forward_backward\u001b[38;5;241m.\u001b[39mforward()\n",
      "File \u001b[0;32m/opt/conda/lib/python3.10/site-packages/tensorflow/python/eager/polymorphic_function/monomorphic_function.py:378\u001b[0m, in \u001b[0;36m_EagerDefinedFunction.call\u001b[0;34m(self, ctx, args, cancellation_manager)\u001b[0m\n\u001b[1;32m    376\u001b[0m \u001b[38;5;28;01mwith\u001b[39;00m _InterpolateFunctionError(\u001b[38;5;28mself\u001b[39m):\n\u001b[1;32m    377\u001b[0m   \u001b[38;5;28;01mif\u001b[39;00m cancellation_manager \u001b[38;5;129;01mis\u001b[39;00m \u001b[38;5;28;01mNone\u001b[39;00m:\n\u001b[0;32m--> 378\u001b[0m     outputs \u001b[38;5;241m=\u001b[39m \u001b[43mexecute\u001b[49m\u001b[38;5;241;43m.\u001b[39;49m\u001b[43mexecute\u001b[49m\u001b[43m(\u001b[49m\n\u001b[1;32m    379\u001b[0m \u001b[43m        \u001b[49m\u001b[38;5;28;43mstr\u001b[39;49m\u001b[43m(\u001b[49m\u001b[38;5;28;43mself\u001b[39;49m\u001b[38;5;241;43m.\u001b[39;49m\u001b[43msignature\u001b[49m\u001b[38;5;241;43m.\u001b[39;49m\u001b[43mname\u001b[49m\u001b[43m)\u001b[49m\u001b[43m,\u001b[49m\n\u001b[1;32m    380\u001b[0m \u001b[43m        \u001b[49m\u001b[43mnum_outputs\u001b[49m\u001b[38;5;241;43m=\u001b[39;49m\u001b[38;5;28;43mself\u001b[39;49m\u001b[38;5;241;43m.\u001b[39;49m\u001b[43m_num_outputs\u001b[49m\u001b[43m,\u001b[49m\n\u001b[1;32m    381\u001b[0m \u001b[43m        \u001b[49m\u001b[43minputs\u001b[49m\u001b[38;5;241;43m=\u001b[39;49m\u001b[43margs\u001b[49m\u001b[43m,\u001b[49m\n\u001b[1;32m    382\u001b[0m \u001b[43m        \u001b[49m\u001b[43mattrs\u001b[49m\u001b[38;5;241;43m=\u001b[39;49m\u001b[43mattrs\u001b[49m\u001b[43m,\u001b[49m\n\u001b[1;32m    383\u001b[0m \u001b[43m        \u001b[49m\u001b[43mctx\u001b[49m\u001b[38;5;241;43m=\u001b[39;49m\u001b[43mctx\u001b[49m\u001b[43m)\u001b[49m\n\u001b[1;32m    384\u001b[0m   \u001b[38;5;28;01melse\u001b[39;00m:\n\u001b[1;32m    385\u001b[0m     outputs \u001b[38;5;241m=\u001b[39m execute\u001b[38;5;241m.\u001b[39mexecute_with_cancellation(\n\u001b[1;32m    386\u001b[0m         \u001b[38;5;28mstr\u001b[39m(\u001b[38;5;28mself\u001b[39m\u001b[38;5;241m.\u001b[39msignature\u001b[38;5;241m.\u001b[39mname),\n\u001b[1;32m    387\u001b[0m         num_outputs\u001b[38;5;241m=\u001b[39m\u001b[38;5;28mself\u001b[39m\u001b[38;5;241m.\u001b[39m_num_outputs,\n\u001b[0;32m   (...)\u001b[0m\n\u001b[1;32m    390\u001b[0m         ctx\u001b[38;5;241m=\u001b[39mctx,\n\u001b[1;32m    391\u001b[0m         cancellation_manager\u001b[38;5;241m=\u001b[39mcancellation_manager)\n",
      "File \u001b[0;32m/opt/conda/lib/python3.10/site-packages/tensorflow/python/eager/execute.py:52\u001b[0m, in \u001b[0;36mquick_execute\u001b[0;34m(op_name, num_outputs, inputs, attrs, ctx, name)\u001b[0m\n\u001b[1;32m     50\u001b[0m \u001b[38;5;28;01mtry\u001b[39;00m:\n\u001b[1;32m     51\u001b[0m   ctx\u001b[38;5;241m.\u001b[39mensure_initialized()\n\u001b[0;32m---> 52\u001b[0m   tensors \u001b[38;5;241m=\u001b[39m \u001b[43mpywrap_tfe\u001b[49m\u001b[38;5;241;43m.\u001b[39;49m\u001b[43mTFE_Py_Execute\u001b[49m\u001b[43m(\u001b[49m\u001b[43mctx\u001b[49m\u001b[38;5;241;43m.\u001b[39;49m\u001b[43m_handle\u001b[49m\u001b[43m,\u001b[49m\u001b[43m \u001b[49m\u001b[43mdevice_name\u001b[49m\u001b[43m,\u001b[49m\u001b[43m \u001b[49m\u001b[43mop_name\u001b[49m\u001b[43m,\u001b[49m\n\u001b[1;32m     53\u001b[0m \u001b[43m                                      \u001b[49m\u001b[43minputs\u001b[49m\u001b[43m,\u001b[49m\u001b[43m \u001b[49m\u001b[43mattrs\u001b[49m\u001b[43m,\u001b[49m\u001b[43m \u001b[49m\u001b[43mnum_outputs\u001b[49m\u001b[43m)\u001b[49m\n\u001b[1;32m     54\u001b[0m \u001b[38;5;28;01mexcept\u001b[39;00m core\u001b[38;5;241m.\u001b[39m_NotOkStatusException \u001b[38;5;28;01mas\u001b[39;00m e:\n\u001b[1;32m     55\u001b[0m   \u001b[38;5;28;01mif\u001b[39;00m name \u001b[38;5;129;01mis\u001b[39;00m \u001b[38;5;129;01mnot\u001b[39;00m \u001b[38;5;28;01mNone\u001b[39;00m:\n",
      "\u001b[0;31mKeyboardInterrupt\u001b[0m: "
     ]
    }
   ],
   "source": [
    "filepath=\"..00_gcp_data/dl_models/cnn_glove_weights_best\"\n",
    "checkpoint = ModelCheckpoint(filepath, monitor='val_mean_squared_error',\n",
    "                             verbose=1, save_best_only=True, save_weights_only=False, overwrite=True, mode='min')\n",
    "#only save model if it improves the accuracy\n",
    "\n",
    "callbacks_list = [checkpoint]\n",
    "\n",
    "t1 = time.time()\n",
    "glove_history_all = glove_model_all.fit(x_train, y_train,\n",
    "                    batch_size=batch_size, \n",
    "                    epochs=num_epochs,\n",
    "                    validation_data=(x_test, y_test),\n",
    "                    callbacks = callbacks_list,\n",
    "                    verbose=2)\n",
    "t2 = time.time()\n",
    "print(\"CNN Glove_all model train time = %d seconds\" %(t2-t1))"
   ]
  },
  {
   "cell_type": "code",
   "execution_count": 164,
   "id": "3f885bd2-2532-4fcc-8387-dbff19324070",
   "metadata": {},
   "outputs": [
    {
     "ename": "NameError",
     "evalue": "name 'glove_history_all' is not defined",
     "output_type": "error",
     "traceback": [
      "\u001b[0;31m---------------------------------------------------------------------------\u001b[0m",
      "\u001b[0;31mNameError\u001b[0m                                 Traceback (most recent call last)",
      "Cell \u001b[0;32mIn[164], line 1\u001b[0m\n\u001b[0;32m----> 1\u001b[0m plot_train(\u001b[43mglove_history_all\u001b[49m)\n",
      "\u001b[0;31mNameError\u001b[0m: name 'glove_history_all' is not defined"
     ]
    }
   ],
   "source": [
    "plot_train(glove_history_all)"
   ]
  },
  {
   "cell_type": "markdown",
   "id": "cce458a6-4a9b-4d23-b93c-2c32cdc69f11",
   "metadata": {},
   "source": [
    "------"
   ]
  },
  {
   "cell_type": "code",
   "execution_count": 172,
   "id": "4e004280-fdd1-4a83-ab67-91ee5eb13cb5",
   "metadata": {},
   "outputs": [],
   "source": [
    "def cnn_create_all_2(embedding):\n",
    "    \"\"\"\n",
    "    Create basic cnn structure\n",
    "    embedding: keras Embedding\n",
    "    return: compiled keras model\n",
    "    \"\"\"\n",
    "    model = Sequential()\n",
    "\n",
    "    model.add(embedding) # Adding our glove embedding\n",
    "\n",
    "    model.add(Convolution1D(filters=128,\n",
    "                             kernel_size=5,\n",
    "                             padding=\"valid\",\n",
    "                             activation=\"relu\",\n",
    "                             strides=1))\n",
    "    \n",
    "    model.add(MaxPooling1D(5))\n",
    "    \n",
    "    model.add(Convolution1D(filters=128,\n",
    "                             kernel_size=5,\n",
    "                             padding=\"valid\",\n",
    "                             activation=\"relu\",\n",
    "                             strides=1))\n",
    "    \n",
    "    model.add(MaxPooling1D(5))\n",
    "\n",
    "    model.add(Convolution1D(filters=128,\n",
    "                             kernel_size=5,\n",
    "                             padding=\"valid\",\n",
    "                             activation=\"relu\",\n",
    "                             strides=1))\n",
    "    \n",
    "        \n",
    "    model.add(GlobalMaxPooling1D())\n",
    "\n",
    "    # We add a dense layer (fully connected) to the previous layer with a 10% dropout (ignore 10% of units during weight updates)\n",
    "    hidden_dims = 128\n",
    "    model.add(Dense(hidden_dims))\n",
    "    model.add(Dropout(0.1))\n",
    "    model.add(Activation('relu'))\n",
    "\n",
    "    hidden_dims = 128\n",
    "    model.add(Dense(20))\n",
    "    model.add(Dropout(0.1))\n",
    "    model.add(Activation('relu'))\n",
    "    \n",
    "    # We project onto a single unit output layer, and squash it with a linear (for regression):\n",
    "    model.add(Dense(6))\n",
    "    model.add(Activation('linear')) #use softmax for multilabel\n",
    "    return(model)\n"
   ]
  },
  {
   "cell_type": "code",
   "execution_count": 173,
   "id": "ee08ad5a-f9e6-4d22-b225-327deabf4a7b",
   "metadata": {},
   "outputs": [
    {
     "name": "stdout",
     "output_type": "stream",
     "text": [
      "Model: \"sequential_9\"\n",
      "_________________________________________________________________\n",
      " Layer (type)                Output Shape              Param #   \n",
      "=================================================================\n",
      " embedding_4 (Embedding)     (None, 1000, 100)         1028300   \n",
      "                                                                 \n",
      " conv1d_21 (Conv1D)          (None, 996, 128)          64128     \n",
      "                                                                 \n",
      " max_pooling1d_4 (MaxPooling  (None, 199, 128)         0         \n",
      " 1D)                                                             \n",
      "                                                                 \n",
      " conv1d_22 (Conv1D)          (None, 195, 128)          82048     \n",
      "                                                                 \n",
      " max_pooling1d_5 (MaxPooling  (None, 39, 128)          0         \n",
      " 1D)                                                             \n",
      "                                                                 \n",
      " conv1d_23 (Conv1D)          (None, 35, 128)           82048     \n",
      "                                                                 \n",
      " global_max_pooling1d_9 (Glo  (None, 128)              0         \n",
      " balMaxPooling1D)                                                \n",
      "                                                                 \n",
      " dense_20 (Dense)            (None, 128)               16512     \n",
      "                                                                 \n",
      " dropout_11 (Dropout)        (None, 128)               0         \n",
      "                                                                 \n",
      " activation_20 (Activation)  (None, 128)               0         \n",
      "                                                                 \n",
      " dense_21 (Dense)            (None, 20)                2580      \n",
      "                                                                 \n",
      " dropout_12 (Dropout)        (None, 20)                0         \n",
      "                                                                 \n",
      " activation_21 (Activation)  (None, 20)                0         \n",
      "                                                                 \n",
      " dense_22 (Dense)            (None, 6)                 126       \n",
      "                                                                 \n",
      " activation_22 (Activation)  (None, 6)                 0         \n",
      "                                                                 \n",
      "=================================================================\n",
      "Total params: 1,275,742\n",
      "Trainable params: 247,442\n",
      "Non-trainable params: 1,028,300\n",
      "_________________________________________________________________\n"
     ]
    }
   ],
   "source": [
    "glove_model_all_2 = cnn_create_all_2(embedding_glove)\n",
    "glove_model_all_2.summary()"
   ]
  },
  {
   "cell_type": "code",
   "execution_count": 175,
   "id": "6fa0acce-c8fc-4422-8f06-6149b59499f7",
   "metadata": {},
   "outputs": [],
   "source": [
    "glove_model_all_2.compile(loss=\"mean_squared_error\", optimizer=\"adam\", metrics=[\"mean_squared_error\"])"
   ]
  },
  {
   "cell_type": "code",
   "execution_count": 176,
   "id": "9ed1c8fc-1194-49e5-8c2a-6c324b86100e",
   "metadata": {},
   "outputs": [
    {
     "name": "stdout",
     "output_type": "stream",
     "text": [
      "Epoch 1/40\n",
      "\n",
      "Epoch 1: val_mean_squared_error improved from inf to 0.50238, saving model to ..00_gcp_data/dl_models/cnn_glove_weights_best\n"
     ]
    },
    {
     "name": "stderr",
     "output_type": "stream",
     "text": [
      "WARNING:absl:Found untraced functions such as _jit_compiled_convolution_op, _jit_compiled_convolution_op, _jit_compiled_convolution_op, _update_step_xla while saving (showing 4 of 4). These functions will not be directly callable after loading.\n"
     ]
    },
    {
     "name": "stdout",
     "output_type": "stream",
     "text": [
      "INFO:tensorflow:Assets written to: ..00_gcp_data/dl_models/cnn_glove_weights_best/assets\n"
     ]
    },
    {
     "name": "stderr",
     "output_type": "stream",
     "text": [
      "INFO:tensorflow:Assets written to: ..00_gcp_data/dl_models/cnn_glove_weights_best/assets\n"
     ]
    },
    {
     "name": "stdout",
     "output_type": "stream",
     "text": [
      "49/49 - 10s - loss: 2.2562 - mean_squared_error: 2.2562 - val_loss: 0.5024 - val_mean_squared_error: 0.5024 - 10s/epoch - 195ms/step\n",
      "Epoch 2/40\n",
      "\n",
      "Epoch 2: val_mean_squared_error improved from 0.50238 to 0.43439, saving model to ..00_gcp_data/dl_models/cnn_glove_weights_best\n"
     ]
    },
    {
     "name": "stderr",
     "output_type": "stream",
     "text": [
      "WARNING:absl:Found untraced functions such as _jit_compiled_convolution_op, _jit_compiled_convolution_op, _jit_compiled_convolution_op, _update_step_xla while saving (showing 4 of 4). These functions will not be directly callable after loading.\n"
     ]
    },
    {
     "name": "stdout",
     "output_type": "stream",
     "text": [
      "INFO:tensorflow:Assets written to: ..00_gcp_data/dl_models/cnn_glove_weights_best/assets\n"
     ]
    },
    {
     "name": "stderr",
     "output_type": "stream",
     "text": [
      "INFO:tensorflow:Assets written to: ..00_gcp_data/dl_models/cnn_glove_weights_best/assets\n"
     ]
    },
    {
     "name": "stdout",
     "output_type": "stream",
     "text": [
      "49/49 - 8s - loss: 1.1865 - mean_squared_error: 1.1865 - val_loss: 0.4344 - val_mean_squared_error: 0.4344 - 8s/epoch - 162ms/step\n",
      "Epoch 3/40\n",
      "\n",
      "Epoch 3: val_mean_squared_error improved from 0.43439 to 0.41105, saving model to ..00_gcp_data/dl_models/cnn_glove_weights_best\n"
     ]
    },
    {
     "name": "stderr",
     "output_type": "stream",
     "text": [
      "WARNING:absl:Found untraced functions such as _jit_compiled_convolution_op, _jit_compiled_convolution_op, _jit_compiled_convolution_op, _update_step_xla while saving (showing 4 of 4). These functions will not be directly callable after loading.\n"
     ]
    },
    {
     "name": "stdout",
     "output_type": "stream",
     "text": [
      "INFO:tensorflow:Assets written to: ..00_gcp_data/dl_models/cnn_glove_weights_best/assets\n"
     ]
    },
    {
     "name": "stderr",
     "output_type": "stream",
     "text": [
      "INFO:tensorflow:Assets written to: ..00_gcp_data/dl_models/cnn_glove_weights_best/assets\n"
     ]
    },
    {
     "name": "stdout",
     "output_type": "stream",
     "text": [
      "49/49 - 8s - loss: 0.8773 - mean_squared_error: 0.8773 - val_loss: 0.4110 - val_mean_squared_error: 0.4110 - 8s/epoch - 159ms/step\n",
      "Epoch 4/40\n",
      "\n",
      "Epoch 4: val_mean_squared_error improved from 0.41105 to 0.37709, saving model to ..00_gcp_data/dl_models/cnn_glove_weights_best\n"
     ]
    },
    {
     "name": "stderr",
     "output_type": "stream",
     "text": [
      "WARNING:absl:Found untraced functions such as _jit_compiled_convolution_op, _jit_compiled_convolution_op, _jit_compiled_convolution_op, _update_step_xla while saving (showing 4 of 4). These functions will not be directly callable after loading.\n"
     ]
    },
    {
     "name": "stdout",
     "output_type": "stream",
     "text": [
      "INFO:tensorflow:Assets written to: ..00_gcp_data/dl_models/cnn_glove_weights_best/assets\n"
     ]
    },
    {
     "name": "stderr",
     "output_type": "stream",
     "text": [
      "INFO:tensorflow:Assets written to: ..00_gcp_data/dl_models/cnn_glove_weights_best/assets\n"
     ]
    },
    {
     "name": "stdout",
     "output_type": "stream",
     "text": [
      "49/49 - 8s - loss: 0.7730 - mean_squared_error: 0.7730 - val_loss: 0.3771 - val_mean_squared_error: 0.3771 - 8s/epoch - 161ms/step\n",
      "Epoch 5/40\n",
      "\n",
      "Epoch 5: val_mean_squared_error improved from 0.37709 to 0.35579, saving model to ..00_gcp_data/dl_models/cnn_glove_weights_best\n"
     ]
    },
    {
     "name": "stderr",
     "output_type": "stream",
     "text": [
      "WARNING:absl:Found untraced functions such as _jit_compiled_convolution_op, _jit_compiled_convolution_op, _jit_compiled_convolution_op, _update_step_xla while saving (showing 4 of 4). These functions will not be directly callable after loading.\n"
     ]
    },
    {
     "name": "stdout",
     "output_type": "stream",
     "text": [
      "INFO:tensorflow:Assets written to: ..00_gcp_data/dl_models/cnn_glove_weights_best/assets\n"
     ]
    },
    {
     "name": "stderr",
     "output_type": "stream",
     "text": [
      "INFO:tensorflow:Assets written to: ..00_gcp_data/dl_models/cnn_glove_weights_best/assets\n"
     ]
    },
    {
     "name": "stdout",
     "output_type": "stream",
     "text": [
      "49/49 - 8s - loss: 0.6974 - mean_squared_error: 0.6974 - val_loss: 0.3558 - val_mean_squared_error: 0.3558 - 8s/epoch - 168ms/step\n",
      "Epoch 6/40\n",
      "\n",
      "Epoch 6: val_mean_squared_error did not improve from 0.35579\n",
      "49/49 - 6s - loss: 0.6167 - mean_squared_error: 0.6167 - val_loss: 0.4261 - val_mean_squared_error: 0.4261 - 6s/epoch - 127ms/step\n",
      "Epoch 7/40\n",
      "\n",
      "Epoch 7: val_mean_squared_error did not improve from 0.35579\n",
      "49/49 - 6s - loss: 0.5292 - mean_squared_error: 0.5292 - val_loss: 0.3958 - val_mean_squared_error: 0.3958 - 6s/epoch - 127ms/step\n",
      "Epoch 8/40\n",
      "\n",
      "Epoch 8: val_mean_squared_error did not improve from 0.35579\n",
      "49/49 - 6s - loss: 0.4975 - mean_squared_error: 0.4975 - val_loss: 0.3580 - val_mean_squared_error: 0.3580 - 6s/epoch - 125ms/step\n",
      "Epoch 9/40\n",
      "\n",
      "Epoch 9: val_mean_squared_error did not improve from 0.35579\n",
      "49/49 - 6s - loss: 0.4439 - mean_squared_error: 0.4439 - val_loss: 0.3888 - val_mean_squared_error: 0.3888 - 6s/epoch - 127ms/step\n",
      "Epoch 10/40\n",
      "\n",
      "Epoch 10: val_mean_squared_error did not improve from 0.35579\n",
      "49/49 - 6s - loss: 0.4330 - mean_squared_error: 0.4330 - val_loss: 0.4243 - val_mean_squared_error: 0.4243 - 6s/epoch - 127ms/step\n",
      "Epoch 11/40\n",
      "\n",
      "Epoch 11: val_mean_squared_error did not improve from 0.35579\n",
      "49/49 - 6s - loss: 0.3943 - mean_squared_error: 0.3943 - val_loss: 0.3760 - val_mean_squared_error: 0.3760 - 6s/epoch - 127ms/step\n",
      "Epoch 12/40\n",
      "\n",
      "Epoch 12: val_mean_squared_error did not improve from 0.35579\n",
      "49/49 - 6s - loss: 0.3667 - mean_squared_error: 0.3667 - val_loss: 0.3773 - val_mean_squared_error: 0.3773 - 6s/epoch - 128ms/step\n",
      "Epoch 13/40\n",
      "\n",
      "Epoch 13: val_mean_squared_error did not improve from 0.35579\n",
      "49/49 - 6s - loss: 0.3711 - mean_squared_error: 0.3711 - val_loss: 0.4401 - val_mean_squared_error: 0.4401 - 6s/epoch - 129ms/step\n",
      "Epoch 14/40\n",
      "\n",
      "Epoch 14: val_mean_squared_error did not improve from 0.35579\n",
      "49/49 - 6s - loss: 0.3732 - mean_squared_error: 0.3732 - val_loss: 0.3889 - val_mean_squared_error: 0.3889 - 6s/epoch - 130ms/step\n",
      "Epoch 15/40\n",
      "\n",
      "Epoch 15: val_mean_squared_error did not improve from 0.35579\n",
      "49/49 - 6s - loss: 0.3607 - mean_squared_error: 0.3607 - val_loss: 0.3935 - val_mean_squared_error: 0.3935 - 6s/epoch - 128ms/step\n",
      "Epoch 16/40\n",
      "\n",
      "Epoch 16: val_mean_squared_error did not improve from 0.35579\n",
      "49/49 - 6s - loss: 0.3411 - mean_squared_error: 0.3411 - val_loss: 0.4286 - val_mean_squared_error: 0.4286 - 6s/epoch - 128ms/step\n",
      "Epoch 17/40\n",
      "\n",
      "Epoch 17: val_mean_squared_error did not improve from 0.35579\n",
      "49/49 - 6s - loss: 0.3491 - mean_squared_error: 0.3491 - val_loss: 0.3791 - val_mean_squared_error: 0.3791 - 6s/epoch - 125ms/step\n",
      "Epoch 18/40\n",
      "\n",
      "Epoch 18: val_mean_squared_error did not improve from 0.35579\n",
      "49/49 - 6s - loss: 0.3325 - mean_squared_error: 0.3325 - val_loss: 0.3719 - val_mean_squared_error: 0.3719 - 6s/epoch - 127ms/step\n",
      "Epoch 19/40\n",
      "\n",
      "Epoch 19: val_mean_squared_error did not improve from 0.35579\n",
      "49/49 - 5s - loss: 0.3239 - mean_squared_error: 0.3239 - val_loss: 0.4562 - val_mean_squared_error: 0.4562 - 5s/epoch - 106ms/step\n",
      "Epoch 20/40\n",
      "\n",
      "Epoch 20: val_mean_squared_error did not improve from 0.35579\n",
      "49/49 - 5s - loss: 0.3205 - mean_squared_error: 0.3205 - val_loss: 0.3620 - val_mean_squared_error: 0.3620 - 5s/epoch - 96ms/step\n",
      "Epoch 21/40\n",
      "\n",
      "Epoch 21: val_mean_squared_error did not improve from 0.35579\n",
      "49/49 - 5s - loss: 0.3138 - mean_squared_error: 0.3138 - val_loss: 0.3656 - val_mean_squared_error: 0.3656 - 5s/epoch - 94ms/step\n",
      "Epoch 22/40\n",
      "\n",
      "Epoch 22: val_mean_squared_error did not improve from 0.35579\n",
      "49/49 - 6s - loss: 0.3045 - mean_squared_error: 0.3045 - val_loss: 0.3740 - val_mean_squared_error: 0.3740 - 6s/epoch - 115ms/step\n",
      "Epoch 23/40\n",
      "\n",
      "Epoch 23: val_mean_squared_error did not improve from 0.35579\n",
      "49/49 - 6s - loss: 0.2963 - mean_squared_error: 0.2963 - val_loss: 0.3636 - val_mean_squared_error: 0.3636 - 6s/epoch - 129ms/step\n",
      "Epoch 24/40\n",
      "\n",
      "Epoch 24: val_mean_squared_error did not improve from 0.35579\n",
      "49/49 - 6s - loss: 0.2995 - mean_squared_error: 0.2995 - val_loss: 0.3676 - val_mean_squared_error: 0.3676 - 6s/epoch - 131ms/step\n",
      "Epoch 25/40\n",
      "\n",
      "Epoch 25: val_mean_squared_error did not improve from 0.35579\n",
      "49/49 - 6s - loss: 0.2982 - mean_squared_error: 0.2982 - val_loss: 0.3723 - val_mean_squared_error: 0.3723 - 6s/epoch - 124ms/step\n",
      "Epoch 26/40\n",
      "\n",
      "Epoch 26: val_mean_squared_error did not improve from 0.35579\n",
      "49/49 - 6s - loss: 0.2947 - mean_squared_error: 0.2947 - val_loss: 0.3870 - val_mean_squared_error: 0.3870 - 6s/epoch - 129ms/step\n",
      "Epoch 27/40\n",
      "\n",
      "Epoch 27: val_mean_squared_error did not improve from 0.35579\n",
      "49/49 - 6s - loss: 0.3061 - mean_squared_error: 0.3061 - val_loss: 0.3653 - val_mean_squared_error: 0.3653 - 6s/epoch - 132ms/step\n",
      "Epoch 28/40\n",
      "\n",
      "Epoch 28: val_mean_squared_error did not improve from 0.35579\n",
      "49/49 - 6s - loss: 0.2914 - mean_squared_error: 0.2914 - val_loss: 0.3706 - val_mean_squared_error: 0.3706 - 6s/epoch - 133ms/step\n",
      "Epoch 29/40\n",
      "\n",
      "Epoch 29: val_mean_squared_error did not improve from 0.35579\n",
      "49/49 - 7s - loss: 0.2851 - mean_squared_error: 0.2851 - val_loss: 0.3788 - val_mean_squared_error: 0.3788 - 7s/epoch - 136ms/step\n",
      "Epoch 30/40\n",
      "\n",
      "Epoch 30: val_mean_squared_error did not improve from 0.35579\n",
      "49/49 - 6s - loss: 0.2865 - mean_squared_error: 0.2865 - val_loss: 0.3653 - val_mean_squared_error: 0.3653 - 6s/epoch - 128ms/step\n",
      "Epoch 31/40\n",
      "\n",
      "Epoch 31: val_mean_squared_error did not improve from 0.35579\n",
      "49/49 - 6s - loss: 0.2802 - mean_squared_error: 0.2802 - val_loss: 0.4487 - val_mean_squared_error: 0.4487 - 6s/epoch - 130ms/step\n",
      "Epoch 32/40\n",
      "\n",
      "Epoch 32: val_mean_squared_error did not improve from 0.35579\n",
      "49/49 - 6s - loss: 0.2710 - mean_squared_error: 0.2710 - val_loss: 0.3603 - val_mean_squared_error: 0.3603 - 6s/epoch - 132ms/step\n",
      "Epoch 33/40\n",
      "\n",
      "Epoch 33: val_mean_squared_error did not improve from 0.35579\n",
      "49/49 - 7s - loss: 0.2821 - mean_squared_error: 0.2821 - val_loss: 0.3649 - val_mean_squared_error: 0.3649 - 7s/epoch - 134ms/step\n",
      "Epoch 34/40\n",
      "\n",
      "Epoch 34: val_mean_squared_error did not improve from 0.35579\n",
      "49/49 - 7s - loss: 0.2642 - mean_squared_error: 0.2642 - val_loss: 0.3648 - val_mean_squared_error: 0.3648 - 7s/epoch - 134ms/step\n",
      "Epoch 35/40\n",
      "\n",
      "Epoch 35: val_mean_squared_error did not improve from 0.35579\n",
      "49/49 - 6s - loss: 0.2630 - mean_squared_error: 0.2630 - val_loss: 0.3560 - val_mean_squared_error: 0.3560 - 6s/epoch - 127ms/step\n",
      "Epoch 36/40\n",
      "\n",
      "Epoch 36: val_mean_squared_error did not improve from 0.35579\n",
      "49/49 - 6s - loss: 0.2557 - mean_squared_error: 0.2557 - val_loss: 0.3992 - val_mean_squared_error: 0.3992 - 6s/epoch - 129ms/step\n",
      "Epoch 37/40\n",
      "\n",
      "Epoch 37: val_mean_squared_error did not improve from 0.35579\n",
      "49/49 - 6s - loss: 0.2620 - mean_squared_error: 0.2620 - val_loss: 0.3815 - val_mean_squared_error: 0.3815 - 6s/epoch - 130ms/step\n",
      "Epoch 38/40\n",
      "\n",
      "Epoch 38: val_mean_squared_error did not improve from 0.35579\n",
      "49/49 - 6s - loss: 0.2559 - mean_squared_error: 0.2559 - val_loss: 0.3683 - val_mean_squared_error: 0.3683 - 6s/epoch - 130ms/step\n",
      "Epoch 39/40\n",
      "\n",
      "Epoch 39: val_mean_squared_error did not improve from 0.35579\n",
      "49/49 - 6s - loss: 0.2500 - mean_squared_error: 0.2500 - val_loss: 0.4399 - val_mean_squared_error: 0.4399 - 6s/epoch - 128ms/step\n",
      "Epoch 40/40\n",
      "\n",
      "Epoch 40: val_mean_squared_error did not improve from 0.35579\n",
      "49/49 - 6s - loss: 0.2445 - mean_squared_error: 0.2445 - val_loss: 0.3629 - val_mean_squared_error: 0.3629 - 6s/epoch - 124ms/step\n",
      "CNN Glove_all model train time = 257 seconds\n"
     ]
    }
   ],
   "source": [
    "num_epochs=40\n",
    "\n",
    "filepath=\"..00_gcp_data/dl_models/cnn_glove_weights_best\"\n",
    "checkpoint = ModelCheckpoint(filepath, monitor='val_mean_squared_error',\n",
    "                             verbose=1, save_best_only=True, save_weights_only=False, overwrite=True, mode='min')\n",
    "#only save model if it improves the accuracy\n",
    "\n",
    "callbacks_list = [checkpoint]\n",
    "\n",
    "t1 = time.time()\n",
    "glove_history_all_2 = glove_model_all_2.fit(x_train, y_train,\n",
    "                    batch_size=batch_size, \n",
    "                    epochs=num_epochs,\n",
    "                    validation_data=(x_test, y_test),\n",
    "                    callbacks = callbacks_list,\n",
    "                    verbose=2)\n",
    "t2 = time.time()\n",
    "print(\"CNN Glove_all model train time = %d seconds\" %(t2-t1))"
   ]
  },
  {
   "cell_type": "code",
   "execution_count": 177,
   "id": "779fa34f-fe4c-45fb-a5a4-631bbe38792d",
   "metadata": {},
   "outputs": [
    {
     "data": {
      "image/png": "[encoded data removed]",
      "text/plain": [
       "<Figure size 640x480 with 1 Axes>"
      ]
     },
     "metadata": {},
     "output_type": "display_data"
    }
   ],
   "source": [
    "plot_train(glove_history_all_2)"
   ]
  },
  {
   "cell_type": "code",
   "execution_count": null,
   "id": "527cb132-566a-4c1e-8d3a-171b402dd24a",
   "metadata": {},
   "outputs": [],
   "source": []
  },
  {
   "cell_type": "code",
   "execution_count": 182,
   "id": "c0515c02-8860-4773-90dd-508e8d019ced",
   "metadata": {},
   "outputs": [
    {
     "name": "stdout",
     "output_type": "stream",
     "text": [
      "25/25 [==============================] - 0s 17ms/step - loss: 0.3629 - mean_squared_error: 0.3629\n"
     ]
    },
    {
     "data": {
      "text/plain": [
       "[0.36294636130332947, 0.36294636130332947]"
      ]
     },
     "execution_count": 182,
     "metadata": {},
     "output_type": "execute_result"
    }
   ],
   "source": [
    "glove_model_all_2.evaluate(x_test, y_test)"
   ]
  },
  {
   "cell_type": "code",
   "execution_count": 185,
   "id": "95ef14ca-49d2-44d9-87d0-c905bfad26d2",
   "metadata": {},
   "outputs": [
    {
     "name": "stdout",
     "output_type": "stream",
     "text": [
      "25/25 [==============================] - 1s 19ms/step\n"
     ]
    },
    {
     "data": {
      "text/plain": [
       "array([[3.0489163, 2.9810324, 3.2345102, 3.124455 , 3.0272224, 3.0460896],\n",
       "       [2.8537164, 2.8989425, 3.0624042, 3.0014224, 2.9774299, 2.8804975],\n",
       "       [3.2703729, 3.1660638, 3.4474597, 3.357874 , 3.2176816, 3.2534282],\n",
       "       ...,\n",
       "       [3.6491647, 3.4531093, 3.6333373, 3.4375525, 3.3969448, 3.5375135],\n",
       "       [3.2502656, 3.17794  , 3.4307756, 3.276074 , 3.1889513, 3.2328906],\n",
       "       [3.012453 , 2.8722043, 3.1931849, 3.0461802, 2.876765 , 2.989192 ]],\n",
       "      dtype=float32)"
      ]
     },
     "execution_count": 185,
     "metadata": {},
     "output_type": "execute_result"
    }
   ],
   "source": [
    "predictions=glove_model_all_2.predict(x_test)\n",
    "predictions"
   ]
  },
  {
   "cell_type": "code",
   "execution_count": null,
   "id": "29b4df0e-b5ee-4c94-9822-3f5edeb6ce01",
   "metadata": {},
   "outputs": [],
   "source": []
  },
  {
   "cell_type": "code",
   "execution_count": 188,
   "id": "b296cec4-02c8-4d89-ae2c-4a739a6f1136",
   "metadata": {},
   "outputs": [],
   "source": [
    "def cnn_create_all_3(embedding):\n",
    "    \"\"\"\n",
    "    Create basic cnn structure\n",
    "    embedding: keras Embedding\n",
    "    return: compiled keras model\n",
    "    \"\"\"\n",
    "    model = Sequential()\n",
    "\n",
    "    model.add(embedding) # Adding our glove embedding\n",
    "\n",
    "    model.add(Convolution1D(filters=128,\n",
    "                             kernel_size=5,\n",
    "                             padding=\"valid\",\n",
    "                             activation=\"relu\",\n",
    "                             strides=1))\n",
    "    \n",
    "    model.add(MaxPooling1D(5))\n",
    "    \n",
    "    model.add(Convolution1D(filters=128,\n",
    "                             kernel_size=5,\n",
    "                             padding=\"valid\",\n",
    "                             activation=\"relu\",\n",
    "                             strides=1))\n",
    "    \n",
    "    model.add(MaxPooling1D(5))\n",
    "\n",
    "    model.add(Convolution1D(filters=128,\n",
    "                             kernel_size=5,\n",
    "                             padding=\"valid\",\n",
    "                             activation=\"relu\",\n",
    "                             strides=1))\n",
    "    \n",
    "        \n",
    "    model.add(GlobalMaxPooling1D())\n",
    "\n",
    "    # We add a dense layer (fully connected) to the previous layer with a 10% dropout (ignore 10% of units during weight updates)\n",
    "    hidden_dims = 128\n",
    "    model.add(Dense(hidden_dims))\n",
    "    model.add(Dropout(0.1))\n",
    "    model.add(Activation('relu'))\n",
    "\n",
    "    hidden_dims = 128\n",
    "    model.add(Dense(20))\n",
    "    model.add(Dropout(0.1))\n",
    "    model.add(Activation('relu'))\n",
    "    \n",
    "    # We project onto a single unit output layer, and squash it with a linear (for regression):\n",
    "    model.add(Dense(6))\n",
    "    model.add(Activation('linear')) #use softmax for multilabel\n",
    "    return(model)\n"
   ]
  },
  {
   "cell_type": "code",
   "execution_count": 190,
   "id": "5bf65f15-928c-44eb-b9db-05477ad50b4a",
   "metadata": {},
   "outputs": [
    {
     "name": "stdout",
     "output_type": "stream",
     "text": [
      "Model: \"sequential_11\"\n",
      "_________________________________________________________________\n",
      " Layer (type)                Output Shape              Param #   \n",
      "=================================================================\n",
      " embedding_4 (Embedding)     (None, 1000, 100)         1028300   \n",
      "                                                                 \n",
      " conv1d_27 (Conv1D)          (None, 996, 128)          64128     \n",
      "                                                                 \n",
      " max_pooling1d_8 (MaxPooling  (None, 199, 128)         0         \n",
      " 1D)                                                             \n",
      "                                                                 \n",
      " conv1d_28 (Conv1D)          (None, 195, 128)          82048     \n",
      "                                                                 \n",
      " max_pooling1d_9 (MaxPooling  (None, 39, 128)          0         \n",
      " 1D)                                                             \n",
      "                                                                 \n",
      " conv1d_29 (Conv1D)          (None, 35, 128)           82048     \n",
      "                                                                 \n",
      " global_max_pooling1d_11 (Gl  (None, 128)              0         \n",
      " obalMaxPooling1D)                                               \n",
      "                                                                 \n",
      " dense_26 (Dense)            (None, 128)               16512     \n",
      "                                                                 \n",
      " dropout_15 (Dropout)        (None, 128)               0         \n",
      "                                                                 \n",
      " activation_26 (Activation)  (None, 128)               0         \n",
      "                                                                 \n",
      " dense_27 (Dense)            (None, 20)                2580      \n",
      "                                                                 \n",
      " dropout_16 (Dropout)        (None, 20)                0         \n",
      "                                                                 \n",
      " activation_27 (Activation)  (None, 20)                0         \n",
      "                                                                 \n",
      " dense_28 (Dense)            (None, 6)                 126       \n",
      "                                                                 \n",
      " activation_28 (Activation)  (None, 6)                 0         \n",
      "                                                                 \n",
      "=================================================================\n",
      "Total params: 1,275,742\n",
      "Trainable params: 247,442\n",
      "Non-trainable params: 1,028,300\n",
      "_________________________________________________________________\n"
     ]
    }
   ],
   "source": [
    "glove_model_all_3 = cnn_create_all_3(embedding_glove)\n",
    "glove_model_all_3.compile(loss=\"mean_squared_error\", optimizer=\"adam\", metrics=[\"mean_squared_error\"])\n",
    "glove_model_all_3.summary()"
   ]
  },
  {
   "cell_type": "code",
   "execution_count": 191,
   "id": "90d25297-4f03-4cc1-9200-67e88d2c0510",
   "metadata": {
    "tags": []
   },
   "outputs": [
    {
     "name": "stdout",
     "output_type": "stream",
     "text": [
      "Epoch 1/40\n",
      "\n",
      "Epoch 1: val_mean_squared_error improved from inf to 0.80104, saving model to ..00_gcp_data/dl_models/cnn_glove_weights_best\n"
     ]
    },
    {
     "name": "stderr",
     "output_type": "stream",
     "text": [
      "WARNING:absl:Found untraced functions such as _jit_compiled_convolution_op, _jit_compiled_convolution_op, _jit_compiled_convolution_op, _update_step_xla while saving (showing 4 of 4). These functions will not be directly callable after loading.\n"
     ]
    },
    {
     "name": "stdout",
     "output_type": "stream",
     "text": [
      "INFO:tensorflow:Assets written to: ..00_gcp_data/dl_models/cnn_glove_weights_best/assets\n"
     ]
    },
    {
     "name": "stderr",
     "output_type": "stream",
     "text": [
      "INFO:tensorflow:Assets written to: ..00_gcp_data/dl_models/cnn_glove_weights_best/assets\n"
     ]
    },
    {
     "name": "stdout",
     "output_type": "stream",
     "text": [
      "40/40 - 7s - loss: 3.7776 - mean_squared_error: 3.7776 - val_loss: 0.8010 - val_mean_squared_error: 0.8010 - 7s/epoch - 183ms/step\n",
      "Epoch 2/40\n",
      "\n",
      "Epoch 2: val_mean_squared_error improved from 0.80104 to 0.54273, saving model to ..00_gcp_data/dl_models/cnn_glove_weights_best\n"
     ]
    },
    {
     "name": "stderr",
     "output_type": "stream",
     "text": [
      "WARNING:absl:Found untraced functions such as _jit_compiled_convolution_op, _jit_compiled_convolution_op, _jit_compiled_convolution_op, _update_step_xla while saving (showing 4 of 4). These functions will not be directly callable after loading.\n"
     ]
    },
    {
     "name": "stdout",
     "output_type": "stream",
     "text": [
      "INFO:tensorflow:Assets written to: ..00_gcp_data/dl_models/cnn_glove_weights_best/assets\n"
     ]
    },
    {
     "name": "stderr",
     "output_type": "stream",
     "text": [
      "INFO:tensorflow:Assets written to: ..00_gcp_data/dl_models/cnn_glove_weights_best/assets\n"
     ]
    },
    {
     "name": "stdout",
     "output_type": "stream",
     "text": [
      "40/40 - 7s - loss: 1.4477 - mean_squared_error: 1.4477 - val_loss: 0.5427 - val_mean_squared_error: 0.5427 - 7s/epoch - 180ms/step\n",
      "Epoch 3/40\n",
      "\n",
      "Epoch 3: val_mean_squared_error improved from 0.54273 to 0.39855, saving model to ..00_gcp_data/dl_models/cnn_glove_weights_best\n"
     ]
    },
    {
     "name": "stderr",
     "output_type": "stream",
     "text": [
      "WARNING:absl:Found untraced functions such as _jit_compiled_convolution_op, _jit_compiled_convolution_op, _jit_compiled_convolution_op, _update_step_xla while saving (showing 4 of 4). These functions will not be directly callable after loading.\n"
     ]
    },
    {
     "name": "stdout",
     "output_type": "stream",
     "text": [
      "INFO:tensorflow:Assets written to: ..00_gcp_data/dl_models/cnn_glove_weights_best/assets\n"
     ]
    },
    {
     "name": "stderr",
     "output_type": "stream",
     "text": [
      "INFO:tensorflow:Assets written to: ..00_gcp_data/dl_models/cnn_glove_weights_best/assets\n"
     ]
    },
    {
     "name": "stdout",
     "output_type": "stream",
     "text": [
      "40/40 - 6s - loss: 1.0575 - mean_squared_error: 1.0575 - val_loss: 0.3986 - val_mean_squared_error: 0.3986 - 6s/epoch - 147ms/step\n",
      "Epoch 4/40\n",
      "\n",
      "Epoch 4: val_mean_squared_error did not improve from 0.39855\n",
      "40/40 - 5s - loss: 0.9077 - mean_squared_error: 0.9077 - val_loss: 0.4333 - val_mean_squared_error: 0.4333 - 5s/epoch - 125ms/step\n",
      "Epoch 5/40\n",
      "\n",
      "Epoch 5: val_mean_squared_error improved from 0.39855 to 0.39483, saving model to ..00_gcp_data/dl_models/cnn_glove_weights_best\n"
     ]
    },
    {
     "name": "stderr",
     "output_type": "stream",
     "text": [
      "WARNING:absl:Found untraced functions such as _jit_compiled_convolution_op, _jit_compiled_convolution_op, _jit_compiled_convolution_op, _update_step_xla while saving (showing 4 of 4). These functions will not be directly callable after loading.\n"
     ]
    },
    {
     "name": "stdout",
     "output_type": "stream",
     "text": [
      "INFO:tensorflow:Assets written to: ..00_gcp_data/dl_models/cnn_glove_weights_best/assets\n"
     ]
    },
    {
     "name": "stderr",
     "output_type": "stream",
     "text": [
      "INFO:tensorflow:Assets written to: ..00_gcp_data/dl_models/cnn_glove_weights_best/assets\n"
     ]
    },
    {
     "name": "stdout",
     "output_type": "stream",
     "text": [
      "40/40 - 7s - loss: 0.7779 - mean_squared_error: 0.7779 - val_loss: 0.3948 - val_mean_squared_error: 0.3948 - 7s/epoch - 177ms/step\n",
      "Epoch 6/40\n",
      "\n",
      "Epoch 6: val_mean_squared_error did not improve from 0.39483\n",
      "40/40 - 5s - loss: 0.7180 - mean_squared_error: 0.7180 - val_loss: 0.4457 - val_mean_squared_error: 0.4457 - 5s/epoch - 137ms/step\n",
      "Epoch 7/40\n",
      "\n",
      "Epoch 7: val_mean_squared_error improved from 0.39483 to 0.37410, saving model to ..00_gcp_data/dl_models/cnn_glove_weights_best\n"
     ]
    },
    {
     "name": "stderr",
     "output_type": "stream",
     "text": [
      "WARNING:absl:Found untraced functions such as _jit_compiled_convolution_op, _jit_compiled_convolution_op, _jit_compiled_convolution_op, _update_step_xla while saving (showing 4 of 4). These functions will not be directly callable after loading.\n"
     ]
    },
    {
     "name": "stdout",
     "output_type": "stream",
     "text": [
      "INFO:tensorflow:Assets written to: ..00_gcp_data/dl_models/cnn_glove_weights_best/assets\n"
     ]
    },
    {
     "name": "stderr",
     "output_type": "stream",
     "text": [
      "INFO:tensorflow:Assets written to: ..00_gcp_data/dl_models/cnn_glove_weights_best/assets\n"
     ]
    },
    {
     "name": "stdout",
     "output_type": "stream",
     "text": [
      "40/40 - 7s - loss: 0.6895 - mean_squared_error: 0.6895 - val_loss: 0.3741 - val_mean_squared_error: 0.3741 - 7s/epoch - 166ms/step\n",
      "Epoch 8/40\n",
      "\n",
      "Epoch 8: val_mean_squared_error improved from 0.37410 to 0.37379, saving model to ..00_gcp_data/dl_models/cnn_glove_weights_best\n"
     ]
    },
    {
     "name": "stderr",
     "output_type": "stream",
     "text": [
      "WARNING:absl:Found untraced functions such as _jit_compiled_convolution_op, _jit_compiled_convolution_op, _jit_compiled_convolution_op, _update_step_xla while saving (showing 4 of 4). These functions will not be directly callable after loading.\n"
     ]
    },
    {
     "name": "stdout",
     "output_type": "stream",
     "text": [
      "INFO:tensorflow:Assets written to: ..00_gcp_data/dl_models/cnn_glove_weights_best/assets\n"
     ]
    },
    {
     "name": "stderr",
     "output_type": "stream",
     "text": [
      "INFO:tensorflow:Assets written to: ..00_gcp_data/dl_models/cnn_glove_weights_best/assets\n"
     ]
    },
    {
     "name": "stdout",
     "output_type": "stream",
     "text": [
      "40/40 - 6s - loss: 0.6241 - mean_squared_error: 0.6241 - val_loss: 0.3738 - val_mean_squared_error: 0.3738 - 6s/epoch - 162ms/step\n",
      "Epoch 9/40\n",
      "\n",
      "Epoch 9: val_mean_squared_error improved from 0.37379 to 0.36855, saving model to ..00_gcp_data/dl_models/cnn_glove_weights_best\n"
     ]
    },
    {
     "name": "stderr",
     "output_type": "stream",
     "text": [
      "WARNING:absl:Found untraced functions such as _jit_compiled_convolution_op, _jit_compiled_convolution_op, _jit_compiled_convolution_op, _update_step_xla while saving (showing 4 of 4). These functions will not be directly callable after loading.\n"
     ]
    },
    {
     "name": "stdout",
     "output_type": "stream",
     "text": [
      "INFO:tensorflow:Assets written to: ..00_gcp_data/dl_models/cnn_glove_weights_best/assets\n"
     ]
    },
    {
     "name": "stderr",
     "output_type": "stream",
     "text": [
      "INFO:tensorflow:Assets written to: ..00_gcp_data/dl_models/cnn_glove_weights_best/assets\n"
     ]
    },
    {
     "name": "stdout",
     "output_type": "stream",
     "text": [
      "40/40 - 7s - loss: 0.5529 - mean_squared_error: 0.5529 - val_loss: 0.3685 - val_mean_squared_error: 0.3685 - 7s/epoch - 172ms/step\n",
      "Epoch 10/40\n",
      "\n",
      "Epoch 10: val_mean_squared_error improved from 0.36855 to 0.35377, saving model to ..00_gcp_data/dl_models/cnn_glove_weights_best\n"
     ]
    },
    {
     "name": "stderr",
     "output_type": "stream",
     "text": [
      "WARNING:absl:Found untraced functions such as _jit_compiled_convolution_op, _jit_compiled_convolution_op, _jit_compiled_convolution_op, _update_step_xla while saving (showing 4 of 4). These functions will not be directly callable after loading.\n"
     ]
    },
    {
     "name": "stdout",
     "output_type": "stream",
     "text": [
      "INFO:tensorflow:Assets written to: ..00_gcp_data/dl_models/cnn_glove_weights_best/assets\n"
     ]
    },
    {
     "name": "stderr",
     "output_type": "stream",
     "text": [
      "INFO:tensorflow:Assets written to: ..00_gcp_data/dl_models/cnn_glove_weights_best/assets\n"
     ]
    },
    {
     "name": "stdout",
     "output_type": "stream",
     "text": [
      "40/40 - 6s - loss: 0.5235 - mean_squared_error: 0.5235 - val_loss: 0.3538 - val_mean_squared_error: 0.3538 - 6s/epoch - 158ms/step\n",
      "Epoch 11/40\n",
      "\n",
      "Epoch 11: val_mean_squared_error did not improve from 0.35377\n",
      "40/40 - 5s - loss: 0.4849 - mean_squared_error: 0.4849 - val_loss: 0.4277 - val_mean_squared_error: 0.4277 - 5s/epoch - 125ms/step\n",
      "Epoch 12/40\n",
      "\n",
      "Epoch 12: val_mean_squared_error did not improve from 0.35377\n",
      "40/40 - 5s - loss: 0.4730 - mean_squared_error: 0.4730 - val_loss: 0.5672 - val_mean_squared_error: 0.5672 - 5s/epoch - 123ms/step\n",
      "Epoch 13/40\n",
      "\n",
      "Epoch 13: val_mean_squared_error did not improve from 0.35377\n",
      "40/40 - 5s - loss: 0.4821 - mean_squared_error: 0.4821 - val_loss: 0.4348 - val_mean_squared_error: 0.4348 - 5s/epoch - 124ms/step\n",
      "Epoch 14/40\n",
      "\n",
      "Epoch 14: val_mean_squared_error did not improve from 0.35377\n",
      "40/40 - 5s - loss: 0.4484 - mean_squared_error: 0.4484 - val_loss: 0.3766 - val_mean_squared_error: 0.3766 - 5s/epoch - 123ms/step\n",
      "Epoch 15/40\n",
      "\n",
      "Epoch 15: val_mean_squared_error did not improve from 0.35377\n",
      "40/40 - 5s - loss: 0.4389 - mean_squared_error: 0.4389 - val_loss: 0.3540 - val_mean_squared_error: 0.3540 - 5s/epoch - 119ms/step\n",
      "Epoch 16/40\n",
      "\n",
      "Epoch 16: val_mean_squared_error did not improve from 0.35377\n",
      "40/40 - 5s - loss: 0.4144 - mean_squared_error: 0.4144 - val_loss: 0.3917 - val_mean_squared_error: 0.3917 - 5s/epoch - 121ms/step\n",
      "Epoch 17/40\n",
      "\n",
      "Epoch 17: val_mean_squared_error did not improve from 0.35377\n",
      "40/40 - 5s - loss: 0.4063 - mean_squared_error: 0.4063 - val_loss: 0.4466 - val_mean_squared_error: 0.4466 - 5s/epoch - 123ms/step\n",
      "Epoch 18/40\n",
      "\n",
      "Epoch 18: val_mean_squared_error did not improve from 0.35377\n",
      "40/40 - 5s - loss: 0.3956 - mean_squared_error: 0.3956 - val_loss: 0.4097 - val_mean_squared_error: 0.4097 - 5s/epoch - 124ms/step\n",
      "Epoch 19/40\n",
      "\n",
      "Epoch 19: val_mean_squared_error did not improve from 0.35377\n",
      "40/40 - 5s - loss: 0.4190 - mean_squared_error: 0.4190 - val_loss: 0.4523 - val_mean_squared_error: 0.4523 - 5s/epoch - 124ms/step\n",
      "Epoch 20/40\n",
      "\n",
      "Epoch 20: val_mean_squared_error did not improve from 0.35377\n",
      "40/40 - 5s - loss: 0.4001 - mean_squared_error: 0.4001 - val_loss: 0.3605 - val_mean_squared_error: 0.3605 - 5s/epoch - 127ms/step\n",
      "Epoch 21/40\n",
      "\n",
      "Epoch 21: val_mean_squared_error did not improve from 0.35377\n",
      "40/40 - 5s - loss: 0.3660 - mean_squared_error: 0.3660 - val_loss: 0.3684 - val_mean_squared_error: 0.3684 - 5s/epoch - 124ms/step\n",
      "Epoch 22/40\n",
      "\n",
      "Epoch 22: val_mean_squared_error did not improve from 0.35377\n",
      "40/40 - 5s - loss: 0.3601 - mean_squared_error: 0.3601 - val_loss: 0.3995 - val_mean_squared_error: 0.3995 - 5s/epoch - 123ms/step\n",
      "Epoch 23/40\n",
      "\n",
      "Epoch 23: val_mean_squared_error did not improve from 0.35377\n",
      "40/40 - 5s - loss: 0.3585 - mean_squared_error: 0.3585 - val_loss: 0.4285 - val_mean_squared_error: 0.4285 - 5s/epoch - 124ms/step\n",
      "Epoch 24/40\n",
      "\n",
      "Epoch 24: val_mean_squared_error did not improve from 0.35377\n",
      "40/40 - 5s - loss: 0.3676 - mean_squared_error: 0.3676 - val_loss: 0.4446 - val_mean_squared_error: 0.4446 - 5s/epoch - 121ms/step\n",
      "Epoch 25/40\n",
      "\n",
      "Epoch 25: val_mean_squared_error did not improve from 0.35377\n",
      "40/40 - 5s - loss: 0.3807 - mean_squared_error: 0.3807 - val_loss: 0.3714 - val_mean_squared_error: 0.3714 - 5s/epoch - 120ms/step\n",
      "Epoch 26/40\n",
      "\n",
      "Epoch 26: val_mean_squared_error did not improve from 0.35377\n",
      "40/40 - 5s - loss: 0.3321 - mean_squared_error: 0.3321 - val_loss: 0.3732 - val_mean_squared_error: 0.3732 - 5s/epoch - 122ms/step\n",
      "Epoch 27/40\n",
      "\n",
      "Epoch 27: val_mean_squared_error did not improve from 0.35377\n",
      "40/40 - 5s - loss: 0.3383 - mean_squared_error: 0.3383 - val_loss: 0.3935 - val_mean_squared_error: 0.3935 - 5s/epoch - 123ms/step\n",
      "Epoch 28/40\n",
      "\n",
      "Epoch 28: val_mean_squared_error did not improve from 0.35377\n",
      "40/40 - 5s - loss: 0.3066 - mean_squared_error: 0.3066 - val_loss: 0.3548 - val_mean_squared_error: 0.3548 - 5s/epoch - 120ms/step\n",
      "Epoch 29/40\n",
      "\n",
      "Epoch 29: val_mean_squared_error did not improve from 0.35377\n",
      "40/40 - 5s - loss: 0.3232 - mean_squared_error: 0.3232 - val_loss: 0.3967 - val_mean_squared_error: 0.3967 - 5s/epoch - 120ms/step\n",
      "Epoch 30/40\n",
      "\n",
      "Epoch 30: val_mean_squared_error did not improve from 0.35377\n",
      "40/40 - 5s - loss: 0.3411 - mean_squared_error: 0.3411 - val_loss: 0.3698 - val_mean_squared_error: 0.3698 - 5s/epoch - 121ms/step\n",
      "Epoch 31/40\n",
      "\n",
      "Epoch 31: val_mean_squared_error did not improve from 0.35377\n",
      "40/40 - 5s - loss: 0.3176 - mean_squared_error: 0.3176 - val_loss: 0.3558 - val_mean_squared_error: 0.3558 - 5s/epoch - 125ms/step\n",
      "Epoch 32/40\n",
      "\n",
      "Epoch 32: val_mean_squared_error did not improve from 0.35377\n",
      "40/40 - 5s - loss: 0.3059 - mean_squared_error: 0.3059 - val_loss: 0.3642 - val_mean_squared_error: 0.3642 - 5s/epoch - 123ms/step\n",
      "Epoch 33/40\n",
      "\n",
      "Epoch 33: val_mean_squared_error did not improve from 0.35377\n",
      "40/40 - 5s - loss: 0.3026 - mean_squared_error: 0.3026 - val_loss: 0.4018 - val_mean_squared_error: 0.4018 - 5s/epoch - 125ms/step\n",
      "Epoch 34/40\n",
      "\n",
      "Epoch 34: val_mean_squared_error did not improve from 0.35377\n",
      "40/40 - 5s - loss: 0.3027 - mean_squared_error: 0.3027 - val_loss: 0.3566 - val_mean_squared_error: 0.3566 - 5s/epoch - 120ms/step\n",
      "Epoch 35/40\n",
      "\n",
      "Epoch 35: val_mean_squared_error did not improve from 0.35377\n",
      "40/40 - 5s - loss: 0.2888 - mean_squared_error: 0.2888 - val_loss: 0.3865 - val_mean_squared_error: 0.3865 - 5s/epoch - 122ms/step\n",
      "Epoch 36/40\n",
      "\n",
      "Epoch 36: val_mean_squared_error did not improve from 0.35377\n",
      "40/40 - 5s - loss: 0.3125 - mean_squared_error: 0.3125 - val_loss: 0.3614 - val_mean_squared_error: 0.3614 - 5s/epoch - 120ms/step\n",
      "Epoch 37/40\n",
      "\n",
      "Epoch 37: val_mean_squared_error did not improve from 0.35377\n",
      "40/40 - 5s - loss: 0.2999 - mean_squared_error: 0.2999 - val_loss: 0.3585 - val_mean_squared_error: 0.3585 - 5s/epoch - 116ms/step\n",
      "Epoch 38/40\n",
      "\n",
      "Epoch 38: val_mean_squared_error did not improve from 0.35377\n",
      "40/40 - 5s - loss: 0.2982 - mean_squared_error: 0.2982 - val_loss: 0.3847 - val_mean_squared_error: 0.3847 - 5s/epoch - 113ms/step\n",
      "Epoch 39/40\n",
      "\n",
      "Epoch 39: val_mean_squared_error did not improve from 0.35377\n",
      "40/40 - 4s - loss: 0.2967 - mean_squared_error: 0.2967 - val_loss: 0.4213 - val_mean_squared_error: 0.4213 - 4s/epoch - 109ms/step\n",
      "Epoch 40/40\n",
      "\n",
      "Epoch 40: val_mean_squared_error did not improve from 0.35377\n",
      "40/40 - 4s - loss: 0.2836 - mean_squared_error: 0.2836 - val_loss: 0.3580 - val_mean_squared_error: 0.3580 - 4s/epoch - 109ms/step\n",
      "CNN Glove_all model train time = 209 seconds\n"
     ]
    }
   ],
   "source": [
    "#-----\n",
    "num_epochs=40\n",
    "\n",
    "filepath=\"..00_gcp_data/dl_models/cnn_glove_weights_best\"\n",
    "checkpoint = ModelCheckpoint(filepath, monitor='val_mean_squared_error',\n",
    "                             verbose=1, save_best_only=True, save_weights_only=False, overwrite=True, mode='min')\n",
    "#only save model if it improves the accuracy\n",
    "\n",
    "callbacks_list = [checkpoint]\n",
    "\n",
    "t1 = time.time()\n",
    "glove_history_all_3 = glove_model_all_3.fit(x_train, y_train,\n",
    "                    batch_size=batch_size, \n",
    "                    epochs=num_epochs,\n",
    "                    # validation_data=(x_test, y_test),\n",
    "                    validation_split=0.20,\n",
    "                    callbacks = callbacks_list,\n",
    "                    verbose=2)\n",
    "t2 = time.time()\n",
    "print(\"CNN Glove_all model train time = %d seconds\" %(t2-t1))"
   ]
  },
  {
   "cell_type": "code",
   "execution_count": 192,
   "id": "f7f53610-22e4-4b1a-a36a-f1875cbaf61e",
   "metadata": {},
   "outputs": [
    {
     "data": {
      "image/png": "[encoded data removed]",
      "text/plain": [
       "<Figure size 640x480 with 1 Axes>"
      ]
     },
     "metadata": {},
     "output_type": "display_data"
    }
   ],
   "source": [
    "plot_train(glove_history_all_3)"
   ]
  },
  {
   "cell_type": "code",
   "execution_count": 193,
   "id": "40512759-6282-4378-94e9-891b87032226",
   "metadata": {},
   "outputs": [
    {
     "name": "stdout",
     "output_type": "stream",
     "text": [
      "25/25 [==============================] - 0s 18ms/step - loss: 0.3645 - mean_squared_error: 0.3645\n"
     ]
    },
    {
     "data": {
      "text/plain": [
       "[0.3645419776439667, 0.3645419776439667]"
      ]
     },
     "execution_count": 193,
     "metadata": {},
     "output_type": "execute_result"
    }
   ],
   "source": [
    "glove_model_all_3.evaluate(x_test,y_test)"
   ]
  },
  {
   "cell_type": "code",
   "execution_count": 213,
   "id": "6886e368-2a08-4f5c-aefb-4ac5eb11bb9e",
   "metadata": {},
   "outputs": [
    {
     "data": {
      "text/plain": [
       "0.6037731176890593"
      ]
     },
     "execution_count": 213,
     "metadata": {},
     "output_type": "execute_result"
    }
   ],
   "source": [
    "0.3645419776439667**0.5"
   ]
  },
  {
   "cell_type": "code",
   "execution_count": 195,
   "id": "12d9d67d-ad5a-4b91-b745-52eb7069ade9",
   "metadata": {},
   "outputs": [
    {
     "name": "stdout",
     "output_type": "stream",
     "text": [
      "25/25 [==============================] - 0s 17ms/step\n"
     ]
    }
   ],
   "source": [
    "predictions=glove_model_all_3.predict(x_test)"
   ]
  },
  {
   "cell_type": "code",
   "execution_count": 196,
   "id": "dc8d8d98-4e08-4a2c-af83-264e792622f1",
   "metadata": {},
   "outputs": [
    {
     "data": {
      "text/plain": [
       "array([[2.9435241, 2.8691924, 3.046857 , 2.9629157, 2.8855069, 2.9222417],\n",
       "       [3.0587292, 2.951613 , 3.1344953, 3.0197513, 2.9657662, 2.982942 ],\n",
       "       [3.273987 , 3.1663659, 3.3610446, 3.2694001, 3.187663 , 3.232811 ],\n",
       "       ...,\n",
       "       [3.4769807, 3.360465 , 3.5595572, 3.4607508, 3.3897095, 3.427609 ],\n",
       "       [3.3047535, 3.2233562, 3.401797 , 3.3345664, 3.2408583, 3.283698 ],\n",
       "       [3.1333504, 3.0598054, 3.2359397, 3.167062 , 3.0724351, 3.1180844]],\n",
       "      dtype=float32)"
      ]
     },
     "execution_count": 196,
     "metadata": {},
     "output_type": "execute_result"
    }
   ],
   "source": [
    "predictions"
   ]
  },
  {
   "cell_type": "code",
   "execution_count": 197,
   "id": "9c43374f-5e91-4b3b-89c8-5b90207f3e60",
   "metadata": {},
   "outputs": [
    {
     "name": "stdout",
     "output_type": "stream",
     "text": [
      "[[3.  3.  3.  3.  3.  3. ]\n",
      " [3.  3.  3.  3.  3.  3. ]\n",
      " [3.5 3.  3.5 3.5 3.  3. ]\n",
      " ...\n",
      " [3.5 3.5 3.5 3.5 3.5 3.5]\n",
      " [3.5 3.  3.5 3.5 3.  3.5]\n",
      " [3.  3.  3.  3.  3.  3. ]]\n"
     ]
    }
   ],
   "source": [
    "rounded_predictions = np.round(predictions * 2) / 2\n",
    "print(rounded_predictions)\n"
   ]
  },
  {
   "cell_type": "code",
   "execution_count": 202,
   "id": "b590dd3f-db02-4609-b9a4-f63274b55d2d",
   "metadata": {},
   "outputs": [
    {
     "data": {
      "text/plain": [
       "array([[4. , 3.5, 3.5, 3.5, 3.5, 4. ],\n",
       "       [2.5, 3. , 2.5, 2.5, 2.5, 3. ],\n",
       "       [2.5, 2.5, 3. , 3. , 2.5, 3. ],\n",
       "       ...,\n",
       "       [3. , 3.5, 3. , 3. , 4. , 2. ],\n",
       "       [4. , 4. , 3. , 3.5, 3.5, 3.5],\n",
       "       [3. , 3.5, 3.5, 3.5, 4. , 4. ]])"
      ]
     },
     "execution_count": 202,
     "metadata": {},
     "output_type": "execute_result"
    }
   ],
   "source": [
    "y_test_orig=np.array(y_test)\n",
    "y_test_orig"
   ]
  },
  {
   "cell_type": "code",
   "execution_count": 211,
   "id": "f3ae3392-e7f5-4c83-bed5-c43ac1f0f669",
   "metadata": {},
   "outputs": [
    {
     "data": {
      "text/plain": [
       "0.6215473244678112"
      ]
     },
     "execution_count": 211,
     "metadata": {},
     "output_type": "execute_result"
    }
   ],
   "source": [
    "np.mean(np.sqrt(np.mean(((y_test_orig)-(rounded_predictions))**2,axis=0)))"
   ]
  }
 ],
 "metadata": {
  "environment": {
   "kernel": "python3",
   "name": "tf2-gpu.2-11.m108",
   "type": "gcloud",
   "uri": "gcr.io/deeplearning-platform-release/tf2-gpu.2-11:m108"
  },
  "kernelspec": {
   "display_name": "Python 3 (ipykernel)",
   "language": "python",
   "name": "python3"
  },
  "language_info": {
   "codemirror_mode": {
    "name": "ipython",
    "version": 3
   },
   "file_extension": ".py",
   "mimetype": "text/x-python",
   "name": "python",
   "nbconvert_exporter": "python",
   "pygments_lexer": "ipython3",
   "version": "3.10.10"
  }
 },
 "nbformat": 4,
 "nbformat_minor": 5
}
